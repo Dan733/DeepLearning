{
 "cells": [
  {
   "cell_type": "markdown",
   "metadata": {},
   "source": [
    "# Machine Learning\n",
    "* supervised/unsupervised/reinforcement\n",
    "* batch/online (incremental)\n",
    "* model based/instance based\n",
    "    * parameter tuning in the model to get better predictions\n",
    "    * learns the examples and use similarity measue\n",
    "* bad data\n",
    "    * small set\n",
    "    * noisy\n",
    "    * not representative - biased"
   ]
  },
  {
   "cell_type": "markdown",
   "metadata": {},
   "source": [
    "# Performance Measure\n",
    "* RMSE = standard deviation\n",
    "    * Eucledian norm\n",
    "    *  68% of the values fall within 1σ of the mean, 95% within 2σ, and 99.7% within 3σ\n",
    "    * sqrt((1/n)*sum((y'-y)^2))\n",
    "    * l2 norm\n",
    "    * more sensitive to outliers!\n",
    "        * when outliers are rare, RMSE performs really well\n",
    "* MAE = mean average error\n",
    "    * (1/m)*sum(abs(y'-y))\n",
    "    * l1 norm"
   ]
  },
  {
   "cell_type": "code",
   "execution_count": null,
   "metadata": {},
   "outputs": [],
   "source": []
  }
 ],
 "metadata": {
  "kernelspec": {
   "display_name": "Python 3",
   "language": "python",
   "name": "python3"
  },
  "language_info": {
   "codemirror_mode": {
    "name": "ipython",
    "version": 3
   },
   "file_extension": ".py",
   "mimetype": "text/x-python",
   "name": "python",
   "nbconvert_exporter": "python",
   "pygments_lexer": "ipython3",
   "version": "3.5.3"
  }
 },
 "nbformat": 4,
 "nbformat_minor": 2
}
