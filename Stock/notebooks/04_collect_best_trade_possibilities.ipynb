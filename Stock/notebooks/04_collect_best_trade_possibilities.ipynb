{
 "cells": [
  {
   "cell_type": "code",
   "execution_count": 1,
   "metadata": {
    "collapsed": true
   },
   "outputs": [],
   "source": [
    "import numpy as np\n",
    "import pandas as pd\n",
    "import pandas_datareader as pdr\n",
    "from datetime import datetime\n",
    "from sklearn.preprocessing import StandardScaler\n",
    "from sklearn.preprocessing import LabelBinarizer\n",
    "from sklearn.model_selection import train_test_split\n",
    "from pprint import pprint\n",
    "%matplotlib inline"
   ]
  },
  {
   "cell_type": "code",
   "execution_count": 2,
   "metadata": {
    "collapsed": true
   },
   "outputs": [],
   "source": [
    "start = datetime(2004,1,1)\n",
    "end = datetime(2017,1,1)\n",
    "test_size=0.25"
   ]
  },
  {
   "cell_type": "code",
   "execution_count": 3,
   "metadata": {},
   "outputs": [],
   "source": [
    "amzn = pdr.get_data_yahoo('AMZN', start, end)\n",
    "amzn.drop(['Close', 'Volume'], axis=1, inplace=True)"
   ]
  },
  {
   "cell_type": "code",
   "execution_count": 4,
   "metadata": {
    "collapsed": true
   },
   "outputs": [],
   "source": [
    "amzn.columns = ['Open', 'High', 'Low', 'Close'] # Adj Close -> Close"
   ]
  },
  {
   "cell_type": "code",
   "execution_count": 5,
   "metadata": {},
   "outputs": [
    {
     "data": {
      "text/html": [
       "<div>\n",
       "<style>\n",
       "    .dataframe thead tr:only-child th {\n",
       "        text-align: right;\n",
       "    }\n",
       "\n",
       "    .dataframe thead th {\n",
       "        text-align: left;\n",
       "    }\n",
       "\n",
       "    .dataframe tbody tr th {\n",
       "        vertical-align: top;\n",
       "    }\n",
       "</style>\n",
       "<table border=\"1\" class=\"dataframe\">\n",
       "  <thead>\n",
       "    <tr style=\"text-align: right;\">\n",
       "      <th></th>\n",
       "      <th>Open</th>\n",
       "      <th>High</th>\n",
       "      <th>Low</th>\n",
       "      <th>Close</th>\n",
       "    </tr>\n",
       "    <tr>\n",
       "      <th>Date</th>\n",
       "      <th></th>\n",
       "      <th></th>\n",
       "      <th></th>\n",
       "      <th></th>\n",
       "    </tr>\n",
       "  </thead>\n",
       "  <tbody>\n",
       "    <tr>\n",
       "      <th>2003-12-31</th>\n",
       "      <td>52.820000</td>\n",
       "      <td>53.480000</td>\n",
       "      <td>52.400002</td>\n",
       "      <td>52.619999</td>\n",
       "    </tr>\n",
       "    <tr>\n",
       "      <th>2004-01-02</th>\n",
       "      <td>52.759998</td>\n",
       "      <td>53.130001</td>\n",
       "      <td>51.430000</td>\n",
       "      <td>51.900002</td>\n",
       "    </tr>\n",
       "    <tr>\n",
       "      <th>2004-01-05</th>\n",
       "      <td>52.000000</td>\n",
       "      <td>53.599998</td>\n",
       "      <td>51.369999</td>\n",
       "      <td>53.270000</td>\n",
       "    </tr>\n",
       "    <tr>\n",
       "      <th>2004-01-06</th>\n",
       "      <td>53.110001</td>\n",
       "      <td>53.500000</td>\n",
       "      <td>52.740002</td>\n",
       "      <td>53.029999</td>\n",
       "    </tr>\n",
       "    <tr>\n",
       "      <th>2004-01-07</th>\n",
       "      <td>52.180000</td>\n",
       "      <td>52.660000</td>\n",
       "      <td>50.939999</td>\n",
       "      <td>51.900002</td>\n",
       "    </tr>\n",
       "  </tbody>\n",
       "</table>\n",
       "</div>"
      ],
      "text/plain": [
       "                 Open       High        Low      Close\n",
       "Date                                                  \n",
       "2003-12-31  52.820000  53.480000  52.400002  52.619999\n",
       "2004-01-02  52.759998  53.130001  51.430000  51.900002\n",
       "2004-01-05  52.000000  53.599998  51.369999  53.270000\n",
       "2004-01-06  53.110001  53.500000  52.740002  53.029999\n",
       "2004-01-07  52.180000  52.660000  50.939999  51.900002"
      ]
     },
     "execution_count": 5,
     "metadata": {},
     "output_type": "execute_result"
    }
   ],
   "source": [
    "amzn.head()"
   ]
  },
  {
   "cell_type": "markdown",
   "metadata": {},
   "source": [
    "### Create percentage change list"
   ]
  },
  {
   "cell_type": "code",
   "execution_count": 6,
   "metadata": {
    "collapsed": true
   },
   "outputs": [],
   "source": [
    "amzn_pct = amzn.pct_change().fillna(0)"
   ]
  },
  {
   "cell_type": "code",
   "execution_count": 7,
   "metadata": {},
   "outputs": [
    {
     "data": {
      "text/plain": [
       "2455"
      ]
     },
     "execution_count": 7,
     "metadata": {},
     "output_type": "execute_result"
    }
   ],
   "source": [
    "scale_to_idx = int((1-test_size)*len(amzn_pct))\n",
    "scale_to_idx"
   ]
  },
  {
   "cell_type": "code",
   "execution_count": 8,
   "metadata": {
    "collapsed": true
   },
   "outputs": [],
   "source": [
    "scaler = StandardScaler()\n",
    "scaler.fit(amzn_pct[0:scale_to_idx])\n",
    "amzn_pct = pd.DataFrame(scaler.transform(amzn_pct), columns=amzn.columns, index=amzn.index)"
   ]
  },
  {
   "cell_type": "code",
   "execution_count": 9,
   "metadata": {},
   "outputs": [
    {
     "data": {
      "text/html": [
       "<div>\n",
       "<style>\n",
       "    .dataframe thead tr:only-child th {\n",
       "        text-align: right;\n",
       "    }\n",
       "\n",
       "    .dataframe thead th {\n",
       "        text-align: left;\n",
       "    }\n",
       "\n",
       "    .dataframe tbody tr th {\n",
       "        vertical-align: top;\n",
       "    }\n",
       "</style>\n",
       "<table border=\"1\" class=\"dataframe\">\n",
       "  <thead>\n",
       "    <tr style=\"text-align: right;\">\n",
       "      <th></th>\n",
       "      <th>Open</th>\n",
       "      <th>High</th>\n",
       "      <th>Low</th>\n",
       "      <th>Close</th>\n",
       "    </tr>\n",
       "    <tr>\n",
       "      <th>Date</th>\n",
       "      <th></th>\n",
       "      <th></th>\n",
       "      <th></th>\n",
       "      <th></th>\n",
       "    </tr>\n",
       "  </thead>\n",
       "  <tbody>\n",
       "    <tr>\n",
       "      <th>2003-12-31</th>\n",
       "      <td>-0.040432</td>\n",
       "      <td>-0.041358</td>\n",
       "      <td>-0.041659</td>\n",
       "      <td>-0.040392</td>\n",
       "    </tr>\n",
       "    <tr>\n",
       "      <th>2004-01-02</th>\n",
       "      <td>-0.082580</td>\n",
       "      <td>-0.302049</td>\n",
       "      <td>-0.781902</td>\n",
       "      <td>-0.539149</td>\n",
       "    </tr>\n",
       "    <tr>\n",
       "      <th>2004-01-05</th>\n",
       "      <td>-0.574893</td>\n",
       "      <td>0.311018</td>\n",
       "      <td>-0.088311</td>\n",
       "      <td>0.921802</td>\n",
       "    </tr>\n",
       "    <tr>\n",
       "      <th>2004-01-06</th>\n",
       "      <td>0.751574</td>\n",
       "      <td>-0.115673</td>\n",
       "      <td>1.024803</td>\n",
       "      <td>-0.204617</td>\n",
       "    </tr>\n",
       "    <tr>\n",
       "      <th>2004-01-07</th>\n",
       "      <td>-0.690136</td>\n",
       "      <td>-0.666784</td>\n",
       "      <td>-1.406451</td>\n",
       "      <td>-0.817113</td>\n",
       "    </tr>\n",
       "  </tbody>\n",
       "</table>\n",
       "</div>"
      ],
      "text/plain": [
       "                Open      High       Low     Close\n",
       "Date                                              \n",
       "2003-12-31 -0.040432 -0.041358 -0.041659 -0.040392\n",
       "2004-01-02 -0.082580 -0.302049 -0.781902 -0.539149\n",
       "2004-01-05 -0.574893  0.311018 -0.088311  0.921802\n",
       "2004-01-06  0.751574 -0.115673  1.024803 -0.204617\n",
       "2004-01-07 -0.690136 -0.666784 -1.406451 -0.817113"
      ]
     },
     "execution_count": 9,
     "metadata": {},
     "output_type": "execute_result"
    }
   ],
   "source": [
    "amzn_pct.head()"
   ]
  },
  {
   "cell_type": "markdown",
   "metadata": {},
   "source": [
    "### Check they are the same length"
   ]
  },
  {
   "cell_type": "code",
   "execution_count": 10,
   "metadata": {},
   "outputs": [
    {
     "data": {
      "text/plain": [
       "0"
      ]
     },
     "execution_count": 10,
     "metadata": {},
     "output_type": "execute_result"
    }
   ],
   "source": [
    "len(amzn) - len(amzn_pct)"
   ]
  },
  {
   "cell_type": "code",
   "execution_count": 11,
   "metadata": {
    "collapsed": true
   },
   "outputs": [],
   "source": [
    "class TradeDTO:\n",
    "    \n",
    "    BUY = 'buy'\n",
    "    SELL = 'sell'\n",
    "    \n",
    "    def __init__(self, pct_data, enter_day, exit_day, direction, hold_days, price_diff):\n",
    "        self.pct_data = pct_data\n",
    "        self.enter_day = enter_day\n",
    "        self.exit_day = exit_day\n",
    "        self.direction = direction\n",
    "        self.hold_days = hold_days\n",
    "        self.price_diff = price_diff\n",
    "        \n",
    "    def __repr__(self):\n",
    "        return 'From {} to {} | enter {} | exit {} | {} | {} hold days | {} diff'.format(\n",
    "            self.pct_data.iloc[0].name.date(),\n",
    "            self.pct_data.iloc[-1].name.date(),\n",
    "            self.enter_day.name.date(),\n",
    "            self.exit_day.name.date(),\n",
    "            self.direction,\n",
    "            self.hold_days,\n",
    "            self.price_diff)\n",
    "    \n",
    "    def to_label(self):\n",
    "        return self.direction + '_' + ('L' if self.hold_days > 5 else 'S')"
   ]
  },
  {
   "cell_type": "markdown",
   "metadata": {},
   "source": [
    "### Parameters for trade collecting"
   ]
  },
  {
   "cell_type": "code",
   "execution_count": 12,
   "metadata": {
    "collapsed": true
   },
   "outputs": [],
   "source": [
    "min_hold_days = 1\n",
    "max_hold_days = 10\n",
    "hold_days_diff = max_hold_days - min_hold_days\n",
    "window = 30"
   ]
  },
  {
   "cell_type": "code",
   "execution_count": null,
   "metadata": {
    "collapsed": true,
    "scrolled": false
   },
   "outputs": [],
   "source": [
    "positions = []\n",
    "for i in range(window, len(amzn)-max_hold_days):\n",
    "    from_idx = i - window\n",
    "    to_idx = i + 1\n",
    "    pct_data_part = amzn_pct.iloc[from_idx:to_idx]\n",
    "    \n",
    "    current_day = amzn.iloc[i]\n",
    "    \n",
    "    future_from_idx = i+min_hold_days\n",
    "    future_to_idx = i+max_hold_days\n",
    "    \n",
    "    check_data_part = amzn.iloc[future_from_idx:future_to_idx]\n",
    "    max_ev_date = np.argmax(np.abs(current_day['Close'] - check_data_part['Close']))\n",
    "    target_day = check_data_part.loc[max_ev_date]\n",
    "    \n",
    "    day_diff = len(amzn[current_day.name:target_day.name]) - 1\n",
    "    price_diff = target_day['Close'] - current_day['Close']\n",
    "    direction = TradeDTO.BUY if price_diff > 0 else TradeDTO.SELL\n",
    "    #print('- {} days: {} to {}'.format(str(day_diff), current_day.name.date(), target_day.name.date()))\n",
    "    trade = TradeDTO(pct_data_part, current_day, target_day, direction, day_diff, price_diff)\n",
    "    positions.append(trade)"
   ]
  },
  {
   "cell_type": "code",
   "execution_count": null,
   "metadata": {
    "scrolled": true
   },
   "outputs": [],
   "source": [
    "pprint(positions)"
   ]
  },
  {
   "cell_type": "markdown",
   "metadata": {},
   "source": [
    "# Train Keras NN"
   ]
  },
  {
   "cell_type": "markdown",
   "metadata": {},
   "source": [
    "### Setup X_train, X_test, etc"
   ]
  },
  {
   "cell_type": "code",
   "execution_count": null,
   "metadata": {},
   "outputs": [],
   "source": [
    "X = np.array([x.pct_data.values for x in positions])\n",
    "X.shape"
   ]
  },
  {
   "cell_type": "code",
   "execution_count": null,
   "metadata": {},
   "outputs": [],
   "source": [
    "lb = LabelBinarizer()\n",
    "y = lb.fit_transform([x.to_label() for x in positions])\n",
    "y.shape"
   ]
  },
  {
   "cell_type": "code",
   "execution_count": null,
   "metadata": {
    "collapsed": true
   },
   "outputs": [],
   "source": [
    "X_train, X_test, y_train, y_test = train_test_split(X, y, test_size=test_size)"
   ]
  },
  {
   "cell_type": "markdown",
   "metadata": {},
   "source": [
    "Scaling dataset size should be equal to the train set + window size"
   ]
  },
  {
   "cell_type": "code",
   "execution_count": null,
   "metadata": {},
   "outputs": [],
   "source": [
    "X_train.shape[0]+window == scale_to_idx"
   ]
  },
  {
   "cell_type": "markdown",
   "metadata": {},
   "source": [
    "### Build model"
   ]
  },
  {
   "cell_type": "code",
   "execution_count": null,
   "metadata": {
    "collapsed": true
   },
   "outputs": [],
   "source": [
    "batch_size = 16\n",
    "epochs = 100"
   ]
  },
  {
   "cell_type": "code",
   "execution_count": null,
   "metadata": {},
   "outputs": [],
   "source": [
    "from keras.models import Sequential\n",
    "from keras.layers import Conv1D, MaxPooling1D\n",
    "from keras.layers import Activation, Dropout, Flatten, Dense\n",
    "from keras.losses import mean_squared_error, categorical_crossentropy"
   ]
  },
  {
   "cell_type": "code",
   "execution_count": null,
   "metadata": {},
   "outputs": [],
   "source": [
    "model = Sequential()\n",
    "model.add(Conv1D(32,  3, activation='relu', padding='same', input_shape=X[0].shape))\n",
    "model.add(Conv1D(64,  4, activation='relu', padding='same'))\n",
    "model.add(Conv1D(128, 5, activation='relu', padding='same'))\n",
    "model.add(Conv1D(256, 6, activation='relu', padding='same'))"
   ]
  },
  {
   "cell_type": "code",
   "execution_count": null,
   "metadata": {},
   "outputs": [],
   "source": [
    "model.add(Flatten())\n",
    "\n",
    "model.add(Dense(128))\n",
    "model.add(Activation('relu'))\n",
    "model.add(Dropout(0.2))\n",
    "\n",
    "model.add(Dense(64))\n",
    "model.add(Activation('relu'))\n",
    "model.add(Dropout(0.2))\n",
    "\n",
    "model.add(Dense(32))\n",
    "model.add(Activation('relu'))\n",
    "model.add(Dropout(0.2))\n",
    "\n",
    "model.add(Dense(16))\n",
    "model.add(Activation('relu'))\n",
    "model.add(Dropout(0.2))\n",
    "\n",
    "model.add(Dense(y.shape[1]))\n",
    "model.add(Activation('softmax'))\n",
    "\n",
    "model.compile(loss=categorical_crossentropy,\n",
    "              optimizer='adam',\n",
    "              metrics=['accuracy'])"
   ]
  },
  {
   "cell_type": "code",
   "execution_count": null,
   "metadata": {
    "scrolled": false
   },
   "outputs": [],
   "source": [
    "# Fit the model\n",
    "model.fit(X_train, y_train, validation_data=(X_test, y_test), epochs=epochs, batch_size=batch_size)\n",
    "# Final evaluation of the model\n",
    "scores = model.evaluate(X_test, y_test, verbose=3)\n",
    "print(\"Accuracy: %.2f%%\" % (scores[1]*100))"
   ]
  }
 ],
 "metadata": {
  "kernelspec": {
   "display_name": "Python 3",
   "language": "python",
   "name": "python3"
  },
  "language_info": {
   "codemirror_mode": {
    "name": "ipython",
    "version": 3
   },
   "file_extension": ".py",
   "mimetype": "text/x-python",
   "name": "python",
   "nbconvert_exporter": "python",
   "pygments_lexer": "ipython3",
   "version": "3.6.1"
  }
 },
 "nbformat": 4,
 "nbformat_minor": 2
}
