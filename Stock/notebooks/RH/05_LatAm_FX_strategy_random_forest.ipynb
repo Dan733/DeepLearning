{
 "cells": [
  {
   "cell_type": "code",
   "execution_count": 4,
   "metadata": {},
   "outputs": [],
   "source": [
    "import numpy as np\n",
    "import pandas as pd\n",
    "import matplotlib.pyplot as plt\n",
    "import seaborn as sns\n",
    "%matplotlib inline"
   ]
  },
  {
   "cell_type": "code",
   "execution_count": 5,
   "metadata": {},
   "outputs": [],
   "source": [
    "from sklearn.decomposition import PCA\n",
    "from sklearn.grid_search import GridSearchCV\n",
    "from sklearn.preprocessing import LabelBinarizer, StandardScaler\n",
    "from sklearn.ensemble import RandomForestClassifier"
   ]
  },
  {
   "cell_type": "code",
   "execution_count": 7,
   "metadata": {},
   "outputs": [],
   "source": [
    "from utils import read_ami_SPY_data"
   ]
  },
  {
   "cell_type": "code",
   "execution_count": 6,
   "metadata": {},
   "outputs": [],
   "source": [
    "train_size = 150\n",
    "test_size = 150"
   ]
  },
  {
   "cell_type": "code",
   "execution_count": 8,
   "metadata": {},
   "outputs": [],
   "source": [
    "data = read_ami_SPY_data()"
   ]
  },
  {
   "cell_type": "code",
   "execution_count": 9,
   "metadata": {},
   "outputs": [
    {
     "data": {
      "text/html": [
       "<div>\n",
       "<style scoped>\n",
       "    .dataframe tbody tr th:only-of-type {\n",
       "        vertical-align: middle;\n",
       "    }\n",
       "\n",
       "    .dataframe tbody tr th {\n",
       "        vertical-align: top;\n",
       "    }\n",
       "\n",
       "    .dataframe thead th {\n",
       "        text-align: right;\n",
       "    }\n",
       "</style>\n",
       "<table border=\"1\" class=\"dataframe\">\n",
       "  <thead>\n",
       "    <tr style=\"text-align: right;\">\n",
       "      <th></th>\n",
       "      <th>Open</th>\n",
       "      <th>High</th>\n",
       "      <th>Low</th>\n",
       "      <th>Close</th>\n",
       "      <th>Volume</th>\n",
       "    </tr>\n",
       "    <tr>\n",
       "      <th>Date</th>\n",
       "      <th></th>\n",
       "      <th></th>\n",
       "      <th></th>\n",
       "      <th></th>\n",
       "      <th></th>\n",
       "    </tr>\n",
       "  </thead>\n",
       "  <tbody>\n",
       "    <tr>\n",
       "      <th>1999-03-10</th>\n",
       "      <td>128.4687</td>\n",
       "      <td>129.2500</td>\n",
       "      <td>127.7812</td>\n",
       "      <td>129.1875</td>\n",
       "      <td>3950000</td>\n",
       "    </tr>\n",
       "    <tr>\n",
       "      <th>1999-03-11</th>\n",
       "      <td>129.6875</td>\n",
       "      <td>131.1875</td>\n",
       "      <td>128.8750</td>\n",
       "      <td>130.6250</td>\n",
       "      <td>6583700</td>\n",
       "    </tr>\n",
       "    <tr>\n",
       "      <th>1999-03-12</th>\n",
       "      <td>131.0000</td>\n",
       "      <td>131.0312</td>\n",
       "      <td>129.2187</td>\n",
       "      <td>129.3750</td>\n",
       "      <td>5286500</td>\n",
       "    </tr>\n",
       "    <tr>\n",
       "      <th>1999-03-15</th>\n",
       "      <td>129.9375</td>\n",
       "      <td>131.2500</td>\n",
       "      <td>129.5000</td>\n",
       "      <td>131.2187</td>\n",
       "      <td>5394400</td>\n",
       "    </tr>\n",
       "    <tr>\n",
       "      <th>1999-03-16</th>\n",
       "      <td>131.1250</td>\n",
       "      <td>131.6562</td>\n",
       "      <td>130.4687</td>\n",
       "      <td>130.7187</td>\n",
       "      <td>4547500</td>\n",
       "    </tr>\n",
       "  </tbody>\n",
       "</table>\n",
       "</div>"
      ],
      "text/plain": [
       "                Open      High       Low     Close   Volume\n",
       "Date                                                       \n",
       "1999-03-10  128.4687  129.2500  127.7812  129.1875  3950000\n",
       "1999-03-11  129.6875  131.1875  128.8750  130.6250  6583700\n",
       "1999-03-12  131.0000  131.0312  129.2187  129.3750  5286500\n",
       "1999-03-15  129.9375  131.2500  129.5000  131.2187  5394400\n",
       "1999-03-16  131.1250  131.6562  130.4687  130.7187  4547500"
      ]
     },
     "execution_count": 9,
     "metadata": {},
     "output_type": "execute_result"
    }
   ],
   "source": [
    "data.head()"
   ]
  },
  {
   "cell_type": "code",
   "execution_count": null,
   "metadata": {},
   "outputs": [],
   "source": []
  }
 ],
 "metadata": {
  "kernelspec": {
   "display_name": "Python 3",
   "language": "python",
   "name": "python3"
  },
  "language_info": {
   "codemirror_mode": {
    "name": "ipython",
    "version": 3
   },
   "file_extension": ".py",
   "mimetype": "text/x-python",
   "name": "python",
   "nbconvert_exporter": "python",
   "pygments_lexer": "ipython3",
   "version": "3.6.3"
  }
 },
 "nbformat": 4,
 "nbformat_minor": 2
}
