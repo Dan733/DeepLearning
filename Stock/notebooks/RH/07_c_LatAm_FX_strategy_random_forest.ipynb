{
 "cells": [
  {
   "cell_type": "code",
   "execution_count": 1,
   "metadata": {},
   "outputs": [],
   "source": [
    "import math\n",
    "import numpy as np\n",
    "import pandas as pd\n",
    "import matplotlib.pyplot as plt\n",
    "import seaborn as sns\n",
    "%matplotlib inline"
   ]
  },
  {
   "cell_type": "code",
   "execution_count": 2,
   "metadata": {},
   "outputs": [
    {
     "name": "stderr",
     "output_type": "stream",
     "text": [
      "C:\\DEV\\Anaconda3\\envs\\trading\\lib\\site-packages\\sklearn\\cross_validation.py:41: DeprecationWarning: This module was deprecated in version 0.18 in favor of the model_selection module into which all the refactored classes and functions are moved. Also note that the interface of the new CV iterators are different from that of this module. This module will be removed in 0.20.\n",
      "  \"This module will be removed in 0.20.\", DeprecationWarning)\n",
      "C:\\DEV\\Anaconda3\\envs\\trading\\lib\\site-packages\\sklearn\\grid_search.py:42: DeprecationWarning: This module was deprecated in version 0.18 in favor of the model_selection module into which all the refactored classes and functions are moved. This module will be removed in 0.20.\n",
      "  DeprecationWarning)\n"
     ]
    }
   ],
   "source": [
    "import talib as tl\n",
    "from sklearn.decomposition import PCA\n",
    "from sklearn.grid_search import GridSearchCV\n",
    "from sklearn.preprocessing import LabelBinarizer, StandardScaler\n",
    "from sklearn.pipeline import Pipeline\n",
    "from sklearn.ensemble import RandomForestClassifier, GradientBoostingClassifier\n",
    "\n",
    "from sklearn.metrics import accuracy_score, classification_report, confusion_matrix"
   ]
  },
  {
   "cell_type": "code",
   "execution_count": 3,
   "metadata": {},
   "outputs": [],
   "source": [
    "train_size = 150\n",
    "test_size = 5\n",
    "return_day = 10\n",
    "extreme_val = 0\n",
    "full_size = train_size + test_size + return_day \n",
    "# make return_day long gap between train and test set to avoid lookahead bias"
   ]
  },
  {
   "cell_type": "code",
   "execution_count": 4,
   "metadata": {},
   "outputs": [
    {
     "data": {
      "text/html": [
       "<div>\n",
       "<style scoped>\n",
       "    .dataframe tbody tr th:only-of-type {\n",
       "        vertical-align: middle;\n",
       "    }\n",
       "\n",
       "    .dataframe tbody tr th {\n",
       "        vertical-align: top;\n",
       "    }\n",
       "\n",
       "    .dataframe thead th {\n",
       "        text-align: right;\n",
       "    }\n",
       "</style>\n",
       "<table border=\"1\" class=\"dataframe\">\n",
       "  <thead>\n",
       "    <tr style=\"text-align: right;\">\n",
       "      <th></th>\n",
       "      <th>Open</th>\n",
       "      <th>High</th>\n",
       "      <th>Low</th>\n",
       "      <th>Close</th>\n",
       "    </tr>\n",
       "    <tr>\n",
       "      <th>Dates</th>\n",
       "      <th></th>\n",
       "      <th></th>\n",
       "      <th></th>\n",
       "      <th></th>\n",
       "    </tr>\n",
       "  </thead>\n",
       "  <tbody>\n",
       "    <tr>\n",
       "      <th>2018-01-08</th>\n",
       "      <td>606.37</td>\n",
       "      <td>608.47</td>\n",
       "      <td>604.58</td>\n",
       "      <td>605.31</td>\n",
       "    </tr>\n",
       "    <tr>\n",
       "      <th>2018-01-09</th>\n",
       "      <td>606.00</td>\n",
       "      <td>608.59</td>\n",
       "      <td>605.57</td>\n",
       "      <td>607.89</td>\n",
       "    </tr>\n",
       "    <tr>\n",
       "      <th>2018-01-10</th>\n",
       "      <td>607.66</td>\n",
       "      <td>610.70</td>\n",
       "      <td>606.23</td>\n",
       "      <td>609.32</td>\n",
       "    </tr>\n",
       "    <tr>\n",
       "      <th>2018-01-11</th>\n",
       "      <td>608.01</td>\n",
       "      <td>609.67</td>\n",
       "      <td>606.13</td>\n",
       "      <td>606.22</td>\n",
       "    </tr>\n",
       "    <tr>\n",
       "      <th>2018-01-12</th>\n",
       "      <td>603.17</td>\n",
       "      <td>605.81</td>\n",
       "      <td>602.86</td>\n",
       "      <td>603.18</td>\n",
       "    </tr>\n",
       "  </tbody>\n",
       "</table>\n",
       "</div>"
      ],
      "text/plain": [
       "              Open    High     Low   Close\n",
       "Dates                                     \n",
       "2018-01-08  606.37  608.47  604.58  605.31\n",
       "2018-01-09  606.00  608.59  605.57  607.89\n",
       "2018-01-10  607.66  610.70  606.23  609.32\n",
       "2018-01-11  608.01  609.67  606.13  606.22\n",
       "2018-01-12  603.17  605.81  602.86  603.18"
      ]
     },
     "execution_count": 4,
     "metadata": {},
     "output_type": "execute_result"
    }
   ],
   "source": [
    "data = pd.read_excel('USDCLP.xlsx', skiprows=4, index_col='Dates', parse_dates=True)\n",
    "data.dropna(inplace=True)\n",
    "data.columns = ['Open', 'High', 'Low', 'Close']\n",
    "data = data['2004':] # before 2004 the data is not OHLC, but C\n",
    "data['2018-01-08':'2018-01-13']"
   ]
  },
  {
   "cell_type": "code",
   "execution_count": 5,
   "metadata": {},
   "outputs": [
    {
     "data": {
      "text/html": [
       "<div>\n",
       "<style scoped>\n",
       "    .dataframe tbody tr th:only-of-type {\n",
       "        vertical-align: middle;\n",
       "    }\n",
       "\n",
       "    .dataframe tbody tr th {\n",
       "        vertical-align: top;\n",
       "    }\n",
       "\n",
       "    .dataframe thead th {\n",
       "        text-align: right;\n",
       "    }\n",
       "</style>\n",
       "<table border=\"1\" class=\"dataframe\">\n",
       "  <thead>\n",
       "    <tr style=\"text-align: right;\">\n",
       "      <th></th>\n",
       "      <th>Open</th>\n",
       "      <th>High</th>\n",
       "      <th>Low</th>\n",
       "      <th>Close</th>\n",
       "    </tr>\n",
       "    <tr>\n",
       "      <th>Dates</th>\n",
       "      <th></th>\n",
       "      <th></th>\n",
       "      <th></th>\n",
       "      <th></th>\n",
       "    </tr>\n",
       "  </thead>\n",
       "  <tbody>\n",
       "    <tr>\n",
       "      <th>2018-01-07</th>\n",
       "      <td>612.19</td>\n",
       "      <td>612.45</td>\n",
       "      <td>601.80</td>\n",
       "      <td>605.78</td>\n",
       "    </tr>\n",
       "    <tr>\n",
       "      <th>2018-01-14</th>\n",
       "      <td>606.37</td>\n",
       "      <td>610.70</td>\n",
       "      <td>602.86</td>\n",
       "      <td>603.18</td>\n",
       "    </tr>\n",
       "    <tr>\n",
       "      <th>2018-01-21</th>\n",
       "      <td>599.58</td>\n",
       "      <td>608.82</td>\n",
       "      <td>599.31</td>\n",
       "      <td>608.21</td>\n",
       "    </tr>\n",
       "    <tr>\n",
       "      <th>2018-01-28</th>\n",
       "      <td>607.69</td>\n",
       "      <td>609.78</td>\n",
       "      <td>597.70</td>\n",
       "      <td>601.68</td>\n",
       "    </tr>\n",
       "    <tr>\n",
       "      <th>2018-02-04</th>\n",
       "      <td>603.65</td>\n",
       "      <td>607.37</td>\n",
       "      <td>596.31</td>\n",
       "      <td>597.03</td>\n",
       "    </tr>\n",
       "  </tbody>\n",
       "</table>\n",
       "</div>"
      ],
      "text/plain": [
       "              Open    High     Low   Close\n",
       "Dates                                     \n",
       "2018-01-07  612.19  612.45  601.80  605.78\n",
       "2018-01-14  606.37  610.70  602.86  603.18\n",
       "2018-01-21  599.58  608.82  599.31  608.21\n",
       "2018-01-28  607.69  609.78  597.70  601.68\n",
       "2018-02-04  603.65  607.37  596.31  597.03"
      ]
     },
     "execution_count": 5,
     "metadata": {},
     "output_type": "execute_result"
    }
   ],
   "source": [
    "new_data = data.resample('1W').pad()\n",
    "new_data['Open'] = data['Open'].resample('1W').first()\n",
    "new_data['Close'] = data['Close'].resample('1W').last()\n",
    "new_data['High'] = data['High'].resample('1W').max()\n",
    "new_data['Low'] = data['Low'].resample('1W').min()\n",
    "new_data.dropna(inplace=True)\n",
    "new_data.tail()"
   ]
  },
  {
   "cell_type": "code",
   "execution_count": 6,
   "metadata": {},
   "outputs": [],
   "source": [
    "data = new_data"
   ]
  },
  {
   "cell_type": "code",
   "execution_count": 7,
   "metadata": {},
   "outputs": [],
   "source": [
    "oopen = data['Open'].values\n",
    "high = data['High'].values\n",
    "low = data['Low'].values\n",
    "close = data['Close'].values"
   ]
  },
  {
   "cell_type": "code",
   "execution_count": 8,
   "metadata": {},
   "outputs": [],
   "source": [
    "features_to_delete = data.columns.tolist()"
   ]
  },
  {
   "cell_type": "markdown",
   "metadata": {},
   "source": [
    "# ROC"
   ]
  },
  {
   "cell_type": "code",
   "execution_count": 9,
   "metadata": {},
   "outputs": [],
   "source": [
    "for i in [2, 5, 10, 20]:\n",
    "    data[f'ROC {i}'] = tl.ROC(close, timeperiod=i)"
   ]
  },
  {
   "cell_type": "code",
   "execution_count": 10,
   "metadata": {},
   "outputs": [
    {
     "data": {
      "text/plain": [
       "<matplotlib.axes._subplots.AxesSubplot at 0x224698e5518>"
      ]
     },
     "execution_count": 10,
     "metadata": {},
     "output_type": "execute_result"
    },
    {
     "data": {
      "image/png": "[encoded data removed]",
      "text/plain": [
       "<matplotlib.figure.Figure at 0x2246a052080>"
      ]
     },
     "metadata": {},
     "output_type": "display_data"
    }
   ],
   "source": [
    "data['2008': '2009'][['ROC 2', 'ROC 5', 'ROC 10', 'ROC 20']].plot()"
   ]
  },
  {
   "cell_type": "markdown",
   "metadata": {},
   "source": [
    "# Deviation from zero-lag exponential MA"
   ]
  },
  {
   "cell_type": "code",
   "execution_count": 11,
   "metadata": {},
   "outputs": [],
   "source": [
    "for i in [10, 20, 40]:\n",
    "    lag = (i-1)/2\n",
    "    ema_data = 2*data['Close'] - data['Close'].shift(i).fillna(method='bfill')\n",
    "    data['Deviation EMA ' + str(i)] = data['Close'] - tl.EMA(ema_data.values, timeperiod=i)"
   ]
  },
  {
   "cell_type": "code",
   "execution_count": 12,
   "metadata": {},
   "outputs": [
    {
     "data": {
      "text/plain": [
       "<matplotlib.axes._subplots.AxesSubplot at 0x2246a398ba8>"
      ]
     },
     "execution_count": 12,
     "metadata": {},
     "output_type": "execute_result"
    },
    {
     "data": {
      "image/png": "[encoded data removed]",
      "text/plain": [
       "<matplotlib.figure.Figure at 0x2246a044ef0>"
      ]
     },
     "metadata": {},
     "output_type": "display_data"
    }
   ],
   "source": [
    "data['2008':'2009'][['Deviation EMA 10', 'Deviation EMA 20', 'Deviation EMA 40']].plot()"
   ]
  },
  {
   "cell_type": "markdown",
   "metadata": {},
   "source": [
    "# MACD"
   ]
  },
  {
   "cell_type": "code",
   "execution_count": 13,
   "metadata": {},
   "outputs": [],
   "source": [
    "for i, j, k in [(12, 16, 9), (3, 5, 2)]:\n",
    "    macd, macdsignal, macdhist = tl.MACD(close, fastperiod=i, slowperiod=j, signalperiod=k)\n",
    "    data[f'MACD ({i}, {j}, {k})'] = macd\n",
    "#     data[f'MACD signal ({i}, {j}, {k})'] = macdsignal\n",
    "#     data[f'MACD hist ({i}, {j}, {k})'] = macdhist"
   ]
  },
  {
   "cell_type": "code",
   "execution_count": 14,
   "metadata": {},
   "outputs": [
    {
     "data": {
      "text/plain": [
       "<matplotlib.axes._subplots.AxesSubplot at 0x2246c6d8240>"
      ]
     },
     "execution_count": 14,
     "metadata": {},
     "output_type": "execute_result"
    },
    {
     "data": {
      "image/png": "[encoded data removed]",
      "text/plain": [
       "<matplotlib.figure.Figure at 0x2246c6aaba8>"
      ]
     },
     "metadata": {},
     "output_type": "display_data"
    }
   ],
   "source": [
    "data['2008':'2009'][['MACD (12, 16, 9)', 'MACD (3, 5, 2)']].plot()"
   ]
  },
  {
   "cell_type": "code",
   "execution_count": 15,
   "metadata": {},
   "outputs": [],
   "source": [
    "# data['2008'][['MACD signal (12, 16, 9)', 'MACD signal (3, 5, 2)']].plot()"
   ]
  },
  {
   "cell_type": "code",
   "execution_count": 16,
   "metadata": {},
   "outputs": [],
   "source": [
    "# data['2008'][['MACD hist (14, 20, 12)', 'MACD hist (12, 16, 9)', 'MACD hist (3, 5, 2)']].plot()"
   ]
  },
  {
   "cell_type": "markdown",
   "metadata": {},
   "source": [
    "# RSI"
   ]
  },
  {
   "cell_type": "code",
   "execution_count": 17,
   "metadata": {},
   "outputs": [],
   "source": [
    "for i in [5, 10, 14, 20]:\n",
    "    data[f'RSI {i}'] = tl.RSI(close, timeperiod=i)"
   ]
  },
  {
   "cell_type": "code",
   "execution_count": 18,
   "metadata": {},
   "outputs": [
    {
     "data": {
      "text/plain": [
       "<matplotlib.axes._subplots.AxesSubplot at 0x2246a301588>"
      ]
     },
     "execution_count": 18,
     "metadata": {},
     "output_type": "execute_result"
    },
    {
     "data": {
      "image/png": "[encoded data removed]",
      "text/plain": [
       "<matplotlib.figure.Figure at 0x2246c6e1be0>"
      ]
     },
     "metadata": {},
     "output_type": "display_data"
    }
   ],
   "source": [
    "data['2008':'2009'][['RSI 5', 'RSI 10', 'RSI 14', 'RSI 20']].plot()"
   ]
  },
  {
   "cell_type": "markdown",
   "metadata": {},
   "source": [
    "# SMA differences"
   ]
  },
  {
   "cell_type": "code",
   "execution_count": 19,
   "metadata": {},
   "outputs": [],
   "source": [
    "for i, j in [(5, 10), (10, 20)]:\n",
    "    data[f'SMA ({i}, {j}) diff'] = tl.SMA(close, timeperiod=i) - tl.SMA(close, timeperiod=j)"
   ]
  },
  {
   "cell_type": "code",
   "execution_count": 20,
   "metadata": {},
   "outputs": [
    {
     "data": {
      "text/plain": [
       "<matplotlib.axes._subplots.AxesSubplot at 0x2246a052a90>"
      ]
     },
     "execution_count": 20,
     "metadata": {},
     "output_type": "execute_result"
    },
    {
     "data": {
      "image/png": "[encoded data removed]",
      "text/plain": [
       "<matplotlib.figure.Figure at 0x2246a206eb8>"
      ]
     },
     "metadata": {},
     "output_type": "display_data"
    }
   ],
   "source": [
    "data['2008':'2009'][['SMA (5, 10) diff', 'SMA (10, 20) diff']].plot()"
   ]
  },
  {
   "cell_type": "markdown",
   "metadata": {},
   "source": [
    "# ADX"
   ]
  },
  {
   "cell_type": "code",
   "execution_count": 21,
   "metadata": {},
   "outputs": [],
   "source": [
    "data['ADX 14'] = tl.ADX(high, low, close, timeperiod=14)"
   ]
  },
  {
   "cell_type": "code",
   "execution_count": 22,
   "metadata": {},
   "outputs": [
    {
     "data": {
      "text/plain": [
       "<matplotlib.axes._subplots.AxesSubplot at 0x2246a268860>"
      ]
     },
     "execution_count": 22,
     "metadata": {},
     "output_type": "execute_result"
    },
    {
     "data": {
      "image/png": "[encoded data removed]",
      "text/plain": [
       "<matplotlib.figure.Figure at 0x2246a11a710>"
      ]
     },
     "metadata": {},
     "output_type": "display_data"
    }
   ],
   "source": [
    "data['2005':'2006'][['ADX 14']].plot()"
   ]
  },
  {
   "cell_type": "markdown",
   "metadata": {},
   "source": [
    "# CCI"
   ]
  },
  {
   "cell_type": "code",
   "execution_count": 23,
   "metadata": {},
   "outputs": [],
   "source": [
    "data['CCI 14'] = tl.CCI(high, low, close, timeperiod=14)"
   ]
  },
  {
   "cell_type": "code",
   "execution_count": 24,
   "metadata": {},
   "outputs": [
    {
     "data": {
      "text/plain": [
       "<matplotlib.axes._subplots.AxesSubplot at 0x2246c723080>"
      ]
     },
     "execution_count": 24,
     "metadata": {},
     "output_type": "execute_result"
    },
    {
     "data": {
      "image/png": "[encoded data removed]",
      "text/plain": [
       "<matplotlib.figure.Figure at 0x2246c753ef0>"
      ]
     },
     "metadata": {},
     "output_type": "display_data"
    }
   ],
   "source": [
    "data['2008':'2009']['CCI 14'].plot()"
   ]
  },
  {
   "cell_type": "markdown",
   "metadata": {},
   "source": [
    "# Y target value"
   ]
  },
  {
   "cell_type": "code",
   "execution_count": 25,
   "metadata": {},
   "outputs": [],
   "source": [
    "data['Return'] = data['Close'].pct_change(return_day).shift(-return_day)*100\n",
    "data['Extreme'] = data['Close'].pct_change(return_day).rolling(return_day).std()*100"
   ]
  },
  {
   "cell_type": "code",
   "execution_count": 26,
   "metadata": {},
   "outputs": [
    {
     "data": {
      "text/html": [
       "<div>\n",
       "<style scoped>\n",
       "    .dataframe tbody tr th:only-of-type {\n",
       "        vertical-align: middle;\n",
       "    }\n",
       "\n",
       "    .dataframe tbody tr th {\n",
       "        vertical-align: top;\n",
       "    }\n",
       "\n",
       "    .dataframe thead th {\n",
       "        text-align: right;\n",
       "    }\n",
       "</style>\n",
       "<table border=\"1\" class=\"dataframe\">\n",
       "  <thead>\n",
       "    <tr style=\"text-align: right;\">\n",
       "      <th></th>\n",
       "      <th>ROC 2</th>\n",
       "      <th>ROC 5</th>\n",
       "      <th>ROC 10</th>\n",
       "      <th>ROC 20</th>\n",
       "      <th>Deviation EMA 10</th>\n",
       "      <th>Deviation EMA 20</th>\n",
       "      <th>Deviation EMA 40</th>\n",
       "      <th>MACD (12, 16, 9)</th>\n",
       "      <th>MACD (3, 5, 2)</th>\n",
       "      <th>RSI 5</th>\n",
       "      <th>RSI 10</th>\n",
       "      <th>RSI 14</th>\n",
       "      <th>RSI 20</th>\n",
       "      <th>SMA (5, 10) diff</th>\n",
       "      <th>SMA (10, 20) diff</th>\n",
       "      <th>ADX 14</th>\n",
       "      <th>CCI 14</th>\n",
       "      <th>Return</th>\n",
       "      <th>Extreme</th>\n",
       "    </tr>\n",
       "    <tr>\n",
       "      <th>Dates</th>\n",
       "      <th></th>\n",
       "      <th></th>\n",
       "      <th></th>\n",
       "      <th></th>\n",
       "      <th></th>\n",
       "      <th></th>\n",
       "      <th></th>\n",
       "      <th></th>\n",
       "      <th></th>\n",
       "      <th></th>\n",
       "      <th></th>\n",
       "      <th></th>\n",
       "      <th></th>\n",
       "      <th></th>\n",
       "      <th></th>\n",
       "      <th></th>\n",
       "      <th></th>\n",
       "      <th></th>\n",
       "      <th></th>\n",
       "    </tr>\n",
       "  </thead>\n",
       "  <tbody>\n",
       "    <tr>\n",
       "      <th>2004-10-03</th>\n",
       "      <td>-0.950430</td>\n",
       "      <td>-3.565731</td>\n",
       "      <td>-4.773533</td>\n",
       "      <td>-5.258621</td>\n",
       "      <td>-3.145266</td>\n",
       "      <td>-33.071905</td>\n",
       "      <td>-39.414000</td>\n",
       "      <td>-1.063577</td>\n",
       "      <td>-3.861377</td>\n",
       "      <td>19.825401</td>\n",
       "      <td>34.272946</td>\n",
       "      <td>41.114504</td>\n",
       "      <td>46.984882</td>\n",
       "      <td>-11.395</td>\n",
       "      <td>-6.1890</td>\n",
       "      <td>23.131563</td>\n",
       "      <td>-149.550770</td>\n",
       "      <td>-1.968732</td>\n",
       "      <td>1.846438</td>\n",
       "    </tr>\n",
       "    <tr>\n",
       "      <th>2004-10-10</th>\n",
       "      <td>-2.877405</td>\n",
       "      <td>-4.189450</td>\n",
       "      <td>-7.175132</td>\n",
       "      <td>-7.218502</td>\n",
       "      <td>-1.318854</td>\n",
       "      <td>-33.379343</td>\n",
       "      <td>-46.271854</td>\n",
       "      <td>-1.860784</td>\n",
       "      <td>-4.879007</td>\n",
       "      <td>14.557762</td>\n",
       "      <td>29.792533</td>\n",
       "      <td>37.437672</td>\n",
       "      <td>44.189530</td>\n",
       "      <td>-12.000</td>\n",
       "      <td>-8.4765</td>\n",
       "      <td>23.788964</td>\n",
       "      <td>-163.745237</td>\n",
       "      <td>-3.726395</td>\n",
       "      <td>2.343418</td>\n",
       "    </tr>\n",
       "    <tr>\n",
       "      <th>2004-10-17</th>\n",
       "      <td>0.719663</td>\n",
       "      <td>-1.345001</td>\n",
       "      <td>-5.045621</td>\n",
       "      <td>-3.670886</td>\n",
       "      <td>15.480028</td>\n",
       "      <td>-16.183691</td>\n",
       "      <td>-34.079324</td>\n",
       "      <td>-1.949907</td>\n",
       "      <td>-2.230049</td>\n",
       "      <td>42.969704</td>\n",
       "      <td>42.352674</td>\n",
       "      <td>45.334744</td>\n",
       "      <td>48.982102</td>\n",
       "      <td>-10.425</td>\n",
       "      <td>-10.5515</td>\n",
       "      <td>23.417572</td>\n",
       "      <td>-96.015734</td>\n",
       "      <td>-7.769382</td>\n",
       "      <td>1.947023</td>\n",
       "    </tr>\n",
       "    <tr>\n",
       "      <th>2004-10-24</th>\n",
       "      <td>2.182123</td>\n",
       "      <td>-0.245801</td>\n",
       "      <td>-4.830767</td>\n",
       "      <td>-5.576237</td>\n",
       "      <td>18.242751</td>\n",
       "      <td>-11.263816</td>\n",
       "      <td>-34.076674</td>\n",
       "      <td>-1.982963</td>\n",
       "      <td>-0.983722</td>\n",
       "      <td>42.901381</td>\n",
       "      <td>42.320443</td>\n",
       "      <td>45.311144</td>\n",
       "      <td>48.965143</td>\n",
       "      <td>-7.635</td>\n",
       "      <td>-11.8440</td>\n",
       "      <td>22.543811</td>\n",
       "      <td>-59.526914</td>\n",
       "      <td>-8.706366</td>\n",
       "      <td>1.778628</td>\n",
       "    </tr>\n",
       "    <tr>\n",
       "      <th>2004-10-31</th>\n",
       "      <td>0.813075</td>\n",
       "      <td>0.057059</td>\n",
       "      <td>-2.818463</td>\n",
       "      <td>-5.431433</td>\n",
       "      <td>22.253160</td>\n",
       "      <td>-2.310119</td>\n",
       "      <td>-29.563178</td>\n",
       "      <td>-1.790757</td>\n",
       "      <td>0.429008</td>\n",
       "      <td>52.368375</td>\n",
       "      <td>46.817456</td>\n",
       "      <td>48.214271</td>\n",
       "      <td>50.759614</td>\n",
       "      <td>-5.785</td>\n",
       "      <td>-11.8615</td>\n",
       "      <td>21.732462</td>\n",
       "      <td>-39.499532</td>\n",
       "      <td>-7.046843</td>\n",
       "      <td>1.770833</td>\n",
       "    </tr>\n",
       "  </tbody>\n",
       "</table>\n",
       "</div>"
      ],
      "text/plain": [
       "               ROC 2     ROC 5    ROC 10    ROC 20  Deviation EMA 10  \\\n",
       "Dates                                                                  \n",
       "2004-10-03 -0.950430 -3.565731 -4.773533 -5.258621         -3.145266   \n",
       "2004-10-10 -2.877405 -4.189450 -7.175132 -7.218502         -1.318854   \n",
       "2004-10-17  0.719663 -1.345001 -5.045621 -3.670886         15.480028   \n",
       "2004-10-24  2.182123 -0.245801 -4.830767 -5.576237         18.242751   \n",
       "2004-10-31  0.813075  0.057059 -2.818463 -5.431433         22.253160   \n",
       "\n",
       "            Deviation EMA 20  Deviation EMA 40  MACD (12, 16, 9)  \\\n",
       "Dates                                                              \n",
       "2004-10-03        -33.071905        -39.414000         -1.063577   \n",
       "2004-10-10        -33.379343        -46.271854         -1.860784   \n",
       "2004-10-17        -16.183691        -34.079324         -1.949907   \n",
       "2004-10-24        -11.263816        -34.076674         -1.982963   \n",
       "2004-10-31         -2.310119        -29.563178         -1.790757   \n",
       "\n",
       "            MACD (3, 5, 2)      RSI 5     RSI 10     RSI 14     RSI 20  \\\n",
       "Dates                                                                    \n",
       "2004-10-03       -3.861377  19.825401  34.272946  41.114504  46.984882   \n",
       "2004-10-10       -4.879007  14.557762  29.792533  37.437672  44.189530   \n",
       "2004-10-17       -2.230049  42.969704  42.352674  45.334744  48.982102   \n",
       "2004-10-24       -0.983722  42.901381  42.320443  45.311144  48.965143   \n",
       "2004-10-31        0.429008  52.368375  46.817456  48.214271  50.759614   \n",
       "\n",
       "            SMA (5, 10) diff  SMA (10, 20) diff     ADX 14      CCI 14  \\\n",
       "Dates                                                                    \n",
       "2004-10-03           -11.395            -6.1890  23.131563 -149.550770   \n",
       "2004-10-10           -12.000            -8.4765  23.788964 -163.745237   \n",
       "2004-10-17           -10.425           -10.5515  23.417572  -96.015734   \n",
       "2004-10-24            -7.635           -11.8440  22.543811  -59.526914   \n",
       "2004-10-31            -5.785           -11.8615  21.732462  -39.499532   \n",
       "\n",
       "              Return   Extreme  \n",
       "Dates                           \n",
       "2004-10-03 -1.968732  1.846438  \n",
       "2004-10-10 -3.726395  2.343418  \n",
       "2004-10-17 -7.769382  1.947023  \n",
       "2004-10-24 -8.706366  1.778628  \n",
       "2004-10-31 -7.046843  1.770833  "
      ]
     },
     "execution_count": 26,
     "metadata": {},
     "output_type": "execute_result"
    }
   ],
   "source": [
    "data.dropna(inplace=True)\n",
    "data.drop(columns=features_to_delete, inplace=True)\n",
    "data.head()"
   ]
  },
  {
   "cell_type": "markdown",
   "metadata": {},
   "source": [
    "### Features"
   ]
  },
  {
   "cell_type": "code",
   "execution_count": 27,
   "metadata": {},
   "outputs": [],
   "source": [
    "feature_names = data.drop(['Return', 'Extreme'], axis=1).columns"
   ]
  },
  {
   "cell_type": "markdown",
   "metadata": {},
   "source": [
    "# Train and test Random Forest"
   ]
  },
  {
   "cell_type": "code",
   "execution_count": 28,
   "metadata": {},
   "outputs": [],
   "source": [
    "def to_class(y_vec, extreme):\n",
    "    pos = y_vec > extreme\n",
    "    neg = y_vec <= -1*extreme\n",
    "\n",
    "    y_vec[:] = 'Neutral'\n",
    "    y_vec[pos] = 'Pos'\n",
    "    y_vec[neg] = 'Neg'\n",
    "    return y_vec"
   ]
  },
  {
   "cell_type": "code",
   "execution_count": 29,
   "metadata": {},
   "outputs": [],
   "source": [
    "def make_X_y(df):\n",
    "    X = df.drop(['Return', 'Extreme'], axis=1)\n",
    "    y = df['Return'].copy()\n",
    "    ret = y.copy()\n",
    "    y = to_class(y, extreme_val) # df['Extreme']\n",
    "    return X, y, ret"
   ]
  },
  {
   "cell_type": "code",
   "execution_count": 30,
   "metadata": {},
   "outputs": [],
   "source": [
    "def split_X_y(X, y, ret):\n",
    "    X_train = X.iloc[:train_size]\n",
    "    X_test = X.iloc[-test_size:]\n",
    "    y_train = y.iloc[:train_size]\n",
    "    y_test = y.iloc[-test_size:]\n",
    "    train_ret = ret.iloc[:train_size]\n",
    "    test_ret = ret.iloc[-test_size:]\n",
    "    print('Split result before upsampling: {} -> {} + {}'.format(len(X), len(X_train), len(X_test)))\n",
    "    \n",
    "    last_q4 = int(train_size/4)\n",
    "    last_q8 = int(train_size/8)\n",
    "    last_q16 = int(train_size/16)\n",
    "    \n",
    "    X_train = pd.concat([X_train, X_train[-last_q4:], X_train[-last_q8:], X_train[-last_q16:]], ignore_index=True)\n",
    "    y_train = pd.concat([y_train, y_train[-last_q4:], y_train[-last_q8:], y_train[-last_q16:]], ignore_index=True)\n",
    "    train_ret = pd.concat([train_ret, train_ret[-last_q4:], train_ret[-last_q8:], train_ret[-last_q16:]], ignore_index=True)\n",
    "    \n",
    "    return X_train, X_test, y_train, y_test, train_ret, test_ret"
   ]
  },
  {
   "cell_type": "code",
   "execution_count": 31,
   "metadata": {},
   "outputs": [],
   "source": [
    "def print_labels_distrib(y_train, y_test):\n",
    "    def distrib_print(vec):\n",
    "        print('---\\nDistribution:\\n' + str(vec.value_counts()))\n",
    "        \n",
    "    distrib_print(y_train)\n",
    "    distrib_print(y_test)"
   ]
  },
  {
   "cell_type": "code",
   "execution_count": 32,
   "metadata": {},
   "outputs": [],
   "source": [
    "def calculate_returns(ret, y_pred, log=True):\n",
    "    longs = np.nansum(ret[y_pred == 'Pos'])\n",
    "    shorts = np.nansum(-1*ret[y_pred == 'Neg'])\n",
    "    ret_sum = longs + shorts\n",
    "    if log:\n",
    "        print(f'{longs} [long] + {shorts} [short] = {ret_sum}')\n",
    "    return ret_sum"
   ]
  },
  {
   "cell_type": "code",
   "execution_count": 33,
   "metadata": {},
   "outputs": [],
   "source": [
    "from sklearn.metrics import make_scorer\n",
    "def custom_loss(y_true, y_pred, ret):\n",
    "#     bad_sum     = -8*np.sum(((y_true == 'Pos') & (y_pred == 'Neg')) | ((y_true == 'Neg') & (y_pred == 'Pos')))\n",
    "#     np_sum      = -2*np.sum(((y_true == 'Neutral') & (y_pred == 'Pos')) | ((y_true == 'Neutral') & (y_pred == 'Neg')))\n",
    "#     pn_sum      = -1*np.sum(((y_true == 'Pos') & (y_pred == 'Neutral')) | ((y_true == 'Neg') & (y_pred == 'Neutral')))\n",
    "#     good_sum    =  10*np.sum(((y_true == 'Pos') & (y_pred == 'Pos')) | ((y_true == 'Neg') & (y_pred == 'Neg')))\n",
    "#     return bad_sum + np_sum + pn_sum + good_sum\n",
    "    actual_returns = ret.iloc[y_true.index]\n",
    "    return calculate_returns(actual_returns, y_pred, log=False) "
   ]
  },
  {
   "cell_type": "code",
   "execution_count": 34,
   "metadata": {},
   "outputs": [],
   "source": [
    "def print_results(y_test, y_pred):\n",
    "    print('---\\nClassification report\\n', classification_report(y_test, y_pred))\n",
    "    print('---\\nConfusion matrix\\n', str(confusion_matrix(y_test, y_pred)))"
   ]
  },
  {
   "cell_type": "markdown",
   "metadata": {},
   "source": [
    "## Train and Test"
   ]
  },
  {
   "cell_type": "code",
   "execution_count": null,
   "metadata": {},
   "outputs": [],
   "source": [
    "def train_and_test(df):\n",
    "    X, y, ret = make_X_y(df)\n",
    "    X_train, X_test, y_train, y_test, train_ret, test_ret = split_X_y(X, y, ret)\n",
    "    print_labels_distrib(y_train, y_test)\n",
    "    \n",
    "    forest = RandomForestClassifier(n_jobs=8, class_weight='balanced_subsample')\n",
    "    pipe = Pipeline(steps=[('scaler', StandardScaler()), \n",
    "#                            ('pca', PCA()), \n",
    "                           ('forest', forest)])\n",
    "    \n",
    "    params = {'forest__n_estimators': [100],\n",
    "              'forest__max_depth': [3,None],\n",
    "              'forest__max_features': [3,5],\n",
    "              'forest__min_samples_split': [2,5],\n",
    "              'forest__min_samples_leaf': [1,2,5,10,20],\n",
    "#               'pca__n_components': [0.3, 0.7]\n",
    "             }\n",
    "    scorer = make_scorer(custom_loss, greater_is_better=True, ret=train_ret)\n",
    "    grid = GridSearchCV(estimator=pipe,\n",
    "                        param_grid=params, \n",
    "                        scoring='accuracy', #\n",
    "                        cv=3)\n",
    "    \n",
    "    grid.fit(X_train, y_train)\n",
    "    best_estimator = grid.best_estimator_\n",
    "    best_params = grid.best_params_\n",
    "    \n",
    "    y_pred = best_estimator.predict(X_test)\n",
    "    print_results(y_test, y_pred)\n",
    "    acc = accuracy_score(y_test, y_pred)\n",
    "    ret_sum = calculate_returns(test_ret, y_pred)\n",
    "    \n",
    "    param = {\n",
    "        'accuracy':acc,\n",
    "        'date': df.index[-1],\n",
    "        'best_params': best_params,\n",
    "        'features': best_estimator.steps[-1][1].feature_importances_,\n",
    "        'ret_sum': ret_sum\n",
    "    }\n",
    "    test_params.append(param)"
   ]
  },
  {
   "cell_type": "code",
   "execution_count": null,
   "metadata": {},
   "outputs": [
    {
     "name": "stdout",
     "output_type": "stream",
     "text": [
      "====================================================================================================\n",
      "From 2004-10-03 00:00:00 to 2007-11-25 00:00:00\n",
      "Split result before upsampling: 165 -> 150 + 5\n",
      "---\n",
      "Distribution:\n",
      "Neg    158\n",
      "Pos     56\n",
      "Name: Return, dtype: int64\n",
      "---\n",
      "Distribution:\n",
      "Neg    5\n",
      "Name: Return, dtype: int64\n"
     ]
    },
    {
     "name": "stderr",
     "output_type": "stream",
     "text": [
      "C:\\DEV\\Anaconda3\\envs\\trading\\lib\\site-packages\\sklearn\\metrics\\classification.py:1135: UndefinedMetricWarning: Precision and F-score are ill-defined and being set to 0.0 in labels with no predicted samples.\n",
      "  'precision', 'predicted', average, warn_for)\n",
      "C:\\DEV\\Anaconda3\\envs\\trading\\lib\\site-packages\\sklearn\\metrics\\classification.py:1137: UndefinedMetricWarning: Recall and F-score are ill-defined and being set to 0.0 in labels with no true samples.\n",
      "  'recall', 'true', average, warn_for)\n"
     ]
    },
    {
     "name": "stdout",
     "output_type": "stream",
     "text": [
      "---\n",
      "Classification report\n",
      "              precision    recall  f1-score   support\n",
      "\n",
      "        Neg       0.00      0.00      0.00         5\n",
      "        Pos       0.00      0.00      0.00         0\n",
      "\n",
      "avg / total       0.00      0.00      0.00         5\n",
      "\n",
      "---\n",
      "Confusion matrix\n",
      " [[0 5]\n",
      " [0 0]]\n",
      "-26.749050570314992 [long] + 0.0 [short] = -26.749050570314992\n",
      "====================================================================================================\n",
      "From 2004-11-07 00:00:00 to 2007-12-30 00:00:00\n",
      "Split result before upsampling: 165 -> 150 + 5\n",
      "---\n",
      "Distribution:\n",
      "Neg    163\n",
      "Pos     51\n",
      "Name: Return, dtype: int64\n",
      "---\n",
      "Distribution:\n",
      "Neg    5\n",
      "Name: Return, dtype: int64\n"
     ]
    },
    {
     "name": "stderr",
     "output_type": "stream",
     "text": [
      "C:\\DEV\\Anaconda3\\envs\\trading\\lib\\site-packages\\sklearn\\metrics\\classification.py:1135: UndefinedMetricWarning: Precision and F-score are ill-defined and being set to 0.0 in labels with no predicted samples.\n",
      "  'precision', 'predicted', average, warn_for)\n",
      "C:\\DEV\\Anaconda3\\envs\\trading\\lib\\site-packages\\sklearn\\metrics\\classification.py:1137: UndefinedMetricWarning: Recall and F-score are ill-defined and being set to 0.0 in labels with no true samples.\n",
      "  'recall', 'true', average, warn_for)\n"
     ]
    },
    {
     "name": "stdout",
     "output_type": "stream",
     "text": [
      "---\n",
      "Classification report\n",
      "              precision    recall  f1-score   support\n",
      "\n",
      "        Neg       0.00      0.00      0.00         5\n",
      "        Pos       0.00      0.00      0.00         0\n",
      "\n",
      "avg / total       0.00      0.00      0.00         5\n",
      "\n",
      "---\n",
      "Confusion matrix\n",
      " [[0 5]\n",
      " [0 0]]\n",
      "-39.278744205679644 [long] + 0.0 [short] = -39.278744205679644\n",
      "====================================================================================================\n",
      "From 2004-12-12 00:00:00 to 2008-02-03 00:00:00\n",
      "Split result before upsampling: 165 -> 150 + 5\n",
      "---\n",
      "Distribution:\n",
      "Neg    164\n",
      "Pos     50\n",
      "Name: Return, dtype: int64\n",
      "---\n",
      "Distribution:\n",
      "Neg    5\n",
      "Name: Return, dtype: int64\n",
      "---\n",
      "Classification report\n",
      "              precision    recall  f1-score   support\n",
      "\n",
      "        Neg       1.00      1.00      1.00         5\n",
      "\n",
      "avg / total       1.00      1.00      1.00         5\n",
      "\n",
      "---\n",
      "Confusion matrix\n",
      " [[5]]\n",
      "0.0 [long] + 36.629858296821894 [short] = 36.629858296821894\n",
      "====================================================================================================\n",
      "From 2005-01-16 00:00:00 to 2008-03-09 00:00:00\n",
      "Split result before upsampling: 165 -> 150 + 5\n",
      "---\n",
      "Distribution:\n",
      "Neg    168\n",
      "Pos     46\n",
      "Name: Return, dtype: int64\n",
      "---\n",
      "Distribution:\n",
      "Pos    3\n",
      "Neg    2\n",
      "Name: Return, dtype: int64\n"
     ]
    },
    {
     "name": "stderr",
     "output_type": "stream",
     "text": [
      "C:\\DEV\\Anaconda3\\envs\\trading\\lib\\site-packages\\sklearn\\metrics\\classification.py:1135: UndefinedMetricWarning: Precision and F-score are ill-defined and being set to 0.0 in labels with no predicted samples.\n",
      "  'precision', 'predicted', average, warn_for)\n"
     ]
    },
    {
     "name": "stdout",
     "output_type": "stream",
     "text": [
      "---\n",
      "Classification report\n",
      "              precision    recall  f1-score   support\n",
      "\n",
      "        Neg       0.40      1.00      0.57         2\n",
      "        Pos       0.00      0.00      0.00         3\n",
      "\n",
      "avg / total       0.16      0.40      0.23         5\n",
      "\n",
      "---\n",
      "Confusion matrix\n",
      " [[2 0]\n",
      " [3 0]]\n",
      "0.0 [long] + -2.810310823709461 [short] = -2.810310823709461\n",
      "====================================================================================================\n",
      "From 2005-02-20 00:00:00 to 2008-04-13 00:00:00\n",
      "Split result before upsampling: 165 -> 150 + 5\n",
      "---\n",
      "Distribution:\n",
      "Neg    172\n",
      "Pos     42\n",
      "Name: Return, dtype: int64\n",
      "---\n",
      "Distribution:\n",
      "Pos    5\n",
      "Name: Return, dtype: int64\n"
     ]
    },
    {
     "name": "stderr",
     "output_type": "stream",
     "text": [
      "C:\\DEV\\Anaconda3\\envs\\trading\\lib\\site-packages\\sklearn\\metrics\\classification.py:1135: UndefinedMetricWarning: Precision and F-score are ill-defined and being set to 0.0 in labels with no predicted samples.\n",
      "  'precision', 'predicted', average, warn_for)\n",
      "C:\\DEV\\Anaconda3\\envs\\trading\\lib\\site-packages\\sklearn\\metrics\\classification.py:1137: UndefinedMetricWarning: Recall and F-score are ill-defined and being set to 0.0 in labels with no true samples.\n",
      "  'recall', 'true', average, warn_for)\n"
     ]
    },
    {
     "name": "stdout",
     "output_type": "stream",
     "text": [
      "---\n",
      "Classification report\n",
      "              precision    recall  f1-score   support\n",
      "\n",
      "        Neg       0.00      0.00      0.00         0\n",
      "        Pos       0.00      0.00      0.00         5\n",
      "\n",
      "avg / total       0.00      0.00      0.00         5\n",
      "\n",
      "---\n",
      "Confusion matrix\n",
      " [[0 0]\n",
      " [5 0]]\n",
      "0.0 [long] + -50.550843025482074 [short] = -50.550843025482074\n",
      "====================================================================================================\n",
      "From 2005-03-27 00:00:00 to 2008-05-18 00:00:00\n",
      "Split result before upsampling: 165 -> 150 + 5\n",
      "---\n",
      "Distribution:\n",
      "Neg    174\n",
      "Pos     40\n",
      "Name: Return, dtype: int64\n",
      "---\n",
      "Distribution:\n",
      "Pos    5\n",
      "Name: Return, dtype: int64\n"
     ]
    },
    {
     "name": "stderr",
     "output_type": "stream",
     "text": [
      "C:\\DEV\\Anaconda3\\envs\\trading\\lib\\site-packages\\sklearn\\metrics\\classification.py:1137: UndefinedMetricWarning: Recall and F-score are ill-defined and being set to 0.0 in labels with no true samples.\n",
      "  'recall', 'true', average, warn_for)\n"
     ]
    },
    {
     "name": "stdout",
     "output_type": "stream",
     "text": [
      "---\n",
      "Classification report\n",
      "              precision    recall  f1-score   support\n",
      "\n",
      "        Neg       0.00      0.00      0.00         0\n",
      "        Pos       1.00      0.20      0.33         5\n",
      "\n",
      "avg / total       1.00      0.20      0.33         5\n",
      "\n",
      "---\n",
      "Confusion matrix\n",
      " [[0 0]\n",
      " [4 1]]\n",
      "14.390270625616285 [long] + -31.80323947628947 [short] = -17.412968850673185\n",
      "====================================================================================================\n",
      "From 2005-05-01 00:00:00 to 2008-06-22 00:00:00\n",
      "Split result before upsampling: 165 -> 150 + 5\n",
      "---\n",
      "Distribution:\n",
      "Neg    166\n",
      "Pos     48\n",
      "Name: Return, dtype: int64\n",
      "---\n",
      "Distribution:\n",
      "Pos    5\n",
      "Name: Return, dtype: int64\n"
     ]
    },
    {
     "name": "stderr",
     "output_type": "stream",
     "text": [
      "C:\\DEV\\Anaconda3\\envs\\trading\\lib\\site-packages\\sklearn\\metrics\\classification.py:1135: UndefinedMetricWarning: Precision and F-score are ill-defined and being set to 0.0 in labels with no predicted samples.\n",
      "  'precision', 'predicted', average, warn_for)\n",
      "C:\\DEV\\Anaconda3\\envs\\trading\\lib\\site-packages\\sklearn\\metrics\\classification.py:1137: UndefinedMetricWarning: Recall and F-score are ill-defined and being set to 0.0 in labels with no true samples.\n",
      "  'recall', 'true', average, warn_for)\n"
     ]
    },
    {
     "name": "stdout",
     "output_type": "stream",
     "text": [
      "---\n",
      "Classification report\n",
      "              precision    recall  f1-score   support\n",
      "\n",
      "        Neg       0.00      0.00      0.00         0\n",
      "        Pos       0.00      0.00      0.00         5\n",
      "\n",
      "avg / total       0.00      0.00      0.00         5\n",
      "\n",
      "---\n",
      "Confusion matrix\n",
      " [[0 0]\n",
      " [5 0]]\n",
      "0.0 [long] + -28.3932975527458 [short] = -28.3932975527458\n",
      "====================================================================================================\n",
      "From 2005-06-05 00:00:00 to 2008-07-27 00:00:00\n",
      "Split result before upsampling: 165 -> 150 + 5\n",
      "---\n",
      "Distribution:\n",
      "Neg    148\n",
      "Pos     66\n",
      "Name: Return, dtype: int64\n",
      "---\n",
      "Distribution:\n",
      "Pos    5\n",
      "Name: Return, dtype: int64\n"
     ]
    },
    {
     "name": "stderr",
     "output_type": "stream",
     "text": [
      "C:\\DEV\\Anaconda3\\envs\\trading\\lib\\site-packages\\sklearn\\metrics\\classification.py:1135: UndefinedMetricWarning: Precision and F-score are ill-defined and being set to 0.0 in labels with no predicted samples.\n",
      "  'precision', 'predicted', average, warn_for)\n",
      "C:\\DEV\\Anaconda3\\envs\\trading\\lib\\site-packages\\sklearn\\metrics\\classification.py:1137: UndefinedMetricWarning: Recall and F-score are ill-defined and being set to 0.0 in labels with no true samples.\n",
      "  'recall', 'true', average, warn_for)\n"
     ]
    },
    {
     "name": "stdout",
     "output_type": "stream",
     "text": [
      "---\n",
      "Classification report\n",
      "              precision    recall  f1-score   support\n",
      "\n",
      "        Neg       0.00      0.00      0.00         0\n",
      "        Pos       0.00      0.00      0.00         5\n",
      "\n",
      "avg / total       0.00      0.00      0.00         5\n",
      "\n",
      "---\n",
      "Confusion matrix\n",
      " [[0 0]\n",
      " [5 0]]\n",
      "0.0 [long] + -38.13165915107959 [short] = -38.13165915107959\n",
      "====================================================================================================\n",
      "From 2005-07-10 00:00:00 to 2008-08-31 00:00:00\n",
      "Split result before upsampling: 165 -> 150 + 5\n",
      "---\n",
      "Distribution:\n",
      "Neg    132\n",
      "Pos     82\n",
      "Name: Return, dtype: int64\n",
      "---\n",
      "Distribution:\n",
      "Pos    5\n",
      "Name: Return, dtype: int64\n"
     ]
    },
    {
     "name": "stderr",
     "output_type": "stream",
     "text": [
      "C:\\DEV\\Anaconda3\\envs\\trading\\lib\\site-packages\\sklearn\\metrics\\classification.py:1135: UndefinedMetricWarning: Precision and F-score are ill-defined and being set to 0.0 in labels with no predicted samples.\n",
      "  'precision', 'predicted', average, warn_for)\n",
      "C:\\DEV\\Anaconda3\\envs\\trading\\lib\\site-packages\\sklearn\\metrics\\classification.py:1137: UndefinedMetricWarning: Recall and F-score are ill-defined and being set to 0.0 in labels with no true samples.\n",
      "  'recall', 'true', average, warn_for)\n"
     ]
    },
    {
     "name": "stdout",
     "output_type": "stream",
     "text": [
      "---\n",
      "Classification report\n",
      "              precision    recall  f1-score   support\n",
      "\n",
      "        Neg       0.00      0.00      0.00         0\n",
      "        Pos       0.00      0.00      0.00         5\n",
      "\n",
      "avg / total       0.00      0.00      0.00         5\n",
      "\n",
      "---\n",
      "Confusion matrix\n",
      " [[0 0]\n",
      " [5 0]]\n",
      "0.0 [long] + -129.06331886148686 [short] = -129.06331886148686\n",
      "====================================================================================================\n",
      "From 2005-08-14 00:00:00 to 2008-10-05 00:00:00\n",
      "Split result before upsampling: 165 -> 150 + 5\n",
      "---\n",
      "Distribution:\n",
      "Neg    117\n",
      "Pos     97\n",
      "Name: Return, dtype: int64\n",
      "---\n",
      "Distribution:\n",
      "Pos    5\n",
      "Name: Return, dtype: int64\n"
     ]
    },
    {
     "name": "stderr",
     "output_type": "stream",
     "text": [
      "C:\\DEV\\Anaconda3\\envs\\trading\\lib\\site-packages\\sklearn\\metrics\\classification.py:1137: UndefinedMetricWarning: Recall and F-score are ill-defined and being set to 0.0 in labels with no true samples.\n",
      "  'recall', 'true', average, warn_for)\n"
     ]
    },
    {
     "name": "stdout",
     "output_type": "stream",
     "text": [
      "---\n",
      "Classification report\n",
      "              precision    recall  f1-score   support\n",
      "\n",
      "        Neg       0.00      0.00      0.00         0\n",
      "        Pos       1.00      0.80      0.89         5\n",
      "\n",
      "avg / total       1.00      0.80      0.89         5\n",
      "\n",
      "---\n",
      "Confusion matrix\n",
      " [[0 0]\n",
      " [1 4]]\n",
      "80.50321224857598 [long] + -28.910749013462222 [short] = 51.592463235113755\n",
      "====================================================================================================\n",
      "From 2005-09-18 00:00:00 to 2008-11-09 00:00:00\n",
      "Split result before upsampling: 165 -> 150 + 5\n",
      "---\n",
      "Distribution:\n",
      "Neg    108\n",
      "Pos    106\n",
      "Name: Return, dtype: int64\n",
      "---\n",
      "Distribution:\n",
      "Neg    4\n",
      "Pos    1\n",
      "Name: Return, dtype: int64\n"
     ]
    },
    {
     "name": "stderr",
     "output_type": "stream",
     "text": [
      "C:\\DEV\\Anaconda3\\envs\\trading\\lib\\site-packages\\sklearn\\metrics\\classification.py:1135: UndefinedMetricWarning: Precision and F-score are ill-defined and being set to 0.0 in labels with no predicted samples.\n",
      "  'precision', 'predicted', average, warn_for)\n"
     ]
    },
    {
     "name": "stdout",
     "output_type": "stream",
     "text": [
      "---\n",
      "Classification report\n",
      "              precision    recall  f1-score   support\n",
      "\n",
      "        Neg       0.00      0.00      0.00         4\n",
      "        Pos       0.20      1.00      0.33         1\n",
      "\n",
      "avg / total       0.04      0.20      0.07         5\n",
      "\n",
      "---\n",
      "Confusion matrix\n",
      " [[0 4]\n",
      " [0 1]]\n",
      "-13.817644814413466 [long] + 0.0 [short] = -13.817644814413466\n",
      "====================================================================================================\n",
      "From 2005-10-23 00:00:00 to 2008-12-14 00:00:00\n",
      "Split result before upsampling: 165 -> 150 + 5\n",
      "---\n",
      "Distribution:\n",
      "Pos    116\n",
      "Neg     98\n",
      "Name: Return, dtype: int64\n",
      "---\n",
      "Distribution:\n",
      "Neg    5\n",
      "Name: Return, dtype: int64\n"
     ]
    },
    {
     "name": "stderr",
     "output_type": "stream",
     "text": [
      "C:\\DEV\\Anaconda3\\envs\\trading\\lib\\site-packages\\sklearn\\metrics\\classification.py:1135: UndefinedMetricWarning: Precision and F-score are ill-defined and being set to 0.0 in labels with no predicted samples.\n",
      "  'precision', 'predicted', average, warn_for)\n",
      "C:\\DEV\\Anaconda3\\envs\\trading\\lib\\site-packages\\sklearn\\metrics\\classification.py:1137: UndefinedMetricWarning: Recall and F-score are ill-defined and being set to 0.0 in labels with no true samples.\n",
      "  'recall', 'true', average, warn_for)\n"
     ]
    },
    {
     "name": "stdout",
     "output_type": "stream",
     "text": [
      "---\n",
      "Classification report\n",
      "              precision    recall  f1-score   support\n",
      "\n",
      "        Neg       0.00      0.00      0.00         5\n",
      "        Pos       0.00      0.00      0.00         0\n",
      "\n",
      "avg / total       0.00      0.00      0.00         5\n",
      "\n",
      "---\n",
      "Confusion matrix\n",
      " [[0 5]\n",
      " [0 0]]\n",
      "-37.01047659522095 [long] + 0.0 [short] = -37.01047659522095\n",
      "====================================================================================================\n",
      "From 2005-11-27 00:00:00 to 2009-01-18 00:00:00\n",
      "Split result before upsampling: 165 -> 150 + 5\n",
      "---\n",
      "Distribution:\n",
      "Pos    125\n",
      "Neg     89\n",
      "Name: Return, dtype: int64\n",
      "---\n",
      "Distribution:\n",
      "Neg    5\n",
      "Name: Return, dtype: int64\n"
     ]
    },
    {
     "name": "stderr",
     "output_type": "stream",
     "text": [
      "C:\\DEV\\Anaconda3\\envs\\trading\\lib\\site-packages\\sklearn\\metrics\\classification.py:1135: UndefinedMetricWarning: Precision and F-score are ill-defined and being set to 0.0 in labels with no predicted samples.\n",
      "  'precision', 'predicted', average, warn_for)\n",
      "C:\\DEV\\Anaconda3\\envs\\trading\\lib\\site-packages\\sklearn\\metrics\\classification.py:1137: UndefinedMetricWarning: Recall and F-score are ill-defined and being set to 0.0 in labels with no true samples.\n",
      "  'recall', 'true', average, warn_for)\n"
     ]
    },
    {
     "name": "stdout",
     "output_type": "stream",
     "text": [
      "---\n",
      "Classification report\n",
      "              precision    recall  f1-score   support\n",
      "\n",
      "        Neg       0.00      0.00      0.00         5\n",
      "        Pos       0.00      0.00      0.00         0\n",
      "\n",
      "avg / total       0.00      0.00      0.00         5\n",
      "\n",
      "---\n",
      "Confusion matrix\n",
      " [[0 5]\n",
      " [0 0]]\n",
      "-29.663074036683554 [long] + 0.0 [short] = -29.663074036683554\n",
      "====================================================================================================\n",
      "From 2006-01-01 00:00:00 to 2009-02-22 00:00:00\n",
      "Split result before upsampling: 165 -> 150 + 5\n",
      "---\n",
      "Distribution:\n",
      "Pos    113\n",
      "Neg    101\n",
      "Name: Return, dtype: int64\n",
      "---\n",
      "Distribution:\n",
      "Neg    4\n",
      "Pos    1\n",
      "Name: Return, dtype: int64\n"
     ]
    },
    {
     "name": "stderr",
     "output_type": "stream",
     "text": [
      "C:\\DEV\\Anaconda3\\envs\\trading\\lib\\site-packages\\sklearn\\metrics\\classification.py:1135: UndefinedMetricWarning: Precision and F-score are ill-defined and being set to 0.0 in labels with no predicted samples.\n",
      "  'precision', 'predicted', average, warn_for)\n"
     ]
    },
    {
     "name": "stdout",
     "output_type": "stream",
     "text": [
      "---\n",
      "Classification report\n",
      "              precision    recall  f1-score   support\n",
      "\n",
      "        Neg       0.00      0.00      0.00         4\n",
      "        Pos       0.20      1.00      0.33         1\n",
      "\n",
      "avg / total       0.04      0.20      0.07         5\n",
      "\n",
      "---\n",
      "Confusion matrix\n",
      " [[0 4]\n",
      " [0 1]]\n",
      "-22.937151452612394 [long] + 0.0 [short] = -22.937151452612394\n",
      "====================================================================================================\n",
      "From 2006-02-05 00:00:00 to 2009-03-29 00:00:00\n",
      "Split result before upsampling: 165 -> 150 + 5\n",
      "---\n",
      "Distribution:\n",
      "Neg    118\n",
      "Pos     96\n",
      "Name: Return, dtype: int64\n",
      "---\n",
      "Distribution:\n",
      "Neg    5\n",
      "Name: Return, dtype: int64\n"
     ]
    },
    {
     "name": "stderr",
     "output_type": "stream",
     "text": [
      "C:\\DEV\\Anaconda3\\envs\\trading\\lib\\site-packages\\sklearn\\metrics\\classification.py:1137: UndefinedMetricWarning: Recall and F-score are ill-defined and being set to 0.0 in labels with no true samples.\n",
      "  'recall', 'true', average, warn_for)\n"
     ]
    },
    {
     "name": "stdout",
     "output_type": "stream",
     "text": [
      "---\n",
      "Classification report\n",
      "              precision    recall  f1-score   support\n",
      "\n",
      "        Neg       1.00      0.20      0.33         5\n",
      "        Pos       0.00      0.00      0.00         0\n",
      "\n",
      "avg / total       1.00      0.20      0.33         5\n",
      "\n",
      "---\n",
      "Confusion matrix\n",
      " [[1 4]\n",
      " [0 0]]\n",
      "-22.767442243962567 [long] + 1.1117898594990794 [short] = -21.655652384463487\n",
      "====================================================================================================\n",
      "From 2006-03-12 00:00:00 to 2009-05-03 00:00:00\n",
      "Split result before upsampling: 165 -> 150 + 5\n",
      "---\n",
      "Distribution:\n",
      "Neg    129\n",
      "Pos     85\n",
      "Name: Return, dtype: int64\n",
      "---\n",
      "Distribution:\n",
      "Neg    5\n",
      "Name: Return, dtype: int64\n",
      "---\n",
      "Classification report\n",
      "              precision    recall  f1-score   support\n",
      "\n",
      "        Neg       1.00      1.00      1.00         5\n",
      "\n",
      "avg / total       1.00      1.00      1.00         5\n",
      "\n",
      "---\n",
      "Confusion matrix\n",
      " [[5]]\n",
      "0.0 [long] + 33.715182335764695 [short] = 33.715182335764695\n",
      "====================================================================================================\n",
      "From 2006-04-16 00:00:00 to 2009-06-07 00:00:00\n",
      "Split result before upsampling: 165 -> 150 + 5\n",
      "---\n",
      "Distribution:\n",
      "Neg    137\n",
      "Pos     77\n",
      "Name: Return, dtype: int64\n",
      "---\n",
      "Distribution:\n",
      "Neg    5\n",
      "Name: Return, dtype: int64\n"
     ]
    },
    {
     "name": "stderr",
     "output_type": "stream",
     "text": [
      "C:\\DEV\\Anaconda3\\envs\\trading\\lib\\site-packages\\sklearn\\metrics\\classification.py:1137: UndefinedMetricWarning: Recall and F-score are ill-defined and being set to 0.0 in labels with no true samples.\n",
      "  'recall', 'true', average, warn_for)\n"
     ]
    },
    {
     "name": "stdout",
     "output_type": "stream",
     "text": [
      "---\n",
      "Classification report\n",
      "              precision    recall  f1-score   support\n",
      "\n",
      "        Neg       1.00      0.20      0.33         5\n",
      "        Pos       0.00      0.00      0.00         0\n",
      "\n",
      "avg / total       1.00      0.20      0.33         5\n",
      "\n",
      "---\n",
      "Confusion matrix\n",
      " [[1 4]\n",
      " [0 0]]\n",
      "-16.252301233316913 [long] + 2.620989092449433 [short] = -13.63131214086748\n",
      "====================================================================================================\n",
      "From 2006-05-21 00:00:00 to 2009-07-12 00:00:00\n",
      "Split result before upsampling: 165 -> 150 + 5\n",
      "---\n",
      "Distribution:\n",
      "Neg    147\n",
      "Pos     67\n",
      "Name: Return, dtype: int64\n",
      "---\n",
      "Distribution:\n",
      "Pos    3\n",
      "Neg    2\n",
      "Name: Return, dtype: int64\n",
      "---\n",
      "Classification report\n",
      "              precision    recall  f1-score   support\n",
      "\n",
      "        Neg       1.00      0.50      0.67         2\n",
      "        Pos       0.75      1.00      0.86         3\n",
      "\n",
      "avg / total       0.85      0.80      0.78         5\n",
      "\n",
      "---\n",
      "Confusion matrix\n",
      " [[1 1]\n",
      " [0 3]]\n",
      "8.410470225380939 [long] + 3.0381096206804736 [short] = 11.448579846061413\n",
      "====================================================================================================\n",
      "From 2006-06-25 00:00:00 to 2009-08-16 00:00:00\n",
      "Split result before upsampling: 165 -> 150 + 5\n",
      "---\n",
      "Distribution:\n",
      "Neg    156\n",
      "Pos     58\n",
      "Name: Return, dtype: int64\n",
      "---\n",
      "Distribution:\n",
      "Pos    4\n",
      "Neg    1\n",
      "Name: Return, dtype: int64\n",
      "---\n",
      "Classification report\n",
      "              precision    recall  f1-score   support\n",
      "\n",
      "        Neg       0.25      1.00      0.40         1\n",
      "        Pos       1.00      0.25      0.40         4\n",
      "\n",
      "avg / total       0.85      0.40      0.40         5\n",
      "\n",
      "---\n",
      "Confusion matrix\n",
      " [[1 0]\n",
      " [3 1]]\n",
      "2.5185463423795573 [long] + -2.7861727924311075 [short] = -0.26762645005155017\n",
      "====================================================================================================\n",
      "From 2006-07-30 00:00:00 to 2009-09-20 00:00:00\n",
      "Split result before upsampling: 165 -> 150 + 5\n",
      "---\n",
      "Distribution:\n",
      "Neg    162\n",
      "Pos     52\n",
      "Name: Return, dtype: int64\n",
      "---\n",
      "Distribution:\n",
      "Neg    5\n",
      "Name: Return, dtype: int64\n",
      "---\n",
      "Classification report\n",
      "              precision    recall  f1-score   support\n",
      "\n",
      "        Neg       1.00      1.00      1.00         5\n",
      "\n",
      "avg / total       1.00      1.00      1.00         5\n",
      "\n",
      "---\n",
      "Confusion matrix\n",
      " [[5]]\n",
      "0.0 [long] + 35.51544383697663 [short] = 35.51544383697663\n",
      "====================================================================================================\n",
      "From 2006-09-03 00:00:00 to 2009-10-25 00:00:00\n",
      "Split result before upsampling: 165 -> 150 + 5\n",
      "---\n",
      "Distribution:\n",
      "Neg    154\n",
      "Pos     60\n",
      "Name: Return, dtype: int64\n",
      "---\n",
      "Distribution:\n",
      "Neg    5\n",
      "Name: Return, dtype: int64\n",
      "---\n",
      "Classification report\n",
      "              precision    recall  f1-score   support\n",
      "\n",
      "        Neg       1.00      1.00      1.00         5\n",
      "\n",
      "avg / total       1.00      1.00      1.00         5\n",
      "\n",
      "---\n",
      "Confusion matrix\n",
      " [[5]]\n",
      "0.0 [long] + 39.46309165285964 [short] = 39.46309165285964\n",
      "====================================================================================================\n",
      "From 2006-10-08 00:00:00 to 2009-11-29 00:00:00\n",
      "Split result before upsampling: 165 -> 150 + 5\n",
      "---\n",
      "Distribution:\n",
      "Neg    138\n",
      "Pos     76\n",
      "Name: Return, dtype: int64\n",
      "---\n",
      "Distribution:\n",
      "Pos    3\n",
      "Neg    2\n",
      "Name: Return, dtype: int64\n",
      "---\n",
      "Classification report\n",
      "              precision    recall  f1-score   support\n",
      "\n",
      "        Neg       0.50      1.00      0.67         2\n",
      "        Pos       1.00      0.33      0.50         3\n",
      "\n",
      "avg / total       0.80      0.60      0.57         5\n",
      "\n",
      "---\n",
      "Confusion matrix\n",
      " [[2 0]\n",
      " [2 1]]\n",
      "9.18398378104408 [long] + 7.846326406626003 [short] = 17.030310187670082\n",
      "====================================================================================================\n",
      "From 2006-11-12 00:00:00 to 2010-01-03 00:00:00\n",
      "Split result before upsampling: 165 -> 150 + 5\n",
      "---\n",
      "Distribution:\n",
      "Neg    145\n",
      "Pos     69\n",
      "Name: Return, dtype: int64\n",
      "---\n",
      "Distribution:\n",
      "Pos    5\n",
      "Name: Return, dtype: int64\n",
      "---\n",
      "Classification report\n",
      "              precision    recall  f1-score   support\n",
      "\n",
      "        Pos       1.00      1.00      1.00         5\n",
      "\n",
      "avg / total       1.00      1.00      1.00         5\n",
      "\n",
      "---\n",
      "Confusion matrix\n",
      " [[5]]\n",
      "18.647514073118 [long] + 0.0 [short] = 18.647514073118\n",
      "====================================================================================================\n",
      "From 2006-12-17 00:00:00 to 2010-02-07 00:00:00\n",
      "Split result before upsampling: 165 -> 150 + 5\n",
      "---\n",
      "Distribution:\n",
      "Neg    154\n",
      "Pos     60\n",
      "Name: Return, dtype: int64\n",
      "---\n",
      "Distribution:\n",
      "Pos    3\n",
      "Neg    2\n",
      "Name: Return, dtype: int64\n"
     ]
    },
    {
     "name": "stderr",
     "output_type": "stream",
     "text": [
      "C:\\DEV\\Anaconda3\\envs\\trading\\lib\\site-packages\\sklearn\\metrics\\classification.py:1135: UndefinedMetricWarning: Precision and F-score are ill-defined and being set to 0.0 in labels with no predicted samples.\n",
      "  'precision', 'predicted', average, warn_for)\n"
     ]
    },
    {
     "name": "stdout",
     "output_type": "stream",
     "text": [
      "---\n",
      "Classification report\n",
      "              precision    recall  f1-score   support\n",
      "\n",
      "        Neg       0.00      0.00      0.00         2\n",
      "        Pos       0.60      1.00      0.75         3\n",
      "\n",
      "avg / total       0.36      0.60      0.45         5\n",
      "\n",
      "---\n",
      "Confusion matrix\n",
      " [[0 2]\n",
      " [0 3]]\n",
      "15.166121926221809 [long] + 0.0 [short] = 15.166121926221809\n",
      "====================================================================================================\n",
      "From 2007-01-21 00:00:00 to 2010-03-14 00:00:00\n",
      "Split result before upsampling: 165 -> 150 + 5\n",
      "---\n",
      "Distribution:\n",
      "Neg    150\n",
      "Pos     64\n",
      "Name: Return, dtype: int64\n",
      "---\n",
      "Distribution:\n",
      "Pos    3\n",
      "Neg    2\n",
      "Name: Return, dtype: int64\n",
      "---\n",
      "Classification report\n",
      "              precision    recall  f1-score   support\n",
      "\n",
      "        Neg       0.00      0.00      0.00         2\n",
      "        Pos       0.50      0.67      0.57         3\n",
      "\n",
      "avg / total       0.30      0.40      0.34         5\n",
      "\n",
      "---\n",
      "Confusion matrix\n",
      " [[0 2]\n",
      " [1 2]]\n",
      "3.0474289418316425 [long] + -4.9734427812650805 [short] = -1.926013839433438\n",
      "====================================================================================================\n",
      "From 2007-02-25 00:00:00 to 2010-04-18 00:00:00\n",
      "Split result before upsampling: 165 -> 150 + 5\n",
      "---\n",
      "Distribution:\n",
      "Neg    132\n",
      "Pos     82\n",
      "Name: Return, dtype: int64\n",
      "---\n",
      "Distribution:\n",
      "Pos    5\n",
      "Name: Return, dtype: int64\n"
     ]
    },
    {
     "name": "stderr",
     "output_type": "stream",
     "text": [
      "C:\\DEV\\Anaconda3\\envs\\trading\\lib\\site-packages\\sklearn\\metrics\\classification.py:1137: UndefinedMetricWarning: Recall and F-score are ill-defined and being set to 0.0 in labels with no true samples.\n",
      "  'recall', 'true', average, warn_for)\n"
     ]
    },
    {
     "name": "stdout",
     "output_type": "stream",
     "text": [
      "---\n",
      "Classification report\n",
      "              precision    recall  f1-score   support\n",
      "\n",
      "        Neg       0.00      0.00      0.00         0\n",
      "        Pos       1.00      0.40      0.57         5\n",
      "\n",
      "avg / total       1.00      0.40      0.57         5\n",
      "\n",
      "---\n",
      "Confusion matrix\n",
      " [[0 0]\n",
      " [3 2]]\n",
      "1.4707626545763075 [long] + -9.232169746051234 [short] = -7.7614070914749265\n",
      "====================================================================================================\n",
      "From 2007-04-01 00:00:00 to 2010-05-23 00:00:00\n",
      "Split result before upsampling: 165 -> 150 + 5\n",
      "---\n",
      "Distribution:\n",
      "Neg    124\n",
      "Pos     90\n",
      "Name: Return, dtype: int64\n",
      "---\n",
      "Distribution:\n",
      "Neg    3\n",
      "Pos    2\n",
      "Name: Return, dtype: int64\n",
      "---\n",
      "Classification report\n",
      "              precision    recall  f1-score   support\n",
      "\n",
      "        Neg       0.33      0.33      0.33         3\n",
      "        Pos       0.00      0.00      0.00         2\n",
      "\n",
      "avg / total       0.20      0.20      0.20         5\n",
      "\n",
      "---\n",
      "Confusion matrix\n",
      " [[1 2]\n",
      " [2 0]]\n",
      "-6.981377077161444 [long] + -6.4588877970602425 [short] = -13.440264874221686\n",
      "====================================================================================================\n",
      "From 2007-05-06 00:00:00 to 2010-06-27 00:00:00\n",
      "Split result before upsampling: 165 -> 150 + 5\n",
      "---\n",
      "Distribution:\n",
      "Neg    119\n",
      "Pos     95\n",
      "Name: Return, dtype: int64\n",
      "---\n",
      "Distribution:\n",
      "Neg    5\n",
      "Name: Return, dtype: int64\n"
     ]
    },
    {
     "name": "stderr",
     "output_type": "stream",
     "text": [
      "C:\\DEV\\Anaconda3\\envs\\trading\\lib\\site-packages\\sklearn\\metrics\\classification.py:1135: UndefinedMetricWarning: Precision and F-score are ill-defined and being set to 0.0 in labels with no predicted samples.\n",
      "  'precision', 'predicted', average, warn_for)\n",
      "C:\\DEV\\Anaconda3\\envs\\trading\\lib\\site-packages\\sklearn\\metrics\\classification.py:1137: UndefinedMetricWarning: Recall and F-score are ill-defined and being set to 0.0 in labels with no true samples.\n",
      "  'recall', 'true', average, warn_for)\n"
     ]
    },
    {
     "name": "stdout",
     "output_type": "stream",
     "text": [
      "---\n",
      "Classification report\n",
      "              precision    recall  f1-score   support\n",
      "\n",
      "        Neg       0.00      0.00      0.00         5\n",
      "        Pos       0.00      0.00      0.00         0\n",
      "\n",
      "avg / total       0.00      0.00      0.00         5\n",
      "\n",
      "---\n",
      "Confusion matrix\n",
      " [[0 5]\n",
      " [0 0]]\n",
      "-29.13783847968313 [long] + 0.0 [short] = -29.13783847968313\n",
      "====================================================================================================\n",
      "From 2007-06-10 00:00:00 to 2010-08-01 00:00:00\n",
      "Split result before upsampling: 165 -> 150 + 5\n",
      "---\n",
      "Distribution:\n",
      "Neg    111\n",
      "Pos    103\n",
      "Name: Return, dtype: int64\n",
      "---\n",
      "Distribution:\n",
      "Neg    5\n",
      "Name: Return, dtype: int64\n"
     ]
    },
    {
     "name": "stderr",
     "output_type": "stream",
     "text": [
      "C:\\DEV\\Anaconda3\\envs\\trading\\lib\\site-packages\\sklearn\\metrics\\classification.py:1137: UndefinedMetricWarning: Recall and F-score are ill-defined and being set to 0.0 in labels with no true samples.\n",
      "  'recall', 'true', average, warn_for)\n"
     ]
    },
    {
     "name": "stdout",
     "output_type": "stream",
     "text": [
      "---\n",
      "Classification report\n",
      "              precision    recall  f1-score   support\n",
      "\n",
      "        Neg       1.00      0.40      0.57         5\n",
      "        Pos       0.00      0.00      0.00         0\n",
      "\n",
      "avg / total       1.00      0.40      0.57         5\n",
      "\n",
      "---\n",
      "Confusion matrix\n",
      " [[2 3]\n",
      " [0 0]]\n",
      "-23.228641674436833 [long] + 15.093239814237636 [short] = -8.135401860199197\n",
      "====================================================================================================\n",
      "From 2007-07-15 00:00:00 to 2010-09-05 00:00:00\n",
      "Split result before upsampling: 165 -> 150 + 5\n",
      "---\n",
      "Distribution:\n",
      "Neg    113\n",
      "Pos    101\n",
      "Name: Return, dtype: int64\n",
      "---\n",
      "Distribution:\n",
      "Neg    5\n",
      "Name: Return, dtype: int64\n",
      "---\n",
      "Classification report\n",
      "              precision    recall  f1-score   support\n",
      "\n",
      "        Neg       1.00      1.00      1.00         5\n",
      "\n",
      "avg / total       1.00      1.00      1.00         5\n",
      "\n",
      "---\n",
      "Confusion matrix\n",
      " [[5]]\n",
      "0.0 [long] + 21.575716516882615 [short] = 21.575716516882615\n",
      "====================================================================================================\n",
      "From 2007-08-19 00:00:00 to 2010-10-10 00:00:00\n",
      "Split result before upsampling: 165 -> 150 + 5\n",
      "---\n",
      "Distribution:\n",
      "Neg    119\n",
      "Pos     95\n",
      "Name: Return, dtype: int64\n",
      "---\n",
      "Distribution:\n",
      "Neg    5\n",
      "Name: Return, dtype: int64\n",
      "---\n",
      "Classification report\n",
      "              precision    recall  f1-score   support\n",
      "\n",
      "        Neg       1.00      1.00      1.00         5\n",
      "\n",
      "avg / total       1.00      1.00      1.00         5\n",
      "\n",
      "---\n",
      "Confusion matrix\n",
      " [[5]]\n",
      "0.0 [long] + 10.8835840044318 [short] = 10.8835840044318\n",
      "====================================================================================================\n",
      "From 2007-09-23 00:00:00 to 2010-11-14 00:00:00\n",
      "Split result before upsampling: 165 -> 150 + 5\n",
      "---\n",
      "Distribution:\n",
      "Neg    126\n",
      "Pos     88\n",
      "Name: Return, dtype: int64\n",
      "---\n",
      "Distribution:\n",
      "Pos    3\n",
      "Neg    2\n",
      "Name: Return, dtype: int64\n",
      "---\n",
      "Classification report\n",
      "              precision    recall  f1-score   support\n",
      "\n",
      "        Neg       0.25      0.50      0.33         2\n",
      "        Pos       0.00      0.00      0.00         3\n",
      "\n",
      "avg / total       0.10      0.20      0.13         5\n",
      "\n",
      "---\n",
      "Confusion matrix\n",
      " [[1 1]\n",
      " [3 0]]\n",
      "-1.9425781413011767 [long] + -2.6954197945501024 [short] = -4.6379979358512795\n",
      "====================================================================================================\n",
      "From 2007-10-28 00:00:00 to 2010-12-19 00:00:00\n",
      "Split result before upsampling: 165 -> 150 + 5\n",
      "---\n",
      "Distribution:\n",
      "Neg    136\n",
      "Pos     78\n",
      "Name: Return, dtype: int64\n",
      "---\n",
      "Distribution:\n",
      "Neg    3\n",
      "Pos    2\n",
      "Name: Return, dtype: int64\n"
     ]
    },
    {
     "name": "stderr",
     "output_type": "stream",
     "text": [
      "C:\\DEV\\Anaconda3\\envs\\trading\\lib\\site-packages\\sklearn\\metrics\\classification.py:1135: UndefinedMetricWarning: Precision and F-score are ill-defined and being set to 0.0 in labels with no predicted samples.\n",
      "  'precision', 'predicted', average, warn_for)\n"
     ]
    },
    {
     "name": "stdout",
     "output_type": "stream",
     "text": [
      "---\n",
      "Classification report\n",
      "              precision    recall  f1-score   support\n",
      "\n",
      "        Neg       0.60      1.00      0.75         3\n",
      "        Pos       0.00      0.00      0.00         2\n",
      "\n",
      "avg / total       0.36      0.60      0.45         5\n",
      "\n",
      "---\n",
      "Confusion matrix\n",
      " [[3 0]\n",
      " [2 0]]\n",
      "0.0 [long] + 2.437416736601028 [short] = 2.437416736601028\n",
      "====================================================================================================\n",
      "From 2007-12-02 00:00:00 to 2011-01-23 00:00:00\n",
      "Split result before upsampling: 165 -> 150 + 5\n",
      "---\n",
      "Distribution:\n",
      "Neg    141\n",
      "Pos     73\n",
      "Name: Return, dtype: int64\n",
      "---\n",
      "Distribution:\n",
      "Neg    3\n",
      "Pos    2\n",
      "Name: Return, dtype: int64\n",
      "---\n",
      "Classification report\n",
      "              precision    recall  f1-score   support\n",
      "\n",
      "        Neg       0.33      0.33      0.33         3\n",
      "        Pos       0.00      0.00      0.00         2\n",
      "\n",
      "avg / total       0.20      0.20      0.20         5\n",
      "\n",
      "---\n",
      "Confusion matrix\n",
      " [[1 2]\n",
      " [2 0]]\n",
      "-5.669228847839214 [long] + 0.05933011558734158 [short] = -5.609898732251873\n",
      "====================================================================================================\n",
      "From 2008-01-06 00:00:00 to 2011-02-27 00:00:00\n",
      "Split result before upsampling: 165 -> 150 + 5\n",
      "---\n",
      "Distribution:\n",
      "Neg    130\n",
      "Pos     84\n",
      "Name: Return, dtype: int64\n",
      "---\n",
      "Distribution:\n",
      "Neg    5\n",
      "Name: Return, dtype: int64\n"
     ]
    },
    {
     "name": "stderr",
     "output_type": "stream",
     "text": [
      "C:\\DEV\\Anaconda3\\envs\\trading\\lib\\site-packages\\sklearn\\metrics\\classification.py:1137: UndefinedMetricWarning: Recall and F-score are ill-defined and being set to 0.0 in labels with no true samples.\n",
      "  'recall', 'true', average, warn_for)\n"
     ]
    },
    {
     "name": "stdout",
     "output_type": "stream",
     "text": [
      "---\n",
      "Classification report\n",
      "              precision    recall  f1-score   support\n",
      "\n",
      "        Neg       1.00      0.20      0.33         5\n",
      "        Pos       0.00      0.00      0.00         0\n",
      "\n",
      "avg / total       1.00      0.20      0.33         5\n",
      "\n",
      "---\n",
      "Confusion matrix\n",
      " [[1 4]\n",
      " [0 0]]\n",
      "-7.2781124272708775 [long] + 1.766475369615772 [short] = -5.511637057655106\n",
      "====================================================================================================\n",
      "From 2008-02-10 00:00:00 to 2011-04-03 00:00:00\n",
      "Split result before upsampling: 165 -> 150 + 5\n",
      "---\n",
      "Distribution:\n",
      "Neg    127\n",
      "Pos     87\n",
      "Name: Return, dtype: int64\n",
      "---\n",
      "Distribution:\n",
      "Neg    5\n",
      "Name: Return, dtype: int64\n"
     ]
    },
    {
     "name": "stderr",
     "output_type": "stream",
     "text": [
      "C:\\DEV\\Anaconda3\\envs\\trading\\lib\\site-packages\\sklearn\\metrics\\classification.py:1137: UndefinedMetricWarning: Recall and F-score are ill-defined and being set to 0.0 in labels with no true samples.\n",
      "  'recall', 'true', average, warn_for)\n"
     ]
    },
    {
     "name": "stdout",
     "output_type": "stream",
     "text": [
      "---\n",
      "Classification report\n",
      "              precision    recall  f1-score   support\n",
      "\n",
      "        Neg       1.00      0.40      0.57         5\n",
      "        Pos       0.00      0.00      0.00         0\n",
      "\n",
      "avg / total       1.00      0.40      0.57         5\n",
      "\n",
      "---\n",
      "Confusion matrix\n",
      " [[2 3]\n",
      " [0 0]]\n",
      "-7.860421401714491 [long] + 3.0880830030788786 [short] = -4.772338398635612\n",
      "====================================================================================================\n",
      "From 2008-03-16 00:00:00 to 2011-05-08 00:00:00\n",
      "Split result before upsampling: 165 -> 150 + 5\n",
      "---\n",
      "Distribution:\n",
      "Neg    130\n",
      "Pos     84\n",
      "Name: Return, dtype: int64\n",
      "---\n",
      "Distribution:\n",
      "Pos    3\n",
      "Neg    2\n",
      "Name: Return, dtype: int64\n"
     ]
    },
    {
     "name": "stderr",
     "output_type": "stream",
     "text": [
      "C:\\DEV\\Anaconda3\\envs\\trading\\lib\\site-packages\\sklearn\\metrics\\classification.py:1135: UndefinedMetricWarning: Precision and F-score are ill-defined and being set to 0.0 in labels with no predicted samples.\n",
      "  'precision', 'predicted', average, warn_for)\n"
     ]
    },
    {
     "name": "stdout",
     "output_type": "stream",
     "text": [
      "---\n",
      "Classification report\n",
      "              precision    recall  f1-score   support\n",
      "\n",
      "        Neg       0.40      1.00      0.57         2\n",
      "        Pos       0.00      0.00      0.00         3\n",
      "\n",
      "avg / total       0.16      0.40      0.23         5\n",
      "\n",
      "---\n",
      "Confusion matrix\n",
      " [[2 0]\n",
      " [3 0]]\n",
      "0.0 [long] + -0.006046244786805932 [short] = -0.006046244786805932\n",
      "====================================================================================================\n",
      "From 2008-04-20 00:00:00 to 2011-06-12 00:00:00\n",
      "Split result before upsampling: 165 -> 150 + 5\n",
      "---\n",
      "Distribution:\n",
      "Neg    137\n",
      "Pos     77\n",
      "Name: Return, dtype: int64\n",
      "---\n",
      "Distribution:\n",
      "Neg    3\n",
      "Pos    2\n",
      "Name: Return, dtype: int64\n"
     ]
    },
    {
     "name": "stderr",
     "output_type": "stream",
     "text": [
      "C:\\DEV\\Anaconda3\\envs\\trading\\lib\\site-packages\\sklearn\\metrics\\classification.py:1135: UndefinedMetricWarning: Precision and F-score are ill-defined and being set to 0.0 in labels with no predicted samples.\n",
      "  'precision', 'predicted', average, warn_for)\n"
     ]
    },
    {
     "name": "stdout",
     "output_type": "stream",
     "text": [
      "---\n",
      "Classification report\n",
      "              precision    recall  f1-score   support\n",
      "\n",
      "        Neg       0.60      1.00      0.75         3\n",
      "        Pos       0.00      0.00      0.00         2\n",
      "\n",
      "avg / total       0.36      0.60      0.45         5\n",
      "\n",
      "---\n",
      "Confusion matrix\n",
      " [[3 0]\n",
      " [2 0]]\n",
      "0.0 [long] + 2.812274203662357 [short] = 2.812274203662357\n",
      "====================================================================================================\n",
      "From 2008-05-25 00:00:00 to 2011-07-17 00:00:00\n",
      "Split result before upsampling: 165 -> 150 + 5\n",
      "---\n",
      "Distribution:\n",
      "Neg    147\n",
      "Pos     67\n",
      "Name: Return, dtype: int64\n",
      "---\n",
      "Distribution:\n",
      "Pos    3\n",
      "Neg    2\n",
      "Name: Return, dtype: int64\n"
     ]
    },
    {
     "name": "stderr",
     "output_type": "stream",
     "text": [
      "C:\\DEV\\Anaconda3\\envs\\trading\\lib\\site-packages\\sklearn\\metrics\\classification.py:1135: UndefinedMetricWarning: Precision and F-score are ill-defined and being set to 0.0 in labels with no predicted samples.\n",
      "  'precision', 'predicted', average, warn_for)\n"
     ]
    },
    {
     "name": "stdout",
     "output_type": "stream",
     "text": [
      "---\n",
      "Classification report\n",
      "              precision    recall  f1-score   support\n",
      "\n",
      "        Neg       0.40      1.00      0.57         2\n",
      "        Pos       0.00      0.00      0.00         3\n",
      "\n",
      "avg / total       0.16      0.40      0.23         5\n",
      "\n",
      "---\n",
      "Confusion matrix\n",
      " [[2 0]\n",
      " [3 0]]\n",
      "0.0 [long] + -12.342828315527187 [short] = -12.342828315527187\n",
      "====================================================================================================\n",
      "From 2008-06-29 00:00:00 to 2011-08-21 00:00:00\n",
      "Split result before upsampling: 165 -> 150 + 5\n",
      "---\n",
      "Distribution:\n",
      "Neg    143\n",
      "Pos     71\n",
      "Name: Return, dtype: int64\n",
      "---\n",
      "Distribution:\n",
      "Pos    5\n",
      "Name: Return, dtype: int64\n"
     ]
    },
    {
     "name": "stderr",
     "output_type": "stream",
     "text": [
      "C:\\DEV\\Anaconda3\\envs\\trading\\lib\\site-packages\\sklearn\\metrics\\classification.py:1137: UndefinedMetricWarning: Recall and F-score are ill-defined and being set to 0.0 in labels with no true samples.\n",
      "  'recall', 'true', average, warn_for)\n"
     ]
    },
    {
     "name": "stdout",
     "output_type": "stream",
     "text": [
      "---\n",
      "Classification report\n",
      "              precision    recall  f1-score   support\n",
      "\n",
      "        Neg       0.00      0.00      0.00         0\n",
      "        Pos       1.00      0.20      0.33         5\n",
      "\n",
      "avg / total       1.00      0.20      0.33         5\n",
      "\n",
      "---\n",
      "Confusion matrix\n",
      " [[0 0]\n",
      " [4 1]]\n",
      "13.261539133663902 [long] + -33.91153028746185 [short] = -20.64999115379795\n",
      "====================================================================================================\n",
      "From 2008-08-03 00:00:00 to 2011-09-25 00:00:00\n",
      "Split result before upsampling: 165 -> 150 + 5\n",
      "---\n",
      "Distribution:\n",
      "Neg    141\n",
      "Pos     73\n",
      "Name: Return, dtype: int64\n",
      "---\n",
      "Distribution:\n",
      "Pos    4\n",
      "Neg    1\n",
      "Name: Return, dtype: int64\n",
      "---\n",
      "Classification report\n",
      "              precision    recall  f1-score   support\n",
      "\n",
      "        Neg       0.25      1.00      0.40         1\n",
      "        Pos       1.00      0.25      0.40         4\n",
      "\n",
      "avg / total       0.85      0.40      0.40         5\n",
      "\n",
      "---\n",
      "Confusion matrix\n",
      " [[1 0]\n",
      " [3 1]]\n",
      "8.24022953527801 [long] + -24.54117273561257 [short] = -16.300943200334558\n",
      "====================================================================================================\n",
      "From 2008-09-07 00:00:00 to 2011-10-30 00:00:00\n",
      "Split result before upsampling: 165 -> 150 + 5\n",
      "---\n",
      "Distribution:\n",
      "Neg    137\n",
      "Pos     77\n",
      "Name: Return, dtype: int64\n",
      "---\n",
      "Distribution:\n",
      "Pos    3\n",
      "Neg    2\n",
      "Name: Return, dtype: int64\n",
      "---\n",
      "Classification report\n",
      "              precision    recall  f1-score   support\n",
      "\n",
      "        Neg       0.50      0.50      0.50         2\n",
      "        Pos       0.67      0.67      0.67         3\n",
      "\n",
      "avg / total       0.60      0.60      0.60         5\n",
      "\n",
      "---\n",
      "Confusion matrix\n",
      " [[1 1]\n",
      " [1 2]]\n",
      "5.14357462479631 [long] + -2.1417610219401917 [short] = 3.001813602856118\n",
      "====================================================================================================\n",
      "From 2008-10-12 00:00:00 to 2011-12-04 00:00:00\n",
      "Split result before upsampling: 165 -> 150 + 5\n",
      "---\n",
      "Distribution:\n",
      "Neg    129\n",
      "Pos     85\n",
      "Name: Return, dtype: int64\n",
      "---\n",
      "Distribution:\n",
      "Neg    4\n",
      "Pos    1\n",
      "Name: Return, dtype: int64\n"
     ]
    },
    {
     "name": "stderr",
     "output_type": "stream",
     "text": [
      "C:\\DEV\\Anaconda3\\envs\\trading\\lib\\site-packages\\sklearn\\metrics\\classification.py:1135: UndefinedMetricWarning: Precision and F-score are ill-defined and being set to 0.0 in labels with no predicted samples.\n",
      "  'precision', 'predicted', average, warn_for)\n"
     ]
    },
    {
     "name": "stdout",
     "output_type": "stream",
     "text": [
      "---\n",
      "Classification report\n",
      "              precision    recall  f1-score   support\n",
      "\n",
      "        Neg       0.80      1.00      0.89         4\n",
      "        Pos       0.00      0.00      0.00         1\n",
      "\n",
      "avg / total       0.64      0.80      0.71         5\n",
      "\n",
      "---\n",
      "Confusion matrix\n",
      " [[4 0]\n",
      " [1 0]]\n",
      "0.0 [long] + 21.002631567217442 [short] = 21.002631567217442\n",
      "====================================================================================================\n",
      "From 2008-11-16 00:00:00 to 2012-01-08 00:00:00\n",
      "Split result before upsampling: 165 -> 150 + 5\n",
      "---\n",
      "Distribution:\n",
      "Neg    122\n",
      "Pos     92\n",
      "Name: Return, dtype: int64\n",
      "---\n",
      "Distribution:\n",
      "Neg    5\n",
      "Name: Return, dtype: int64\n",
      "---\n",
      "Classification report\n",
      "              precision    recall  f1-score   support\n",
      "\n",
      "        Neg       1.00      1.00      1.00         5\n",
      "\n",
      "avg / total       1.00      1.00      1.00         5\n",
      "\n",
      "---\n",
      "Confusion matrix\n",
      " [[5]]\n",
      "0.0 [long] + 31.68683139178322 [short] = 31.68683139178322\n",
      "====================================================================================================\n",
      "From 2008-12-21 00:00:00 to 2012-02-12 00:00:00\n",
      "Split result before upsampling: 165 -> 150 + 5\n",
      "---\n",
      "Distribution:\n",
      "Neg    117\n",
      "Pos     97\n",
      "Name: Return, dtype: int64\n",
      "---\n",
      "Distribution:\n",
      "Neg    3\n",
      "Pos    2\n",
      "Name: Return, dtype: int64\n"
     ]
    },
    {
     "name": "stderr",
     "output_type": "stream",
     "text": [
      "C:\\DEV\\Anaconda3\\envs\\trading\\lib\\site-packages\\sklearn\\metrics\\classification.py:1135: UndefinedMetricWarning: Precision and F-score are ill-defined and being set to 0.0 in labels with no predicted samples.\n",
      "  'precision', 'predicted', average, warn_for)\n"
     ]
    },
    {
     "name": "stdout",
     "output_type": "stream",
     "text": [
      "---\n",
      "Classification report\n",
      "              precision    recall  f1-score   support\n",
      "\n",
      "        Neg       0.60      1.00      0.75         3\n",
      "        Pos       0.00      0.00      0.00         2\n",
      "\n",
      "avg / total       0.36      0.60      0.45         5\n",
      "\n",
      "---\n",
      "Confusion matrix\n",
      " [[3 0]\n",
      " [2 0]]\n",
      "0.0 [long] + 0.8989622119769058 [short] = 0.8989622119769058\n",
      "====================================================================================================\n",
      "From 2009-01-25 00:00:00 to 2012-03-18 00:00:00\n",
      "Split result before upsampling: 165 -> 150 + 5\n",
      "---\n",
      "Distribution:\n",
      "Neg    121\n",
      "Pos     93\n",
      "Name: Return, dtype: int64\n",
      "---\n",
      "Distribution:\n",
      "Pos    4\n",
      "Neg    1\n",
      "Name: Return, dtype: int64\n"
     ]
    },
    {
     "name": "stderr",
     "output_type": "stream",
     "text": [
      "C:\\DEV\\Anaconda3\\envs\\trading\\lib\\site-packages\\sklearn\\metrics\\classification.py:1135: UndefinedMetricWarning: Precision and F-score are ill-defined and being set to 0.0 in labels with no predicted samples.\n",
      "  'precision', 'predicted', average, warn_for)\n"
     ]
    },
    {
     "name": "stdout",
     "output_type": "stream",
     "text": [
      "---\n",
      "Classification report\n",
      "              precision    recall  f1-score   support\n",
      "\n",
      "        Neg       0.20      1.00      0.33         1\n",
      "        Pos       0.00      0.00      0.00         4\n",
      "\n",
      "avg / total       0.04      0.20      0.07         5\n",
      "\n",
      "---\n",
      "Confusion matrix\n",
      " [[1 0]\n",
      " [4 0]]\n",
      "0.0 [long] + -11.33100237038732 [short] = -11.33100237038732\n",
      "====================================================================================================\n",
      "From 2009-03-01 00:00:00 to 2012-04-22 00:00:00\n",
      "Split result before upsampling: 165 -> 150 + 5\n",
      "---\n",
      "Distribution:\n",
      "Neg    133\n",
      "Pos     81\n",
      "Name: Return, dtype: int64\n",
      "---\n",
      "Distribution:\n",
      "Pos    5\n",
      "Name: Return, dtype: int64\n"
     ]
    },
    {
     "name": "stderr",
     "output_type": "stream",
     "text": [
      "C:\\DEV\\Anaconda3\\envs\\trading\\lib\\site-packages\\sklearn\\metrics\\classification.py:1135: UndefinedMetricWarning: Precision and F-score are ill-defined and being set to 0.0 in labels with no predicted samples.\n",
      "  'precision', 'predicted', average, warn_for)\n",
      "C:\\DEV\\Anaconda3\\envs\\trading\\lib\\site-packages\\sklearn\\metrics\\classification.py:1137: UndefinedMetricWarning: Recall and F-score are ill-defined and being set to 0.0 in labels with no true samples.\n",
      "  'recall', 'true', average, warn_for)\n"
     ]
    },
    {
     "name": "stdout",
     "output_type": "stream",
     "text": [
      "---\n",
      "Classification report\n",
      "              precision    recall  f1-score   support\n",
      "\n",
      "        Neg       0.00      0.00      0.00         0\n",
      "        Pos       0.00      0.00      0.00         5\n",
      "\n",
      "avg / total       0.00      0.00      0.00         5\n",
      "\n",
      "---\n",
      "Confusion matrix\n",
      " [[0 0]\n",
      " [5 0]]\n",
      "0.0 [long] + -18.91360642634343 [short] = -18.91360642634343\n",
      "====================================================================================================\n",
      "From 2009-04-05 00:00:00 to 2012-05-27 00:00:00\n",
      "Split result before upsampling: 165 -> 150 + 5\n",
      "---\n",
      "Distribution:\n",
      "Neg    128\n",
      "Pos     86\n",
      "Name: Return, dtype: int64\n",
      "---\n",
      "Distribution:\n",
      "Pos    3\n",
      "Neg    2\n",
      "Name: Return, dtype: int64\n"
     ]
    },
    {
     "name": "stderr",
     "output_type": "stream",
     "text": [
      "C:\\DEV\\Anaconda3\\envs\\trading\\lib\\site-packages\\sklearn\\metrics\\classification.py:1135: UndefinedMetricWarning: Precision and F-score are ill-defined and being set to 0.0 in labels with no predicted samples.\n",
      "  'precision', 'predicted', average, warn_for)\n"
     ]
    },
    {
     "name": "stdout",
     "output_type": "stream",
     "text": [
      "---\n",
      "Classification report\n",
      "              precision    recall  f1-score   support\n",
      "\n",
      "        Neg       0.40      1.00      0.57         2\n",
      "        Pos       0.00      0.00      0.00         3\n",
      "\n",
      "avg / total       0.16      0.40      0.23         5\n",
      "\n",
      "---\n",
      "Confusion matrix\n",
      " [[2 0]\n",
      " [3 0]]\n",
      "0.0 [long] + 4.909263461096702 [short] = 4.909263461096702\n",
      "====================================================================================================\n",
      "From 2009-05-10 00:00:00 to 2012-07-01 00:00:00\n",
      "Split result before upsampling: 165 -> 150 + 5\n",
      "---\n",
      "Distribution:\n",
      "Neg    119\n",
      "Pos     95\n",
      "Name: Return, dtype: int64\n",
      "---\n",
      "Distribution:\n",
      "Neg    5\n",
      "Name: Return, dtype: int64\n",
      "---\n",
      "Classification report\n",
      "              precision    recall  f1-score   support\n",
      "\n",
      "        Neg       1.00      1.00      1.00         5\n",
      "\n",
      "avg / total       1.00      1.00      1.00         5\n",
      "\n",
      "---\n",
      "Confusion matrix\n",
      " [[5]]\n",
      "0.0 [long] + 24.67760592637193 [short] = 24.67760592637193\n",
      "====================================================================================================\n",
      "From 2009-06-14 00:00:00 to 2012-08-05 00:00:00\n",
      "Split result before upsampling: 165 -> 150 + 5\n",
      "---\n",
      "Distribution:\n",
      "Pos    108\n",
      "Neg    106\n",
      "Name: Return, dtype: int64\n",
      "---\n",
      "Distribution:\n",
      "Neg    5\n",
      "Name: Return, dtype: int64\n",
      "---\n",
      "Classification report\n",
      "              precision    recall  f1-score   support\n",
      "\n",
      "        Neg       1.00      1.00      1.00         5\n",
      "\n",
      "avg / total       1.00      1.00      1.00         5\n",
      "\n",
      "---\n",
      "Confusion matrix\n",
      " [[5]]\n",
      "0.0 [long] + 16.0339520367726 [short] = 16.0339520367726\n",
      "====================================================================================================\n",
      "From 2009-07-19 00:00:00 to 2012-09-09 00:00:00\n",
      "Split result before upsampling: 165 -> 150 + 5\n",
      "---\n",
      "Distribution:\n",
      "Pos    107\n",
      "Neg    107\n",
      "Name: Return, dtype: int64\n",
      "---\n",
      "Distribution:\n",
      "Neg    4\n",
      "Pos    1\n",
      "Name: Return, dtype: int64\n",
      "---\n",
      "Classification report\n",
      "              precision    recall  f1-score   support\n",
      "\n",
      "        Neg       1.00      0.25      0.40         4\n",
      "        Pos       0.25      1.00      0.40         1\n",
      "\n",
      "avg / total       0.85      0.40      0.40         5\n",
      "\n",
      "---\n",
      "Confusion matrix\n",
      " [[1 3]\n",
      " [0 1]]\n",
      "1.1163263167393356 [long] + 0.9079524107701964 [short] = 2.024278727509532\n",
      "====================================================================================================\n",
      "From 2009-08-23 00:00:00 to 2012-10-14 00:00:00\n",
      "Split result before upsampling: 165 -> 150 + 5\n",
      "---\n",
      "Distribution:\n",
      "Neg    121\n",
      "Pos     93\n",
      "Name: Return, dtype: int64\n",
      "---\n",
      "Distribution:\n",
      "Pos    5\n",
      "Name: Return, dtype: int64\n"
     ]
    },
    {
     "name": "stderr",
     "output_type": "stream",
     "text": [
      "C:\\DEV\\Anaconda3\\envs\\trading\\lib\\site-packages\\sklearn\\metrics\\classification.py:1137: UndefinedMetricWarning: Recall and F-score are ill-defined and being set to 0.0 in labels with no true samples.\n",
      "  'recall', 'true', average, warn_for)\n"
     ]
    },
    {
     "name": "stdout",
     "output_type": "stream",
     "text": [
      "---\n",
      "Classification report\n",
      "              precision    recall  f1-score   support\n",
      "\n",
      "        Neg       0.00      0.00      0.00         0\n",
      "        Pos       1.00      0.80      0.89         5\n",
      "\n",
      "avg / total       1.00      0.80      0.89         5\n",
      "\n",
      "---\n",
      "Confusion matrix\n",
      " [[0 0]\n",
      " [1 4]]\n",
      "3.404608314369395 [long] + -1.7577045696067994 [short] = 1.6469037447625956\n",
      "====================================================================================================\n",
      "From 2009-09-27 00:00:00 to 2012-11-18 00:00:00\n",
      "Split result before upsampling: 165 -> 150 + 5\n",
      "---\n",
      "Distribution:\n",
      "Neg    131\n",
      "Pos     83\n",
      "Name: Return, dtype: int64\n",
      "---\n",
      "Distribution:\n",
      "Neg    4\n",
      "Pos    1\n",
      "Name: Return, dtype: int64\n",
      "---\n",
      "Classification report\n",
      "              precision    recall  f1-score   support\n",
      "\n",
      "        Neg       1.00      0.25      0.40         4\n",
      "        Pos       0.25      1.00      0.40         1\n",
      "\n",
      "avg / total       0.85      0.40      0.40         5\n",
      "\n",
      "---\n",
      "Confusion matrix\n",
      " [[1 3]\n",
      " [0 1]]\n",
      "-4.076549126956952 [long] + 2.6712597207038224 [short] = -1.4052894062531291\n",
      "====================================================================================================\n",
      "From 2009-11-01 00:00:00 to 2012-12-23 00:00:00\n",
      "Split result before upsampling: 165 -> 150 + 5\n",
      "---\n",
      "Distribution:\n",
      "Neg    132\n",
      "Pos     82\n",
      "Name: Return, dtype: int64\n",
      "---\n",
      "Distribution:\n",
      "Neg    5\n",
      "Name: Return, dtype: int64\n"
     ]
    },
    {
     "name": "stderr",
     "output_type": "stream",
     "text": [
      "C:\\DEV\\Anaconda3\\envs\\trading\\lib\\site-packages\\sklearn\\metrics\\classification.py:1137: UndefinedMetricWarning: Recall and F-score are ill-defined and being set to 0.0 in labels with no true samples.\n",
      "  'recall', 'true', average, warn_for)\n"
     ]
    },
    {
     "name": "stdout",
     "output_type": "stream",
     "text": [
      "---\n",
      "Classification report\n",
      "              precision    recall  f1-score   support\n",
      "\n",
      "        Neg       1.00      0.20      0.33         5\n",
      "        Pos       0.00      0.00      0.00         0\n",
      "\n",
      "avg / total       1.00      0.20      0.33         5\n",
      "\n",
      "---\n",
      "Confusion matrix\n",
      " [[1 4]\n",
      " [0 0]]\n",
      "-4.605280416931734 [long] + 0.828261278785225 [short] = -3.777019138146509\n",
      "====================================================================================================\n",
      "From 2009-12-06 00:00:00 to 2013-01-27 00:00:00\n",
      "Split result before upsampling: 165 -> 150 + 5\n",
      "---\n",
      "Distribution:\n",
      "Neg    116\n",
      "Pos     98\n",
      "Name: Return, dtype: int64\n",
      "---\n",
      "Distribution:\n",
      "Neg    3\n",
      "Pos    2\n",
      "Name: Return, dtype: int64\n",
      "---\n",
      "Classification report\n",
      "              precision    recall  f1-score   support\n",
      "\n",
      "        Neg       1.00      0.67      0.80         3\n",
      "        Pos       0.67      1.00      0.80         2\n",
      "\n",
      "avg / total       0.87      0.80      0.80         5\n",
      "\n",
      "---\n",
      "Confusion matrix\n",
      " [[2 1]\n",
      " [0 2]]\n",
      "-0.04776310697517383 [long] + 2.264319650152302 [short] = 2.2165565431771284\n",
      "====================================================================================================\n",
      "From 2010-01-10 00:00:00 to 2013-03-03 00:00:00\n",
      "Split result before upsampling: 165 -> 150 + 5\n",
      "---\n",
      "Distribution:\n",
      "Neg    123\n",
      "Pos     91\n",
      "Name: Return, dtype: int64\n",
      "---\n",
      "Distribution:\n",
      "Neg    3\n",
      "Pos    2\n",
      "Name: Return, dtype: int64\n"
     ]
    }
   ],
   "source": [
    "test_params = []\n",
    "\n",
    "for i in range(0, len(data)-full_size, test_size):\n",
    "    sub_data = data.iloc[i:i+full_size]\n",
    "    from_date, to_date = sub_data.index[0], sub_data.index[-1]\n",
    "    sep = 100*'='\n",
    "    print(f'{sep}\\nFrom {from_date} to {to_date}')\n",
    "    train_and_test(sub_data)"
   ]
  },
  {
   "cell_type": "code",
   "execution_count": null,
   "metadata": {},
   "outputs": [],
   "source": [
    "indexes = [d['date'] for d in test_params]"
   ]
  },
  {
   "cell_type": "markdown",
   "metadata": {},
   "source": [
    "### Random Forest parameters with Accuracy and Returns"
   ]
  },
  {
   "cell_type": "code",
   "execution_count": null,
   "metadata": {},
   "outputs": [],
   "source": [
    "params = pd.DataFrame([d['best_params'] for d in test_params], index=indexes)\n",
    "params['Sum of return'] = [d['ret_sum'] for d in test_params]\n",
    "params['Accuracy'] = [d['accuracy'] for d in test_params]"
   ]
  },
  {
   "cell_type": "code",
   "execution_count": null,
   "metadata": {},
   "outputs": [],
   "source": [
    "params.sort_values('Sum of return', ascending=False)"
   ]
  },
  {
   "cell_type": "code",
   "execution_count": null,
   "metadata": {},
   "outputs": [],
   "source": [
    "params.describe()"
   ]
  },
  {
   "cell_type": "code",
   "execution_count": null,
   "metadata": {},
   "outputs": [],
   "source": [
    "params['Sum of return'].sum()"
   ]
  },
  {
   "cell_type": "code",
   "execution_count": null,
   "metadata": {},
   "outputs": [],
   "source": [
    "params['Accuracy'].plot()"
   ]
  },
  {
   "cell_type": "code",
   "execution_count": null,
   "metadata": {},
   "outputs": [],
   "source": [
    "params['Sum of return'].plot()"
   ]
  },
  {
   "cell_type": "markdown",
   "metadata": {},
   "source": [
    "### Feature importances"
   ]
  },
  {
   "cell_type": "code",
   "execution_count": null,
   "metadata": {},
   "outputs": [],
   "source": [
    "features = pd.DataFrame([d['features'] for d in test_params], index=indexes, columns=feature_names)"
   ]
  },
  {
   "cell_type": "code",
   "execution_count": null,
   "metadata": {},
   "outputs": [],
   "source": [
    "features.idxmax(axis=1).value_counts()"
   ]
  },
  {
   "cell_type": "code",
   "execution_count": null,
   "metadata": {},
   "outputs": [],
   "source": [
    "plt.figure(figsize=(15,8))\n",
    "sns.heatmap(features)"
   ]
  },
  {
   "cell_type": "code",
   "execution_count": null,
   "metadata": {},
   "outputs": [],
   "source": [
    "plt.figure(figsize=(10,20))\n",
    "sns.violinplot(data=features, orient='h')"
   ]
  },
  {
   "cell_type": "code",
   "execution_count": null,
   "metadata": {},
   "outputs": [],
   "source": []
  }
 ],
 "metadata": {
  "kernelspec": {
   "display_name": "Python 3",
   "language": "python",
   "name": "python3"
  },
  "language_info": {
   "codemirror_mode": {
    "name": "ipython",
    "version": 3
   },
   "file_extension": ".py",
   "mimetype": "text/x-python",
   "name": "python",
   "nbconvert_exporter": "python",
   "pygments_lexer": "ipython3",
   "version": "3.6.3"
  }
 },
 "nbformat": 4,
 "nbformat_minor": 2
}
