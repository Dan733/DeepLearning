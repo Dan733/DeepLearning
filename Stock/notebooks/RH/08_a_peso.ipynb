{
 "cells": [
  {
   "cell_type": "code",
   "execution_count": 1,
   "metadata": {
    "collapsed": true
   },
   "outputs": [],
   "source": [
    "import math\n",
    "import numpy as np\n",
    "import pandas as pd\n",
    "import matplotlib.pyplot as plt\n",
    "import seaborn as sns\n",
    "%matplotlib inline"
   ]
  },
  {
   "cell_type": "code",
   "execution_count": 2,
   "metadata": {
    "collapsed": false
   },
   "outputs": [
    {
     "name": "stderr",
     "output_type": "stream",
     "text": [
      "C:\\DEV\\Anaconda3\\envs\\trading\\lib\\site-packages\\sklearn\\cross_validation.py:41: DeprecationWarning: This module was deprecated in version 0.18 in favor of the model_selection module into which all the refactored classes and functions are moved. Also note that the interface of the new CV iterators are different from that of this module. This module will be removed in 0.20.\n",
      "  \"This module will be removed in 0.20.\", DeprecationWarning)\n",
      "C:\\DEV\\Anaconda3\\envs\\trading\\lib\\site-packages\\sklearn\\grid_search.py:42: DeprecationWarning: This module was deprecated in version 0.18 in favor of the model_selection module into which all the refactored classes and functions are moved. This module will be removed in 0.20.\n",
      "  DeprecationWarning)\n"
     ]
    }
   ],
   "source": [
    "import talib as tl\n",
    "from sklearn.decomposition import PCA\n",
    "from sklearn.grid_search import GridSearchCV\n",
    "from sklearn.preprocessing import LabelBinarizer, StandardScaler\n",
    "from sklearn.pipeline import Pipeline\n",
    "from sklearn.ensemble import RandomForestClassifier, GradientBoostingClassifier\n",
    "\n",
    "from sklearn.metrics import accuracy_score, classification_report, confusion_matrix"
   ]
  },
  {
   "cell_type": "code",
   "execution_count": 3,
   "metadata": {
    "collapsed": true
   },
   "outputs": [],
   "source": [
    "train_size = 150\n",
    "test_size = 10\n",
    "return_day = 10\n",
    "extreme_val = 0\n",
    "full_size = train_size + test_size + return_day \n",
    "# make return_day long gap between train and test set to avoid lookahead bias"
   ]
  },
  {
   "cell_type": "code",
   "execution_count": 4,
   "metadata": {
    "collapsed": false
   },
   "outputs": [
    {
     "data": {
      "text/html": [
       "<div>\n",
       "<style scoped>\n",
       "    .dataframe tbody tr th:only-of-type {\n",
       "        vertical-align: middle;\n",
       "    }\n",
       "\n",
       "    .dataframe tbody tr th {\n",
       "        vertical-align: top;\n",
       "    }\n",
       "\n",
       "    .dataframe thead th {\n",
       "        text-align: right;\n",
       "    }\n",
       "</style>\n",
       "<table border=\"1\" class=\"dataframe\">\n",
       "  <thead>\n",
       "    <tr style=\"text-align: right;\">\n",
       "      <th></th>\n",
       "      <th>Open</th>\n",
       "      <th>High</th>\n",
       "      <th>Low</th>\n",
       "      <th>Close</th>\n",
       "    </tr>\n",
       "    <tr>\n",
       "      <th>Dates</th>\n",
       "      <th></th>\n",
       "      <th></th>\n",
       "      <th></th>\n",
       "      <th></th>\n",
       "    </tr>\n",
       "  </thead>\n",
       "  <tbody>\n",
       "    <tr>\n",
       "      <th>2018-01-08</th>\n",
       "      <td>606.37</td>\n",
       "      <td>608.47</td>\n",
       "      <td>604.58</td>\n",
       "      <td>605.31</td>\n",
       "    </tr>\n",
       "    <tr>\n",
       "      <th>2018-01-09</th>\n",
       "      <td>606.00</td>\n",
       "      <td>608.59</td>\n",
       "      <td>605.57</td>\n",
       "      <td>607.89</td>\n",
       "    </tr>\n",
       "    <tr>\n",
       "      <th>2018-01-10</th>\n",
       "      <td>607.66</td>\n",
       "      <td>610.70</td>\n",
       "      <td>606.23</td>\n",
       "      <td>609.32</td>\n",
       "    </tr>\n",
       "    <tr>\n",
       "      <th>2018-01-11</th>\n",
       "      <td>608.01</td>\n",
       "      <td>609.67</td>\n",
       "      <td>606.13</td>\n",
       "      <td>606.22</td>\n",
       "    </tr>\n",
       "    <tr>\n",
       "      <th>2018-01-12</th>\n",
       "      <td>603.17</td>\n",
       "      <td>605.81</td>\n",
       "      <td>602.86</td>\n",
       "      <td>603.18</td>\n",
       "    </tr>\n",
       "  </tbody>\n",
       "</table>\n",
       "</div>"
      ],
      "text/plain": [
       "              Open    High     Low   Close\n",
       "Dates                                     \n",
       "2018-01-08  606.37  608.47  604.58  605.31\n",
       "2018-01-09  606.00  608.59  605.57  607.89\n",
       "2018-01-10  607.66  610.70  606.23  609.32\n",
       "2018-01-11  608.01  609.67  606.13  606.22\n",
       "2018-01-12  603.17  605.81  602.86  603.18"
      ]
     },
     "execution_count": 4,
     "metadata": {},
     "output_type": "execute_result"
    }
   ],
   "source": [
    "data = pd.read_excel('USDCLP.xlsx', skiprows=4, index_col='Dates', parse_dates=True)\n",
    "data.dropna(inplace=True)\n",
    "data.columns = ['Open', 'High', 'Low', 'Close']\n",
    "data = data['2004':] # before 2004 the data is not OHLC, but C\n",
    "data['2018-01-08':'2018-01-13']"
   ]
  },
  {
   "cell_type": "code",
   "execution_count": 5,
   "metadata": {
    "collapsed": false
   },
   "outputs": [
    {
     "data": {
      "text/html": [
       "<div>\n",
       "<style scoped>\n",
       "    .dataframe tbody tr th:only-of-type {\n",
       "        vertical-align: middle;\n",
       "    }\n",
       "\n",
       "    .dataframe tbody tr th {\n",
       "        vertical-align: top;\n",
       "    }\n",
       "\n",
       "    .dataframe thead th {\n",
       "        text-align: right;\n",
       "    }\n",
       "</style>\n",
       "<table border=\"1\" class=\"dataframe\">\n",
       "  <thead>\n",
       "    <tr style=\"text-align: right;\">\n",
       "      <th></th>\n",
       "      <th>Open</th>\n",
       "      <th>High</th>\n",
       "      <th>Low</th>\n",
       "      <th>Close</th>\n",
       "    </tr>\n",
       "    <tr>\n",
       "      <th>Dates</th>\n",
       "      <th></th>\n",
       "      <th></th>\n",
       "      <th></th>\n",
       "      <th></th>\n",
       "    </tr>\n",
       "  </thead>\n",
       "  <tbody>\n",
       "    <tr>\n",
       "      <th>2018-01-07</th>\n",
       "      <td>612.19</td>\n",
       "      <td>612.45</td>\n",
       "      <td>601.80</td>\n",
       "      <td>605.78</td>\n",
       "    </tr>\n",
       "    <tr>\n",
       "      <th>2018-01-14</th>\n",
       "      <td>606.37</td>\n",
       "      <td>610.70</td>\n",
       "      <td>602.86</td>\n",
       "      <td>603.18</td>\n",
       "    </tr>\n",
       "    <tr>\n",
       "      <th>2018-01-21</th>\n",
       "      <td>599.58</td>\n",
       "      <td>608.82</td>\n",
       "      <td>599.31</td>\n",
       "      <td>608.21</td>\n",
       "    </tr>\n",
       "    <tr>\n",
       "      <th>2018-01-28</th>\n",
       "      <td>607.69</td>\n",
       "      <td>609.78</td>\n",
       "      <td>597.70</td>\n",
       "      <td>601.68</td>\n",
       "    </tr>\n",
       "    <tr>\n",
       "      <th>2018-02-04</th>\n",
       "      <td>603.65</td>\n",
       "      <td>607.37</td>\n",
       "      <td>596.31</td>\n",
       "      <td>597.03</td>\n",
       "    </tr>\n",
       "  </tbody>\n",
       "</table>\n",
       "</div>"
      ],
      "text/plain": [
       "              Open    High     Low   Close\n",
       "Dates                                     \n",
       "2018-01-07  612.19  612.45  601.80  605.78\n",
       "2018-01-14  606.37  610.70  602.86  603.18\n",
       "2018-01-21  599.58  608.82  599.31  608.21\n",
       "2018-01-28  607.69  609.78  597.70  601.68\n",
       "2018-02-04  603.65  607.37  596.31  597.03"
      ]
     },
     "execution_count": 5,
     "metadata": {},
     "output_type": "execute_result"
    }
   ],
   "source": [
    "new_data = data.resample('1W').pad()\n",
    "new_data['Open'] = data['Open'].resample('1W').first()\n",
    "new_data['Close'] = data['Close'].resample('1W').last()\n",
    "new_data['High'] = data['High'].resample('1W').max()\n",
    "new_data['Low'] = data['Low'].resample('1W').min()\n",
    "new_data.dropna(inplace=True)\n",
    "new_data.tail()"
   ]
  },
  {
   "cell_type": "code",
   "execution_count": 6,
   "metadata": {
    "collapsed": true
   },
   "outputs": [],
   "source": [
    "data = new_data"
   ]
  },
  {
   "cell_type": "code",
   "execution_count": 7,
   "metadata": {
    "collapsed": true
   },
   "outputs": [],
   "source": [
    "oopen = data['Open'].values\n",
    "high = data['High'].values\n",
    "low = data['Low'].values\n",
    "close = data['Close'].values"
   ]
  },
  {
   "cell_type": "code",
   "execution_count": 8,
   "metadata": {
    "collapsed": true
   },
   "outputs": [],
   "source": [
    "features_to_delete = data.columns.tolist()"
   ]
  },
  {
   "cell_type": "markdown",
   "metadata": {},
   "source": [
    "# ROC"
   ]
  },
  {
   "cell_type": "code",
   "execution_count": 9,
   "metadata": {
    "collapsed": true
   },
   "outputs": [],
   "source": [
    "for i in [2, 5, 10, 20]:\n",
    "    data[f'ROC {i}'] = tl.ROC(close, timeperiod=i)"
   ]
  },
  {
   "cell_type": "code",
   "execution_count": 10,
   "metadata": {
    "collapsed": false
   },
   "outputs": [
    {
     "data": {
      "text/plain": [
       "<matplotlib.axes._subplots.AxesSubplot at 0x223203aa208>"
      ]
     },
     "execution_count": 10,
     "metadata": {},
     "output_type": "execute_result"
    },
    {
     "data": {
      "image/png": "[encoded data removed]",
      "text/plain": [
       "<matplotlib.figure.Figure at 0x223352bbef0>"
      ]
     },
     "metadata": {},
     "output_type": "display_data"
    }
   ],
   "source": [
    "data['2008': '2009'][['ROC 2', 'ROC 5', 'ROC 10', 'ROC 20']].plot()"
   ]
  },
  {
   "cell_type": "markdown",
   "metadata": {},
   "source": [
    "# Deviation from zero-lag exponential MA"
   ]
  },
  {
   "cell_type": "code",
   "execution_count": 11,
   "metadata": {
    "collapsed": true
   },
   "outputs": [],
   "source": [
    "for i in [10, 20, 40]:\n",
    "    lag = (i-1)/2\n",
    "    ema_data = 2*data['Close'] - data['Close'].shift(i).fillna(method='bfill')\n",
    "    data['Deviation EMA ' + str(i)] = data['Close'] - tl.EMA(ema_data.values, timeperiod=i)"
   ]
  },
  {
   "cell_type": "code",
   "execution_count": 12,
   "metadata": {
    "collapsed": false
   },
   "outputs": [
    {
     "data": {
      "text/plain": [
       "<matplotlib.axes._subplots.AxesSubplot at 0x223355f9cf8>"
      ]
     },
     "execution_count": 12,
     "metadata": {},
     "output_type": "execute_result"
    },
    {
     "data": {
      "image/png": "[encoded data removed]",
      "text/plain": [
       "<matplotlib.figure.Figure at 0x223352bbd68>"
      ]
     },
     "metadata": {},
     "output_type": "display_data"
    }
   ],
   "source": [
    "data['2008':'2009'][['Deviation EMA 10', 'Deviation EMA 20', 'Deviation EMA 40']].plot()"
   ]
  },
  {
   "cell_type": "markdown",
   "metadata": {},
   "source": [
    "# MACD"
   ]
  },
  {
   "cell_type": "code",
   "execution_count": 13,
   "metadata": {
    "collapsed": true
   },
   "outputs": [],
   "source": [
    "for i, j, k in [(12, 16, 9), (3, 5, 2)]:\n",
    "    macd, macdsignal, macdhist = tl.MACD(close, fastperiod=i, slowperiod=j, signalperiod=k)\n",
    "    data[f'MACD ({i}, {j}, {k})'] = macd\n",
    "#     data[f'MACD signal ({i}, {j}, {k})'] = macdsignal\n",
    "#     data[f'MACD hist ({i}, {j}, {k})'] = macdhist"
   ]
  },
  {
   "cell_type": "code",
   "execution_count": 14,
   "metadata": {
    "collapsed": false
   },
   "outputs": [
    {
     "data": {
      "text/plain": [
       "<matplotlib.axes._subplots.AxesSubplot at 0x223379342b0>"
      ]
     },
     "execution_count": 14,
     "metadata": {},
     "output_type": "execute_result"
    },
    {
     "data": {
      "image/png": "[encoded data removed]",
      "text/plain": [
       "<matplotlib.figure.Figure at 0x22337909c18>"
      ]
     },
     "metadata": {},
     "output_type": "display_data"
    }
   ],
   "source": [
    "data['2008':'2009'][['MACD (12, 16, 9)', 'MACD (3, 5, 2)']].plot()"
   ]
  },
  {
   "cell_type": "code",
   "execution_count": 15,
   "metadata": {
    "collapsed": true
   },
   "outputs": [],
   "source": [
    "# data['2008'][['MACD signal (12, 16, 9)', 'MACD signal (3, 5, 2)']].plot()"
   ]
  },
  {
   "cell_type": "code",
   "execution_count": 16,
   "metadata": {
    "collapsed": true
   },
   "outputs": [],
   "source": [
    "# data['2008'][['MACD hist (14, 20, 12)', 'MACD hist (12, 16, 9)', 'MACD hist (3, 5, 2)']].plot()"
   ]
  },
  {
   "cell_type": "markdown",
   "metadata": {},
   "source": [
    "# RSI"
   ]
  },
  {
   "cell_type": "code",
   "execution_count": 17,
   "metadata": {
    "collapsed": true
   },
   "outputs": [],
   "source": [
    "for i in [5, 10, 14, 20]:\n",
    "    data[f'RSI {i}'] = tl.RSI(close, timeperiod=i)"
   ]
  },
  {
   "cell_type": "code",
   "execution_count": 18,
   "metadata": {
    "collapsed": false
   },
   "outputs": [
    {
     "data": {
      "text/plain": [
       "<matplotlib.axes._subplots.AxesSubplot at 0x2233793d400>"
      ]
     },
     "execution_count": 18,
     "metadata": {},
     "output_type": "execute_result"
    },
    {
     "data": {
      "image/png": "[encoded data removed]",
      "text/plain": [
       "<matplotlib.figure.Figure at 0x22337948ba8>"
      ]
     },
     "metadata": {},
     "output_type": "display_data"
    }
   ],
   "source": [
    "data['2008':'2009'][['RSI 5', 'RSI 10', 'RSI 14', 'RSI 20']].plot()"
   ]
  },
  {
   "cell_type": "markdown",
   "metadata": {},
   "source": [
    "# SMA differences"
   ]
  },
  {
   "cell_type": "code",
   "execution_count": 19,
   "metadata": {
    "collapsed": true
   },
   "outputs": [],
   "source": [
    "for i, j in [(5, 10), (10, 20)]:\n",
    "    data[f'SMA ({i}, {j}) diff'] = tl.SMA(close, timeperiod=i) - tl.SMA(close, timeperiod=j)"
   ]
  },
  {
   "cell_type": "code",
   "execution_count": 20,
   "metadata": {
    "collapsed": false
   },
   "outputs": [
    {
     "data": {
      "text/plain": [
       "<matplotlib.axes._subplots.AxesSubplot at 0x223354f0588>"
      ]
     },
     "execution_count": 20,
     "metadata": {},
     "output_type": "execute_result"
    },
    {
     "data": {
      "image/png": "[encoded data removed]",
      "text/plain": [
       "<matplotlib.figure.Figure at 0x2233551bcf8>"
      ]
     },
     "metadata": {},
     "output_type": "display_data"
    }
   ],
   "source": [
    "data['2008':'2009'][['SMA (5, 10) diff', 'SMA (10, 20) diff']].plot()"
   ]
  },
  {
   "cell_type": "markdown",
   "metadata": {},
   "source": [
    "# ADX"
   ]
  },
  {
   "cell_type": "code",
   "execution_count": 21,
   "metadata": {
    "collapsed": true
   },
   "outputs": [],
   "source": [
    "data['ADX 14'] = tl.ADX(high, low, close, timeperiod=14)"
   ]
  },
  {
   "cell_type": "code",
   "execution_count": 22,
   "metadata": {
    "collapsed": false
   },
   "outputs": [
    {
     "data": {
      "text/plain": [
       "<matplotlib.axes._subplots.AxesSubplot at 0x223353cf860>"
      ]
     },
     "execution_count": 22,
     "metadata": {},
     "output_type": "execute_result"
    },
    {
     "data": {
      "image/png": "[encoded data removed]",
      "text/plain": [
       "<matplotlib.figure.Figure at 0x223354c9cc0>"
      ]
     },
     "metadata": {},
     "output_type": "display_data"
    }
   ],
   "source": [
    "data['2005':'2006'][['ADX 14']].plot()"
   ]
  },
  {
   "cell_type": "markdown",
   "metadata": {},
   "source": [
    "# CCI"
   ]
  },
  {
   "cell_type": "code",
   "execution_count": 23,
   "metadata": {
    "collapsed": true
   },
   "outputs": [],
   "source": [
    "data['CCI 14'] = tl.CCI(high, low, close, timeperiod=14)"
   ]
  },
  {
   "cell_type": "code",
   "execution_count": 24,
   "metadata": {
    "collapsed": false
   },
   "outputs": [
    {
     "data": {
      "text/plain": [
       "<matplotlib.axes._subplots.AxesSubplot at 0x2233799c940>"
      ]
     },
     "execution_count": 24,
     "metadata": {},
     "output_type": "execute_result"
    },
    {
     "data": {
      "image/png": "[encoded data removed]",
      "text/plain": [
       "<matplotlib.figure.Figure at 0x223379beb38>"
      ]
     },
     "metadata": {},
     "output_type": "display_data"
    }
   ],
   "source": [
    "data['2008':'2009']['CCI 14'].plot()"
   ]
  },
  {
   "cell_type": "markdown",
   "metadata": {},
   "source": [
    "# Y target value"
   ]
  },
  {
   "cell_type": "code",
   "execution_count": 25,
   "metadata": {
    "collapsed": true
   },
   "outputs": [],
   "source": [
    "data['Return'] = data['Close'].pct_change(return_day).shift(-return_day)*100\n",
    "data['Extreme'] = 0 #data['Close'].pct_change(return_day).rolling(return_day).std()*100"
   ]
  },
  {
   "cell_type": "code",
   "execution_count": 26,
   "metadata": {
    "collapsed": false
   },
   "outputs": [
    {
     "data": {
      "text/html": [
       "<div>\n",
       "<style scoped>\n",
       "    .dataframe tbody tr th:only-of-type {\n",
       "        vertical-align: middle;\n",
       "    }\n",
       "\n",
       "    .dataframe tbody tr th {\n",
       "        vertical-align: top;\n",
       "    }\n",
       "\n",
       "    .dataframe thead th {\n",
       "        text-align: right;\n",
       "    }\n",
       "</style>\n",
       "<table border=\"1\" class=\"dataframe\">\n",
       "  <thead>\n",
       "    <tr style=\"text-align: right;\">\n",
       "      <th></th>\n",
       "      <th>ROC 2</th>\n",
       "      <th>ROC 5</th>\n",
       "      <th>ROC 10</th>\n",
       "      <th>ROC 20</th>\n",
       "      <th>Deviation EMA 10</th>\n",
       "      <th>Deviation EMA 20</th>\n",
       "      <th>Deviation EMA 40</th>\n",
       "      <th>MACD (12, 16, 9)</th>\n",
       "      <th>MACD (3, 5, 2)</th>\n",
       "      <th>RSI 5</th>\n",
       "      <th>RSI 10</th>\n",
       "      <th>RSI 14</th>\n",
       "      <th>RSI 20</th>\n",
       "      <th>SMA (5, 10) diff</th>\n",
       "      <th>SMA (10, 20) diff</th>\n",
       "      <th>ADX 14</th>\n",
       "      <th>CCI 14</th>\n",
       "      <th>Return</th>\n",
       "      <th>Extreme</th>\n",
       "    </tr>\n",
       "    <tr>\n",
       "      <th>Dates</th>\n",
       "      <th></th>\n",
       "      <th></th>\n",
       "      <th></th>\n",
       "      <th></th>\n",
       "      <th></th>\n",
       "      <th></th>\n",
       "      <th></th>\n",
       "      <th></th>\n",
       "      <th></th>\n",
       "      <th></th>\n",
       "      <th></th>\n",
       "      <th></th>\n",
       "      <th></th>\n",
       "      <th></th>\n",
       "      <th></th>\n",
       "      <th></th>\n",
       "      <th></th>\n",
       "      <th></th>\n",
       "      <th></th>\n",
       "    </tr>\n",
       "  </thead>\n",
       "  <tbody>\n",
       "    <tr>\n",
       "      <th>2004-10-03</th>\n",
       "      <td>-0.950430</td>\n",
       "      <td>-3.565731</td>\n",
       "      <td>-4.773533</td>\n",
       "      <td>-5.258621</td>\n",
       "      <td>-3.145266</td>\n",
       "      <td>-33.071905</td>\n",
       "      <td>-39.414000</td>\n",
       "      <td>-1.063577</td>\n",
       "      <td>-3.861377</td>\n",
       "      <td>19.825401</td>\n",
       "      <td>34.272946</td>\n",
       "      <td>41.114504</td>\n",
       "      <td>46.984882</td>\n",
       "      <td>-11.395</td>\n",
       "      <td>-6.1890</td>\n",
       "      <td>23.131563</td>\n",
       "      <td>-149.550770</td>\n",
       "      <td>-1.968732</td>\n",
       "      <td>0</td>\n",
       "    </tr>\n",
       "    <tr>\n",
       "      <th>2004-10-10</th>\n",
       "      <td>-2.877405</td>\n",
       "      <td>-4.189450</td>\n",
       "      <td>-7.175132</td>\n",
       "      <td>-7.218502</td>\n",
       "      <td>-1.318854</td>\n",
       "      <td>-33.379343</td>\n",
       "      <td>-46.271854</td>\n",
       "      <td>-1.860784</td>\n",
       "      <td>-4.879007</td>\n",
       "      <td>14.557762</td>\n",
       "      <td>29.792533</td>\n",
       "      <td>37.437672</td>\n",
       "      <td>44.189530</td>\n",
       "      <td>-12.000</td>\n",
       "      <td>-8.4765</td>\n",
       "      <td>23.788964</td>\n",
       "      <td>-163.745237</td>\n",
       "      <td>-3.726395</td>\n",
       "      <td>0</td>\n",
       "    </tr>\n",
       "    <tr>\n",
       "      <th>2004-10-17</th>\n",
       "      <td>0.719663</td>\n",
       "      <td>-1.345001</td>\n",
       "      <td>-5.045621</td>\n",
       "      <td>-3.670886</td>\n",
       "      <td>15.480028</td>\n",
       "      <td>-16.183691</td>\n",
       "      <td>-34.079324</td>\n",
       "      <td>-1.949907</td>\n",
       "      <td>-2.230049</td>\n",
       "      <td>42.969704</td>\n",
       "      <td>42.352674</td>\n",
       "      <td>45.334744</td>\n",
       "      <td>48.982102</td>\n",
       "      <td>-10.425</td>\n",
       "      <td>-10.5515</td>\n",
       "      <td>23.417572</td>\n",
       "      <td>-96.015734</td>\n",
       "      <td>-7.769382</td>\n",
       "      <td>0</td>\n",
       "    </tr>\n",
       "    <tr>\n",
       "      <th>2004-10-24</th>\n",
       "      <td>2.182123</td>\n",
       "      <td>-0.245801</td>\n",
       "      <td>-4.830767</td>\n",
       "      <td>-5.576237</td>\n",
       "      <td>18.242751</td>\n",
       "      <td>-11.263816</td>\n",
       "      <td>-34.076674</td>\n",
       "      <td>-1.982963</td>\n",
       "      <td>-0.983722</td>\n",
       "      <td>42.901381</td>\n",
       "      <td>42.320443</td>\n",
       "      <td>45.311144</td>\n",
       "      <td>48.965143</td>\n",
       "      <td>-7.635</td>\n",
       "      <td>-11.8440</td>\n",
       "      <td>22.543811</td>\n",
       "      <td>-59.526914</td>\n",
       "      <td>-8.706366</td>\n",
       "      <td>0</td>\n",
       "    </tr>\n",
       "    <tr>\n",
       "      <th>2004-10-31</th>\n",
       "      <td>0.813075</td>\n",
       "      <td>0.057059</td>\n",
       "      <td>-2.818463</td>\n",
       "      <td>-5.431433</td>\n",
       "      <td>22.253160</td>\n",
       "      <td>-2.310119</td>\n",
       "      <td>-29.563178</td>\n",
       "      <td>-1.790757</td>\n",
       "      <td>0.429008</td>\n",
       "      <td>52.368375</td>\n",
       "      <td>46.817456</td>\n",
       "      <td>48.214271</td>\n",
       "      <td>50.759614</td>\n",
       "      <td>-5.785</td>\n",
       "      <td>-11.8615</td>\n",
       "      <td>21.732462</td>\n",
       "      <td>-39.499532</td>\n",
       "      <td>-7.046843</td>\n",
       "      <td>0</td>\n",
       "    </tr>\n",
       "  </tbody>\n",
       "</table>\n",
       "</div>"
      ],
      "text/plain": [
       "               ROC 2     ROC 5    ROC 10    ROC 20  Deviation EMA 10  \\\n",
       "Dates                                                                  \n",
       "2004-10-03 -0.950430 -3.565731 -4.773533 -5.258621         -3.145266   \n",
       "2004-10-10 -2.877405 -4.189450 -7.175132 -7.218502         -1.318854   \n",
       "2004-10-17  0.719663 -1.345001 -5.045621 -3.670886         15.480028   \n",
       "2004-10-24  2.182123 -0.245801 -4.830767 -5.576237         18.242751   \n",
       "2004-10-31  0.813075  0.057059 -2.818463 -5.431433         22.253160   \n",
       "\n",
       "            Deviation EMA 20  Deviation EMA 40  MACD (12, 16, 9)  \\\n",
       "Dates                                                              \n",
       "2004-10-03        -33.071905        -39.414000         -1.063577   \n",
       "2004-10-10        -33.379343        -46.271854         -1.860784   \n",
       "2004-10-17        -16.183691        -34.079324         -1.949907   \n",
       "2004-10-24        -11.263816        -34.076674         -1.982963   \n",
       "2004-10-31         -2.310119        -29.563178         -1.790757   \n",
       "\n",
       "            MACD (3, 5, 2)      RSI 5     RSI 10     RSI 14     RSI 20  \\\n",
       "Dates                                                                    \n",
       "2004-10-03       -3.861377  19.825401  34.272946  41.114504  46.984882   \n",
       "2004-10-10       -4.879007  14.557762  29.792533  37.437672  44.189530   \n",
       "2004-10-17       -2.230049  42.969704  42.352674  45.334744  48.982102   \n",
       "2004-10-24       -0.983722  42.901381  42.320443  45.311144  48.965143   \n",
       "2004-10-31        0.429008  52.368375  46.817456  48.214271  50.759614   \n",
       "\n",
       "            SMA (5, 10) diff  SMA (10, 20) diff     ADX 14      CCI 14  \\\n",
       "Dates                                                                    \n",
       "2004-10-03           -11.395            -6.1890  23.131563 -149.550770   \n",
       "2004-10-10           -12.000            -8.4765  23.788964 -163.745237   \n",
       "2004-10-17           -10.425           -10.5515  23.417572  -96.015734   \n",
       "2004-10-24            -7.635           -11.8440  22.543811  -59.526914   \n",
       "2004-10-31            -5.785           -11.8615  21.732462  -39.499532   \n",
       "\n",
       "              Return  Extreme  \n",
       "Dates                          \n",
       "2004-10-03 -1.968732        0  \n",
       "2004-10-10 -3.726395        0  \n",
       "2004-10-17 -7.769382        0  \n",
       "2004-10-24 -8.706366        0  \n",
       "2004-10-31 -7.046843        0  "
      ]
     },
     "execution_count": 26,
     "metadata": {},
     "output_type": "execute_result"
    }
   ],
   "source": [
    "data.dropna(inplace=True)\n",
    "data.drop(columns=features_to_delete, inplace=True)\n",
    "data.head()"
   ]
  },
  {
   "cell_type": "markdown",
   "metadata": {},
   "source": [
    "### Features"
   ]
  },
  {
   "cell_type": "code",
   "execution_count": 27,
   "metadata": {
    "collapsed": true
   },
   "outputs": [],
   "source": [
    "feature_names = data.drop(['Return', 'Extreme'], axis=1).columns"
   ]
  },
  {
   "cell_type": "markdown",
   "metadata": {},
   "source": [
    "# Train and test Random Forest"
   ]
  },
  {
   "cell_type": "code",
   "execution_count": 28,
   "metadata": {
    "collapsed": true
   },
   "outputs": [],
   "source": [
    "def to_class(y_vec, extreme):\n",
    "    pos = y_vec > extreme\n",
    "    neg = y_vec <= -1*extreme\n",
    "\n",
    "    y_vec[:] = 'Neutral'\n",
    "    y_vec[pos] = 'Pos'\n",
    "    y_vec[neg] = 'Neg'\n",
    "    return y_vec"
   ]
  },
  {
   "cell_type": "code",
   "execution_count": 29,
   "metadata": {
    "collapsed": true
   },
   "outputs": [],
   "source": [
    "def make_X_y(df):\n",
    "    X = df.drop(['Return', 'Extreme'], axis=1)\n",
    "    y = df['Return'].copy()\n",
    "    ret = y.copy()\n",
    "    y = to_class(y, extreme_val)\n",
    "    return X, y, ret"
   ]
  },
  {
   "cell_type": "code",
   "execution_count": 30,
   "metadata": {
    "collapsed": true
   },
   "outputs": [],
   "source": [
    "def split_X_y(X, y, ret):\n",
    "    X_train = X.iloc[:train_size]\n",
    "    X_test = X.iloc[-test_size:]\n",
    "    y_train = y.iloc[:train_size]\n",
    "    y_test = y.iloc[-test_size:]\n",
    "    train_ret = ret.iloc[:train_size]\n",
    "    test_ret = ret.iloc[-test_size:]\n",
    "    print('Split result before upsampling: {} -> {} + {}'.format(len(X), len(X_train), len(X_test)))\n",
    "    test_from_date, test_to_date = test_ret.index[0], test_ret.index[-1]\n",
    "    print(f'Test period: from {test_from_date} to {test_to_date}')\n",
    "    \n",
    "    last_q4 = 50\n",
    "    last_q8 = 25\n",
    "    \n",
    "    X_train = pd.concat([X_train, X_train[-last_q4:], X_train[-last_q8:]], ignore_index=True)\n",
    "    y_train = pd.concat([y_train, y_train[-last_q4:], y_train[-last_q8:]], ignore_index=True)\n",
    "    train_ret = pd.concat([train_ret, train_ret[-last_q4:], train_ret[-last_q8:]], ignore_index=True)\n",
    "    \n",
    "    return X_train, X_test, y_train, y_test, train_ret, test_ret"
   ]
  },
  {
   "cell_type": "code",
   "execution_count": 31,
   "metadata": {
    "collapsed": true
   },
   "outputs": [],
   "source": [
    "def print_labels_distrib(y_train, y_test):\n",
    "    def distrib_print(vec):\n",
    "        print('---\\nDistribution:\\n' + str(vec.value_counts()))\n",
    "        \n",
    "    distrib_print(y_train)\n",
    "    distrib_print(y_test)"
   ]
  },
  {
   "cell_type": "code",
   "execution_count": 32,
   "metadata": {
    "collapsed": true
   },
   "outputs": [],
   "source": [
    "def calculate_returns(ret, y_pred, log=True):\n",
    "    longs = np.nansum(ret[y_pred == 'Pos'])\n",
    "    shorts = np.nansum(-1*ret[y_pred == 'Neg'])\n",
    "    ret_sum = longs + shorts\n",
    "    if log:\n",
    "        print(f'{longs} [long] + {shorts} [short] = {ret_sum}')\n",
    "        y_pred_s = pd.Series(y_pred, index=ret.index)\n",
    "        return ret_sum, pd.concat([ret[y_pred == 'Pos'], -1*ret[y_pred == 'Neg']]), y_pred_s\n",
    "    return ret_sum"
   ]
  },
  {
   "cell_type": "code",
   "execution_count": 33,
   "metadata": {
    "collapsed": true
   },
   "outputs": [],
   "source": [
    "from sklearn.metrics import make_scorer\n",
    "def custom_loss(y_true, y_pred, ret):\n",
    "#     bad_sum     = -8*np.sum(((y_true == 'Pos') & (y_pred == 'Neg')) | ((y_true == 'Neg') & (y_pred == 'Pos')))\n",
    "#     np_sum      = -2*np.sum(((y_true == 'Neutral') & (y_pred == 'Pos')) | ((y_true == 'Neutral') & (y_pred == 'Neg')))\n",
    "#     pn_sum      = -1*np.sum(((y_true == 'Pos') & (y_pred == 'Neutral')) | ((y_true == 'Neg') & (y_pred == 'Neutral')))\n",
    "#     good_sum    =  10*np.sum(((y_true == 'Pos') & (y_pred == 'Pos')) | ((y_true == 'Neg') & (y_pred == 'Neg')))\n",
    "#     return bad_sum + np_sum + pn_sum + good_sum\n",
    "    actual_returns = ret.iloc[y_true.index]\n",
    "    return calculate_returns(actual_returns, y_pred, log=False) "
   ]
  },
  {
   "cell_type": "code",
   "execution_count": 34,
   "metadata": {
    "collapsed": true
   },
   "outputs": [],
   "source": [
    "def print_results(y_test, y_pred):\n",
    "    print('---\\nClassification report\\n', classification_report(y_test, y_pred))\n",
    "    print('---\\nConfusion matrix\\n', str(confusion_matrix(y_test, y_pred)))"
   ]
  },
  {
   "cell_type": "markdown",
   "metadata": {},
   "source": [
    "## Train and Test"
   ]
  },
  {
   "cell_type": "code",
   "execution_count": 35,
   "metadata": {
    "collapsed": true
   },
   "outputs": [],
   "source": [
    "def train_and_test(df):\n",
    "    X, y, ret = make_X_y(df)\n",
    "    X_train, X_test, y_train, y_test, train_ret, test_ret = split_X_y(X, y, ret)\n",
    "    print_labels_distrib(y_train, y_test)\n",
    "    \n",
    "    forest = RandomForestClassifier(n_jobs=8, oob_score=True, class_weight='balanced_subsample')\n",
    "    pipe = Pipeline(steps=[('scaler', StandardScaler()), \n",
    "#                            ('pca', PCA()), \n",
    "                           ('forest', forest)])\n",
    "    \n",
    "    params = {'forest__n_estimators': [100],\n",
    "              'forest__max_depth': [5, None],\n",
    "              'forest__max_features': ['sqrt', None],\n",
    "              'forest__min_samples_split': [2,5,10,20],\n",
    "              'forest__min_samples_leaf': [2,5,10,20],\n",
    "#               'pca__n_components': [0.3, 0.7],\n",
    "             }\n",
    "#     scorer = make_scorer(custom_loss, greater_is_better=True, ret=train_ret)\n",
    "    grid = GridSearchCV(estimator=pipe,\n",
    "                        param_grid=params, \n",
    "                        scoring='accuracy',\n",
    "                        iid=False,\n",
    "                        cv=5)\n",
    "    \n",
    "    grid.fit(X_train, y_train)\n",
    "    best_estimator = grid.best_estimator_\n",
    "    best_params = grid.best_params_\n",
    "    \n",
    "    y_pred = best_estimator.predict(X_test)\n",
    "    print_results(y_test, y_pred)\n",
    "    acc = accuracy_score(y_test, y_pred)\n",
    "    ret_sum, trades, y_pred_s = calculate_returns(test_ret, y_pred)\n",
    "    \n",
    "    param = {\n",
    "        'accuracy':acc,\n",
    "        'date': df.index[-1],\n",
    "        'best_params': best_params,\n",
    "#         'features': best_estimator.steps[-1][1].feature_importances_,\n",
    "        'ret_sum': ret_sum,\n",
    "        'trades': trades,\n",
    "        'predictions': y_pred_s\n",
    "    }\n",
    "    test_params.append(param)"
   ]
  },
  {
   "cell_type": "code",
   "execution_count": 36,
   "metadata": {
    "collapsed": false
   },
   "outputs": [
    {
     "name": "stdout",
     "output_type": "stream",
     "text": [
      "====================================================================================================\n",
      "From 2004-10-03 00:00:00 to 2007-12-30 00:00:00\n",
      "Split result before upsampling: 170 -> 150 + 10\n",
      "Test period: from 2007-10-28 00:00:00 to 2007-12-30 00:00:00\n",
      "---\n",
      "Distribution:\n",
      "Neg    163\n",
      "Pos     62\n",
      "Name: Return, dtype: int64\n",
      "---\n",
      "Distribution:\n",
      "Neg    10\n",
      "Name: Return, dtype: int64\n"
     ]
    },
    {
     "name": "stderr",
     "output_type": "stream",
     "text": [
      "C:\\DEV\\Anaconda3\\envs\\trading\\lib\\site-packages\\sklearn\\metrics\\classification.py:1137: UndefinedMetricWarning: Recall and F-score are ill-defined and being set to 0.0 in labels with no true samples.\n",
      "  'recall', 'true', average, warn_for)\n"
     ]
    },
    {
     "name": "stdout",
     "output_type": "stream",
     "text": [
      "---\n",
      "Classification report\n",
      "              precision    recall  f1-score   support\n",
      "\n",
      "        Neg       1.00      0.70      0.82        10\n",
      "        Pos       0.00      0.00      0.00         0\n",
      "\n",
      "avg / total       1.00      0.70      0.82        10\n",
      "\n",
      "---\n",
      "Confusion matrix\n",
      " [[7 3]\n",
      " [0 0]]\n",
      "-17.687957656699005 [long] + 48.33983711929564 [short] = 30.651879462596632\n",
      "====================================================================================================\n",
      "From 2004-12-12 00:00:00 to 2008-03-09 00:00:00\n",
      "Split result before upsampling: 170 -> 150 + 10\n",
      "Test period: from 2008-01-06 00:00:00 to 2008-03-09 00:00:00\n",
      "---\n",
      "Distribution:\n",
      "Neg    166\n",
      "Pos     59\n",
      "Name: Return, dtype: int64\n",
      "---\n",
      "Distribution:\n",
      "Neg    7\n",
      "Pos    3\n",
      "Name: Return, dtype: int64\n"
     ]
    },
    {
     "name": "stderr",
     "output_type": "stream",
     "text": [
      "C:\\DEV\\Anaconda3\\envs\\trading\\lib\\site-packages\\sklearn\\metrics\\classification.py:1135: UndefinedMetricWarning: Precision and F-score are ill-defined and being set to 0.0 in labels with no predicted samples.\n",
      "  'precision', 'predicted', average, warn_for)\n"
     ]
    },
    {
     "name": "stdout",
     "output_type": "stream",
     "text": [
      "---\n",
      "Classification report\n",
      "              precision    recall  f1-score   support\n",
      "\n",
      "        Neg       0.70      1.00      0.82         7\n",
      "        Pos       0.00      0.00      0.00         3\n",
      "\n",
      "avg / total       0.49      0.70      0.58        10\n",
      "\n",
      "---\n",
      "Confusion matrix\n",
      " [[7 0]\n",
      " [3 0]]\n",
      "0.0 [long] + 33.81954747311243 [short] = 33.81954747311243\n",
      "====================================================================================================\n",
      "From 2005-02-20 00:00:00 to 2008-05-18 00:00:00\n",
      "Split result before upsampling: 170 -> 150 + 10\n",
      "Test period: from 2008-03-16 00:00:00 to 2008-05-18 00:00:00\n",
      "---\n",
      "Distribution:\n",
      "Neg    183\n",
      "Pos     42\n",
      "Name: Return, dtype: int64\n",
      "---\n",
      "Distribution:\n",
      "Pos    10\n",
      "Name: Return, dtype: int64\n"
     ]
    },
    {
     "name": "stderr",
     "output_type": "stream",
     "text": [
      "C:\\DEV\\Anaconda3\\envs\\trading\\lib\\site-packages\\sklearn\\metrics\\classification.py:1137: UndefinedMetricWarning: Recall and F-score are ill-defined and being set to 0.0 in labels with no true samples.\n",
      "  'recall', 'true', average, warn_for)\n"
     ]
    },
    {
     "name": "stdout",
     "output_type": "stream",
     "text": [
      "---\n",
      "Classification report\n",
      "              precision    recall  f1-score   support\n",
      "\n",
      "        Neg       0.00      0.00      0.00         0\n",
      "        Pos       1.00      0.20      0.33        10\n",
      "\n",
      "avg / total       1.00      0.20      0.33        10\n",
      "\n",
      "---\n",
      "Confusion matrix\n",
      " [[0 0]\n",
      " [8 2]]\n",
      "25.296393439695628 [long] + -71.44795968769219 [short] = -46.15156624799656\n",
      "====================================================================================================\n",
      "From 2005-05-01 00:00:00 to 2008-07-27 00:00:00\n",
      "Split result before upsampling: 170 -> 150 + 10\n",
      "Test period: from 2008-05-25 00:00:00 to 2008-07-27 00:00:00\n",
      "---\n",
      "Distribution:\n",
      "Neg    179\n",
      "Pos     46\n",
      "Name: Return, dtype: int64\n",
      "---\n",
      "Distribution:\n",
      "Pos    10\n",
      "Name: Return, dtype: int64\n"
     ]
    },
    {
     "name": "stderr",
     "output_type": "stream",
     "text": [
      "C:\\DEV\\Anaconda3\\envs\\trading\\lib\\site-packages\\sklearn\\metrics\\classification.py:1135: UndefinedMetricWarning: Precision and F-score are ill-defined and being set to 0.0 in labels with no predicted samples.\n",
      "  'precision', 'predicted', average, warn_for)\n",
      "C:\\DEV\\Anaconda3\\envs\\trading\\lib\\site-packages\\sklearn\\metrics\\classification.py:1137: UndefinedMetricWarning: Recall and F-score are ill-defined and being set to 0.0 in labels with no true samples.\n",
      "  'recall', 'true', average, warn_for)\n"
     ]
    },
    {
     "name": "stdout",
     "output_type": "stream",
     "text": [
      "---\n",
      "Classification report\n",
      "              precision    recall  f1-score   support\n",
      "\n",
      "        Neg       0.00      0.00      0.00         0\n",
      "        Pos       0.00      0.00      0.00        10\n",
      "\n",
      "avg / total       0.00      0.00      0.00        10\n",
      "\n",
      "---\n",
      "Confusion matrix\n",
      " [[ 0  0]\n",
      " [10  0]]\n",
      "0.0 [long] + -66.52495670382538 [short] = -66.52495670382538\n",
      "====================================================================================================\n",
      "From 2005-07-10 00:00:00 to 2008-10-05 00:00:00\n",
      "Split result before upsampling: 170 -> 150 + 10\n",
      "Test period: from 2008-08-03 00:00:00 to 2008-10-05 00:00:00\n",
      "---\n",
      "Distribution:\n",
      "Neg    152\n",
      "Pos     73\n",
      "Name: Return, dtype: int64\n",
      "---\n",
      "Distribution:\n",
      "Pos    10\n",
      "Name: Return, dtype: int64\n"
     ]
    },
    {
     "name": "stderr",
     "output_type": "stream",
     "text": [
      "C:\\DEV\\Anaconda3\\envs\\trading\\lib\\site-packages\\sklearn\\metrics\\classification.py:1135: UndefinedMetricWarning: Precision and F-score are ill-defined and being set to 0.0 in labels with no predicted samples.\n",
      "  'precision', 'predicted', average, warn_for)\n",
      "C:\\DEV\\Anaconda3\\envs\\trading\\lib\\site-packages\\sklearn\\metrics\\classification.py:1137: UndefinedMetricWarning: Recall and F-score are ill-defined and being set to 0.0 in labels with no true samples.\n",
      "  'recall', 'true', average, warn_for)\n"
     ]
    },
    {
     "name": "stdout",
     "output_type": "stream",
     "text": [
      "---\n",
      "Classification report\n",
      "              precision    recall  f1-score   support\n",
      "\n",
      "        Neg       0.00      0.00      0.00         0\n",
      "        Pos       0.00      0.00      0.00        10\n",
      "\n",
      "avg / total       0.00      0.00      0.00        10\n",
      "\n",
      "---\n",
      "Confusion matrix\n",
      " [[ 0  0]\n",
      " [10  0]]\n",
      "0.0 [long] + -238.47728012352502 [short] = -238.47728012352502\n",
      "====================================================================================================\n",
      "From 2005-09-18 00:00:00 to 2008-12-14 00:00:00\n",
      "Split result before upsampling: 170 -> 150 + 10\n",
      "Test period: from 2008-10-12 00:00:00 to 2008-12-14 00:00:00\n",
      "---\n",
      "Distribution:\n",
      "Neg    123\n",
      "Pos    102\n",
      "Name: Return, dtype: int64\n",
      "---\n",
      "Distribution:\n",
      "Neg    9\n",
      "Pos    1\n",
      "Name: Return, dtype: int64\n"
     ]
    },
    {
     "name": "stderr",
     "output_type": "stream",
     "text": [
      "C:\\DEV\\Anaconda3\\envs\\trading\\lib\\site-packages\\sklearn\\metrics\\classification.py:1135: UndefinedMetricWarning: Precision and F-score are ill-defined and being set to 0.0 in labels with no predicted samples.\n",
      "  'precision', 'predicted', average, warn_for)\n"
     ]
    },
    {
     "name": "stdout",
     "output_type": "stream",
     "text": [
      "---\n",
      "Classification report\n",
      "              precision    recall  f1-score   support\n",
      "\n",
      "        Neg       0.00      0.00      0.00         9\n",
      "        Pos       0.10      1.00      0.18         1\n",
      "\n",
      "avg / total       0.01      0.10      0.02        10\n",
      "\n",
      "---\n",
      "Confusion matrix\n",
      " [[0 9]\n",
      " [0 1]]\n",
      "-50.82812140963442 [long] + 0.0 [short] = -50.82812140963442\n",
      "====================================================================================================\n",
      "From 2005-11-27 00:00:00 to 2009-02-22 00:00:00\n",
      "Split result before upsampling: 170 -> 150 + 10\n",
      "Test period: from 2008-12-21 00:00:00 to 2009-02-22 00:00:00\n",
      "---\n",
      "Distribution:\n",
      "Pos    123\n",
      "Neg    102\n",
      "Name: Return, dtype: int64\n",
      "---\n",
      "Distribution:\n",
      "Neg    9\n",
      "Pos    1\n",
      "Name: Return, dtype: int64\n"
     ]
    },
    {
     "name": "stderr",
     "output_type": "stream",
     "text": [
      "C:\\DEV\\Anaconda3\\envs\\trading\\lib\\site-packages\\sklearn\\metrics\\classification.py:1135: UndefinedMetricWarning: Precision and F-score are ill-defined and being set to 0.0 in labels with no predicted samples.\n",
      "  'precision', 'predicted', average, warn_for)\n"
     ]
    },
    {
     "name": "stdout",
     "output_type": "stream",
     "text": [
      "---\n",
      "Classification report\n",
      "              precision    recall  f1-score   support\n",
      "\n",
      "        Neg       0.00      0.00      0.00         9\n",
      "        Pos       0.10      1.00      0.18         1\n",
      "\n",
      "avg / total       0.01      0.10      0.02        10\n",
      "\n",
      "---\n",
      "Confusion matrix\n",
      " [[0 9]\n",
      " [0 1]]\n",
      "-52.60022548929596 [long] + 0.0 [short] = -52.60022548929596\n",
      "====================================================================================================\n",
      "From 2006-02-05 00:00:00 to 2009-05-03 00:00:00\n",
      "Split result before upsampling: 170 -> 150 + 10\n",
      "Test period: from 2009-03-01 00:00:00 to 2009-05-03 00:00:00\n",
      "---\n",
      "Distribution:\n",
      "Neg    117\n",
      "Pos    108\n",
      "Name: Return, dtype: int64\n",
      "---\n",
      "Distribution:\n",
      "Neg    10\n",
      "Name: Return, dtype: int64\n"
     ]
    },
    {
     "name": "stderr",
     "output_type": "stream",
     "text": [
      "C:\\DEV\\Anaconda3\\envs\\trading\\lib\\site-packages\\sklearn\\metrics\\classification.py:1137: UndefinedMetricWarning: Recall and F-score are ill-defined and being set to 0.0 in labels with no true samples.\n",
      "  'recall', 'true', average, warn_for)\n"
     ]
    },
    {
     "name": "stdout",
     "output_type": "stream",
     "text": [
      "---\n",
      "Classification report\n",
      "              precision    recall  f1-score   support\n",
      "\n",
      "        Neg       1.00      0.60      0.75        10\n",
      "        Pos       0.00      0.00      0.00         0\n",
      "\n",
      "avg / total       1.00      0.60      0.75        10\n",
      "\n",
      "---\n",
      "Confusion matrix\n",
      " [[6 4]\n",
      " [0 0]]\n",
      "-22.767442243962567 [long] + 34.82697219526377 [short] = 12.059529951301204\n",
      "====================================================================================================\n",
      "From 2006-04-16 00:00:00 to 2009-07-12 00:00:00\n",
      "Split result before upsampling: 170 -> 150 + 10\n",
      "Test period: from 2009-05-10 00:00:00 to 2009-07-12 00:00:00\n",
      "---\n",
      "Distribution:\n",
      "Neg    130\n",
      "Pos     95\n",
      "Name: Return, dtype: int64\n",
      "---\n",
      "Distribution:\n",
      "Neg    7\n",
      "Pos    3\n",
      "Name: Return, dtype: int64\n",
      "---\n",
      "Classification report\n",
      "              precision    recall  f1-score   support\n",
      "\n",
      "        Neg       1.00      0.43      0.60         7\n",
      "        Pos       0.43      1.00      0.60         3\n",
      "\n",
      "avg / total       0.83      0.60      0.60        10\n",
      "\n",
      "---\n",
      "Confusion matrix\n",
      " [[3 4]\n",
      " [0 3]]\n",
      "-1.0754897582402996 [long] + 12.425439962825578 [short] = 11.349950204585278\n",
      "====================================================================================================\n",
      "From 2006-06-25 00:00:00 to 2009-09-20 00:00:00\n",
      "Split result before upsampling: 170 -> 150 + 10\n",
      "Test period: from 2009-07-19 00:00:00 to 2009-09-20 00:00:00\n",
      "---\n",
      "Distribution:\n",
      "Neg    154\n",
      "Pos     71\n",
      "Name: Return, dtype: int64\n",
      "---\n",
      "Distribution:\n",
      "Neg    6\n",
      "Pos    4\n",
      "Name: Return, dtype: int64\n",
      "---\n",
      "Classification report\n",
      "              precision    recall  f1-score   support\n",
      "\n",
      "        Neg       0.86      1.00      0.92         6\n",
      "        Pos       1.00      0.75      0.86         4\n",
      "\n",
      "avg / total       0.91      0.90      0.90        10\n",
      "\n",
      "---\n",
      "Confusion matrix\n",
      " [[6 0]\n",
      " [1 3]]\n",
      "7.915349805008964 [long] + 38.126074507174934 [short] = 46.0414243121839\n",
      "====================================================================================================\n",
      "From 2006-09-03 00:00:00 to 2009-11-29 00:00:00\n",
      "Split result before upsampling: 170 -> 150 + 10\n",
      "Test period: from 2009-09-27 00:00:00 to 2009-11-29 00:00:00\n",
      "---\n",
      "Distribution:\n",
      "Neg    156\n",
      "Pos     69\n",
      "Name: Return, dtype: int64\n",
      "---\n",
      "Distribution:\n",
      "Neg    7\n",
      "Pos    3\n",
      "Name: Return, dtype: int64\n",
      "---\n",
      "Classification report\n",
      "              precision    recall  f1-score   support\n",
      "\n",
      "        Neg       0.78      1.00      0.88         7\n",
      "        Pos       1.00      0.33      0.50         3\n",
      "\n",
      "avg / total       0.84      0.80      0.76        10\n",
      "\n",
      "---\n",
      "Confusion matrix\n",
      " [[7 0]\n",
      " [2 1]]\n",
      "9.18398378104408 [long] + 47.30941805948564 [short] = 56.493401840529714\n",
      "====================================================================================================\n",
      "From 2006-11-12 00:00:00 to 2010-02-07 00:00:00\n",
      "Split result before upsampling: 170 -> 150 + 10\n",
      "Test period: from 2009-12-06 00:00:00 to 2010-02-07 00:00:00\n",
      "---\n",
      "Distribution:\n",
      "Neg    158\n",
      "Pos     67\n",
      "Name: Return, dtype: int64\n",
      "---\n",
      "Distribution:\n",
      "Pos    8\n",
      "Neg    2\n",
      "Name: Return, dtype: int64\n"
     ]
    },
    {
     "name": "stderr",
     "output_type": "stream",
     "text": [
      "C:\\DEV\\Anaconda3\\envs\\trading\\lib\\site-packages\\sklearn\\metrics\\classification.py:1135: UndefinedMetricWarning: Precision and F-score are ill-defined and being set to 0.0 in labels with no predicted samples.\n",
      "  'precision', 'predicted', average, warn_for)\n"
     ]
    },
    {
     "name": "stdout",
     "output_type": "stream",
     "text": [
      "---\n",
      "Classification report\n",
      "              precision    recall  f1-score   support\n",
      "\n",
      "        Neg       0.00      0.00      0.00         2\n",
      "        Pos       0.80      1.00      0.89         8\n",
      "\n",
      "avg / total       0.64      0.80      0.71        10\n",
      "\n",
      "---\n",
      "Confusion matrix\n",
      " [[0 2]\n",
      " [0 8]]\n",
      "33.81363599933981 [long] + 0.0 [short] = 33.81363599933981\n",
      "====================================================================================================\n",
      "From 2007-01-21 00:00:00 to 2010-04-18 00:00:00\n",
      "Split result before upsampling: 170 -> 150 + 10\n",
      "Test period: from 2010-02-14 00:00:00 to 2010-04-18 00:00:00\n",
      "---\n",
      "Distribution:\n",
      "Neg    158\n",
      "Pos     67\n",
      "Name: Return, dtype: int64\n",
      "---\n",
      "Distribution:\n",
      "Pos    8\n",
      "Neg    2\n",
      "Name: Return, dtype: int64\n"
     ]
    },
    {
     "name": "stderr",
     "output_type": "stream",
     "text": [
      "C:\\DEV\\Anaconda3\\envs\\trading\\lib\\site-packages\\sklearn\\metrics\\classification.py:1135: UndefinedMetricWarning: Precision and F-score are ill-defined and being set to 0.0 in labels with no predicted samples.\n",
      "  'precision', 'predicted', average, warn_for)\n"
     ]
    },
    {
     "name": "stdout",
     "output_type": "stream",
     "text": [
      "---\n",
      "Classification report\n",
      "              precision    recall  f1-score   support\n",
      "\n",
      "        Neg       0.00      0.00      0.00         2\n",
      "        Pos       0.80      1.00      0.89         8\n",
      "\n",
      "avg / total       0.64      0.80      0.71        10\n",
      "\n",
      "---\n",
      "Confusion matrix\n",
      " [[0 2]\n",
      " [0 8]]\n",
      "18.723804123724264 [long] + 0.0 [short] = 18.723804123724264\n",
      "====================================================================================================\n",
      "From 2007-04-01 00:00:00 to 2010-06-27 00:00:00\n",
      "Split result before upsampling: 170 -> 150 + 10\n",
      "Test period: from 2010-04-25 00:00:00 to 2010-06-27 00:00:00\n",
      "---\n",
      "Distribution:\n",
      "Neg    142\n",
      "Pos     83\n",
      "Name: Return, dtype: int64\n",
      "---\n",
      "Distribution:\n",
      "Neg    8\n",
      "Pos    2\n",
      "Name: Return, dtype: int64\n"
     ]
    },
    {
     "name": "stderr",
     "output_type": "stream",
     "text": [
      "C:\\DEV\\Anaconda3\\envs\\trading\\lib\\site-packages\\sklearn\\metrics\\classification.py:1135: UndefinedMetricWarning: Precision and F-score are ill-defined and being set to 0.0 in labels with no predicted samples.\n",
      "  'precision', 'predicted', average, warn_for)\n"
     ]
    },
    {
     "name": "stdout",
     "output_type": "stream",
     "text": [
      "---\n",
      "Classification report\n",
      "              precision    recall  f1-score   support\n",
      "\n",
      "        Neg       0.00      0.00      0.00         8\n",
      "        Pos       0.20      1.00      0.33         2\n",
      "\n",
      "avg / total       0.04      0.20      0.07        10\n",
      "\n",
      "---\n",
      "Confusion matrix\n",
      " [[0 8]\n",
      " [0 2]]\n",
      "-29.660327759784334 [long] + 0.0 [short] = -29.660327759784334\n",
      "====================================================================================================\n",
      "From 2007-06-10 00:00:00 to 2010-09-05 00:00:00\n",
      "Split result before upsampling: 170 -> 150 + 10\n",
      "Test period: from 2010-07-04 00:00:00 to 2010-09-05 00:00:00\n",
      "---\n",
      "Distribution:\n",
      "Neg    119\n",
      "Pos    106\n",
      "Name: Return, dtype: int64\n",
      "---\n",
      "Distribution:\n",
      "Neg    10\n",
      "Name: Return, dtype: int64\n"
     ]
    },
    {
     "name": "stderr",
     "output_type": "stream",
     "text": [
      "C:\\DEV\\Anaconda3\\envs\\trading\\lib\\site-packages\\sklearn\\metrics\\classification.py:1137: UndefinedMetricWarning: Recall and F-score are ill-defined and being set to 0.0 in labels with no true samples.\n",
      "  'recall', 'true', average, warn_for)\n"
     ]
    },
    {
     "name": "stdout",
     "output_type": "stream",
     "text": [
      "---\n",
      "Classification report\n",
      "              precision    recall  f1-score   support\n",
      "\n",
      "        Neg       1.00      0.70      0.82        10\n",
      "        Pos       0.00      0.00      0.00         0\n",
      "\n",
      "avg / total       1.00      0.70      0.82        10\n",
      "\n",
      "---\n",
      "Confusion matrix\n",
      " [[7 3]\n",
      " [0 0]]\n",
      "-23.228641674436833 [long] + 36.66895633112025 [short] = 13.440314656683416\n",
      "====================================================================================================\n",
      "From 2007-08-19 00:00:00 to 2010-11-14 00:00:00\n",
      "Split result before upsampling: 170 -> 150 + 10\n",
      "Test period: from 2010-09-12 00:00:00 to 2010-11-14 00:00:00\n",
      "---\n",
      "Distribution:\n",
      "Neg    124\n",
      "Pos    101\n",
      "Name: Return, dtype: int64\n",
      "---\n",
      "Distribution:\n",
      "Neg    7\n",
      "Pos    3\n",
      "Name: Return, dtype: int64\n",
      "---\n",
      "Classification report\n",
      "              precision    recall  f1-score   support\n",
      "\n",
      "        Neg       0.67      0.86      0.75         7\n",
      "        Pos       0.00      0.00      0.00         3\n",
      "\n",
      "avg / total       0.47      0.60      0.53        10\n",
      "\n",
      "---\n",
      "Confusion matrix\n",
      " [[6 1]\n",
      " [3 0]]\n",
      "-1.9425781413011767 [long] + 8.188164209881702 [short] = 6.245586068580526\n",
      "====================================================================================================\n",
      "From 2007-10-28 00:00:00 to 2011-01-23 00:00:00\n",
      "Split result before upsampling: 170 -> 150 + 10\n",
      "Test period: from 2010-11-21 00:00:00 to 2011-01-23 00:00:00\n",
      "---\n",
      "Distribution:\n",
      "Neg    134\n",
      "Pos     91\n",
      "Name: Return, dtype: int64\n",
      "---\n",
      "Distribution:\n",
      "Neg    6\n",
      "Pos    4\n",
      "Name: Return, dtype: int64\n",
      "---\n",
      "Classification report\n",
      "              precision    recall  f1-score   support\n",
      "\n",
      "        Neg       0.56      0.83      0.67         6\n",
      "        Pos       0.00      0.00      0.00         4\n",
      "\n",
      "avg / total       0.33      0.50      0.40        10\n",
      "\n",
      "---\n",
      "Confusion matrix\n",
      " [[5 1]\n",
      " [4 0]]\n",
      "-3.5080604278616923 [long] + 4.657915272165891 [short] = 1.1498548443041985\n",
      "====================================================================================================\n",
      "From 2008-01-06 00:00:00 to 2011-04-03 00:00:00\n",
      "Split result before upsampling: 170 -> 150 + 10\n",
      "Test period: from 2011-01-30 00:00:00 to 2011-04-03 00:00:00\n",
      "---\n",
      "Distribution:\n",
      "Neg    135\n",
      "Pos     90\n",
      "Name: Return, dtype: int64\n",
      "---\n",
      "Distribution:\n",
      "Neg    10\n",
      "Name: Return, dtype: int64\n"
     ]
    },
    {
     "name": "stderr",
     "output_type": "stream",
     "text": [
      "C:\\DEV\\Anaconda3\\envs\\trading\\lib\\site-packages\\sklearn\\metrics\\classification.py:1137: UndefinedMetricWarning: Recall and F-score are ill-defined and being set to 0.0 in labels with no true samples.\n",
      "  'recall', 'true', average, warn_for)\n"
     ]
    },
    {
     "name": "stdout",
     "output_type": "stream",
     "text": [
      "---\n",
      "Classification report\n",
      "              precision    recall  f1-score   support\n",
      "\n",
      "        Neg       1.00      0.10      0.18        10\n",
      "        Pos       0.00      0.00      0.00         0\n",
      "\n",
      "avg / total       1.00      0.10      0.18        10\n",
      "\n",
      "---\n",
      "Confusion matrix\n",
      " [[1 9]\n",
      " [0 0]]\n",
      "-18.274063095869366 [long] + 1.7190291058106544 [short] = -16.55503399005871\n",
      "====================================================================================================\n",
      "From 2008-03-16 00:00:00 to 2011-06-12 00:00:00\n",
      "Split result before upsampling: 170 -> 150 + 10\n",
      "Test period: from 2011-04-10 00:00:00 to 2011-06-12 00:00:00\n",
      "---\n",
      "Distribution:\n",
      "Neg    134\n",
      "Pos     91\n",
      "Name: Return, dtype: int64\n",
      "---\n",
      "Distribution:\n",
      "Neg    5\n",
      "Pos    5\n",
      "Name: Return, dtype: int64\n"
     ]
    },
    {
     "name": "stderr",
     "output_type": "stream",
     "text": [
      "C:\\DEV\\Anaconda3\\envs\\trading\\lib\\site-packages\\sklearn\\metrics\\classification.py:1135: UndefinedMetricWarning: Precision and F-score are ill-defined and being set to 0.0 in labels with no predicted samples.\n",
      "  'precision', 'predicted', average, warn_for)\n"
     ]
    },
    {
     "name": "stdout",
     "output_type": "stream",
     "text": [
      "---\n",
      "Classification report\n",
      "              precision    recall  f1-score   support\n",
      "\n",
      "        Neg       0.50      1.00      0.67         5\n",
      "        Pos       0.00      0.00      0.00         5\n",
      "\n",
      "avg / total       0.25      0.50      0.33        10\n",
      "\n",
      "---\n",
      "Confusion matrix\n",
      " [[5 0]\n",
      " [5 0]]\n",
      "0.0 [long] + 2.8062279588755508 [short] = 2.8062279588755508\n",
      "====================================================================================================\n",
      "From 2008-05-25 00:00:00 to 2011-08-21 00:00:00\n",
      "Split result before upsampling: 170 -> 150 + 10\n",
      "Test period: from 2011-06-19 00:00:00 to 2011-08-21 00:00:00\n",
      "---\n",
      "Distribution:\n",
      "Neg    152\n",
      "Pos     73\n",
      "Name: Return, dtype: int64\n",
      "---\n",
      "Distribution:\n",
      "Pos    8\n",
      "Neg    2\n",
      "Name: Return, dtype: int64\n"
     ]
    },
    {
     "name": "stderr",
     "output_type": "stream",
     "text": [
      "C:\\DEV\\Anaconda3\\envs\\trading\\lib\\site-packages\\sklearn\\metrics\\classification.py:1135: UndefinedMetricWarning: Precision and F-score are ill-defined and being set to 0.0 in labels with no predicted samples.\n",
      "  'precision', 'predicted', average, warn_for)\n"
     ]
    },
    {
     "name": "stdout",
     "output_type": "stream",
     "text": [
      "---\n",
      "Classification report\n",
      "              precision    recall  f1-score   support\n",
      "\n",
      "        Neg       0.20      1.00      0.33         2\n",
      "        Pos       0.00      0.00      0.00         8\n",
      "\n",
      "avg / total       0.04      0.20      0.07        10\n",
      "\n",
      "---\n",
      "Confusion matrix\n",
      " [[2 0]\n",
      " [8 0]]\n",
      "0.0 [long] + -59.515897736652946 [short] = -59.515897736652946\n",
      "====================================================================================================\n",
      "From 2008-08-03 00:00:00 to 2011-10-30 00:00:00\n",
      "Split result before upsampling: 170 -> 150 + 10\n",
      "Test period: from 2011-08-28 00:00:00 to 2011-10-30 00:00:00\n",
      "---\n",
      "Distribution:\n",
      "Neg    154\n",
      "Pos     71\n",
      "Name: Return, dtype: int64\n",
      "---\n",
      "Distribution:\n",
      "Pos    7\n",
      "Neg    3\n",
      "Name: Return, dtype: int64\n",
      "---\n",
      "Classification report\n",
      "              precision    recall  f1-score   support\n",
      "\n",
      "        Neg       0.33      0.67      0.44         3\n",
      "        Pos       0.75      0.43      0.55         7\n",
      "\n",
      "avg / total       0.62      0.50      0.52        10\n",
      "\n",
      "---\n",
      "Confusion matrix\n",
      " [[2 1]\n",
      " [4 3]]\n",
      "13.383804160074318 [long] + -26.68293375755276 [short] = -13.299129597478442\n",
      "====================================================================================================\n",
      "From 2008-10-12 00:00:00 to 2012-01-08 00:00:00\n",
      "Split result before upsampling: 170 -> 150 + 10\n",
      "Test period: from 2011-11-06 00:00:00 to 2012-01-08 00:00:00\n",
      "---\n",
      "Distribution:\n",
      "Neg    142\n",
      "Pos     83\n",
      "Name: Return, dtype: int64\n",
      "---\n",
      "Distribution:\n",
      "Neg    9\n",
      "Pos    1\n",
      "Name: Return, dtype: int64\n"
     ]
    },
    {
     "name": "stderr",
     "output_type": "stream",
     "text": [
      "C:\\DEV\\Anaconda3\\envs\\trading\\lib\\site-packages\\sklearn\\metrics\\classification.py:1135: UndefinedMetricWarning: Precision and F-score are ill-defined and being set to 0.0 in labels with no predicted samples.\n",
      "  'precision', 'predicted', average, warn_for)\n"
     ]
    },
    {
     "name": "stdout",
     "output_type": "stream",
     "text": [
      "---\n",
      "Classification report\n",
      "              precision    recall  f1-score   support\n",
      "\n",
      "        Neg       0.90      1.00      0.95         9\n",
      "        Pos       0.00      0.00      0.00         1\n",
      "\n",
      "avg / total       0.81      0.90      0.85        10\n",
      "\n",
      "---\n",
      "Confusion matrix\n",
      " [[9 0]\n",
      " [1 0]]\n",
      "0.0 [long] + 52.68946295900066 [short] = 52.68946295900066\n",
      "====================================================================================================\n",
      "From 2008-12-21 00:00:00 to 2012-03-18 00:00:00\n",
      "Split result before upsampling: 170 -> 150 + 10\n",
      "Test period: from 2012-01-15 00:00:00 to 2012-03-18 00:00:00\n",
      "---\n",
      "Distribution:\n",
      "Neg    128\n",
      "Pos     97\n",
      "Name: Return, dtype: int64\n",
      "---\n",
      "Distribution:\n",
      "Pos    6\n",
      "Neg    4\n",
      "Name: Return, dtype: int64\n"
     ]
    },
    {
     "name": "stderr",
     "output_type": "stream",
     "text": [
      "C:\\DEV\\Anaconda3\\envs\\trading\\lib\\site-packages\\sklearn\\metrics\\classification.py:1135: UndefinedMetricWarning: Precision and F-score are ill-defined and being set to 0.0 in labels with no predicted samples.\n",
      "  'precision', 'predicted', average, warn_for)\n"
     ]
    },
    {
     "name": "stdout",
     "output_type": "stream",
     "text": [
      "---\n",
      "Classification report\n",
      "              precision    recall  f1-score   support\n",
      "\n",
      "        Neg       0.40      1.00      0.57         4\n",
      "        Pos       0.00      0.00      0.00         6\n",
      "\n",
      "avg / total       0.16      0.40      0.23        10\n",
      "\n",
      "---\n",
      "Confusion matrix\n",
      " [[4 0]\n",
      " [6 0]]\n",
      "0.0 [long] + -10.432040158410416 [short] = -10.432040158410416\n",
      "====================================================================================================\n",
      "From 2009-03-01 00:00:00 to 2012-05-27 00:00:00\n",
      "Split result before upsampling: 170 -> 150 + 10\n",
      "Test period: from 2012-03-25 00:00:00 to 2012-05-27 00:00:00\n",
      "---\n",
      "Distribution:\n",
      "Neg    135\n",
      "Pos     90\n",
      "Name: Return, dtype: int64\n",
      "---\n",
      "Distribution:\n",
      "Pos    8\n",
      "Neg    2\n",
      "Name: Return, dtype: int64\n"
     ]
    },
    {
     "name": "stderr",
     "output_type": "stream",
     "text": [
      "C:\\DEV\\Anaconda3\\envs\\trading\\lib\\site-packages\\sklearn\\metrics\\classification.py:1135: UndefinedMetricWarning: Precision and F-score are ill-defined and being set to 0.0 in labels with no predicted samples.\n",
      "  'precision', 'predicted', average, warn_for)\n"
     ]
    },
    {
     "name": "stdout",
     "output_type": "stream",
     "text": [
      "---\n",
      "Classification report\n",
      "              precision    recall  f1-score   support\n",
      "\n",
      "        Neg       0.20      1.00      0.33         2\n",
      "        Pos       0.00      0.00      0.00         8\n",
      "\n",
      "avg / total       0.04      0.20      0.07        10\n",
      "\n",
      "---\n",
      "Confusion matrix\n",
      " [[2 0]\n",
      " [8 0]]\n",
      "0.0 [long] + -14.004342965246728 [short] = -14.004342965246728\n",
      "====================================================================================================\n",
      "From 2009-05-10 00:00:00 to 2012-08-05 00:00:00\n",
      "Split result before upsampling: 170 -> 150 + 10\n",
      "Test period: from 2012-06-03 00:00:00 to 2012-08-05 00:00:00\n",
      "---\n",
      "Distribution:\n",
      "Neg    126\n",
      "Pos     99\n",
      "Name: Return, dtype: int64\n",
      "---\n",
      "Distribution:\n",
      "Neg    10\n",
      "Name: Return, dtype: int64\n",
      "---\n",
      "Classification report\n",
      "              precision    recall  f1-score   support\n",
      "\n",
      "        Neg       1.00      1.00      1.00        10\n",
      "\n",
      "avg / total       1.00      1.00      1.00        10\n",
      "\n",
      "---\n",
      "Confusion matrix\n",
      " [[10]]\n",
      "0.0 [long] + 40.71155796314453 [short] = 40.71155796314453\n",
      "====================================================================================================\n",
      "From 2009-07-19 00:00:00 to 2012-10-14 00:00:00\n",
      "Split result before upsampling: 170 -> 150 + 10\n",
      "Test period: from 2012-08-12 00:00:00 to 2012-10-14 00:00:00\n",
      "---\n",
      "Distribution:\n",
      "Neg    114\n",
      "Pos    111\n",
      "Name: Return, dtype: int64\n",
      "---\n",
      "Distribution:\n",
      "Pos    6\n",
      "Neg    4\n",
      "Name: Return, dtype: int64\n",
      "---\n",
      "Classification report\n",
      "              precision    recall  f1-score   support\n",
      "\n",
      "        Neg       0.50      0.25      0.33         4\n",
      "        Pos       0.62      0.83      0.71         6\n",
      "\n",
      "avg / total       0.57      0.60      0.56        10\n",
      "\n",
      "---\n",
      "Confusion matrix\n",
      " [[1 3]\n",
      " [1 5]]\n",
      "4.52093463110873 [long] + -0.849752158836603 [short] = 3.671182472272127\n",
      "====================================================================================================\n",
      "From 2009-09-27 00:00:00 to 2012-12-23 00:00:00\n",
      "Split result before upsampling: 170 -> 150 + 10\n",
      "Test period: from 2012-10-21 00:00:00 to 2012-12-23 00:00:00\n",
      "---\n",
      "Distribution:\n",
      "Neg    128\n",
      "Pos     97\n",
      "Name: Return, dtype: int64\n",
      "---\n",
      "Distribution:\n",
      "Neg    9\n",
      "Pos    1\n",
      "Name: Return, dtype: int64\n",
      "---\n",
      "Classification report\n",
      "              precision    recall  f1-score   support\n",
      "\n",
      "        Neg       1.00      0.33      0.50         9\n",
      "        Pos       0.14      1.00      0.25         1\n",
      "\n",
      "avg / total       0.91      0.40      0.47        10\n",
      "\n",
      "---\n",
      "Confusion matrix\n",
      " [[3 6]\n",
      " [0 1]]\n",
      "-10.04850621129223 [long] + 2.132844332085504 [short] = -7.915661879206725\n",
      "====================================================================================================\n",
      "From 2009-12-06 00:00:00 to 2013-03-03 00:00:00\n",
      "Split result before upsampling: 170 -> 150 + 10\n",
      "Test period: from 2012-12-30 00:00:00 to 2013-03-03 00:00:00\n",
      "---\n",
      "Distribution:\n",
      "Neg    129\n",
      "Pos     96\n",
      "Name: Return, dtype: int64\n",
      "---\n",
      "Distribution:\n",
      "Neg    6\n",
      "Pos    4\n",
      "Name: Return, dtype: int64\n"
     ]
    },
    {
     "name": "stderr",
     "output_type": "stream",
     "text": [
      "C:\\DEV\\Anaconda3\\envs\\trading\\lib\\site-packages\\sklearn\\metrics\\classification.py:1135: UndefinedMetricWarning: Precision and F-score are ill-defined and being set to 0.0 in labels with no predicted samples.\n",
      "  'precision', 'predicted', average, warn_for)\n"
     ]
    },
    {
     "name": "stdout",
     "output_type": "stream",
     "text": [
      "---\n",
      "Classification report\n",
      "              precision    recall  f1-score   support\n",
      "\n",
      "        Neg       0.60      1.00      0.75         6\n",
      "        Pos       0.00      0.00      0.00         4\n",
      "\n",
      "avg / total       0.36      0.60      0.45        10\n",
      "\n",
      "---\n",
      "Confusion matrix\n",
      " [[6 0]\n",
      " [4 0]]\n",
      "0.0 [long] + 2.0299927923137395 [short] = 2.0299927923137395\n",
      "====================================================================================================\n",
      "From 2010-02-14 00:00:00 to 2013-05-12 00:00:00\n",
      "Split result before upsampling: 170 -> 150 + 10\n",
      "Test period: from 2013-03-10 00:00:00 to 2013-05-12 00:00:00\n",
      "---\n",
      "Distribution:\n",
      "Neg    138\n",
      "Pos     87\n",
      "Name: Return, dtype: int64\n",
      "---\n",
      "Distribution:\n",
      "Pos    10\n",
      "Name: Return, dtype: int64\n"
     ]
    },
    {
     "name": "stderr",
     "output_type": "stream",
     "text": [
      "C:\\DEV\\Anaconda3\\envs\\trading\\lib\\site-packages\\sklearn\\metrics\\classification.py:1137: UndefinedMetricWarning: Recall and F-score are ill-defined and being set to 0.0 in labels with no true samples.\n",
      "  'recall', 'true', average, warn_for)\n"
     ]
    },
    {
     "name": "stdout",
     "output_type": "stream",
     "text": [
      "---\n",
      "Classification report\n",
      "              precision    recall  f1-score   support\n",
      "\n",
      "        Neg       0.00      0.00      0.00         0\n",
      "        Pos       1.00      0.10      0.18        10\n",
      "\n",
      "avg / total       1.00      0.10      0.18        10\n",
      "\n",
      "---\n",
      "Confusion matrix\n",
      " [[0 0]\n",
      " [9 1]]\n",
      "5.032519458364426 [long] + -54.1193758732937 [short] = -49.08685641492927\n",
      "====================================================================================================\n",
      "From 2010-04-25 00:00:00 to 2013-07-21 00:00:00\n",
      "Split result before upsampling: 170 -> 150 + 10\n",
      "Test period: from 2013-05-19 00:00:00 to 2013-07-21 00:00:00\n",
      "---\n",
      "Distribution:\n",
      "Neg    141\n",
      "Pos     84\n",
      "Name: Return, dtype: int64\n",
      "---\n",
      "Distribution:\n",
      "Pos    6\n",
      "Neg    4\n",
      "Name: Return, dtype: int64\n"
     ]
    },
    {
     "name": "stderr",
     "output_type": "stream",
     "text": [
      "C:\\DEV\\Anaconda3\\envs\\trading\\lib\\site-packages\\sklearn\\metrics\\classification.py:1135: UndefinedMetricWarning: Precision and F-score are ill-defined and being set to 0.0 in labels with no predicted samples.\n",
      "  'precision', 'predicted', average, warn_for)\n"
     ]
    },
    {
     "name": "stdout",
     "output_type": "stream",
     "text": [
      "---\n",
      "Classification report\n",
      "              precision    recall  f1-score   support\n",
      "\n",
      "        Neg       0.40      1.00      0.57         4\n",
      "        Pos       0.00      0.00      0.00         6\n",
      "\n",
      "avg / total       0.16      0.40      0.23        10\n",
      "\n",
      "---\n",
      "Confusion matrix\n",
      " [[4 0]\n",
      " [6 0]]\n",
      "0.0 [long] + -14.786899863954282 [short] = -14.786899863954282\n",
      "====================================================================================================\n",
      "From 2010-07-04 00:00:00 to 2013-09-29 00:00:00\n",
      "Split result before upsampling: 170 -> 150 + 10\n",
      "Test period: from 2013-07-28 00:00:00 to 2013-09-29 00:00:00\n",
      "---\n",
      "Distribution:\n",
      "Neg    127\n",
      "Pos     98\n",
      "Name: Return, dtype: int64\n",
      "---\n",
      "Distribution:\n",
      "Pos    6\n",
      "Neg    4\n",
      "Name: Return, dtype: int64\n"
     ]
    },
    {
     "name": "stderr",
     "output_type": "stream",
     "text": [
      "C:\\DEV\\Anaconda3\\envs\\trading\\lib\\site-packages\\sklearn\\metrics\\classification.py:1135: UndefinedMetricWarning: Precision and F-score are ill-defined and being set to 0.0 in labels with no predicted samples.\n",
      "  'precision', 'predicted', average, warn_for)\n"
     ]
    },
    {
     "name": "stdout",
     "output_type": "stream",
     "text": [
      "---\n",
      "Classification report\n",
      "              precision    recall  f1-score   support\n",
      "\n",
      "        Neg       0.40      1.00      0.57         4\n",
      "        Pos       0.00      0.00      0.00         6\n",
      "\n",
      "avg / total       0.16      0.40      0.23        10\n",
      "\n",
      "---\n",
      "Confusion matrix\n",
      " [[4 0]\n",
      " [6 0]]\n",
      "0.0 [long] + -12.359111037372106 [short] = -12.359111037372106\n",
      "====================================================================================================\n",
      "From 2010-09-12 00:00:00 to 2013-12-08 00:00:00\n",
      "Split result before upsampling: 170 -> 150 + 10\n",
      "Test period: from 2013-10-06 00:00:00 to 2013-12-08 00:00:00\n",
      "---\n",
      "Distribution:\n",
      "Pos    114\n",
      "Neg    111\n",
      "Name: Return, dtype: int64\n",
      "---\n",
      "Distribution:\n",
      "Pos    10\n",
      "Name: Return, dtype: int64\n"
     ]
    },
    {
     "name": "stderr",
     "output_type": "stream",
     "text": [
      "C:\\DEV\\Anaconda3\\envs\\trading\\lib\\site-packages\\sklearn\\metrics\\classification.py:1137: UndefinedMetricWarning: Recall and F-score are ill-defined and being set to 0.0 in labels with no true samples.\n",
      "  'recall', 'true', average, warn_for)\n"
     ]
    },
    {
     "name": "stdout",
     "output_type": "stream",
     "text": [
      "---\n",
      "Classification report\n",
      "              precision    recall  f1-score   support\n",
      "\n",
      "        Neg       0.00      0.00      0.00         0\n",
      "        Pos       1.00      0.20      0.33        10\n",
      "\n",
      "avg / total       1.00      0.20      0.33        10\n",
      "\n",
      "---\n",
      "Confusion matrix\n",
      " [[0 0]\n",
      " [8 2]]\n",
      "11.05101659976484 [long] + -39.008399904843195 [short] = -27.957383305078356\n",
      "====================================================================================================\n",
      "From 2010-11-21 00:00:00 to 2014-02-16 00:00:00\n",
      "Split result before upsampling: 170 -> 150 + 10\n",
      "Test period: from 2013-12-15 00:00:00 to 2014-02-16 00:00:00\n",
      "---\n",
      "Distribution:\n",
      "Pos    116\n",
      "Neg    109\n",
      "Name: Return, dtype: int64\n",
      "---\n",
      "Distribution:\n",
      "Pos    9\n",
      "Neg    1\n",
      "Name: Return, dtype: int64\n"
     ]
    },
    {
     "name": "stderr",
     "output_type": "stream",
     "text": [
      "C:\\DEV\\Anaconda3\\envs\\trading\\lib\\site-packages\\sklearn\\metrics\\classification.py:1135: UndefinedMetricWarning: Precision and F-score are ill-defined and being set to 0.0 in labels with no predicted samples.\n",
      "  'precision', 'predicted', average, warn_for)\n"
     ]
    },
    {
     "name": "stdout",
     "output_type": "stream",
     "text": [
      "---\n",
      "Classification report\n",
      "              precision    recall  f1-score   support\n",
      "\n",
      "        Neg       0.10      1.00      0.18         1\n",
      "        Pos       0.00      0.00      0.00         9\n",
      "\n",
      "avg / total       0.01      0.10      0.02        10\n",
      "\n",
      "---\n",
      "Confusion matrix\n",
      " [[1 0]\n",
      " [9 0]]\n",
      "0.0 [long] + -36.9421294633883 [short] = -36.9421294633883\n",
      "====================================================================================================\n",
      "From 2011-01-30 00:00:00 to 2014-04-27 00:00:00\n",
      "Split result before upsampling: 170 -> 150 + 10\n",
      "Test period: from 2014-02-23 00:00:00 to 2014-04-27 00:00:00\n",
      "---\n",
      "Distribution:\n",
      "Pos    131\n",
      "Neg     94\n",
      "Name: Return, dtype: int64\n",
      "---\n",
      "Distribution:\n",
      "Neg    7\n",
      "Pos    3\n",
      "Name: Return, dtype: int64\n",
      "---\n",
      "Classification report\n",
      "              precision    recall  f1-score   support\n",
      "\n",
      "        Neg       0.67      0.57      0.62         7\n",
      "        Pos       0.25      0.33      0.29         3\n",
      "\n",
      "avg / total       0.54      0.50      0.52        10\n",
      "\n",
      "---\n",
      "Confusion matrix\n",
      " [[4 3]\n",
      " [2 1]]\n",
      "-1.8123121814051735 [long] + 7.022648773800999 [short] = 5.210336592395825\n",
      "====================================================================================================\n",
      "From 2011-04-10 00:00:00 to 2014-07-06 00:00:00\n",
      "Split result before upsampling: 170 -> 150 + 10\n",
      "Test period: from 2014-05-04 00:00:00 to 2014-07-06 00:00:00\n",
      "---\n",
      "Distribution:\n",
      "Pos    152\n",
      "Neg     73\n",
      "Name: Return, dtype: int64\n",
      "---\n",
      "Distribution:\n",
      "Pos    9\n",
      "Neg    1\n",
      "Name: Return, dtype: int64\n"
     ]
    },
    {
     "name": "stderr",
     "output_type": "stream",
     "text": [
      "C:\\DEV\\Anaconda3\\envs\\trading\\lib\\site-packages\\sklearn\\metrics\\classification.py:1135: UndefinedMetricWarning: Precision and F-score are ill-defined and being set to 0.0 in labels with no predicted samples.\n",
      "  'precision', 'predicted', average, warn_for)\n"
     ]
    },
    {
     "name": "stdout",
     "output_type": "stream",
     "text": [
      "---\n",
      "Classification report\n",
      "              precision    recall  f1-score   support\n",
      "\n",
      "        Neg       0.00      0.00      0.00         1\n",
      "        Pos       0.90      1.00      0.95         9\n",
      "\n",
      "avg / total       0.81      0.90      0.85        10\n",
      "\n",
      "---\n",
      "Confusion matrix\n",
      " [[0 1]\n",
      " [0 9]]\n",
      "40.81679287098581 [long] + 0.0 [short] = 40.81679287098581\n",
      "====================================================================================================\n",
      "From 2011-06-19 00:00:00 to 2014-09-14 00:00:00\n",
      "Split result before upsampling: 170 -> 150 + 10\n",
      "Test period: from 2014-07-13 00:00:00 to 2014-09-14 00:00:00\n",
      "---\n",
      "Distribution:\n",
      "Pos    136\n",
      "Neg     89\n",
      "Name: Return, dtype: int64\n",
      "---\n",
      "Distribution:\n",
      "Pos    9\n",
      "Neg    1\n",
      "Name: Return, dtype: int64\n"
     ]
    },
    {
     "name": "stderr",
     "output_type": "stream",
     "text": [
      "C:\\DEV\\Anaconda3\\envs\\trading\\lib\\site-packages\\sklearn\\metrics\\classification.py:1135: UndefinedMetricWarning: Precision and F-score are ill-defined and being set to 0.0 in labels with no predicted samples.\n",
      "  'precision', 'predicted', average, warn_for)\n"
     ]
    },
    {
     "name": "stdout",
     "output_type": "stream",
     "text": [
      "---\n",
      "Classification report\n",
      "              precision    recall  f1-score   support\n",
      "\n",
      "        Neg       0.00      0.00      0.00         1\n",
      "        Pos       0.90      1.00      0.95         9\n",
      "\n",
      "avg / total       0.81      0.90      0.85        10\n",
      "\n",
      "---\n",
      "Confusion matrix\n",
      " [[0 1]\n",
      " [0 9]]\n",
      "26.465633203827842 [long] + 0.0 [short] = 26.465633203827842\n",
      "====================================================================================================\n",
      "From 2011-08-28 00:00:00 to 2014-11-23 00:00:00\n",
      "Split result before upsampling: 170 -> 150 + 10\n",
      "Test period: from 2014-09-21 00:00:00 to 2014-11-23 00:00:00\n",
      "---\n",
      "Distribution:\n",
      "Pos    139\n",
      "Neg     86\n",
      "Name: Return, dtype: int64\n",
      "---\n",
      "Distribution:\n",
      "Pos    10\n",
      "Name: Return, dtype: int64\n"
     ]
    },
    {
     "name": "stderr",
     "output_type": "stream",
     "text": [
      "C:\\DEV\\Anaconda3\\envs\\trading\\lib\\site-packages\\sklearn\\metrics\\classification.py:1137: UndefinedMetricWarning: Recall and F-score are ill-defined and being set to 0.0 in labels with no true samples.\n",
      "  'recall', 'true', average, warn_for)\n"
     ]
    },
    {
     "name": "stdout",
     "output_type": "stream",
     "text": [
      "---\n",
      "Classification report\n",
      "              precision    recall  f1-score   support\n",
      "\n",
      "        Neg       0.00      0.00      0.00         0\n",
      "        Pos       1.00      0.20      0.33        10\n",
      "\n",
      "avg / total       1.00      0.20      0.33        10\n",
      "\n",
      "---\n",
      "Confusion matrix\n",
      " [[0 0]\n",
      " [8 2]]\n",
      "13.194076772398189 [long] + -31.572140640764502 [short] = -18.37806386836631\n",
      "====================================================================================================\n",
      "From 2011-11-06 00:00:00 to 2015-02-01 00:00:00\n",
      "Split result before upsampling: 170 -> 150 + 10\n",
      "Test period: from 2014-11-30 00:00:00 to 2015-02-01 00:00:00\n",
      "---\n",
      "Distribution:\n",
      "Pos    148\n",
      "Neg     77\n",
      "Name: Return, dtype: int64\n",
      "---\n",
      "Distribution:\n",
      "Pos    6\n",
      "Neg    4\n",
      "Name: Return, dtype: int64\n",
      "---\n",
      "Classification report\n",
      "              precision    recall  f1-score   support\n",
      "\n",
      "        Neg       1.00      0.75      0.86         4\n",
      "        Pos       0.86      1.00      0.92         6\n",
      "\n",
      "avg / total       0.91      0.90      0.90        10\n",
      "\n",
      "---\n",
      "Confusion matrix\n",
      " [[3 1]\n",
      " [0 6]]\n",
      "15.162394849384253 [long] + 4.737893564851026 [short] = 19.900288414235277\n",
      "====================================================================================================\n",
      "From 2012-01-15 00:00:00 to 2015-04-12 00:00:00\n",
      "Split result before upsampling: 170 -> 150 + 10\n",
      "Test period: from 2015-02-08 00:00:00 to 2015-04-12 00:00:00\n",
      "---\n",
      "Distribution:\n",
      "Pos    161\n",
      "Neg     64\n",
      "Name: Return, dtype: int64\n",
      "---\n",
      "Distribution:\n",
      "Neg    7\n",
      "Pos    3\n",
      "Name: Return, dtype: int64\n"
     ]
    },
    {
     "name": "stderr",
     "output_type": "stream",
     "text": [
      "C:\\DEV\\Anaconda3\\envs\\trading\\lib\\site-packages\\sklearn\\metrics\\classification.py:1135: UndefinedMetricWarning: Precision and F-score are ill-defined and being set to 0.0 in labels with no predicted samples.\n",
      "  'precision', 'predicted', average, warn_for)\n"
     ]
    },
    {
     "name": "stdout",
     "output_type": "stream",
     "text": [
      "---\n",
      "Classification report\n",
      "              precision    recall  f1-score   support\n",
      "\n",
      "        Neg       0.00      0.00      0.00         7\n",
      "        Pos       0.30      1.00      0.46         3\n",
      "\n",
      "avg / total       0.09      0.30      0.14        10\n",
      "\n",
      "---\n",
      "Confusion matrix\n",
      " [[0 7]\n",
      " [0 3]]\n",
      "-11.231889237980306 [long] + 0.0 [short] = -11.231889237980306\n",
      "====================================================================================================\n",
      "From 2012-03-25 00:00:00 to 2015-06-21 00:00:00\n",
      "Split result before upsampling: 170 -> 150 + 10\n",
      "Test period: from 2015-04-19 00:00:00 to 2015-06-21 00:00:00\n",
      "---\n",
      "Distribution:\n",
      "Pos    154\n",
      "Neg     71\n",
      "Name: Return, dtype: int64\n",
      "---\n",
      "Distribution:\n",
      "Pos    10\n",
      "Name: Return, dtype: int64\n",
      "---\n",
      "Classification report\n",
      "              precision    recall  f1-score   support\n",
      "\n",
      "        Pos       1.00      1.00      1.00        10\n",
      "\n",
      "avg / total       1.00      1.00      1.00        10\n",
      "\n",
      "---\n",
      "Confusion matrix\n",
      " [[10]]\n",
      "78.29101006151376 [long] + 0.0 [short] = 78.29101006151376\n",
      "====================================================================================================\n",
      "From 2012-06-03 00:00:00 to 2015-08-30 00:00:00\n",
      "Split result before upsampling: 170 -> 150 + 10\n",
      "Test period: from 2015-06-28 00:00:00 to 2015-08-30 00:00:00\n",
      "---\n",
      "Distribution:\n",
      "Pos    143\n",
      "Neg     82\n",
      "Name: Return, dtype: int64\n",
      "---\n",
      "Distribution:\n",
      "Pos    8\n",
      "Neg    2\n",
      "Name: Return, dtype: int64\n",
      "---\n",
      "Classification report\n",
      "              precision    recall  f1-score   support\n",
      "\n",
      "        Neg       0.29      1.00      0.44         2\n",
      "        Pos       1.00      0.38      0.55         8\n",
      "\n",
      "avg / total       0.86      0.50      0.53        10\n",
      "\n",
      "---\n",
      "Confusion matrix\n",
      " [[2 0]\n",
      " [5 3]]\n",
      "25.758068158276615 [long] + -10.444709846940492 [short] = 15.313358311336122\n",
      "====================================================================================================\n",
      "From 2012-08-12 00:00:00 to 2015-11-08 00:00:00\n",
      "Split result before upsampling: 170 -> 150 + 10\n",
      "Test period: from 2015-09-06 00:00:00 to 2015-11-08 00:00:00\n",
      "---\n",
      "Distribution:\n",
      "Pos    155\n",
      "Neg     70\n",
      "Name: Return, dtype: int64\n",
      "---\n",
      "Distribution:\n",
      "Pos    10\n",
      "Name: Return, dtype: int64\n"
     ]
    },
    {
     "name": "stderr",
     "output_type": "stream",
     "text": [
      "C:\\DEV\\Anaconda3\\envs\\trading\\lib\\site-packages\\sklearn\\metrics\\classification.py:1137: UndefinedMetricWarning: Recall and F-score are ill-defined and being set to 0.0 in labels with no true samples.\n",
      "  'recall', 'true', average, warn_for)\n"
     ]
    },
    {
     "name": "stdout",
     "output_type": "stream",
     "text": [
      "---\n",
      "Classification report\n",
      "              precision    recall  f1-score   support\n",
      "\n",
      "        Neg       0.00      0.00      0.00         0\n",
      "        Pos       1.00      0.20      0.33        10\n",
      "\n",
      "avg / total       1.00      0.20      0.33        10\n",
      "\n",
      "---\n",
      "Confusion matrix\n",
      " [[0 0]\n",
      " [8 2]]\n",
      "6.771693049618155 [long] + -25.528445848026337 [short] = -18.756752798408183\n",
      "====================================================================================================\n",
      "From 2012-10-21 00:00:00 to 2016-01-17 00:00:00\n",
      "Split result before upsampling: 170 -> 150 + 10\n",
      "Test period: from 2015-11-15 00:00:00 to 2016-01-17 00:00:00\n",
      "---\n",
      "Distribution:\n",
      "Pos    162\n",
      "Neg     63\n",
      "Name: Return, dtype: int64\n",
      "---\n",
      "Distribution:\n",
      "Neg    7\n",
      "Pos    3\n",
      "Name: Return, dtype: int64\n",
      "---\n",
      "Classification report\n",
      "              precision    recall  f1-score   support\n",
      "\n",
      "        Neg       0.57      0.57      0.57         7\n",
      "        Pos       0.00      0.00      0.00         3\n",
      "\n",
      "avg / total       0.40      0.40      0.40        10\n",
      "\n",
      "---\n",
      "Confusion matrix\n",
      " [[4 3]\n",
      " [3 0]]\n",
      "-7.43190992950189 [long] + 14.017265295435443 [short] = 6.5853553659335535\n",
      "====================================================================================================\n",
      "From 2012-12-30 00:00:00 to 2016-03-27 00:00:00\n",
      "Split result before upsampling: 170 -> 150 + 10\n",
      "Test period: from 2016-01-24 00:00:00 to 2016-03-27 00:00:00\n",
      "---\n",
      "Distribution:\n",
      "Pos    173\n",
      "Neg     52\n",
      "Name: Return, dtype: int64\n",
      "---\n",
      "Distribution:\n",
      "Neg    6\n",
      "Pos    4\n",
      "Name: Return, dtype: int64\n"
     ]
    },
    {
     "name": "stderr",
     "output_type": "stream",
     "text": [
      "C:\\DEV\\Anaconda3\\envs\\trading\\lib\\site-packages\\sklearn\\metrics\\classification.py:1135: UndefinedMetricWarning: Precision and F-score are ill-defined and being set to 0.0 in labels with no predicted samples.\n",
      "  'precision', 'predicted', average, warn_for)\n"
     ]
    },
    {
     "name": "stdout",
     "output_type": "stream",
     "text": [
      "---\n",
      "Classification report\n",
      "              precision    recall  f1-score   support\n",
      "\n",
      "        Neg       0.00      0.00      0.00         6\n",
      "        Pos       0.40      1.00      0.57         4\n",
      "\n",
      "avg / total       0.16      0.40      0.23        10\n",
      "\n",
      "---\n",
      "Confusion matrix\n",
      " [[0 6]\n",
      " [0 4]]\n",
      "-26.144792509840226 [long] + 0.0 [short] = -26.144792509840226\n",
      "====================================================================================================\n",
      "From 2013-03-10 00:00:00 to 2016-06-05 00:00:00\n",
      "Split result before upsampling: 170 -> 150 + 10\n",
      "Test period: from 2016-04-03 00:00:00 to 2016-06-05 00:00:00\n",
      "---\n",
      "Distribution:\n",
      "Pos    162\n",
      "Neg     63\n",
      "Name: Return, dtype: int64\n",
      "---\n",
      "Distribution:\n",
      "Neg    7\n",
      "Pos    3\n",
      "Name: Return, dtype: int64\n"
     ]
    },
    {
     "name": "stderr",
     "output_type": "stream",
     "text": [
      "C:\\DEV\\Anaconda3\\envs\\trading\\lib\\site-packages\\sklearn\\metrics\\classification.py:1135: UndefinedMetricWarning: Precision and F-score are ill-defined and being set to 0.0 in labels with no predicted samples.\n",
      "  'precision', 'predicted', average, warn_for)\n"
     ]
    },
    {
     "name": "stdout",
     "output_type": "stream",
     "text": [
      "---\n",
      "Classification report\n",
      "              precision    recall  f1-score   support\n",
      "\n",
      "        Neg       0.00      0.00      0.00         7\n",
      "        Pos       0.30      1.00      0.46         3\n",
      "\n",
      "avg / total       0.09      0.30      0.14        10\n",
      "\n",
      "---\n",
      "Confusion matrix\n",
      " [[0 7]\n",
      " [0 3]]\n",
      "-19.0156760147316 [long] + 0.0 [short] = -19.0156760147316\n",
      "====================================================================================================\n",
      "From 2013-05-19 00:00:00 to 2016-08-14 00:00:00\n",
      "Split result before upsampling: 170 -> 150 + 10\n",
      "Test period: from 2016-06-12 00:00:00 to 2016-08-14 00:00:00\n",
      "---\n",
      "Distribution:\n",
      "Pos    153\n",
      "Neg     72\n",
      "Name: Return, dtype: int64\n",
      "---\n",
      "Distribution:\n",
      "Pos    7\n",
      "Neg    3\n",
      "Name: Return, dtype: int64\n"
     ]
    },
    {
     "name": "stderr",
     "output_type": "stream",
     "text": [
      "C:\\DEV\\Anaconda3\\envs\\trading\\lib\\site-packages\\sklearn\\metrics\\classification.py:1135: UndefinedMetricWarning: Precision and F-score are ill-defined and being set to 0.0 in labels with no predicted samples.\n",
      "  'precision', 'predicted', average, warn_for)\n"
     ]
    },
    {
     "name": "stdout",
     "output_type": "stream",
     "text": [
      "---\n",
      "Classification report\n",
      "              precision    recall  f1-score   support\n",
      "\n",
      "        Neg       0.00      0.00      0.00         3\n",
      "        Pos       0.70      1.00      0.82         7\n",
      "\n",
      "avg / total       0.49      0.70      0.58        10\n",
      "\n",
      "---\n",
      "Confusion matrix\n",
      " [[0 3]\n",
      " [0 7]]\n",
      "6.068862624868688 [long] + 0.0 [short] = 6.068862624868688\n",
      "====================================================================================================\n",
      "From 2013-07-28 00:00:00 to 2016-10-23 00:00:00\n",
      "Split result before upsampling: 170 -> 150 + 10\n",
      "Test period: from 2016-08-21 00:00:00 to 2016-10-23 00:00:00\n",
      "---\n",
      "Distribution:\n",
      "Pos    138\n",
      "Neg     87\n",
      "Name: Return, dtype: int64\n",
      "---\n",
      "Distribution:\n",
      "Pos    6\n",
      "Neg    4\n",
      "Name: Return, dtype: int64\n"
     ]
    },
    {
     "name": "stderr",
     "output_type": "stream",
     "text": [
      "C:\\DEV\\Anaconda3\\envs\\trading\\lib\\site-packages\\sklearn\\metrics\\classification.py:1135: UndefinedMetricWarning: Precision and F-score are ill-defined and being set to 0.0 in labels with no predicted samples.\n",
      "  'precision', 'predicted', average, warn_for)\n"
     ]
    },
    {
     "name": "stdout",
     "output_type": "stream",
     "text": [
      "---\n",
      "Classification report\n",
      "              precision    recall  f1-score   support\n",
      "\n",
      "        Neg       0.00      0.00      0.00         4\n",
      "        Pos       0.60      1.00      0.75         6\n",
      "\n",
      "avg / total       0.36      0.60      0.45        10\n",
      "\n",
      "---\n",
      "Confusion matrix\n",
      " [[0 4]\n",
      " [0 6]]\n",
      "0.61468978410254 [long] + 0.0 [short] = 0.61468978410254\n",
      "====================================================================================================\n",
      "From 2013-10-06 00:00:00 to 2017-01-01 00:00:00\n",
      "Split result before upsampling: 170 -> 150 + 10\n",
      "Test period: from 2016-10-30 00:00:00 to 2017-01-01 00:00:00\n",
      "---\n",
      "Distribution:\n",
      "Pos    145\n",
      "Neg     80\n",
      "Name: Return, dtype: int64\n",
      "---\n",
      "Distribution:\n",
      "Neg    8\n",
      "Pos    2\n",
      "Name: Return, dtype: int64\n",
      "---\n",
      "Classification report\n",
      "              precision    recall  f1-score   support\n",
      "\n",
      "        Neg       1.00      0.12      0.22         8\n",
      "        Pos       0.22      1.00      0.36         2\n",
      "\n",
      "avg / total       0.84      0.30      0.25        10\n",
      "\n",
      "---\n",
      "Confusion matrix\n",
      " [[1 7]\n",
      " [0 2]]\n",
      "-20.041266326280958 [long] + 1.8465675655486735 [short] = -18.194698760732283\n",
      "====================================================================================================\n",
      "From 2013-12-15 00:00:00 to 2017-03-12 00:00:00\n",
      "Split result before upsampling: 170 -> 150 + 10\n",
      "Test period: from 2017-01-08 00:00:00 to 2017-03-12 00:00:00\n",
      "---\n",
      "Distribution:\n",
      "Pos    136\n",
      "Neg     89\n",
      "Name: Return, dtype: int64\n",
      "---\n",
      "Distribution:\n",
      "Pos    9\n",
      "Neg    1\n",
      "Name: Return, dtype: int64\n"
     ]
    },
    {
     "name": "stderr",
     "output_type": "stream",
     "text": [
      "C:\\DEV\\Anaconda3\\envs\\trading\\lib\\site-packages\\sklearn\\metrics\\classification.py:1135: UndefinedMetricWarning: Precision and F-score are ill-defined and being set to 0.0 in labels with no predicted samples.\n",
      "  'precision', 'predicted', average, warn_for)\n"
     ]
    },
    {
     "name": "stdout",
     "output_type": "stream",
     "text": [
      "---\n",
      "Classification report\n",
      "              precision    recall  f1-score   support\n",
      "\n",
      "        Neg       0.00      0.00      0.00         1\n",
      "        Pos       0.90      1.00      0.95         9\n",
      "\n",
      "avg / total       0.81      0.90      0.85        10\n",
      "\n",
      "---\n",
      "Confusion matrix\n",
      " [[0 1]\n",
      " [0 9]]\n",
      "14.57225335843294 [long] + 0.0 [short] = 14.57225335843294\n",
      "====================================================================================================\n",
      "From 2014-02-23 00:00:00 to 2017-05-21 00:00:00\n",
      "Split result before upsampling: 170 -> 150 + 10\n",
      "Test period: from 2017-03-19 00:00:00 to 2017-05-21 00:00:00\n",
      "---\n",
      "Distribution:\n",
      "Pos    128\n",
      "Neg     97\n",
      "Name: Return, dtype: int64\n",
      "---\n",
      "Distribution:\n",
      "Pos    6\n",
      "Neg    4\n",
      "Name: Return, dtype: int64\n"
     ]
    },
    {
     "name": "stderr",
     "output_type": "stream",
     "text": [
      "C:\\DEV\\Anaconda3\\envs\\trading\\lib\\site-packages\\sklearn\\metrics\\classification.py:1135: UndefinedMetricWarning: Precision and F-score are ill-defined and being set to 0.0 in labels with no predicted samples.\n",
      "  'precision', 'predicted', average, warn_for)\n"
     ]
    },
    {
     "name": "stdout",
     "output_type": "stream",
     "text": [
      "---\n",
      "Classification report\n",
      "              precision    recall  f1-score   support\n",
      "\n",
      "        Neg       0.40      1.00      0.57         4\n",
      "        Pos       0.00      0.00      0.00         6\n",
      "\n",
      "avg / total       0.16      0.40      0.23        10\n",
      "\n",
      "---\n",
      "Confusion matrix\n",
      " [[4 0]\n",
      " [6 0]]\n",
      "0.0 [long] + -0.765349751556732 [short] = -0.765349751556732\n",
      "====================================================================================================\n",
      "From 2014-05-04 00:00:00 to 2017-07-30 00:00:00\n",
      "Split result before upsampling: 170 -> 150 + 10\n",
      "Test period: from 2017-05-28 00:00:00 to 2017-07-30 00:00:00\n",
      "---\n",
      "Distribution:\n",
      "Pos    141\n",
      "Neg     84\n",
      "Name: Return, dtype: int64\n",
      "---\n",
      "Distribution:\n",
      "Neg    10\n",
      "Name: Return, dtype: int64\n"
     ]
    },
    {
     "name": "stderr",
     "output_type": "stream",
     "text": [
      "C:\\DEV\\Anaconda3\\envs\\trading\\lib\\site-packages\\sklearn\\metrics\\classification.py:1137: UndefinedMetricWarning: Recall and F-score are ill-defined and being set to 0.0 in labels with no true samples.\n",
      "  'recall', 'true', average, warn_for)\n"
     ]
    },
    {
     "name": "stdout",
     "output_type": "stream",
     "text": [
      "---\n",
      "Classification report\n",
      "              precision    recall  f1-score   support\n",
      "\n",
      "        Neg       1.00      0.70      0.82        10\n",
      "        Pos       0.00      0.00      0.00         0\n",
      "\n",
      "avg / total       1.00      0.70      0.82        10\n",
      "\n",
      "---\n",
      "Confusion matrix\n",
      " [[7 3]\n",
      " [0 0]]\n",
      "-10.157755320851258 [long] + 32.06519823535001 [short] = 21.907442914498752\n",
      "====================================================================================================\n",
      "From 2014-07-13 00:00:00 to 2017-10-08 00:00:00\n",
      "Split result before upsampling: 170 -> 150 + 10\n",
      "Test period: from 2017-08-06 00:00:00 to 2017-10-08 00:00:00\n",
      "---\n",
      "Distribution:\n",
      "Pos    141\n",
      "Neg     84\n",
      "Name: Return, dtype: int64\n",
      "---\n",
      "Distribution:\n",
      "Pos    6\n",
      "Neg    4\n",
      "Name: Return, dtype: int64\n",
      "---\n",
      "Classification report\n",
      "              precision    recall  f1-score   support\n",
      "\n",
      "        Neg       0.00      0.00      0.00         4\n",
      "        Pos       0.56      0.83      0.67         6\n",
      "\n",
      "avg / total       0.33      0.50      0.40        10\n",
      "\n",
      "---\n",
      "Confusion matrix\n",
      " [[0 4]\n",
      " [1 5]]\n",
      "1.1599904967575023 [long] + -0.5690709916062131 [short] = 0.5909195051512892\n"
     ]
    }
   ],
   "source": [
    "test_params = []\n",
    "\n",
    "for i in range(0, len(data)-full_size, test_size):\n",
    "    sub_data = data.iloc[i:i+full_size]\n",
    "    from_date, to_date = sub_data.index[0], sub_data.index[-1]\n",
    "    sep = 100*'='\n",
    "    print(f'{sep}\\nFrom {from_date} to {to_date}')\n",
    "    train_and_test(sub_data)"
   ]
  },
  {
   "cell_type": "code",
   "execution_count": 37,
   "metadata": {
    "collapsed": true
   },
   "outputs": [],
   "source": [
    "indexes = [d['date'] for d in test_params]"
   ]
  },
  {
   "cell_type": "markdown",
   "metadata": {},
   "source": [
    "### Random Forest parameters with Accuracy and Returns"
   ]
  },
  {
   "cell_type": "code",
   "execution_count": 38,
   "metadata": {
    "collapsed": true
   },
   "outputs": [],
   "source": [
    "params = pd.DataFrame([d['best_params'] for d in test_params], index=indexes)\n",
    "params['Sum of return'] = [d['ret_sum'] for d in test_params]\n",
    "params['Accuracy'] = [d['accuracy'] for d in test_params]"
   ]
  },
  {
   "cell_type": "code",
   "execution_count": 39,
   "metadata": {
    "collapsed": false
   },
   "outputs": [
    {
     "data": {
      "text/html": [
       "<div>\n",
       "<style scoped>\n",
       "    .dataframe tbody tr th:only-of-type {\n",
       "        vertical-align: middle;\n",
       "    }\n",
       "\n",
       "    .dataframe tbody tr th {\n",
       "        vertical-align: top;\n",
       "    }\n",
       "\n",
       "    .dataframe thead th {\n",
       "        text-align: right;\n",
       "    }\n",
       "</style>\n",
       "<table border=\"1\" class=\"dataframe\">\n",
       "  <thead>\n",
       "    <tr style=\"text-align: right;\">\n",
       "      <th></th>\n",
       "      <th>forest__max_depth</th>\n",
       "      <th>forest__max_features</th>\n",
       "      <th>forest__min_samples_leaf</th>\n",
       "      <th>forest__min_samples_split</th>\n",
       "      <th>forest__n_estimators</th>\n",
       "      <th>Sum of return</th>\n",
       "      <th>Accuracy</th>\n",
       "    </tr>\n",
       "  </thead>\n",
       "  <tbody>\n",
       "    <tr>\n",
       "      <th>2015-06-21</th>\n",
       "      <td>NaN</td>\n",
       "      <td>sqrt</td>\n",
       "      <td>2</td>\n",
       "      <td>10</td>\n",
       "      <td>100</td>\n",
       "      <td>78.291010</td>\n",
       "      <td>1.0</td>\n",
       "    </tr>\n",
       "    <tr>\n",
       "      <th>2009-11-29</th>\n",
       "      <td>NaN</td>\n",
       "      <td>None</td>\n",
       "      <td>2</td>\n",
       "      <td>10</td>\n",
       "      <td>100</td>\n",
       "      <td>56.493402</td>\n",
       "      <td>0.8</td>\n",
       "    </tr>\n",
       "    <tr>\n",
       "      <th>2012-01-08</th>\n",
       "      <td>NaN</td>\n",
       "      <td>sqrt</td>\n",
       "      <td>2</td>\n",
       "      <td>5</td>\n",
       "      <td>100</td>\n",
       "      <td>52.689463</td>\n",
       "      <td>0.9</td>\n",
       "    </tr>\n",
       "    <tr>\n",
       "      <th>2009-09-20</th>\n",
       "      <td>NaN</td>\n",
       "      <td>sqrt</td>\n",
       "      <td>2</td>\n",
       "      <td>5</td>\n",
       "      <td>100</td>\n",
       "      <td>46.041424</td>\n",
       "      <td>0.9</td>\n",
       "    </tr>\n",
       "    <tr>\n",
       "      <th>2014-07-06</th>\n",
       "      <td>5.0</td>\n",
       "      <td>None</td>\n",
       "      <td>2</td>\n",
       "      <td>2</td>\n",
       "      <td>100</td>\n",
       "      <td>40.816793</td>\n",
       "      <td>0.9</td>\n",
       "    </tr>\n",
       "    <tr>\n",
       "      <th>2012-08-05</th>\n",
       "      <td>NaN</td>\n",
       "      <td>sqrt</td>\n",
       "      <td>2</td>\n",
       "      <td>5</td>\n",
       "      <td>100</td>\n",
       "      <td>40.711558</td>\n",
       "      <td>1.0</td>\n",
       "    </tr>\n",
       "    <tr>\n",
       "      <th>2008-03-09</th>\n",
       "      <td>NaN</td>\n",
       "      <td>sqrt</td>\n",
       "      <td>2</td>\n",
       "      <td>2</td>\n",
       "      <td>100</td>\n",
       "      <td>33.819547</td>\n",
       "      <td>0.7</td>\n",
       "    </tr>\n",
       "    <tr>\n",
       "      <th>2010-02-07</th>\n",
       "      <td>NaN</td>\n",
       "      <td>None</td>\n",
       "      <td>2</td>\n",
       "      <td>2</td>\n",
       "      <td>100</td>\n",
       "      <td>33.813636</td>\n",
       "      <td>0.8</td>\n",
       "    </tr>\n",
       "    <tr>\n",
       "      <th>2007-12-30</th>\n",
       "      <td>5.0</td>\n",
       "      <td>None</td>\n",
       "      <td>2</td>\n",
       "      <td>10</td>\n",
       "      <td>100</td>\n",
       "      <td>30.651879</td>\n",
       "      <td>0.7</td>\n",
       "    </tr>\n",
       "    <tr>\n",
       "      <th>2014-09-14</th>\n",
       "      <td>5.0</td>\n",
       "      <td>sqrt</td>\n",
       "      <td>2</td>\n",
       "      <td>2</td>\n",
       "      <td>100</td>\n",
       "      <td>26.465633</td>\n",
       "      <td>0.9</td>\n",
       "    </tr>\n",
       "    <tr>\n",
       "      <th>2017-07-30</th>\n",
       "      <td>NaN</td>\n",
       "      <td>sqrt</td>\n",
       "      <td>2</td>\n",
       "      <td>5</td>\n",
       "      <td>100</td>\n",
       "      <td>21.907443</td>\n",
       "      <td>0.7</td>\n",
       "    </tr>\n",
       "    <tr>\n",
       "      <th>2015-02-01</th>\n",
       "      <td>NaN</td>\n",
       "      <td>None</td>\n",
       "      <td>2</td>\n",
       "      <td>5</td>\n",
       "      <td>100</td>\n",
       "      <td>19.900288</td>\n",
       "      <td>0.9</td>\n",
       "    </tr>\n",
       "    <tr>\n",
       "      <th>2010-04-18</th>\n",
       "      <td>NaN</td>\n",
       "      <td>None</td>\n",
       "      <td>2</td>\n",
       "      <td>20</td>\n",
       "      <td>100</td>\n",
       "      <td>18.723804</td>\n",
       "      <td>0.8</td>\n",
       "    </tr>\n",
       "    <tr>\n",
       "      <th>2015-08-30</th>\n",
       "      <td>NaN</td>\n",
       "      <td>None</td>\n",
       "      <td>2</td>\n",
       "      <td>2</td>\n",
       "      <td>100</td>\n",
       "      <td>15.313358</td>\n",
       "      <td>0.5</td>\n",
       "    </tr>\n",
       "    <tr>\n",
       "      <th>2017-03-12</th>\n",
       "      <td>NaN</td>\n",
       "      <td>sqrt</td>\n",
       "      <td>2</td>\n",
       "      <td>5</td>\n",
       "      <td>100</td>\n",
       "      <td>14.572253</td>\n",
       "      <td>0.9</td>\n",
       "    </tr>\n",
       "    <tr>\n",
       "      <th>2010-09-05</th>\n",
       "      <td>5.0</td>\n",
       "      <td>None</td>\n",
       "      <td>2</td>\n",
       "      <td>5</td>\n",
       "      <td>100</td>\n",
       "      <td>13.440315</td>\n",
       "      <td>0.7</td>\n",
       "    </tr>\n",
       "    <tr>\n",
       "      <th>2009-05-03</th>\n",
       "      <td>NaN</td>\n",
       "      <td>None</td>\n",
       "      <td>2</td>\n",
       "      <td>5</td>\n",
       "      <td>100</td>\n",
       "      <td>12.059530</td>\n",
       "      <td>0.6</td>\n",
       "    </tr>\n",
       "    <tr>\n",
       "      <th>2009-07-12</th>\n",
       "      <td>5.0</td>\n",
       "      <td>None</td>\n",
       "      <td>2</td>\n",
       "      <td>5</td>\n",
       "      <td>100</td>\n",
       "      <td>11.349950</td>\n",
       "      <td>0.6</td>\n",
       "    </tr>\n",
       "    <tr>\n",
       "      <th>2016-01-17</th>\n",
       "      <td>NaN</td>\n",
       "      <td>None</td>\n",
       "      <td>5</td>\n",
       "      <td>2</td>\n",
       "      <td>100</td>\n",
       "      <td>6.585355</td>\n",
       "      <td>0.4</td>\n",
       "    </tr>\n",
       "    <tr>\n",
       "      <th>2010-11-14</th>\n",
       "      <td>NaN</td>\n",
       "      <td>sqrt</td>\n",
       "      <td>2</td>\n",
       "      <td>2</td>\n",
       "      <td>100</td>\n",
       "      <td>6.245586</td>\n",
       "      <td>0.6</td>\n",
       "    </tr>\n",
       "    <tr>\n",
       "      <th>2016-08-14</th>\n",
       "      <td>NaN</td>\n",
       "      <td>sqrt</td>\n",
       "      <td>2</td>\n",
       "      <td>2</td>\n",
       "      <td>100</td>\n",
       "      <td>6.068863</td>\n",
       "      <td>0.7</td>\n",
       "    </tr>\n",
       "    <tr>\n",
       "      <th>2014-04-27</th>\n",
       "      <td>NaN</td>\n",
       "      <td>sqrt</td>\n",
       "      <td>2</td>\n",
       "      <td>5</td>\n",
       "      <td>100</td>\n",
       "      <td>5.210337</td>\n",
       "      <td>0.5</td>\n",
       "    </tr>\n",
       "    <tr>\n",
       "      <th>2012-10-14</th>\n",
       "      <td>5.0</td>\n",
       "      <td>None</td>\n",
       "      <td>2</td>\n",
       "      <td>5</td>\n",
       "      <td>100</td>\n",
       "      <td>3.671182</td>\n",
       "      <td>0.6</td>\n",
       "    </tr>\n",
       "    <tr>\n",
       "      <th>2011-06-12</th>\n",
       "      <td>NaN</td>\n",
       "      <td>sqrt</td>\n",
       "      <td>2</td>\n",
       "      <td>5</td>\n",
       "      <td>100</td>\n",
       "      <td>2.806228</td>\n",
       "      <td>0.5</td>\n",
       "    </tr>\n",
       "    <tr>\n",
       "      <th>2013-03-03</th>\n",
       "      <td>NaN</td>\n",
       "      <td>None</td>\n",
       "      <td>2</td>\n",
       "      <td>2</td>\n",
       "      <td>100</td>\n",
       "      <td>2.029993</td>\n",
       "      <td>0.6</td>\n",
       "    </tr>\n",
       "    <tr>\n",
       "      <th>2011-01-23</th>\n",
       "      <td>NaN</td>\n",
       "      <td>None</td>\n",
       "      <td>2</td>\n",
       "      <td>2</td>\n",
       "      <td>100</td>\n",
       "      <td>1.149855</td>\n",
       "      <td>0.5</td>\n",
       "    </tr>\n",
       "    <tr>\n",
       "      <th>2016-10-23</th>\n",
       "      <td>NaN</td>\n",
       "      <td>sqrt</td>\n",
       "      <td>2</td>\n",
       "      <td>2</td>\n",
       "      <td>100</td>\n",
       "      <td>0.614690</td>\n",
       "      <td>0.6</td>\n",
       "    </tr>\n",
       "    <tr>\n",
       "      <th>2017-10-08</th>\n",
       "      <td>NaN</td>\n",
       "      <td>sqrt</td>\n",
       "      <td>2</td>\n",
       "      <td>5</td>\n",
       "      <td>100</td>\n",
       "      <td>0.590920</td>\n",
       "      <td>0.5</td>\n",
       "    </tr>\n",
       "    <tr>\n",
       "      <th>2017-05-21</th>\n",
       "      <td>NaN</td>\n",
       "      <td>sqrt</td>\n",
       "      <td>2</td>\n",
       "      <td>2</td>\n",
       "      <td>100</td>\n",
       "      <td>-0.765350</td>\n",
       "      <td>0.4</td>\n",
       "    </tr>\n",
       "    <tr>\n",
       "      <th>2012-12-23</th>\n",
       "      <td>NaN</td>\n",
       "      <td>None</td>\n",
       "      <td>2</td>\n",
       "      <td>2</td>\n",
       "      <td>100</td>\n",
       "      <td>-7.915662</td>\n",
       "      <td>0.4</td>\n",
       "    </tr>\n",
       "    <tr>\n",
       "      <th>2012-03-18</th>\n",
       "      <td>NaN</td>\n",
       "      <td>sqrt</td>\n",
       "      <td>2</td>\n",
       "      <td>2</td>\n",
       "      <td>100</td>\n",
       "      <td>-10.432040</td>\n",
       "      <td>0.4</td>\n",
       "    </tr>\n",
       "    <tr>\n",
       "      <th>2015-04-12</th>\n",
       "      <td>NaN</td>\n",
       "      <td>sqrt</td>\n",
       "      <td>2</td>\n",
       "      <td>10</td>\n",
       "      <td>100</td>\n",
       "      <td>-11.231889</td>\n",
       "      <td>0.3</td>\n",
       "    </tr>\n",
       "    <tr>\n",
       "      <th>2013-09-29</th>\n",
       "      <td>NaN</td>\n",
       "      <td>None</td>\n",
       "      <td>2</td>\n",
       "      <td>20</td>\n",
       "      <td>100</td>\n",
       "      <td>-12.359111</td>\n",
       "      <td>0.4</td>\n",
       "    </tr>\n",
       "    <tr>\n",
       "      <th>2011-10-30</th>\n",
       "      <td>NaN</td>\n",
       "      <td>sqrt</td>\n",
       "      <td>2</td>\n",
       "      <td>2</td>\n",
       "      <td>100</td>\n",
       "      <td>-13.299130</td>\n",
       "      <td>0.5</td>\n",
       "    </tr>\n",
       "    <tr>\n",
       "      <th>2012-05-27</th>\n",
       "      <td>NaN</td>\n",
       "      <td>sqrt</td>\n",
       "      <td>2</td>\n",
       "      <td>5</td>\n",
       "      <td>100</td>\n",
       "      <td>-14.004343</td>\n",
       "      <td>0.2</td>\n",
       "    </tr>\n",
       "    <tr>\n",
       "      <th>2013-07-21</th>\n",
       "      <td>NaN</td>\n",
       "      <td>sqrt</td>\n",
       "      <td>2</td>\n",
       "      <td>2</td>\n",
       "      <td>100</td>\n",
       "      <td>-14.786900</td>\n",
       "      <td>0.4</td>\n",
       "    </tr>\n",
       "    <tr>\n",
       "      <th>2011-04-03</th>\n",
       "      <td>NaN</td>\n",
       "      <td>sqrt</td>\n",
       "      <td>2</td>\n",
       "      <td>2</td>\n",
       "      <td>100</td>\n",
       "      <td>-16.555034</td>\n",
       "      <td>0.1</td>\n",
       "    </tr>\n",
       "    <tr>\n",
       "      <th>2017-01-01</th>\n",
       "      <td>NaN</td>\n",
       "      <td>sqrt</td>\n",
       "      <td>2</td>\n",
       "      <td>5</td>\n",
       "      <td>100</td>\n",
       "      <td>-18.194699</td>\n",
       "      <td>0.3</td>\n",
       "    </tr>\n",
       "    <tr>\n",
       "      <th>2014-11-23</th>\n",
       "      <td>NaN</td>\n",
       "      <td>None</td>\n",
       "      <td>5</td>\n",
       "      <td>2</td>\n",
       "      <td>100</td>\n",
       "      <td>-18.378064</td>\n",
       "      <td>0.2</td>\n",
       "    </tr>\n",
       "    <tr>\n",
       "      <th>2015-11-08</th>\n",
       "      <td>NaN</td>\n",
       "      <td>sqrt</td>\n",
       "      <td>2</td>\n",
       "      <td>5</td>\n",
       "      <td>100</td>\n",
       "      <td>-18.756753</td>\n",
       "      <td>0.2</td>\n",
       "    </tr>\n",
       "    <tr>\n",
       "      <th>2016-06-05</th>\n",
       "      <td>NaN</td>\n",
       "      <td>None</td>\n",
       "      <td>2</td>\n",
       "      <td>2</td>\n",
       "      <td>100</td>\n",
       "      <td>-19.015676</td>\n",
       "      <td>0.3</td>\n",
       "    </tr>\n",
       "    <tr>\n",
       "      <th>2016-03-27</th>\n",
       "      <td>NaN</td>\n",
       "      <td>None</td>\n",
       "      <td>2</td>\n",
       "      <td>2</td>\n",
       "      <td>100</td>\n",
       "      <td>-26.144793</td>\n",
       "      <td>0.4</td>\n",
       "    </tr>\n",
       "    <tr>\n",
       "      <th>2013-12-08</th>\n",
       "      <td>NaN</td>\n",
       "      <td>sqrt</td>\n",
       "      <td>2</td>\n",
       "      <td>10</td>\n",
       "      <td>100</td>\n",
       "      <td>-27.957383</td>\n",
       "      <td>0.2</td>\n",
       "    </tr>\n",
       "    <tr>\n",
       "      <th>2010-06-27</th>\n",
       "      <td>NaN</td>\n",
       "      <td>None</td>\n",
       "      <td>2</td>\n",
       "      <td>10</td>\n",
       "      <td>100</td>\n",
       "      <td>-29.660328</td>\n",
       "      <td>0.2</td>\n",
       "    </tr>\n",
       "    <tr>\n",
       "      <th>2014-02-16</th>\n",
       "      <td>NaN</td>\n",
       "      <td>sqrt</td>\n",
       "      <td>2</td>\n",
       "      <td>2</td>\n",
       "      <td>100</td>\n",
       "      <td>-36.942129</td>\n",
       "      <td>0.1</td>\n",
       "    </tr>\n",
       "    <tr>\n",
       "      <th>2008-05-18</th>\n",
       "      <td>NaN</td>\n",
       "      <td>sqrt</td>\n",
       "      <td>2</td>\n",
       "      <td>2</td>\n",
       "      <td>100</td>\n",
       "      <td>-46.151566</td>\n",
       "      <td>0.2</td>\n",
       "    </tr>\n",
       "    <tr>\n",
       "      <th>2013-05-12</th>\n",
       "      <td>5.0</td>\n",
       "      <td>sqrt</td>\n",
       "      <td>5</td>\n",
       "      <td>2</td>\n",
       "      <td>100</td>\n",
       "      <td>-49.086856</td>\n",
       "      <td>0.1</td>\n",
       "    </tr>\n",
       "    <tr>\n",
       "      <th>2008-12-14</th>\n",
       "      <td>NaN</td>\n",
       "      <td>None</td>\n",
       "      <td>20</td>\n",
       "      <td>20</td>\n",
       "      <td>100</td>\n",
       "      <td>-50.828121</td>\n",
       "      <td>0.1</td>\n",
       "    </tr>\n",
       "    <tr>\n",
       "      <th>2009-02-22</th>\n",
       "      <td>5.0</td>\n",
       "      <td>None</td>\n",
       "      <td>20</td>\n",
       "      <td>2</td>\n",
       "      <td>100</td>\n",
       "      <td>-52.600225</td>\n",
       "      <td>0.1</td>\n",
       "    </tr>\n",
       "    <tr>\n",
       "      <th>2011-08-21</th>\n",
       "      <td>NaN</td>\n",
       "      <td>sqrt</td>\n",
       "      <td>5</td>\n",
       "      <td>2</td>\n",
       "      <td>100</td>\n",
       "      <td>-59.515898</td>\n",
       "      <td>0.2</td>\n",
       "    </tr>\n",
       "    <tr>\n",
       "      <th>2008-07-27</th>\n",
       "      <td>5.0</td>\n",
       "      <td>sqrt</td>\n",
       "      <td>2</td>\n",
       "      <td>5</td>\n",
       "      <td>100</td>\n",
       "      <td>-66.524957</td>\n",
       "      <td>0.0</td>\n",
       "    </tr>\n",
       "    <tr>\n",
       "      <th>2008-10-05</th>\n",
       "      <td>NaN</td>\n",
       "      <td>sqrt</td>\n",
       "      <td>2</td>\n",
       "      <td>2</td>\n",
       "      <td>100</td>\n",
       "      <td>-238.477280</td>\n",
       "      <td>0.0</td>\n",
       "    </tr>\n",
       "  </tbody>\n",
       "</table>\n",
       "</div>"
      ],
      "text/plain": [
       "            forest__max_depth forest__max_features  forest__min_samples_leaf  \\\n",
       "2015-06-21                NaN                 sqrt                         2   \n",
       "2009-11-29                NaN                 None                         2   \n",
       "2012-01-08                NaN                 sqrt                         2   \n",
       "2009-09-20                NaN                 sqrt                         2   \n",
       "2014-07-06                5.0                 None                         2   \n",
       "2012-08-05                NaN                 sqrt                         2   \n",
       "2008-03-09                NaN                 sqrt                         2   \n",
       "2010-02-07                NaN                 None                         2   \n",
       "2007-12-30                5.0                 None                         2   \n",
       "2014-09-14                5.0                 sqrt                         2   \n",
       "2017-07-30                NaN                 sqrt                         2   \n",
       "2015-02-01                NaN                 None                         2   \n",
       "2010-04-18                NaN                 None                         2   \n",
       "2015-08-30                NaN                 None                         2   \n",
       "2017-03-12                NaN                 sqrt                         2   \n",
       "2010-09-05                5.0                 None                         2   \n",
       "2009-05-03                NaN                 None                         2   \n",
       "2009-07-12                5.0                 None                         2   \n",
       "2016-01-17                NaN                 None                         5   \n",
       "2010-11-14                NaN                 sqrt                         2   \n",
       "2016-08-14                NaN                 sqrt                         2   \n",
       "2014-04-27                NaN                 sqrt                         2   \n",
       "2012-10-14                5.0                 None                         2   \n",
       "2011-06-12                NaN                 sqrt                         2   \n",
       "2013-03-03                NaN                 None                         2   \n",
       "2011-01-23                NaN                 None                         2   \n",
       "2016-10-23                NaN                 sqrt                         2   \n",
       "2017-10-08                NaN                 sqrt                         2   \n",
       "2017-05-21                NaN                 sqrt                         2   \n",
       "2012-12-23                NaN                 None                         2   \n",
       "2012-03-18                NaN                 sqrt                         2   \n",
       "2015-04-12                NaN                 sqrt                         2   \n",
       "2013-09-29                NaN                 None                         2   \n",
       "2011-10-30                NaN                 sqrt                         2   \n",
       "2012-05-27                NaN                 sqrt                         2   \n",
       "2013-07-21                NaN                 sqrt                         2   \n",
       "2011-04-03                NaN                 sqrt                         2   \n",
       "2017-01-01                NaN                 sqrt                         2   \n",
       "2014-11-23                NaN                 None                         5   \n",
       "2015-11-08                NaN                 sqrt                         2   \n",
       "2016-06-05                NaN                 None                         2   \n",
       "2016-03-27                NaN                 None                         2   \n",
       "2013-12-08                NaN                 sqrt                         2   \n",
       "2010-06-27                NaN                 None                         2   \n",
       "2014-02-16                NaN                 sqrt                         2   \n",
       "2008-05-18                NaN                 sqrt                         2   \n",
       "2013-05-12                5.0                 sqrt                         5   \n",
       "2008-12-14                NaN                 None                        20   \n",
       "2009-02-22                5.0                 None                        20   \n",
       "2011-08-21                NaN                 sqrt                         5   \n",
       "2008-07-27                5.0                 sqrt                         2   \n",
       "2008-10-05                NaN                 sqrt                         2   \n",
       "\n",
       "            forest__min_samples_split  forest__n_estimators  Sum of return  \\\n",
       "2015-06-21                         10                   100      78.291010   \n",
       "2009-11-29                         10                   100      56.493402   \n",
       "2012-01-08                          5                   100      52.689463   \n",
       "2009-09-20                          5                   100      46.041424   \n",
       "2014-07-06                          2                   100      40.816793   \n",
       "2012-08-05                          5                   100      40.711558   \n",
       "2008-03-09                          2                   100      33.819547   \n",
       "2010-02-07                          2                   100      33.813636   \n",
       "2007-12-30                         10                   100      30.651879   \n",
       "2014-09-14                          2                   100      26.465633   \n",
       "2017-07-30                          5                   100      21.907443   \n",
       "2015-02-01                          5                   100      19.900288   \n",
       "2010-04-18                         20                   100      18.723804   \n",
       "2015-08-30                          2                   100      15.313358   \n",
       "2017-03-12                          5                   100      14.572253   \n",
       "2010-09-05                          5                   100      13.440315   \n",
       "2009-05-03                          5                   100      12.059530   \n",
       "2009-07-12                          5                   100      11.349950   \n",
       "2016-01-17                          2                   100       6.585355   \n",
       "2010-11-14                          2                   100       6.245586   \n",
       "2016-08-14                          2                   100       6.068863   \n",
       "2014-04-27                          5                   100       5.210337   \n",
       "2012-10-14                          5                   100       3.671182   \n",
       "2011-06-12                          5                   100       2.806228   \n",
       "2013-03-03                          2                   100       2.029993   \n",
       "2011-01-23                          2                   100       1.149855   \n",
       "2016-10-23                          2                   100       0.614690   \n",
       "2017-10-08                          5                   100       0.590920   \n",
       "2017-05-21                          2                   100      -0.765350   \n",
       "2012-12-23                          2                   100      -7.915662   \n",
       "2012-03-18                          2                   100     -10.432040   \n",
       "2015-04-12                         10                   100     -11.231889   \n",
       "2013-09-29                         20                   100     -12.359111   \n",
       "2011-10-30                          2                   100     -13.299130   \n",
       "2012-05-27                          5                   100     -14.004343   \n",
       "2013-07-21                          2                   100     -14.786900   \n",
       "2011-04-03                          2                   100     -16.555034   \n",
       "2017-01-01                          5                   100     -18.194699   \n",
       "2014-11-23                          2                   100     -18.378064   \n",
       "2015-11-08                          5                   100     -18.756753   \n",
       "2016-06-05                          2                   100     -19.015676   \n",
       "2016-03-27                          2                   100     -26.144793   \n",
       "2013-12-08                         10                   100     -27.957383   \n",
       "2010-06-27                         10                   100     -29.660328   \n",
       "2014-02-16                          2                   100     -36.942129   \n",
       "2008-05-18                          2                   100     -46.151566   \n",
       "2013-05-12                          2                   100     -49.086856   \n",
       "2008-12-14                         20                   100     -50.828121   \n",
       "2009-02-22                          2                   100     -52.600225   \n",
       "2011-08-21                          2                   100     -59.515898   \n",
       "2008-07-27                          5                   100     -66.524957   \n",
       "2008-10-05                          2                   100    -238.477280   \n",
       "\n",
       "            Accuracy  \n",
       "2015-06-21       1.0  \n",
       "2009-11-29       0.8  \n",
       "2012-01-08       0.9  \n",
       "2009-09-20       0.9  \n",
       "2014-07-06       0.9  \n",
       "2012-08-05       1.0  \n",
       "2008-03-09       0.7  \n",
       "2010-02-07       0.8  \n",
       "2007-12-30       0.7  \n",
       "2014-09-14       0.9  \n",
       "2017-07-30       0.7  \n",
       "2015-02-01       0.9  \n",
       "2010-04-18       0.8  \n",
       "2015-08-30       0.5  \n",
       "2017-03-12       0.9  \n",
       "2010-09-05       0.7  \n",
       "2009-05-03       0.6  \n",
       "2009-07-12       0.6  \n",
       "2016-01-17       0.4  \n",
       "2010-11-14       0.6  \n",
       "2016-08-14       0.7  \n",
       "2014-04-27       0.5  \n",
       "2012-10-14       0.6  \n",
       "2011-06-12       0.5  \n",
       "2013-03-03       0.6  \n",
       "2011-01-23       0.5  \n",
       "2016-10-23       0.6  \n",
       "2017-10-08       0.5  \n",
       "2017-05-21       0.4  \n",
       "2012-12-23       0.4  \n",
       "2012-03-18       0.4  \n",
       "2015-04-12       0.3  \n",
       "2013-09-29       0.4  \n",
       "2011-10-30       0.5  \n",
       "2012-05-27       0.2  \n",
       "2013-07-21       0.4  \n",
       "2011-04-03       0.1  \n",
       "2017-01-01       0.3  \n",
       "2014-11-23       0.2  \n",
       "2015-11-08       0.2  \n",
       "2016-06-05       0.3  \n",
       "2016-03-27       0.4  \n",
       "2013-12-08       0.2  \n",
       "2010-06-27       0.2  \n",
       "2014-02-16       0.1  \n",
       "2008-05-18       0.2  \n",
       "2013-05-12       0.1  \n",
       "2008-12-14       0.1  \n",
       "2009-02-22       0.1  \n",
       "2011-08-21       0.2  \n",
       "2008-07-27       0.0  \n",
       "2008-10-05       0.0  "
      ]
     },
     "execution_count": 39,
     "metadata": {},
     "output_type": "execute_result"
    }
   ],
   "source": [
    "params.sort_values('Sum of return', ascending=False)"
   ]
  },
  {
   "cell_type": "code",
   "execution_count": 40,
   "metadata": {
    "collapsed": false
   },
   "outputs": [
    {
     "data": {
      "text/html": [
       "<div>\n",
       "<style scoped>\n",
       "    .dataframe tbody tr th:only-of-type {\n",
       "        vertical-align: middle;\n",
       "    }\n",
       "\n",
       "    .dataframe tbody tr th {\n",
       "        vertical-align: top;\n",
       "    }\n",
       "\n",
       "    .dataframe thead th {\n",
       "        text-align: right;\n",
       "    }\n",
       "</style>\n",
       "<table border=\"1\" class=\"dataframe\">\n",
       "  <thead>\n",
       "    <tr style=\"text-align: right;\">\n",
       "      <th></th>\n",
       "      <th>forest__max_depth</th>\n",
       "      <th>forest__min_samples_leaf</th>\n",
       "      <th>forest__min_samples_split</th>\n",
       "      <th>forest__n_estimators</th>\n",
       "      <th>Sum of return</th>\n",
       "      <th>Accuracy</th>\n",
       "    </tr>\n",
       "  </thead>\n",
       "  <tbody>\n",
       "    <tr>\n",
       "      <th>count</th>\n",
       "      <td>9.0</td>\n",
       "      <td>52.000000</td>\n",
       "      <td>52.000000</td>\n",
       "      <td>52.0</td>\n",
       "      <td>52.000000</td>\n",
       "      <td>52.000000</td>\n",
       "    </tr>\n",
       "    <tr>\n",
       "      <th>mean</th>\n",
       "      <td>5.0</td>\n",
       "      <td>2.923077</td>\n",
       "      <td>4.942308</td>\n",
       "      <td>100.0</td>\n",
       "      <td>-4.952883</td>\n",
       "      <td>0.490385</td>\n",
       "    </tr>\n",
       "    <tr>\n",
       "      <th>std</th>\n",
       "      <td>0.0</td>\n",
       "      <td>3.541608</td>\n",
       "      <td>4.556458</td>\n",
       "      <td>0.0</td>\n",
       "      <td>45.077595</td>\n",
       "      <td>0.283715</td>\n",
       "    </tr>\n",
       "    <tr>\n",
       "      <th>min</th>\n",
       "      <td>5.0</td>\n",
       "      <td>2.000000</td>\n",
       "      <td>2.000000</td>\n",
       "      <td>100.0</td>\n",
       "      <td>-238.477280</td>\n",
       "      <td>0.000000</td>\n",
       "    </tr>\n",
       "    <tr>\n",
       "      <th>25%</th>\n",
       "      <td>5.0</td>\n",
       "      <td>2.000000</td>\n",
       "      <td>2.000000</td>\n",
       "      <td>100.0</td>\n",
       "      <td>-18.472736</td>\n",
       "      <td>0.200000</td>\n",
       "    </tr>\n",
       "    <tr>\n",
       "      <th>50%</th>\n",
       "      <td>5.0</td>\n",
       "      <td>2.000000</td>\n",
       "      <td>3.500000</td>\n",
       "      <td>100.0</td>\n",
       "      <td>0.882272</td>\n",
       "      <td>0.500000</td>\n",
       "    </tr>\n",
       "    <tr>\n",
       "      <th>75%</th>\n",
       "      <td>5.0</td>\n",
       "      <td>2.000000</td>\n",
       "      <td>5.000000</td>\n",
       "      <td>100.0</td>\n",
       "      <td>16.165970</td>\n",
       "      <td>0.700000</td>\n",
       "    </tr>\n",
       "    <tr>\n",
       "      <th>max</th>\n",
       "      <td>5.0</td>\n",
       "      <td>20.000000</td>\n",
       "      <td>20.000000</td>\n",
       "      <td>100.0</td>\n",
       "      <td>78.291010</td>\n",
       "      <td>1.000000</td>\n",
       "    </tr>\n",
       "  </tbody>\n",
       "</table>\n",
       "</div>"
      ],
      "text/plain": [
       "       forest__max_depth  forest__min_samples_leaf  forest__min_samples_split  \\\n",
       "count                9.0                 52.000000                  52.000000   \n",
       "mean                 5.0                  2.923077                   4.942308   \n",
       "std                  0.0                  3.541608                   4.556458   \n",
       "min                  5.0                  2.000000                   2.000000   \n",
       "25%                  5.0                  2.000000                   2.000000   \n",
       "50%                  5.0                  2.000000                   3.500000   \n",
       "75%                  5.0                  2.000000                   5.000000   \n",
       "max                  5.0                 20.000000                  20.000000   \n",
       "\n",
       "       forest__n_estimators  Sum of return   Accuracy  \n",
       "count                  52.0      52.000000  52.000000  \n",
       "mean                  100.0      -4.952883   0.490385  \n",
       "std                     0.0      45.077595   0.283715  \n",
       "min                   100.0    -238.477280   0.000000  \n",
       "25%                   100.0     -18.472736   0.200000  \n",
       "50%                   100.0       0.882272   0.500000  \n",
       "75%                   100.0      16.165970   0.700000  \n",
       "max                   100.0      78.291010   1.000000  "
      ]
     },
     "execution_count": 40,
     "metadata": {},
     "output_type": "execute_result"
    }
   ],
   "source": [
    "params.describe()"
   ]
  },
  {
   "cell_type": "code",
   "execution_count": 41,
   "metadata": {
    "collapsed": false
   },
   "outputs": [
    {
     "data": {
      "text/plain": [
       "-257.54989099762327"
      ]
     },
     "execution_count": 41,
     "metadata": {},
     "output_type": "execute_result"
    }
   ],
   "source": [
    "params['Sum of return'].sum()"
   ]
  },
  {
   "cell_type": "code",
   "execution_count": 42,
   "metadata": {
    "collapsed": false
   },
   "outputs": [
    {
     "data": {
      "text/plain": [
       "<matplotlib.axes._subplots.AxesSubplot at 0x22337aaf630>"
      ]
     },
     "execution_count": 42,
     "metadata": {},
     "output_type": "execute_result"
    },
    {
     "data": {
      "image/png": "[encoded data removed]",
      "text/plain": [
       "<matplotlib.figure.Figure at 0x22335474e80>"
      ]
     },
     "metadata": {},
     "output_type": "display_data"
    }
   ],
   "source": [
    "params['Accuracy'].plot()"
   ]
  },
  {
   "cell_type": "code",
   "execution_count": 43,
   "metadata": {
    "collapsed": false
   },
   "outputs": [
    {
     "data": {
      "text/plain": [
       "<matplotlib.axes._subplots.AxesSubplot at 0x22338c937b8>"
      ]
     },
     "execution_count": 43,
     "metadata": {},
     "output_type": "execute_result"
    },
    {
     "data": {
      "image/png": "[encoded data removed]",
      "text/plain": [
       "<matplotlib.figure.Figure at 0x22338cb8390>"
      ]
     },
     "metadata": {},
     "output_type": "display_data"
    }
   ],
   "source": [
    "params['Sum of return'].plot()"
   ]
  },
  {
   "cell_type": "code",
   "execution_count": 44,
   "metadata": {},
   "outputs": [
    {
     "data": {
      "text/plain": [
       "<matplotlib.axes._subplots.AxesSubplot at 0x22338d5b0f0>"
      ]
     },
     "execution_count": 44,
     "metadata": {},
     "output_type": "execute_result"
    },
    {
     "data": {
      "image/png": "[encoded data removed]",
      "text/plain": [
       "<matplotlib.figure.Figure at 0x22338d689b0>"
      ]
     },
     "metadata": {},
     "output_type": "display_data"
    }
   ],
   "source": [
    "params['Sum of return'].cumsum().plot(figsize=(10,7))"
   ]
  },
  {
   "cell_type": "markdown",
   "metadata": {},
   "source": [
    "#### Trades"
   ]
  },
  {
   "cell_type": "code",
   "execution_count": 45,
   "metadata": {},
   "outputs": [],
   "source": [
    "all_trades = pd.concat([d['trades'] for d in test_params])"
   ]
  },
  {
   "cell_type": "code",
   "execution_count": 46,
   "metadata": {},
   "outputs": [
    {
     "data": {
      "text/plain": [
       "<matplotlib.axes._subplots.AxesSubplot at 0x22338e180f0>"
      ]
     },
     "execution_count": 46,
     "metadata": {},
     "output_type": "execute_result"
    },
    {
     "data": {
      "image/png": "[encoded data removed]",
      "text/plain": [
       "<matplotlib.figure.Figure at 0x22338e24160>"
      ]
     },
     "metadata": {},
     "output_type": "display_data"
    }
   ],
   "source": [
    "all_trades.cumsum().plot(figsize=(10,7))"
   ]
  },
  {
   "cell_type": "markdown",
   "metadata": {},
   "source": [
    "### Feature importances"
   ]
  },
  {
   "cell_type": "code",
   "execution_count": 47,
   "metadata": {},
   "outputs": [
    {
     "ename": "AssertionError",
     "evalue": "",
     "output_type": "error",
     "traceback": [
      "\u001b[1;31m---------------------------------------------------------------------------\u001b[0m",
      "\u001b[1;31mAssertionError\u001b[0m                            Traceback (most recent call last)",
      "\u001b[1;32m<ipython-input-47-5e3467bee640>\u001b[0m in \u001b[0;36m<module>\u001b[1;34m()\u001b[0m\n\u001b[1;32m----> 1\u001b[1;33m \u001b[1;32massert\u001b[0m \u001b[1;34m'features'\u001b[0m \u001b[1;32min\u001b[0m \u001b[0mtest_params\u001b[0m\u001b[1;33m[\u001b[0m\u001b[1;36m0\u001b[0m\u001b[1;33m]\u001b[0m\u001b[1;33m\u001b[0m\u001b[0m\n\u001b[0m",
      "\u001b[1;31mAssertionError\u001b[0m: "
     ]
    }
   ],
   "source": [
    "assert 'features' in test_params[0]"
   ]
  },
  {
   "cell_type": "code",
   "execution_count": null,
   "metadata": {
    "collapsed": true
   },
   "outputs": [],
   "source": [
    "features = pd.DataFrame([d['features'] for d in test_params], index=indexes, columns=feature_names)"
   ]
  },
  {
   "cell_type": "code",
   "execution_count": null,
   "metadata": {
    "collapsed": false
   },
   "outputs": [],
   "source": [
    "features.idxmax(axis=1).value_counts()"
   ]
  },
  {
   "cell_type": "code",
   "execution_count": null,
   "metadata": {
    "collapsed": false
   },
   "outputs": [],
   "source": [
    "plt.figure(figsize=(15,8))\n",
    "sns.heatmap(features)"
   ]
  },
  {
   "cell_type": "code",
   "execution_count": null,
   "metadata": {
    "collapsed": false
   },
   "outputs": [],
   "source": [
    "plt.figure(figsize=(10,20))\n",
    "sns.violinplot(data=features, orient='h')"
   ]
  },
  {
   "cell_type": "code",
   "execution_count": null,
   "metadata": {
    "collapsed": true
   },
   "outputs": [],
   "source": []
  }
 ],
 "metadata": {
  "kernelspec": {
   "display_name": "Python 3",
   "language": "python",
   "name": "python3"
  },
  "language_info": {
   "codemirror_mode": {
    "name": "ipython",
    "version": 3
   },
   "file_extension": ".py",
   "mimetype": "text/x-python",
   "name": "python",
   "nbconvert_exporter": "python",
   "pygments_lexer": "ipython3",
   "version": "3.6.3"
  }
 },
 "nbformat": 4,
 "nbformat_minor": 2
}
