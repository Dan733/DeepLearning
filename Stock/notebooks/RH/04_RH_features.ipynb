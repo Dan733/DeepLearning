{
 "cells": [
  {
   "cell_type": "code",
   "execution_count": 1,
   "metadata": {},
   "outputs": [],
   "source": [
    "import numpy as np\n",
    "import pandas as pd\n",
    "from datetime import datetime, timedelta\n",
    "import seaborn as sns\n",
    "import matplotlib.pyplot as plt\n",
    "import pandas_datareader as pdr\n",
    "import math\n",
    "from utils import *\n",
    "import talib as tl\n",
    "%matplotlib inline"
   ]
  },
  {
   "cell_type": "code",
   "execution_count": 2,
   "metadata": {},
   "outputs": [],
   "source": [
    "from sklearn.preprocessing import LabelBinarizer, StandardScaler\n",
    "from sklearn_pandas import DataFrameMapper"
   ]
  },
  {
   "cell_type": "code",
   "execution_count": 3,
   "metadata": {},
   "outputs": [],
   "source": [
    "data = read_ami_SPY_data()"
   ]
  },
  {
   "cell_type": "code",
   "execution_count": 4,
   "metadata": {},
   "outputs": [],
   "source": [
    "def llen(col, data=data):\n",
    "    return len(data[data[col]])"
   ]
  },
  {
   "cell_type": "code",
   "execution_count": 5,
   "metadata": {},
   "outputs": [
    {
     "data": {
      "text/html": [
       "<div>\n",
       "<style scoped>\n",
       "    .dataframe tbody tr th:only-of-type {\n",
       "        vertical-align: middle;\n",
       "    }\n",
       "\n",
       "    .dataframe tbody tr th {\n",
       "        vertical-align: top;\n",
       "    }\n",
       "\n",
       "    .dataframe thead th {\n",
       "        text-align: right;\n",
       "    }\n",
       "</style>\n",
       "<table border=\"1\" class=\"dataframe\">\n",
       "  <thead>\n",
       "    <tr style=\"text-align: right;\">\n",
       "      <th></th>\n",
       "      <th>Open</th>\n",
       "      <th>High</th>\n",
       "      <th>Low</th>\n",
       "      <th>Close</th>\n",
       "      <th>Volume</th>\n",
       "    </tr>\n",
       "    <tr>\n",
       "      <th>Date</th>\n",
       "      <th></th>\n",
       "      <th></th>\n",
       "      <th></th>\n",
       "      <th></th>\n",
       "      <th></th>\n",
       "    </tr>\n",
       "  </thead>\n",
       "  <tbody>\n",
       "    <tr>\n",
       "      <th>1999-03-10</th>\n",
       "      <td>128.4687</td>\n",
       "      <td>129.2500</td>\n",
       "      <td>127.7812</td>\n",
       "      <td>129.1875</td>\n",
       "      <td>3950000</td>\n",
       "    </tr>\n",
       "    <tr>\n",
       "      <th>1999-03-11</th>\n",
       "      <td>129.6875</td>\n",
       "      <td>131.1875</td>\n",
       "      <td>128.8750</td>\n",
       "      <td>130.6250</td>\n",
       "      <td>6583700</td>\n",
       "    </tr>\n",
       "    <tr>\n",
       "      <th>1999-03-12</th>\n",
       "      <td>131.0000</td>\n",
       "      <td>131.0312</td>\n",
       "      <td>129.2187</td>\n",
       "      <td>129.3750</td>\n",
       "      <td>5286500</td>\n",
       "    </tr>\n",
       "    <tr>\n",
       "      <th>1999-03-15</th>\n",
       "      <td>129.9375</td>\n",
       "      <td>131.2500</td>\n",
       "      <td>129.5000</td>\n",
       "      <td>131.2187</td>\n",
       "      <td>5394400</td>\n",
       "    </tr>\n",
       "    <tr>\n",
       "      <th>1999-03-16</th>\n",
       "      <td>131.1250</td>\n",
       "      <td>131.6562</td>\n",
       "      <td>130.4687</td>\n",
       "      <td>130.7187</td>\n",
       "      <td>4547500</td>\n",
       "    </tr>\n",
       "  </tbody>\n",
       "</table>\n",
       "</div>"
      ],
      "text/plain": [
       "                Open      High       Low     Close   Volume\n",
       "Date                                                       \n",
       "1999-03-10  128.4687  129.2500  127.7812  129.1875  3950000\n",
       "1999-03-11  129.6875  131.1875  128.8750  130.6250  6583700\n",
       "1999-03-12  131.0000  131.0312  129.2187  129.3750  5286500\n",
       "1999-03-15  129.9375  131.2500  129.5000  131.2187  5394400\n",
       "1999-03-16  131.1250  131.6562  130.4687  130.7187  4547500"
      ]
     },
     "execution_count": 5,
     "metadata": {},
     "output_type": "execute_result"
    }
   ],
   "source": [
    "data.head(5)"
   ]
  },
  {
   "cell_type": "code",
   "execution_count": 6,
   "metadata": {},
   "outputs": [],
   "source": [
    "O = data['Open']\n",
    "H = data['High']\n",
    "L = data['Low']\n",
    "C = data['Close']\n",
    "V = data['Volume']"
   ]
  },
  {
   "cell_type": "code",
   "execution_count": 7,
   "metadata": {},
   "outputs": [],
   "source": [
    "data['Weekday'] = data.index.dayofweek.map(lambda x: {0: 'Mon', 1: 'Tue', 2: 'Wed', 3: 'Thu', 4: 'Fri'}.get(x))"
   ]
  },
  {
   "cell_type": "code",
   "execution_count": 8,
   "metadata": {},
   "outputs": [],
   "source": [
    "data['Month'] = data.index.month"
   ]
  },
  {
   "cell_type": "code",
   "execution_count": 9,
   "metadata": {},
   "outputs": [
    {
     "data": {
      "text/html": [
       "<div>\n",
       "<style scoped>\n",
       "    .dataframe tbody tr th:only-of-type {\n",
       "        vertical-align: middle;\n",
       "    }\n",
       "\n",
       "    .dataframe tbody tr th {\n",
       "        vertical-align: top;\n",
       "    }\n",
       "\n",
       "    .dataframe thead th {\n",
       "        text-align: right;\n",
       "    }\n",
       "</style>\n",
       "<table border=\"1\" class=\"dataframe\">\n",
       "  <thead>\n",
       "    <tr style=\"text-align: right;\">\n",
       "      <th></th>\n",
       "      <th>Weekday</th>\n",
       "      <th>Month</th>\n",
       "    </tr>\n",
       "    <tr>\n",
       "      <th>Date</th>\n",
       "      <th></th>\n",
       "      <th></th>\n",
       "    </tr>\n",
       "  </thead>\n",
       "  <tbody>\n",
       "    <tr>\n",
       "      <th>1999-03-10</th>\n",
       "      <td>Wed</td>\n",
       "      <td>3</td>\n",
       "    </tr>\n",
       "    <tr>\n",
       "      <th>1999-03-11</th>\n",
       "      <td>Thu</td>\n",
       "      <td>3</td>\n",
       "    </tr>\n",
       "    <tr>\n",
       "      <th>1999-03-12</th>\n",
       "      <td>Fri</td>\n",
       "      <td>3</td>\n",
       "    </tr>\n",
       "    <tr>\n",
       "      <th>1999-03-15</th>\n",
       "      <td>Mon</td>\n",
       "      <td>3</td>\n",
       "    </tr>\n",
       "    <tr>\n",
       "      <th>1999-03-16</th>\n",
       "      <td>Tue</td>\n",
       "      <td>3</td>\n",
       "    </tr>\n",
       "  </tbody>\n",
       "</table>\n",
       "</div>"
      ],
      "text/plain": [
       "           Weekday  Month\n",
       "Date                     \n",
       "1999-03-10     Wed      3\n",
       "1999-03-11     Thu      3\n",
       "1999-03-12     Fri      3\n",
       "1999-03-15     Mon      3\n",
       "1999-03-16     Tue      3"
      ]
     },
     "execution_count": 9,
     "metadata": {},
     "output_type": "execute_result"
    }
   ],
   "source": [
    "data[['Weekday', 'Month']].head()"
   ]
  },
  {
   "cell_type": "code",
   "execution_count": 10,
   "metadata": {},
   "outputs": [],
   "source": [
    "def binarize_column(data, col):\n",
    "    mapper = DataFrameMapper([(col, LabelBinarizer())], df_out=True, default=None)\n",
    "    data = mapper.fit_transform(data)\n",
    "    return data"
   ]
  },
  {
   "cell_type": "code",
   "execution_count": 11,
   "metadata": {},
   "outputs": [],
   "source": [
    "data['Last trading day of month'] = np.append((data[:-1].index.day > data[1:].index.day), False)"
   ]
  },
  {
   "cell_type": "code",
   "execution_count": 12,
   "metadata": {},
   "outputs": [],
   "source": [
    "data['First trading day of month'] = np.insert((data[1:].index.day < data[:-1].index.day), 0, False)"
   ]
  },
  {
   "cell_type": "code",
   "execution_count": 13,
   "metadata": {},
   "outputs": [
    {
     "data": {
      "text/plain": [
       "DatetimeIndex(['1999-03-31', '1999-06-30', '1999-09-30', '1999-12-31',\n",
       "               '2000-03-31', '2000-06-30', '2000-09-29', '2000-12-29',\n",
       "               '2001-03-30', '2001-06-29', '2001-09-28', '2001-12-31',\n",
       "               '2002-03-28', '2002-06-28', '2002-09-30', '2002-12-31',\n",
       "               '2003-03-31', '2003-06-30', '2003-09-30', '2003-12-31',\n",
       "               '2004-03-31', '2004-06-30', '2004-09-30', '2004-12-31',\n",
       "               '2005-03-31', '2005-06-30', '2005-09-30', '2005-12-30',\n",
       "               '2006-03-31', '2006-06-30', '2006-09-29', '2006-12-29',\n",
       "               '2007-03-30', '2007-06-29', '2007-09-28', '2007-12-31',\n",
       "               '2008-03-31', '2008-06-30', '2008-09-30', '2008-12-31',\n",
       "               '2009-03-31', '2009-06-30', '2009-09-30', '2009-12-31',\n",
       "               '2010-03-31', '2010-06-30', '2010-09-30', '2010-12-31',\n",
       "               '2011-03-31', '2011-06-30', '2011-09-30', '2011-12-30',\n",
       "               '2012-03-30', '2012-06-29', '2012-09-28', '2012-12-31',\n",
       "               '2013-03-28', '2013-06-28', '2013-09-30', '2013-12-31',\n",
       "               '2014-03-31', '2014-06-30', '2014-09-30', '2014-12-31',\n",
       "               '2015-03-31', '2015-06-30', '2015-09-30', '2015-12-31',\n",
       "               '2016-03-31', '2016-06-30', '2016-09-30', '2016-12-30',\n",
       "               '2017-03-31', '2017-06-30', '2017-09-29', '2017-12-29'],\n",
       "              dtype='datetime64[ns]', name='Date', freq=None)"
      ]
     },
     "execution_count": 13,
     "metadata": {},
     "output_type": "execute_result"
    }
   ],
   "source": [
    "data['End of Quarter'] = (data['Month'] % 3 == 0) & data['Last trading day of month']\n",
    "data[data['End of Quarter']].index"
   ]
  },
  {
   "cell_type": "code",
   "execution_count": 14,
   "metadata": {},
   "outputs": [],
   "source": [
    "data['Closes down 1d'] = C < C.shift()"
   ]
  },
  {
   "cell_type": "code",
   "execution_count": 15,
   "metadata": {},
   "outputs": [],
   "source": [
    "data['Closes up in a row 2d'] = (C > C.shift()).rolling(2).mean() == 1\n",
    "data['Closes up in a row 3d'] = (C > C.shift()).rolling(3).mean() == 1\n",
    "data['Closes up in a row 4d'] = (C > C.shift()).rolling(4).mean() == 1\n",
    "data['Closes up in a row 5d'] = (C > C.shift()).rolling(5).mean() == 1\n",
    "data['Closes up in a row 5d S(1d)'] = data['Closes up in a row 5d'].shift().fillna(False)\n",
    "\n",
    "data['Closes down in a row 2d'] = (C < C.shift()).rolling(2).mean() == 1\n",
    "data['Closes down in a row 3d'] = (C < C.shift()).rolling(3).mean() == 1\n",
    "data['Closes down in a row 4d'] = (C < C.shift()).rolling(4).mean() == 1\n",
    "data['Closes down in a row 5d'] = (C < C.shift()).rolling(5).mean() == 1"
   ]
  },
  {
   "cell_type": "code",
   "execution_count": 16,
   "metadata": {},
   "outputs": [
    {
     "data": {
      "text/html": [
       "<div>\n",
       "<style scoped>\n",
       "    .dataframe tbody tr th:only-of-type {\n",
       "        vertical-align: middle;\n",
       "    }\n",
       "\n",
       "    .dataframe tbody tr th {\n",
       "        vertical-align: top;\n",
       "    }\n",
       "\n",
       "    .dataframe thead th {\n",
       "        text-align: right;\n",
       "    }\n",
       "</style>\n",
       "<table border=\"1\" class=\"dataframe\">\n",
       "  <thead>\n",
       "    <tr style=\"text-align: right;\">\n",
       "      <th></th>\n",
       "      <th>Close</th>\n",
       "      <th>Closes down 1d</th>\n",
       "      <th>Closes down in a row 2d</th>\n",
       "    </tr>\n",
       "    <tr>\n",
       "      <th>Date</th>\n",
       "      <th></th>\n",
       "      <th></th>\n",
       "      <th></th>\n",
       "    </tr>\n",
       "  </thead>\n",
       "  <tbody>\n",
       "    <tr>\n",
       "      <th>1999-03-10</th>\n",
       "      <td>129.1875</td>\n",
       "      <td>False</td>\n",
       "      <td>False</td>\n",
       "    </tr>\n",
       "    <tr>\n",
       "      <th>1999-03-11</th>\n",
       "      <td>130.6250</td>\n",
       "      <td>False</td>\n",
       "      <td>False</td>\n",
       "    </tr>\n",
       "    <tr>\n",
       "      <th>1999-03-12</th>\n",
       "      <td>129.3750</td>\n",
       "      <td>True</td>\n",
       "      <td>False</td>\n",
       "    </tr>\n",
       "    <tr>\n",
       "      <th>1999-03-15</th>\n",
       "      <td>131.2187</td>\n",
       "      <td>False</td>\n",
       "      <td>False</td>\n",
       "    </tr>\n",
       "    <tr>\n",
       "      <th>1999-03-16</th>\n",
       "      <td>130.7187</td>\n",
       "      <td>True</td>\n",
       "      <td>False</td>\n",
       "    </tr>\n",
       "    <tr>\n",
       "      <th>1999-03-17</th>\n",
       "      <td>130.1562</td>\n",
       "      <td>True</td>\n",
       "      <td>True</td>\n",
       "    </tr>\n",
       "    <tr>\n",
       "      <th>1999-03-18</th>\n",
       "      <td>132.2500</td>\n",
       "      <td>False</td>\n",
       "      <td>False</td>\n",
       "    </tr>\n",
       "    <tr>\n",
       "      <th>1999-03-19</th>\n",
       "      <td>129.6875</td>\n",
       "      <td>True</td>\n",
       "      <td>False</td>\n",
       "    </tr>\n",
       "    <tr>\n",
       "      <th>1999-03-22</th>\n",
       "      <td>129.9375</td>\n",
       "      <td>False</td>\n",
       "      <td>False</td>\n",
       "    </tr>\n",
       "    <tr>\n",
       "      <th>1999-03-23</th>\n",
       "      <td>126.1875</td>\n",
       "      <td>True</td>\n",
       "      <td>False</td>\n",
       "    </tr>\n",
       "  </tbody>\n",
       "</table>\n",
       "</div>"
      ],
      "text/plain": [
       "               Close  Closes down 1d  Closes down in a row 2d\n",
       "Date                                                         \n",
       "1999-03-10  129.1875           False                    False\n",
       "1999-03-11  130.6250           False                    False\n",
       "1999-03-12  129.3750            True                    False\n",
       "1999-03-15  131.2187           False                    False\n",
       "1999-03-16  130.7187            True                    False\n",
       "1999-03-17  130.1562            True                     True\n",
       "1999-03-18  132.2500           False                    False\n",
       "1999-03-19  129.6875            True                    False\n",
       "1999-03-22  129.9375           False                    False\n",
       "1999-03-23  126.1875            True                    False"
      ]
     },
     "execution_count": 16,
     "metadata": {},
     "output_type": "execute_result"
    }
   ],
   "source": [
    "data[['Close', 'Closes down 1d', 'Closes down in a row 2d']].head(10)"
   ]
  },
  {
   "cell_type": "code",
   "execution_count": 17,
   "metadata": {},
   "outputs": [
    {
     "data": {
      "text/html": [
       "<div>\n",
       "<style scoped>\n",
       "    .dataframe tbody tr th:only-of-type {\n",
       "        vertical-align: middle;\n",
       "    }\n",
       "\n",
       "    .dataframe tbody tr th {\n",
       "        vertical-align: top;\n",
       "    }\n",
       "\n",
       "    .dataframe thead th {\n",
       "        text-align: right;\n",
       "    }\n",
       "</style>\n",
       "<table border=\"1\" class=\"dataframe\">\n",
       "  <thead>\n",
       "    <tr style=\"text-align: right;\">\n",
       "      <th></th>\n",
       "      <th>Close</th>\n",
       "      <th>Closes up in a row 5d S(1d)</th>\n",
       "    </tr>\n",
       "    <tr>\n",
       "      <th>Date</th>\n",
       "      <th></th>\n",
       "      <th></th>\n",
       "    </tr>\n",
       "  </thead>\n",
       "  <tbody>\n",
       "    <tr>\n",
       "      <th>1999-10-15</th>\n",
       "      <td>124.8750</td>\n",
       "      <td>False</td>\n",
       "    </tr>\n",
       "    <tr>\n",
       "      <th>1999-10-18</th>\n",
       "      <td>125.7812</td>\n",
       "      <td>False</td>\n",
       "    </tr>\n",
       "    <tr>\n",
       "      <th>1999-10-19</th>\n",
       "      <td>127.0000</td>\n",
       "      <td>False</td>\n",
       "    </tr>\n",
       "    <tr>\n",
       "      <th>1999-10-20</th>\n",
       "      <td>128.2500</td>\n",
       "      <td>False</td>\n",
       "    </tr>\n",
       "    <tr>\n",
       "      <th>1999-10-21</th>\n",
       "      <td>129.0000</td>\n",
       "      <td>False</td>\n",
       "    </tr>\n",
       "    <tr>\n",
       "      <th>1999-10-22</th>\n",
       "      <td>130.0937</td>\n",
       "      <td>False</td>\n",
       "    </tr>\n",
       "    <tr>\n",
       "      <th>1999-10-25</th>\n",
       "      <td>129.4375</td>\n",
       "      <td>True</td>\n",
       "    </tr>\n",
       "  </tbody>\n",
       "</table>\n",
       "</div>"
      ],
      "text/plain": [
       "               Close  Closes up in a row 5d S(1d)\n",
       "Date                                             \n",
       "1999-10-15  124.8750                        False\n",
       "1999-10-18  125.7812                        False\n",
       "1999-10-19  127.0000                        False\n",
       "1999-10-20  128.2500                        False\n",
       "1999-10-21  129.0000                        False\n",
       "1999-10-22  130.0937                        False\n",
       "1999-10-25  129.4375                         True"
      ]
     },
     "execution_count": 17,
     "metadata": {},
     "output_type": "execute_result"
    }
   ],
   "source": [
    "data['1999-10-15':'1999-10-25'][['Close', 'Closes up in a row 5d S(1d)']]"
   ]
  },
  {
   "cell_type": "code",
   "execution_count": 18,
   "metadata": {},
   "outputs": [],
   "source": [
    "data['Day'] = data.index.day"
   ]
  },
  {
   "cell_type": "code",
   "execution_count": 19,
   "metadata": {},
   "outputs": [
    {
     "data": {
      "text/html": [
       "<div>\n",
       "<style scoped>\n",
       "    .dataframe tbody tr th:only-of-type {\n",
       "        vertical-align: middle;\n",
       "    }\n",
       "\n",
       "    .dataframe tbody tr th {\n",
       "        vertical-align: top;\n",
       "    }\n",
       "\n",
       "    .dataframe thead th {\n",
       "        text-align: right;\n",
       "    }\n",
       "</style>\n",
       "<table border=\"1\" class=\"dataframe\">\n",
       "  <thead>\n",
       "    <tr style=\"text-align: right;\">\n",
       "      <th></th>\n",
       "      <th>Open</th>\n",
       "      <th>High</th>\n",
       "      <th>Low</th>\n",
       "      <th>Close</th>\n",
       "      <th>Volume</th>\n",
       "      <th>Weekday</th>\n",
       "      <th>Month</th>\n",
       "      <th>Last trading day of month</th>\n",
       "      <th>First trading day of month</th>\n",
       "      <th>End of Quarter</th>\n",
       "      <th>...</th>\n",
       "      <th>Closes up in a row 2d</th>\n",
       "      <th>Closes up in a row 3d</th>\n",
       "      <th>Closes up in a row 4d</th>\n",
       "      <th>Closes up in a row 5d</th>\n",
       "      <th>Closes up in a row 5d S(1d)</th>\n",
       "      <th>Closes down in a row 2d</th>\n",
       "      <th>Closes down in a row 3d</th>\n",
       "      <th>Closes down in a row 4d</th>\n",
       "      <th>Closes down in a row 5d</th>\n",
       "      <th>Day</th>\n",
       "    </tr>\n",
       "    <tr>\n",
       "      <th>Date</th>\n",
       "      <th></th>\n",
       "      <th></th>\n",
       "      <th></th>\n",
       "      <th></th>\n",
       "      <th></th>\n",
       "      <th></th>\n",
       "      <th></th>\n",
       "      <th></th>\n",
       "      <th></th>\n",
       "      <th></th>\n",
       "      <th></th>\n",
       "      <th></th>\n",
       "      <th></th>\n",
       "      <th></th>\n",
       "      <th></th>\n",
       "      <th></th>\n",
       "      <th></th>\n",
       "      <th></th>\n",
       "      <th></th>\n",
       "      <th></th>\n",
       "      <th></th>\n",
       "    </tr>\n",
       "  </thead>\n",
       "  <tbody>\n",
       "    <tr>\n",
       "      <th>1999-03-10</th>\n",
       "      <td>128.4687</td>\n",
       "      <td>129.2500</td>\n",
       "      <td>127.7812</td>\n",
       "      <td>129.1875</td>\n",
       "      <td>3950000</td>\n",
       "      <td>Wed</td>\n",
       "      <td>3</td>\n",
       "      <td>False</td>\n",
       "      <td>False</td>\n",
       "      <td>False</td>\n",
       "      <td>...</td>\n",
       "      <td>False</td>\n",
       "      <td>False</td>\n",
       "      <td>False</td>\n",
       "      <td>False</td>\n",
       "      <td>False</td>\n",
       "      <td>False</td>\n",
       "      <td>False</td>\n",
       "      <td>False</td>\n",
       "      <td>False</td>\n",
       "      <td>10</td>\n",
       "    </tr>\n",
       "    <tr>\n",
       "      <th>1999-03-11</th>\n",
       "      <td>129.6875</td>\n",
       "      <td>131.1875</td>\n",
       "      <td>128.8750</td>\n",
       "      <td>130.6250</td>\n",
       "      <td>6583700</td>\n",
       "      <td>Thu</td>\n",
       "      <td>3</td>\n",
       "      <td>False</td>\n",
       "      <td>False</td>\n",
       "      <td>False</td>\n",
       "      <td>...</td>\n",
       "      <td>False</td>\n",
       "      <td>False</td>\n",
       "      <td>False</td>\n",
       "      <td>False</td>\n",
       "      <td>False</td>\n",
       "      <td>False</td>\n",
       "      <td>False</td>\n",
       "      <td>False</td>\n",
       "      <td>False</td>\n",
       "      <td>11</td>\n",
       "    </tr>\n",
       "  </tbody>\n",
       "</table>\n",
       "<p>2 rows × 21 columns</p>\n",
       "</div>"
      ],
      "text/plain": [
       "                Open      High       Low     Close   Volume Weekday  Month  \\\n",
       "Date                                                                         \n",
       "1999-03-10  128.4687  129.2500  127.7812  129.1875  3950000     Wed      3   \n",
       "1999-03-11  129.6875  131.1875  128.8750  130.6250  6583700     Thu      3   \n",
       "\n",
       "            Last trading day of month  First trading day of month  \\\n",
       "Date                                                                \n",
       "1999-03-10                      False                       False   \n",
       "1999-03-11                      False                       False   \n",
       "\n",
       "            End of Quarter ...   Closes up in a row 2d  Closes up in a row 3d  \\\n",
       "Date                       ...                                                  \n",
       "1999-03-10           False ...                   False                  False   \n",
       "1999-03-11           False ...                   False                  False   \n",
       "\n",
       "            Closes up in a row 4d  Closes up in a row 5d  \\\n",
       "Date                                                       \n",
       "1999-03-10                  False                  False   \n",
       "1999-03-11                  False                  False   \n",
       "\n",
       "            Closes up in a row 5d S(1d)  Closes down in a row 2d  \\\n",
       "Date                                                               \n",
       "1999-03-10                        False                    False   \n",
       "1999-03-11                        False                    False   \n",
       "\n",
       "            Closes down in a row 3d  Closes down in a row 4d  \\\n",
       "Date                                                           \n",
       "1999-03-10                    False                    False   \n",
       "1999-03-11                    False                    False   \n",
       "\n",
       "            Closes down in a row 5d  Day  \n",
       "Date                                      \n",
       "1999-03-10                    False   10  \n",
       "1999-03-11                    False   11  \n",
       "\n",
       "[2 rows x 21 columns]"
      ]
     },
     "execution_count": 19,
     "metadata": {},
     "output_type": "execute_result"
    }
   ],
   "source": [
    "data.head(2)"
   ]
  },
  {
   "cell_type": "code",
   "execution_count": 20,
   "metadata": {},
   "outputs": [],
   "source": [
    "data['Daily return'] = C.pct_change().fillna(0)*100"
   ]
  },
  {
   "cell_type": "code",
   "execution_count": 21,
   "metadata": {},
   "outputs": [
    {
     "data": {
      "text/plain": [
       "Date\n",
       "1999-03-10    0.000000\n",
       "1999-03-11    1.112724\n",
       "1999-03-12   -0.956938\n",
       "1999-03-15    1.425082\n",
       "1999-03-16   -0.381043\n",
       "Name: Daily return, dtype: float64"
      ]
     },
     "execution_count": 21,
     "metadata": {},
     "output_type": "execute_result"
    }
   ],
   "source": [
    "data['Daily return'].head()"
   ]
  },
  {
   "cell_type": "code",
   "execution_count": 22,
   "metadata": {},
   "outputs": [],
   "source": [
    "data['Lowest volume 5d'] = V.rolling(5).min() == V"
   ]
  },
  {
   "cell_type": "code",
   "execution_count": 23,
   "metadata": {},
   "outputs": [
    {
     "data": {
      "text/html": [
       "<div>\n",
       "<style scoped>\n",
       "    .dataframe tbody tr th:only-of-type {\n",
       "        vertical-align: middle;\n",
       "    }\n",
       "\n",
       "    .dataframe tbody tr th {\n",
       "        vertical-align: top;\n",
       "    }\n",
       "\n",
       "    .dataframe thead th {\n",
       "        text-align: right;\n",
       "    }\n",
       "</style>\n",
       "<table border=\"1\" class=\"dataframe\">\n",
       "  <thead>\n",
       "    <tr style=\"text-align: right;\">\n",
       "      <th></th>\n",
       "      <th>Volume</th>\n",
       "      <th>Lowest volume 5d</th>\n",
       "    </tr>\n",
       "    <tr>\n",
       "      <th>Date</th>\n",
       "      <th></th>\n",
       "      <th></th>\n",
       "    </tr>\n",
       "  </thead>\n",
       "  <tbody>\n",
       "    <tr>\n",
       "      <th>1999-03-10</th>\n",
       "      <td>3950000</td>\n",
       "      <td>False</td>\n",
       "    </tr>\n",
       "    <tr>\n",
       "      <th>1999-03-11</th>\n",
       "      <td>6583700</td>\n",
       "      <td>False</td>\n",
       "    </tr>\n",
       "    <tr>\n",
       "      <th>1999-03-12</th>\n",
       "      <td>5286500</td>\n",
       "      <td>False</td>\n",
       "    </tr>\n",
       "    <tr>\n",
       "      <th>1999-03-15</th>\n",
       "      <td>5394400</td>\n",
       "      <td>False</td>\n",
       "    </tr>\n",
       "    <tr>\n",
       "      <th>1999-03-16</th>\n",
       "      <td>4547500</td>\n",
       "      <td>False</td>\n",
       "    </tr>\n",
       "    <tr>\n",
       "      <th>1999-03-17</th>\n",
       "      <td>4524100</td>\n",
       "      <td>True</td>\n",
       "    </tr>\n",
       "    <tr>\n",
       "      <th>1999-03-18</th>\n",
       "      <td>3506300</td>\n",
       "      <td>True</td>\n",
       "    </tr>\n",
       "    <tr>\n",
       "      <th>1999-03-19</th>\n",
       "      <td>5526700</td>\n",
       "      <td>False</td>\n",
       "    </tr>\n",
       "    <tr>\n",
       "      <th>1999-03-22</th>\n",
       "      <td>4603800</td>\n",
       "      <td>False</td>\n",
       "    </tr>\n",
       "    <tr>\n",
       "      <th>1999-03-23</th>\n",
       "      <td>9713800</td>\n",
       "      <td>False</td>\n",
       "    </tr>\n",
       "  </tbody>\n",
       "</table>\n",
       "</div>"
      ],
      "text/plain": [
       "             Volume  Lowest volume 5d\n",
       "Date                                 \n",
       "1999-03-10  3950000             False\n",
       "1999-03-11  6583700             False\n",
       "1999-03-12  5286500             False\n",
       "1999-03-15  5394400             False\n",
       "1999-03-16  4547500             False\n",
       "1999-03-17  4524100              True\n",
       "1999-03-18  3506300              True\n",
       "1999-03-19  5526700             False\n",
       "1999-03-22  4603800             False\n",
       "1999-03-23  9713800             False"
      ]
     },
     "execution_count": 23,
     "metadata": {},
     "output_type": "execute_result"
    }
   ],
   "source": [
    "data.head(10)[['Volume', 'Lowest volume 5d']]"
   ]
  },
  {
   "cell_type": "code",
   "execution_count": 24,
   "metadata": {},
   "outputs": [],
   "source": [
    "data['Daily return 5d'] = C.pct_change(5).fillna(0)*100"
   ]
  },
  {
   "cell_type": "code",
   "execution_count": 25,
   "metadata": {},
   "outputs": [
    {
     "data": {
      "text/html": [
       "<div>\n",
       "<style scoped>\n",
       "    .dataframe tbody tr th:only-of-type {\n",
       "        vertical-align: middle;\n",
       "    }\n",
       "\n",
       "    .dataframe tbody tr th {\n",
       "        vertical-align: top;\n",
       "    }\n",
       "\n",
       "    .dataframe thead th {\n",
       "        text-align: right;\n",
       "    }\n",
       "</style>\n",
       "<table border=\"1\" class=\"dataframe\">\n",
       "  <thead>\n",
       "    <tr style=\"text-align: right;\">\n",
       "      <th></th>\n",
       "      <th>Close</th>\n",
       "      <th>Daily return 5d</th>\n",
       "    </tr>\n",
       "    <tr>\n",
       "      <th>Date</th>\n",
       "      <th></th>\n",
       "      <th></th>\n",
       "    </tr>\n",
       "  </thead>\n",
       "  <tbody>\n",
       "    <tr>\n",
       "      <th>1999-03-10</th>\n",
       "      <td>129.1875</td>\n",
       "      <td>0.00000</td>\n",
       "    </tr>\n",
       "    <tr>\n",
       "      <th>1999-03-11</th>\n",
       "      <td>130.6250</td>\n",
       "      <td>0.00000</td>\n",
       "    </tr>\n",
       "    <tr>\n",
       "      <th>1999-03-12</th>\n",
       "      <td>129.3750</td>\n",
       "      <td>0.00000</td>\n",
       "    </tr>\n",
       "    <tr>\n",
       "      <th>1999-03-15</th>\n",
       "      <td>131.2187</td>\n",
       "      <td>0.00000</td>\n",
       "    </tr>\n",
       "    <tr>\n",
       "      <th>1999-03-16</th>\n",
       "      <td>130.7187</td>\n",
       "      <td>0.00000</td>\n",
       "    </tr>\n",
       "    <tr>\n",
       "      <th>1999-03-17</th>\n",
       "      <td>130.1562</td>\n",
       "      <td>0.74984</td>\n",
       "    </tr>\n",
       "  </tbody>\n",
       "</table>\n",
       "</div>"
      ],
      "text/plain": [
       "               Close  Daily return 5d\n",
       "Date                                 \n",
       "1999-03-10  129.1875          0.00000\n",
       "1999-03-11  130.6250          0.00000\n",
       "1999-03-12  129.3750          0.00000\n",
       "1999-03-15  131.2187          0.00000\n",
       "1999-03-16  130.7187          0.00000\n",
       "1999-03-17  130.1562          0.74984"
      ]
     },
     "execution_count": 25,
     "metadata": {},
     "output_type": "execute_result"
    }
   ],
   "source": [
    "data[['Close', 'Daily return 5d']].head(6)"
   ]
  },
  {
   "cell_type": "code",
   "execution_count": 26,
   "metadata": {},
   "outputs": [],
   "source": [
    "data['OPEX week'] = (data['Day'] > 14) & (data['Day'] < 22)"
   ]
  },
  {
   "cell_type": "code",
   "execution_count": 27,
   "metadata": {},
   "outputs": [],
   "source": [
    "data['Tomorrow is OPEX Friday'] = (data['Weekday'] == 'Thu') & data.shift()['OPEX week']"
   ]
  },
  {
   "cell_type": "code",
   "execution_count": 28,
   "metadata": {},
   "outputs": [],
   "source": [
    "data['Today is OPEX Friday'] = (data['Weekday'] == 'Fri') & data['OPEX week']"
   ]
  },
  {
   "cell_type": "code",
   "execution_count": 29,
   "metadata": {},
   "outputs": [
    {
     "data": {
      "text/html": [
       "<div>\n",
       "<style scoped>\n",
       "    .dataframe tbody tr th:only-of-type {\n",
       "        vertical-align: middle;\n",
       "    }\n",
       "\n",
       "    .dataframe tbody tr th {\n",
       "        vertical-align: top;\n",
       "    }\n",
       "\n",
       "    .dataframe thead th {\n",
       "        text-align: right;\n",
       "    }\n",
       "</style>\n",
       "<table border=\"1\" class=\"dataframe\">\n",
       "  <thead>\n",
       "    <tr style=\"text-align: right;\">\n",
       "      <th></th>\n",
       "      <th>Open</th>\n",
       "      <th>High</th>\n",
       "      <th>Low</th>\n",
       "      <th>Close</th>\n",
       "      <th>Volume</th>\n",
       "      <th>Weekday</th>\n",
       "      <th>Month</th>\n",
       "      <th>Last trading day of month</th>\n",
       "      <th>First trading day of month</th>\n",
       "      <th>End of Quarter</th>\n",
       "      <th>...</th>\n",
       "      <th>Closes down in a row 3d</th>\n",
       "      <th>Closes down in a row 4d</th>\n",
       "      <th>Closes down in a row 5d</th>\n",
       "      <th>Day</th>\n",
       "      <th>Daily return</th>\n",
       "      <th>Lowest volume 5d</th>\n",
       "      <th>Daily return 5d</th>\n",
       "      <th>OPEX week</th>\n",
       "      <th>Tomorrow is OPEX Friday</th>\n",
       "      <th>Today is OPEX Friday</th>\n",
       "    </tr>\n",
       "    <tr>\n",
       "      <th>Date</th>\n",
       "      <th></th>\n",
       "      <th></th>\n",
       "      <th></th>\n",
       "      <th></th>\n",
       "      <th></th>\n",
       "      <th></th>\n",
       "      <th></th>\n",
       "      <th></th>\n",
       "      <th></th>\n",
       "      <th></th>\n",
       "      <th></th>\n",
       "      <th></th>\n",
       "      <th></th>\n",
       "      <th></th>\n",
       "      <th></th>\n",
       "      <th></th>\n",
       "      <th></th>\n",
       "      <th></th>\n",
       "      <th></th>\n",
       "      <th></th>\n",
       "      <th></th>\n",
       "    </tr>\n",
       "  </thead>\n",
       "  <tbody>\n",
       "    <tr>\n",
       "      <th>1999-03-18</th>\n",
       "      <td>129.7812</td>\n",
       "      <td>132.3750</td>\n",
       "      <td>129.7500</td>\n",
       "      <td>132.2500</td>\n",
       "      <td>3506300</td>\n",
       "      <td>Thu</td>\n",
       "      <td>3</td>\n",
       "      <td>False</td>\n",
       "      <td>False</td>\n",
       "      <td>False</td>\n",
       "      <td>...</td>\n",
       "      <td>False</td>\n",
       "      <td>False</td>\n",
       "      <td>False</td>\n",
       "      <td>18</td>\n",
       "      <td>1.608682</td>\n",
       "      <td>True</td>\n",
       "      <td>1.244019</td>\n",
       "      <td>True</td>\n",
       "      <td>True</td>\n",
       "      <td>False</td>\n",
       "    </tr>\n",
       "    <tr>\n",
       "      <th>1999-03-19</th>\n",
       "      <td>132.3125</td>\n",
       "      <td>132.6250</td>\n",
       "      <td>129.6875</td>\n",
       "      <td>129.6875</td>\n",
       "      <td>5526700</td>\n",
       "      <td>Fri</td>\n",
       "      <td>3</td>\n",
       "      <td>False</td>\n",
       "      <td>False</td>\n",
       "      <td>False</td>\n",
       "      <td>...</td>\n",
       "      <td>False</td>\n",
       "      <td>False</td>\n",
       "      <td>False</td>\n",
       "      <td>19</td>\n",
       "      <td>-1.937618</td>\n",
       "      <td>False</td>\n",
       "      <td>0.241546</td>\n",
       "      <td>True</td>\n",
       "      <td>False</td>\n",
       "      <td>True</td>\n",
       "    </tr>\n",
       "    <tr>\n",
       "      <th>1999-03-22</th>\n",
       "      <td>130.0625</td>\n",
       "      <td>130.5937</td>\n",
       "      <td>129.4218</td>\n",
       "      <td>129.9375</td>\n",
       "      <td>4603800</td>\n",
       "      <td>Mon</td>\n",
       "      <td>3</td>\n",
       "      <td>False</td>\n",
       "      <td>False</td>\n",
       "      <td>False</td>\n",
       "      <td>...</td>\n",
       "      <td>False</td>\n",
       "      <td>False</td>\n",
       "      <td>False</td>\n",
       "      <td>22</td>\n",
       "      <td>0.192771</td>\n",
       "      <td>False</td>\n",
       "      <td>-0.976385</td>\n",
       "      <td>False</td>\n",
       "      <td>False</td>\n",
       "      <td>False</td>\n",
       "    </tr>\n",
       "  </tbody>\n",
       "</table>\n",
       "<p>3 rows × 27 columns</p>\n",
       "</div>"
      ],
      "text/plain": [
       "                Open      High       Low     Close   Volume Weekday  Month  \\\n",
       "Date                                                                         \n",
       "1999-03-18  129.7812  132.3750  129.7500  132.2500  3506300     Thu      3   \n",
       "1999-03-19  132.3125  132.6250  129.6875  129.6875  5526700     Fri      3   \n",
       "1999-03-22  130.0625  130.5937  129.4218  129.9375  4603800     Mon      3   \n",
       "\n",
       "            Last trading day of month  First trading day of month  \\\n",
       "Date                                                                \n",
       "1999-03-18                      False                       False   \n",
       "1999-03-19                      False                       False   \n",
       "1999-03-22                      False                       False   \n",
       "\n",
       "            End of Quarter          ...           Closes down in a row 3d  \\\n",
       "Date                                ...                                     \n",
       "1999-03-18           False          ...                             False   \n",
       "1999-03-19           False          ...                             False   \n",
       "1999-03-22           False          ...                             False   \n",
       "\n",
       "            Closes down in a row 4d  Closes down in a row 5d  Day  \\\n",
       "Date                                                                \n",
       "1999-03-18                    False                    False   18   \n",
       "1999-03-19                    False                    False   19   \n",
       "1999-03-22                    False                    False   22   \n",
       "\n",
       "            Daily return  Lowest volume 5d  Daily return 5d  OPEX week  \\\n",
       "Date                                                                     \n",
       "1999-03-18      1.608682              True         1.244019       True   \n",
       "1999-03-19     -1.937618             False         0.241546       True   \n",
       "1999-03-22      0.192771             False        -0.976385      False   \n",
       "\n",
       "            Tomorrow is OPEX Friday  Today is OPEX Friday  \n",
       "Date                                                       \n",
       "1999-03-18                     True                 False  \n",
       "1999-03-19                    False                  True  \n",
       "1999-03-22                    False                 False  \n",
       "\n",
       "[3 rows x 27 columns]"
      ]
     },
     "execution_count": 29,
     "metadata": {},
     "output_type": "execute_result"
    }
   ],
   "source": [
    "data.iloc[6:9]"
   ]
  },
  {
   "cell_type": "code",
   "execution_count": 30,
   "metadata": {},
   "outputs": [],
   "source": [
    "data['Before OPEX week'] = (data['Day'] > 7) & (data['Day'] < 15)"
   ]
  },
  {
   "cell_type": "code",
   "execution_count": 31,
   "metadata": {},
   "outputs": [
    {
     "data": {
      "text/plain": [
       "Date\n",
       "1999-03-31    132.2500\n",
       "1999-04-30    137.2500\n",
       "1999-05-31    137.3437\n",
       "1999-06-30    137.0000\n",
       "1999-07-31    141.8125\n",
       "Freq: M, Name: Close, dtype: float64"
      ]
     },
     "execution_count": 31,
     "metadata": {},
     "output_type": "execute_result"
    }
   ],
   "source": [
    "monthly_max = C.resample('M').max()\n",
    "monthly_max.head()"
   ]
  },
  {
   "cell_type": "code",
   "execution_count": 32,
   "metadata": {},
   "outputs": [
    {
     "data": {
      "text/plain": [
       "Date\n",
       "1999-03-31    132.25\n",
       "1999-04-01    137.25\n",
       "1999-04-02    137.25\n",
       "1999-04-03    137.25\n",
       "1999-04-04    137.25\n",
       "Freq: D, Name: Close, dtype: float64"
      ]
     },
     "execution_count": 32,
     "metadata": {},
     "output_type": "execute_result"
    }
   ],
   "source": [
    "monthly_max = monthly_max.resample(rule='1D', kind='timestamp').last().bfill()\n",
    "monthly_max.head()"
   ]
  },
  {
   "cell_type": "code",
   "execution_count": 33,
   "metadata": {},
   "outputs": [
    {
     "data": {
      "text/html": [
       "<div>\n",
       "<style scoped>\n",
       "    .dataframe tbody tr th:only-of-type {\n",
       "        vertical-align: middle;\n",
       "    }\n",
       "\n",
       "    .dataframe tbody tr th {\n",
       "        vertical-align: top;\n",
       "    }\n",
       "\n",
       "    .dataframe thead th {\n",
       "        text-align: right;\n",
       "    }\n",
       "</style>\n",
       "<table border=\"1\" class=\"dataframe\">\n",
       "  <thead>\n",
       "    <tr style=\"text-align: right;\">\n",
       "      <th></th>\n",
       "      <th>Open</th>\n",
       "      <th>High</th>\n",
       "      <th>Low</th>\n",
       "      <th>Close</th>\n",
       "      <th>Volume</th>\n",
       "      <th>Weekday</th>\n",
       "      <th>Month</th>\n",
       "      <th>Last trading day of month</th>\n",
       "      <th>First trading day of month</th>\n",
       "      <th>End of Quarter</th>\n",
       "      <th>...</th>\n",
       "      <th>Closes down in a row 5d</th>\n",
       "      <th>Day</th>\n",
       "      <th>Daily return</th>\n",
       "      <th>Lowest volume 5d</th>\n",
       "      <th>Daily return 5d</th>\n",
       "      <th>OPEX week</th>\n",
       "      <th>Tomorrow is OPEX Friday</th>\n",
       "      <th>Today is OPEX Friday</th>\n",
       "      <th>Before OPEX week</th>\n",
       "      <th>Highest closing price of the month</th>\n",
       "    </tr>\n",
       "    <tr>\n",
       "      <th>Date</th>\n",
       "      <th></th>\n",
       "      <th></th>\n",
       "      <th></th>\n",
       "      <th></th>\n",
       "      <th></th>\n",
       "      <th></th>\n",
       "      <th></th>\n",
       "      <th></th>\n",
       "      <th></th>\n",
       "      <th></th>\n",
       "      <th></th>\n",
       "      <th></th>\n",
       "      <th></th>\n",
       "      <th></th>\n",
       "      <th></th>\n",
       "      <th></th>\n",
       "      <th></th>\n",
       "      <th></th>\n",
       "      <th></th>\n",
       "      <th></th>\n",
       "      <th></th>\n",
       "    </tr>\n",
       "  </thead>\n",
       "  <tbody>\n",
       "    <tr>\n",
       "      <th>1999-06-30</th>\n",
       "      <td>134.6250</td>\n",
       "      <td>137.5000</td>\n",
       "      <td>133.8437</td>\n",
       "      <td>137.0000</td>\n",
       "      <td>16856100</td>\n",
       "      <td>Wed</td>\n",
       "      <td>6</td>\n",
       "      <td>True</td>\n",
       "      <td>False</td>\n",
       "      <td>True</td>\n",
       "      <td>...</td>\n",
       "      <td>False</td>\n",
       "      <td>30</td>\n",
       "      <td>1.811426</td>\n",
       "      <td>False</td>\n",
       "      <td>2.983360</td>\n",
       "      <td>False</td>\n",
       "      <td>False</td>\n",
       "      <td>False</td>\n",
       "      <td>False</td>\n",
       "      <td>True</td>\n",
       "    </tr>\n",
       "    <tr>\n",
       "      <th>1999-10-29</th>\n",
       "      <td>135.8437</td>\n",
       "      <td>137.6875</td>\n",
       "      <td>135.7187</td>\n",
       "      <td>137.0000</td>\n",
       "      <td>10988600</td>\n",
       "      <td>Fri</td>\n",
       "      <td>10</td>\n",
       "      <td>True</td>\n",
       "      <td>False</td>\n",
       "      <td>False</td>\n",
       "      <td>...</td>\n",
       "      <td>False</td>\n",
       "      <td>29</td>\n",
       "      <td>1.811426</td>\n",
       "      <td>False</td>\n",
       "      <td>5.308712</td>\n",
       "      <td>False</td>\n",
       "      <td>False</td>\n",
       "      <td>False</td>\n",
       "      <td>False</td>\n",
       "      <td>True</td>\n",
       "    </tr>\n",
       "    <tr>\n",
       "      <th>1999-12-31</th>\n",
       "      <td>146.8437</td>\n",
       "      <td>147.5000</td>\n",
       "      <td>146.2500</td>\n",
       "      <td>146.8750</td>\n",
       "      <td>3172700</td>\n",
       "      <td>Fri</td>\n",
       "      <td>12</td>\n",
       "      <td>True</td>\n",
       "      <td>False</td>\n",
       "      <td>True</td>\n",
       "      <td>...</td>\n",
       "      <td>False</td>\n",
       "      <td>31</td>\n",
       "      <td>0.159847</td>\n",
       "      <td>False</td>\n",
       "      <td>0.266718</td>\n",
       "      <td>False</td>\n",
       "      <td>False</td>\n",
       "      <td>False</td>\n",
       "      <td>False</td>\n",
       "      <td>True</td>\n",
       "    </tr>\n",
       "    <tr>\n",
       "      <th>2000-08-31</th>\n",
       "      <td>151.0625</td>\n",
       "      <td>153.0937</td>\n",
       "      <td>150.9062</td>\n",
       "      <td>152.3437</td>\n",
       "      <td>4863100</td>\n",
       "      <td>Thu</td>\n",
       "      <td>8</td>\n",
       "      <td>True</td>\n",
       "      <td>False</td>\n",
       "      <td>False</td>\n",
       "      <td>...</td>\n",
       "      <td>False</td>\n",
       "      <td>31</td>\n",
       "      <td>1.330285</td>\n",
       "      <td>False</td>\n",
       "      <td>0.681504</td>\n",
       "      <td>False</td>\n",
       "      <td>False</td>\n",
       "      <td>False</td>\n",
       "      <td>False</td>\n",
       "      <td>True</td>\n",
       "    </tr>\n",
       "    <tr>\n",
       "      <th>2001-04-30</th>\n",
       "      <td>126.4500</td>\n",
       "      <td>127.2700</td>\n",
       "      <td>124.6700</td>\n",
       "      <td>126.6600</td>\n",
       "      <td>10766900</td>\n",
       "      <td>Mon</td>\n",
       "      <td>4</td>\n",
       "      <td>True</td>\n",
       "      <td>False</td>\n",
       "      <td>False</td>\n",
       "      <td>...</td>\n",
       "      <td>False</td>\n",
       "      <td>30</td>\n",
       "      <td>0.699634</td>\n",
       "      <td>False</td>\n",
       "      <td>3.615838</td>\n",
       "      <td>False</td>\n",
       "      <td>False</td>\n",
       "      <td>False</td>\n",
       "      <td>False</td>\n",
       "      <td>True</td>\n",
       "    </tr>\n",
       "  </tbody>\n",
       "</table>\n",
       "<p>5 rows × 29 columns</p>\n",
       "</div>"
      ],
      "text/plain": [
       "                Open      High       Low     Close    Volume Weekday  Month  \\\n",
       "Date                                                                          \n",
       "1999-06-30  134.6250  137.5000  133.8437  137.0000  16856100     Wed      6   \n",
       "1999-10-29  135.8437  137.6875  135.7187  137.0000  10988600     Fri     10   \n",
       "1999-12-31  146.8437  147.5000  146.2500  146.8750   3172700     Fri     12   \n",
       "2000-08-31  151.0625  153.0937  150.9062  152.3437   4863100     Thu      8   \n",
       "2001-04-30  126.4500  127.2700  124.6700  126.6600  10766900     Mon      4   \n",
       "\n",
       "            Last trading day of month  First trading day of month  \\\n",
       "Date                                                                \n",
       "1999-06-30                       True                       False   \n",
       "1999-10-29                       True                       False   \n",
       "1999-12-31                       True                       False   \n",
       "2000-08-31                       True                       False   \n",
       "2001-04-30                       True                       False   \n",
       "\n",
       "            End of Quarter                 ...                  \\\n",
       "Date                                       ...                   \n",
       "1999-06-30            True                 ...                   \n",
       "1999-10-29           False                 ...                   \n",
       "1999-12-31            True                 ...                   \n",
       "2000-08-31           False                 ...                   \n",
       "2001-04-30           False                 ...                   \n",
       "\n",
       "            Closes down in a row 5d  Day  Daily return  Lowest volume 5d  \\\n",
       "Date                                                                       \n",
       "1999-06-30                    False   30      1.811426             False   \n",
       "1999-10-29                    False   29      1.811426             False   \n",
       "1999-12-31                    False   31      0.159847             False   \n",
       "2000-08-31                    False   31      1.330285             False   \n",
       "2001-04-30                    False   30      0.699634             False   \n",
       "\n",
       "            Daily return 5d  OPEX week  Tomorrow is OPEX Friday  \\\n",
       "Date                                                              \n",
       "1999-06-30         2.983360      False                    False   \n",
       "1999-10-29         5.308712      False                    False   \n",
       "1999-12-31         0.266718      False                    False   \n",
       "2000-08-31         0.681504      False                    False   \n",
       "2001-04-30         3.615838      False                    False   \n",
       "\n",
       "            Today is OPEX Friday  Before OPEX week  \\\n",
       "Date                                                 \n",
       "1999-06-30                 False             False   \n",
       "1999-10-29                 False             False   \n",
       "1999-12-31                 False             False   \n",
       "2000-08-31                 False             False   \n",
       "2001-04-30                 False             False   \n",
       "\n",
       "            Highest closing price of the month  \n",
       "Date                                            \n",
       "1999-06-30                                True  \n",
       "1999-10-29                                True  \n",
       "1999-12-31                                True  \n",
       "2000-08-31                                True  \n",
       "2001-04-30                                True  \n",
       "\n",
       "[5 rows x 29 columns]"
      ]
     },
     "execution_count": 33,
     "metadata": {},
     "output_type": "execute_result"
    }
   ],
   "source": [
    "data['Highest closing price of the month'] = data['Last trading day of month'] & (C == monthly_max[data.index])\n",
    "data[data['Highest closing price of the month'] == True].head()"
   ]
  },
  {
   "cell_type": "code",
   "execution_count": 34,
   "metadata": {},
   "outputs": [
    {
     "data": {
      "text/plain": [
       "<matplotlib.axes._subplots.AxesSubplot at 0x151ada91550>"
      ]
     },
     "execution_count": 34,
     "metadata": {},
     "output_type": "execute_result"
    },
    {
     "data": {
      "image/png": "[encoded data removed]",
      "text/plain": [
       "<matplotlib.figure.Figure at 0x151ada61dd8>"
      ]
     },
     "metadata": {},
     "output_type": "display_data"
    }
   ],
   "source": [
    "C['2000-08'].plot()"
   ]
  },
  {
   "cell_type": "code",
   "execution_count": 35,
   "metadata": {},
   "outputs": [
    {
     "data": {
      "text/html": [
       "<div>\n",
       "<style scoped>\n",
       "    .dataframe tbody tr th:only-of-type {\n",
       "        vertical-align: middle;\n",
       "    }\n",
       "\n",
       "    .dataframe tbody tr th {\n",
       "        vertical-align: top;\n",
       "    }\n",
       "\n",
       "    .dataframe thead th {\n",
       "        text-align: right;\n",
       "    }\n",
       "</style>\n",
       "<table border=\"1\" class=\"dataframe\">\n",
       "  <thead>\n",
       "    <tr style=\"text-align: right;\">\n",
       "      <th></th>\n",
       "      <th>First trading day of month</th>\n",
       "      <th>First trading day of month S(1d)</th>\n",
       "      <th>Daily return S(1d)</th>\n",
       "    </tr>\n",
       "    <tr>\n",
       "      <th>Date</th>\n",
       "      <th></th>\n",
       "      <th></th>\n",
       "      <th></th>\n",
       "    </tr>\n",
       "  </thead>\n",
       "  <tbody>\n",
       "    <tr>\n",
       "      <th>1999-03-31</th>\n",
       "      <td>False</td>\n",
       "      <td>False</td>\n",
       "      <td>-0.524184</td>\n",
       "    </tr>\n",
       "    <tr>\n",
       "      <th>1999-04-01</th>\n",
       "      <td>True</td>\n",
       "      <td>False</td>\n",
       "      <td>-1.604753</td>\n",
       "    </tr>\n",
       "    <tr>\n",
       "      <th>1999-04-05</th>\n",
       "      <td>False</td>\n",
       "      <td>True</td>\n",
       "      <td>0.754586</td>\n",
       "    </tr>\n",
       "  </tbody>\n",
       "</table>\n",
       "</div>"
      ],
      "text/plain": [
       "            First trading day of month  First trading day of month S(1d)  \\\n",
       "Date                                                                       \n",
       "1999-03-31                       False                             False   \n",
       "1999-04-01                        True                             False   \n",
       "1999-04-05                       False                              True   \n",
       "\n",
       "            Daily return S(1d)  \n",
       "Date                            \n",
       "1999-03-31           -0.524184  \n",
       "1999-04-01           -1.604753  \n",
       "1999-04-05            0.754586  "
      ]
     },
     "execution_count": 35,
     "metadata": {},
     "output_type": "execute_result"
    }
   ],
   "source": [
    "data['Daily return S(1d)'] = data['Daily return'].shift().fillna(0)\n",
    "data['First trading day of month S(1d)'] = data['First trading day of month'].shift().fillna(False)\n",
    "data[['First trading day of month', 'First trading day of month S(1d)', 'Daily return S(1d)']].iloc[15:18]"
   ]
  },
  {
   "cell_type": "code",
   "execution_count": 36,
   "metadata": {},
   "outputs": [],
   "source": [
    "D = data['Day']\n",
    "W = data['Weekday']\n",
    "M = data['Month']"
   ]
  },
  {
   "cell_type": "code",
   "execution_count": 37,
   "metadata": {},
   "outputs": [],
   "source": [
    "data['Thursday before Labor Day'] = (W == 'Thu') & (((M == 8) & (D > 27)) | ((M == 9) & (D < 4)))"
   ]
  },
  {
   "cell_type": "code",
   "execution_count": 38,
   "metadata": {},
   "outputs": [],
   "source": [
    "data['Friday before Labor Day'] = (W == 'Fri') & (((M == 8) & (D > 28)) | ((M == 9) & (D < 5)))"
   ]
  },
  {
   "cell_type": "code",
   "execution_count": 39,
   "metadata": {},
   "outputs": [],
   "source": [
    "data['Friday before Columbus Day'] = (W == 'Fri') & (M == 10) & (D > 4) & (D < 12) "
   ]
  },
  {
   "cell_type": "code",
   "execution_count": 40,
   "metadata": {},
   "outputs": [],
   "source": [
    "data['Thursday before Pres Day'] = (W == 'Thu') & (M == 2) & (D > 10) & (D < 18) "
   ]
  },
  {
   "cell_type": "code",
   "execution_count": 41,
   "metadata": {},
   "outputs": [],
   "source": [
    "data['Closes high 4d'] = C.rolling(4).max() == C"
   ]
  },
  {
   "cell_type": "code",
   "execution_count": 42,
   "metadata": {},
   "outputs": [
    {
     "data": {
      "text/html": [
       "<div>\n",
       "<style scoped>\n",
       "    .dataframe tbody tr th:only-of-type {\n",
       "        vertical-align: middle;\n",
       "    }\n",
       "\n",
       "    .dataframe tbody tr th {\n",
       "        vertical-align: top;\n",
       "    }\n",
       "\n",
       "    .dataframe thead th {\n",
       "        text-align: right;\n",
       "    }\n",
       "</style>\n",
       "<table border=\"1\" class=\"dataframe\">\n",
       "  <thead>\n",
       "    <tr style=\"text-align: right;\">\n",
       "      <th></th>\n",
       "      <th>Closes high 4d</th>\n",
       "      <th>Close</th>\n",
       "    </tr>\n",
       "    <tr>\n",
       "      <th>Date</th>\n",
       "      <th></th>\n",
       "      <th></th>\n",
       "    </tr>\n",
       "  </thead>\n",
       "  <tbody>\n",
       "    <tr>\n",
       "      <th>2018-01-04</th>\n",
       "      <td>True</td>\n",
       "      <td>271.61</td>\n",
       "    </tr>\n",
       "    <tr>\n",
       "      <th>2018-01-05</th>\n",
       "      <td>True</td>\n",
       "      <td>273.42</td>\n",
       "    </tr>\n",
       "    <tr>\n",
       "      <th>2018-01-08</th>\n",
       "      <td>True</td>\n",
       "      <td>273.92</td>\n",
       "    </tr>\n",
       "    <tr>\n",
       "      <th>2018-01-09</th>\n",
       "      <td>True</td>\n",
       "      <td>274.54</td>\n",
       "    </tr>\n",
       "    <tr>\n",
       "      <th>2018-01-10</th>\n",
       "      <td>False</td>\n",
       "      <td>274.12</td>\n",
       "    </tr>\n",
       "    <tr>\n",
       "      <th>2018-01-11</th>\n",
       "      <td>True</td>\n",
       "      <td>276.12</td>\n",
       "    </tr>\n",
       "    <tr>\n",
       "      <th>2018-01-12</th>\n",
       "      <td>True</td>\n",
       "      <td>277.92</td>\n",
       "    </tr>\n",
       "    <tr>\n",
       "      <th>2018-01-16</th>\n",
       "      <td>False</td>\n",
       "      <td>276.97</td>\n",
       "    </tr>\n",
       "    <tr>\n",
       "      <th>2018-01-17</th>\n",
       "      <td>True</td>\n",
       "      <td>279.61</td>\n",
       "    </tr>\n",
       "    <tr>\n",
       "      <th>2018-01-18</th>\n",
       "      <td>False</td>\n",
       "      <td>279.14</td>\n",
       "    </tr>\n",
       "  </tbody>\n",
       "</table>\n",
       "</div>"
      ],
      "text/plain": [
       "            Closes high 4d   Close\n",
       "Date                              \n",
       "2018-01-04            True  271.61\n",
       "2018-01-05            True  273.42\n",
       "2018-01-08            True  273.92\n",
       "2018-01-09            True  274.54\n",
       "2018-01-10           False  274.12\n",
       "2018-01-11            True  276.12\n",
       "2018-01-12            True  277.92\n",
       "2018-01-16           False  276.97\n",
       "2018-01-17            True  279.61\n",
       "2018-01-18           False  279.14"
      ]
     },
     "execution_count": 42,
     "metadata": {},
     "output_type": "execute_result"
    }
   ],
   "source": [
    "data[['Closes high 4d', 'Close']].tail(10)"
   ]
  },
  {
   "cell_type": "code",
   "execution_count": 43,
   "metadata": {},
   "outputs": [],
   "source": [
    "data['Closes low 5d'] = C.rolling(5).min() == C\n",
    "data['Closes low 5d S(1d)'] = data['Closes low 5d'].shift().fillna(False)"
   ]
  },
  {
   "cell_type": "code",
   "execution_count": 44,
   "metadata": {},
   "outputs": [
    {
     "data": {
      "text/html": [
       "<div>\n",
       "<style scoped>\n",
       "    .dataframe tbody tr th:only-of-type {\n",
       "        vertical-align: middle;\n",
       "    }\n",
       "\n",
       "    .dataframe tbody tr th {\n",
       "        vertical-align: top;\n",
       "    }\n",
       "\n",
       "    .dataframe thead th {\n",
       "        text-align: right;\n",
       "    }\n",
       "</style>\n",
       "<table border=\"1\" class=\"dataframe\">\n",
       "  <thead>\n",
       "    <tr style=\"text-align: right;\">\n",
       "      <th></th>\n",
       "      <th>Open</th>\n",
       "      <th>High</th>\n",
       "      <th>Low</th>\n",
       "      <th>Close</th>\n",
       "      <th>Volume</th>\n",
       "      <th>Weekday</th>\n",
       "      <th>Month</th>\n",
       "      <th>Last trading day of month</th>\n",
       "      <th>First trading day of month</th>\n",
       "      <th>End of Quarter</th>\n",
       "      <th>...</th>\n",
       "      <th>Highest closing price of the month</th>\n",
       "      <th>Daily return S(1d)</th>\n",
       "      <th>First trading day of month S(1d)</th>\n",
       "      <th>Thursday before Labor Day</th>\n",
       "      <th>Friday before Labor Day</th>\n",
       "      <th>Friday before Columbus Day</th>\n",
       "      <th>Thursday before Pres Day</th>\n",
       "      <th>Closes high 4d</th>\n",
       "      <th>Closes low 5d</th>\n",
       "      <th>Closes low 5d S(1d)</th>\n",
       "    </tr>\n",
       "    <tr>\n",
       "      <th>Date</th>\n",
       "      <th></th>\n",
       "      <th></th>\n",
       "      <th></th>\n",
       "      <th></th>\n",
       "      <th></th>\n",
       "      <th></th>\n",
       "      <th></th>\n",
       "      <th></th>\n",
       "      <th></th>\n",
       "      <th></th>\n",
       "      <th></th>\n",
       "      <th></th>\n",
       "      <th></th>\n",
       "      <th></th>\n",
       "      <th></th>\n",
       "      <th></th>\n",
       "      <th></th>\n",
       "      <th></th>\n",
       "      <th></th>\n",
       "      <th></th>\n",
       "      <th></th>\n",
       "    </tr>\n",
       "  </thead>\n",
       "  <tbody>\n",
       "    <tr>\n",
       "      <th>1999-03-19</th>\n",
       "      <td>132.3125</td>\n",
       "      <td>132.6250</td>\n",
       "      <td>129.6875</td>\n",
       "      <td>129.6875</td>\n",
       "      <td>5526700</td>\n",
       "      <td>Fri</td>\n",
       "      <td>3</td>\n",
       "      <td>False</td>\n",
       "      <td>False</td>\n",
       "      <td>False</td>\n",
       "      <td>...</td>\n",
       "      <td>False</td>\n",
       "      <td>1.608682</td>\n",
       "      <td>False</td>\n",
       "      <td>False</td>\n",
       "      <td>False</td>\n",
       "      <td>False</td>\n",
       "      <td>False</td>\n",
       "      <td>False</td>\n",
       "      <td>True</td>\n",
       "      <td>False</td>\n",
       "    </tr>\n",
       "    <tr>\n",
       "      <th>1999-03-22</th>\n",
       "      <td>130.0625</td>\n",
       "      <td>130.5937</td>\n",
       "      <td>129.4218</td>\n",
       "      <td>129.9375</td>\n",
       "      <td>4603800</td>\n",
       "      <td>Mon</td>\n",
       "      <td>3</td>\n",
       "      <td>False</td>\n",
       "      <td>False</td>\n",
       "      <td>False</td>\n",
       "      <td>...</td>\n",
       "      <td>False</td>\n",
       "      <td>-1.937618</td>\n",
       "      <td>False</td>\n",
       "      <td>False</td>\n",
       "      <td>False</td>\n",
       "      <td>False</td>\n",
       "      <td>False</td>\n",
       "      <td>False</td>\n",
       "      <td>False</td>\n",
       "      <td>True</td>\n",
       "    </tr>\n",
       "    <tr>\n",
       "      <th>1999-03-23</th>\n",
       "      <td>129.3125</td>\n",
       "      <td>129.5312</td>\n",
       "      <td>125.7031</td>\n",
       "      <td>126.1875</td>\n",
       "      <td>9713800</td>\n",
       "      <td>Tue</td>\n",
       "      <td>3</td>\n",
       "      <td>False</td>\n",
       "      <td>False</td>\n",
       "      <td>False</td>\n",
       "      <td>...</td>\n",
       "      <td>False</td>\n",
       "      <td>0.192771</td>\n",
       "      <td>False</td>\n",
       "      <td>False</td>\n",
       "      <td>False</td>\n",
       "      <td>False</td>\n",
       "      <td>False</td>\n",
       "      <td>False</td>\n",
       "      <td>True</td>\n",
       "      <td>False</td>\n",
       "    </tr>\n",
       "    <tr>\n",
       "      <th>1999-03-24</th>\n",
       "      <td>126.8437</td>\n",
       "      <td>127.1718</td>\n",
       "      <td>125.6250</td>\n",
       "      <td>126.9062</td>\n",
       "      <td>6280900</td>\n",
       "      <td>Wed</td>\n",
       "      <td>3</td>\n",
       "      <td>False</td>\n",
       "      <td>False</td>\n",
       "      <td>False</td>\n",
       "      <td>...</td>\n",
       "      <td>False</td>\n",
       "      <td>-2.886003</td>\n",
       "      <td>False</td>\n",
       "      <td>False</td>\n",
       "      <td>False</td>\n",
       "      <td>False</td>\n",
       "      <td>False</td>\n",
       "      <td>False</td>\n",
       "      <td>False</td>\n",
       "      <td>True</td>\n",
       "    </tr>\n",
       "  </tbody>\n",
       "</table>\n",
       "<p>4 rows × 38 columns</p>\n",
       "</div>"
      ],
      "text/plain": [
       "                Open      High       Low     Close   Volume Weekday  Month  \\\n",
       "Date                                                                         \n",
       "1999-03-19  132.3125  132.6250  129.6875  129.6875  5526700     Fri      3   \n",
       "1999-03-22  130.0625  130.5937  129.4218  129.9375  4603800     Mon      3   \n",
       "1999-03-23  129.3125  129.5312  125.7031  126.1875  9713800     Tue      3   \n",
       "1999-03-24  126.8437  127.1718  125.6250  126.9062  6280900     Wed      3   \n",
       "\n",
       "            Last trading day of month  First trading day of month  \\\n",
       "Date                                                                \n",
       "1999-03-19                      False                       False   \n",
       "1999-03-22                      False                       False   \n",
       "1999-03-23                      False                       False   \n",
       "1999-03-24                      False                       False   \n",
       "\n",
       "            End of Quarter         ...           \\\n",
       "Date                               ...            \n",
       "1999-03-19           False         ...            \n",
       "1999-03-22           False         ...            \n",
       "1999-03-23           False         ...            \n",
       "1999-03-24           False         ...            \n",
       "\n",
       "            Highest closing price of the month  Daily return S(1d)  \\\n",
       "Date                                                                 \n",
       "1999-03-19                               False            1.608682   \n",
       "1999-03-22                               False           -1.937618   \n",
       "1999-03-23                               False            0.192771   \n",
       "1999-03-24                               False           -2.886003   \n",
       "\n",
       "            First trading day of month S(1d)  Thursday before Labor Day  \\\n",
       "Date                                                                      \n",
       "1999-03-19                             False                      False   \n",
       "1999-03-22                             False                      False   \n",
       "1999-03-23                             False                      False   \n",
       "1999-03-24                             False                      False   \n",
       "\n",
       "            Friday before Labor Day  Friday before Columbus Day  \\\n",
       "Date                                                              \n",
       "1999-03-19                    False                       False   \n",
       "1999-03-22                    False                       False   \n",
       "1999-03-23                    False                       False   \n",
       "1999-03-24                    False                       False   \n",
       "\n",
       "            Thursday before Pres Day  Closes high 4d  Closes low 5d  \\\n",
       "Date                                                                  \n",
       "1999-03-19                     False           False           True   \n",
       "1999-03-22                     False           False          False   \n",
       "1999-03-23                     False           False           True   \n",
       "1999-03-24                     False           False          False   \n",
       "\n",
       "            Closes low 5d S(1d)  \n",
       "Date                             \n",
       "1999-03-19                False  \n",
       "1999-03-22                 True  \n",
       "1999-03-23                False  \n",
       "1999-03-24                 True  \n",
       "\n",
       "[4 rows x 38 columns]"
      ]
     },
     "execution_count": 44,
     "metadata": {},
     "output_type": "execute_result"
    }
   ],
   "source": [
    "data[data['Closes low 5d'] | data['Closes low 5d S(1d)']].head(4)"
   ]
  },
  {
   "cell_type": "code",
   "execution_count": 47,
   "metadata": {},
   "outputs": [],
   "source": [
    "# SPY closes at a 5-day low after not having done so for at least 10 days\n",
    "data['Closes low 5d U(10d)'] = data['Closes low 5d'].rolling(10).apply(lambda x: (x.sum() == 1) and (x[-1] == 1)) == 1"
   ]
  },
  {
   "cell_type": "code",
   "execution_count": 48,
   "metadata": {},
   "outputs": [
    {
     "data": {
      "text/plain": [
       "1106"
      ]
     },
     "execution_count": 48,
     "metadata": {},
     "output_type": "execute_result"
    }
   ],
   "source": [
    "llen('Closes low 5d')"
   ]
  },
  {
   "cell_type": "code",
   "execution_count": 49,
   "metadata": {},
   "outputs": [
    {
     "data": {
      "text/plain": [
       "137"
      ]
     },
     "execution_count": 49,
     "metadata": {},
     "output_type": "execute_result"
    }
   ],
   "source": [
    "llen('Closes low 5d U(10d)')"
   ]
  },
  {
   "cell_type": "code",
   "execution_count": 50,
   "metadata": {},
   "outputs": [],
   "source": [
    "data['Closes high 5d'] = C.rolling(5).max() == C"
   ]
  },
  {
   "cell_type": "code",
   "execution_count": 51,
   "metadata": {},
   "outputs": [
    {
     "data": {
      "text/plain": [
       "1517"
      ]
     },
     "execution_count": 51,
     "metadata": {},
     "output_type": "execute_result"
    }
   ],
   "source": [
    "len(data[data['Closes high 5d']])"
   ]
  },
  {
   "cell_type": "code",
   "execution_count": 52,
   "metadata": {},
   "outputs": [],
   "source": [
    "data['Closes high 7d S(1d)'] = (C.rolling(7).max() == C).shift().fillna(False)"
   ]
  },
  {
   "cell_type": "code",
   "execution_count": 53,
   "metadata": {},
   "outputs": [
    {
     "data": {
      "text/plain": [
       "1304"
      ]
     },
     "execution_count": 53,
     "metadata": {},
     "output_type": "execute_result"
    }
   ],
   "source": [
    "llen('Closes high 7d S(1d)')"
   ]
  },
  {
   "cell_type": "code",
   "execution_count": 54,
   "metadata": {},
   "outputs": [],
   "source": [
    "data['Closes low 7d'] = C.rolling(7).min() == C\n",
    "data['Closes low 8d'] = C.rolling(8).min() == C"
   ]
  },
  {
   "cell_type": "code",
   "execution_count": 55,
   "metadata": {},
   "outputs": [
    {
     "data": {
      "text/plain": [
       "871"
      ]
     },
     "execution_count": 55,
     "metadata": {},
     "output_type": "execute_result"
    }
   ],
   "source": [
    "llen('Closes low 7d')"
   ]
  },
  {
   "cell_type": "code",
   "execution_count": 56,
   "metadata": {},
   "outputs": [],
   "source": [
    "data['Intraday high 10d'] = H.rolling(10).max() == H"
   ]
  },
  {
   "cell_type": "code",
   "execution_count": 57,
   "metadata": {},
   "outputs": [
    {
     "data": {
      "text/html": [
       "<div>\n",
       "<style scoped>\n",
       "    .dataframe tbody tr th:only-of-type {\n",
       "        vertical-align: middle;\n",
       "    }\n",
       "\n",
       "    .dataframe tbody tr th {\n",
       "        vertical-align: top;\n",
       "    }\n",
       "\n",
       "    .dataframe thead th {\n",
       "        text-align: right;\n",
       "    }\n",
       "</style>\n",
       "<table border=\"1\" class=\"dataframe\">\n",
       "  <thead>\n",
       "    <tr style=\"text-align: right;\">\n",
       "      <th></th>\n",
       "      <th>High</th>\n",
       "      <th>Intraday high 10d</th>\n",
       "    </tr>\n",
       "    <tr>\n",
       "      <th>Date</th>\n",
       "      <th></th>\n",
       "      <th></th>\n",
       "    </tr>\n",
       "  </thead>\n",
       "  <tbody>\n",
       "    <tr>\n",
       "      <th>1999-04-01</th>\n",
       "      <td>129.6875</td>\n",
       "      <td>False</td>\n",
       "    </tr>\n",
       "    <tr>\n",
       "      <th>1999-04-05</th>\n",
       "      <td>132.5937</td>\n",
       "      <td>True</td>\n",
       "    </tr>\n",
       "    <tr>\n",
       "      <th>1999-04-06</th>\n",
       "      <td>132.9843</td>\n",
       "      <td>True</td>\n",
       "    </tr>\n",
       "    <tr>\n",
       "      <th>1999-04-07</th>\n",
       "      <td>133.3750</td>\n",
       "      <td>True</td>\n",
       "    </tr>\n",
       "    <tr>\n",
       "      <th>1999-04-08</th>\n",
       "      <td>134.9375</td>\n",
       "      <td>True</td>\n",
       "    </tr>\n",
       "    <tr>\n",
       "      <th>1999-04-09</th>\n",
       "      <td>135.5000</td>\n",
       "      <td>True</td>\n",
       "    </tr>\n",
       "    <tr>\n",
       "      <th>1999-04-12</th>\n",
       "      <td>136.4062</td>\n",
       "      <td>True</td>\n",
       "    </tr>\n",
       "    <tr>\n",
       "      <th>1999-04-13</th>\n",
       "      <td>136.4687</td>\n",
       "      <td>True</td>\n",
       "    </tr>\n",
       "    <tr>\n",
       "      <th>1999-04-14</th>\n",
       "      <td>136.0625</td>\n",
       "      <td>False</td>\n",
       "    </tr>\n",
       "    <tr>\n",
       "      <th>1999-04-15</th>\n",
       "      <td>133.5625</td>\n",
       "      <td>False</td>\n",
       "    </tr>\n",
       "    <tr>\n",
       "      <th>1999-04-16</th>\n",
       "      <td>132.9062</td>\n",
       "      <td>False</td>\n",
       "    </tr>\n",
       "    <tr>\n",
       "      <th>1999-04-19</th>\n",
       "      <td>134.5312</td>\n",
       "      <td>False</td>\n",
       "    </tr>\n",
       "    <tr>\n",
       "      <th>1999-04-20</th>\n",
       "      <td>131.1875</td>\n",
       "      <td>False</td>\n",
       "    </tr>\n",
       "    <tr>\n",
       "      <th>1999-04-21</th>\n",
       "      <td>135.6250</td>\n",
       "      <td>False</td>\n",
       "    </tr>\n",
       "    <tr>\n",
       "      <th>1999-04-22</th>\n",
       "      <td>136.3750</td>\n",
       "      <td>False</td>\n",
       "    </tr>\n",
       "    <tr>\n",
       "      <th>1999-04-23</th>\n",
       "      <td>136.7500</td>\n",
       "      <td>True</td>\n",
       "    </tr>\n",
       "    <tr>\n",
       "      <th>1999-04-26</th>\n",
       "      <td>136.8125</td>\n",
       "      <td>True</td>\n",
       "    </tr>\n",
       "    <tr>\n",
       "      <th>1999-04-27</th>\n",
       "      <td>137.5000</td>\n",
       "      <td>True</td>\n",
       "    </tr>\n",
       "    <tr>\n",
       "      <th>1999-04-28</th>\n",
       "      <td>137.2500</td>\n",
       "      <td>False</td>\n",
       "    </tr>\n",
       "    <tr>\n",
       "      <th>1999-04-29</th>\n",
       "      <td>136.0625</td>\n",
       "      <td>False</td>\n",
       "    </tr>\n",
       "    <tr>\n",
       "      <th>1999-04-30</th>\n",
       "      <td>135.6250</td>\n",
       "      <td>False</td>\n",
       "    </tr>\n",
       "  </tbody>\n",
       "</table>\n",
       "</div>"
      ],
      "text/plain": [
       "                High  Intraday high 10d\n",
       "Date                                   \n",
       "1999-04-01  129.6875              False\n",
       "1999-04-05  132.5937               True\n",
       "1999-04-06  132.9843               True\n",
       "1999-04-07  133.3750               True\n",
       "1999-04-08  134.9375               True\n",
       "1999-04-09  135.5000               True\n",
       "1999-04-12  136.4062               True\n",
       "1999-04-13  136.4687               True\n",
       "1999-04-14  136.0625              False\n",
       "1999-04-15  133.5625              False\n",
       "1999-04-16  132.9062              False\n",
       "1999-04-19  134.5312              False\n",
       "1999-04-20  131.1875              False\n",
       "1999-04-21  135.6250              False\n",
       "1999-04-22  136.3750              False\n",
       "1999-04-23  136.7500               True\n",
       "1999-04-26  136.8125               True\n",
       "1999-04-27  137.5000               True\n",
       "1999-04-28  137.2500              False\n",
       "1999-04-29  136.0625              False\n",
       "1999-04-30  135.6250              False"
      ]
     },
     "execution_count": 57,
     "metadata": {},
     "output_type": "execute_result"
    }
   ],
   "source": [
    "data['1999-04'][['High', 'Intraday high 10d']]"
   ]
  },
  {
   "cell_type": "code",
   "execution_count": 58,
   "metadata": {},
   "outputs": [],
   "source": [
    "data['Closes high 10d'] = C.rolling(10).max() == C"
   ]
  },
  {
   "cell_type": "code",
   "execution_count": 59,
   "metadata": {},
   "outputs": [],
   "source": [
    "data['Closes low 10d'] = C.rolling(10).min() == C"
   ]
  },
  {
   "cell_type": "code",
   "execution_count": 60,
   "metadata": {},
   "outputs": [],
   "source": [
    "data['Closes high 10d S(1d)'] = data['Closes high 10d'].shift().fillna(False)"
   ]
  },
  {
   "cell_type": "code",
   "execution_count": 61,
   "metadata": {},
   "outputs": [],
   "source": [
    "data['Closes low 10d U(5d)'] = data['Closes low 10d'].rolling(5).apply(lambda x: (x.sum() == 1) and (x[-1] == 1)) == 1"
   ]
  },
  {
   "cell_type": "code",
   "execution_count": 62,
   "metadata": {},
   "outputs": [
    {
     "data": {
      "text/plain": [
       "False    4074\n",
       "True      673\n",
       "Name: Closes low 10d, dtype: int64"
      ]
     },
     "execution_count": 62,
     "metadata": {},
     "output_type": "execute_result"
    }
   ],
   "source": [
    "data['Closes low 10d'].value_counts()"
   ]
  },
  {
   "cell_type": "code",
   "execution_count": 63,
   "metadata": {},
   "outputs": [
    {
     "data": {
      "text/plain": [
       "False    4522\n",
       "True      225\n",
       "Name: Closes low 10d U(5d), dtype: int64"
      ]
     },
     "execution_count": 63,
     "metadata": {},
     "output_type": "execute_result"
    }
   ],
   "source": [
    "data['Closes low 10d U(5d)'].value_counts()"
   ]
  },
  {
   "cell_type": "code",
   "execution_count": 64,
   "metadata": {},
   "outputs": [],
   "source": [
    "data['Intraday low 10d S(1d)'] = (L.rolling(10).min() == L).shift().fillna(False)"
   ]
  },
  {
   "cell_type": "code",
   "execution_count": 65,
   "metadata": {},
   "outputs": [],
   "source": [
    "data['Closes low 10d S(1d)'] = data['Closes low 10d'].shift().fillna(False)"
   ]
  },
  {
   "cell_type": "code",
   "execution_count": 66,
   "metadata": {},
   "outputs": [],
   "source": [
    "data['Closes up low 10d'] = C > C.rolling(10).min()"
   ]
  },
  {
   "cell_type": "code",
   "execution_count": 67,
   "metadata": {},
   "outputs": [
    {
     "data": {
      "text/plain": [
       "True     4065\n",
       "False     682\n",
       "Name: Closes up low 10d, dtype: int64"
      ]
     },
     "execution_count": 67,
     "metadata": {},
     "output_type": "execute_result"
    }
   ],
   "source": [
    "data['Closes up low 10d'].value_counts()"
   ]
  },
  {
   "cell_type": "markdown",
   "metadata": {},
   "source": [
    "# 20 day"
   ]
  },
  {
   "cell_type": "code",
   "execution_count": 68,
   "metadata": {},
   "outputs": [],
   "source": [
    "data['Closes up low 20d'] = C > C.rolling(20).min()"
   ]
  },
  {
   "cell_type": "code",
   "execution_count": 69,
   "metadata": {},
   "outputs": [
    {
     "data": {
      "text/plain": [
       "True     4294\n",
       "False     453\n",
       "Name: Closes up low 20d, dtype: int64"
      ]
     },
     "execution_count": 69,
     "metadata": {},
     "output_type": "execute_result"
    }
   ],
   "source": [
    "data['Closes up low 20d'].value_counts()"
   ]
  },
  {
   "cell_type": "code",
   "execution_count": 70,
   "metadata": {},
   "outputs": [],
   "source": [
    "data['Intraday low 20d'] = L.rolling(20).min() == L"
   ]
  },
  {
   "cell_type": "code",
   "execution_count": 71,
   "metadata": {},
   "outputs": [],
   "source": [
    "data['Intraday high 20d'] = H.rolling(20).max() == H"
   ]
  },
  {
   "cell_type": "code",
   "execution_count": 72,
   "metadata": {},
   "outputs": [],
   "source": [
    "data['Closes low 20d S(1d)'] = (C.rolling(20).min() == C).shift().fillna(False)"
   ]
  },
  {
   "cell_type": "code",
   "execution_count": 73,
   "metadata": {},
   "outputs": [],
   "source": [
    "data['Closes low 20d S(2d)'] = (C.rolling(20).min() == C).shift(2).fillna(False)"
   ]
  },
  {
   "cell_type": "code",
   "execution_count": 74,
   "metadata": {},
   "outputs": [],
   "source": [
    "data['Highest close 20d'] = C.rolling(20).max() == C"
   ]
  },
  {
   "cell_type": "code",
   "execution_count": 75,
   "metadata": {},
   "outputs": [],
   "source": [
    "data['Highest close 20d S(1d)'] = data['Highest close 20d'].shift().fillna(False)"
   ]
  },
  {
   "cell_type": "code",
   "execution_count": 76,
   "metadata": {},
   "outputs": [],
   "source": [
    "data['Intraday low 20d S(1d)'] = data['Intraday low 20d'].shift().fillna(False)"
   ]
  },
  {
   "cell_type": "code",
   "execution_count": 77,
   "metadata": {},
   "outputs": [],
   "source": [
    "data['Closes high 20d'] = C.rolling(20).max() == C"
   ]
  },
  {
   "cell_type": "markdown",
   "metadata": {},
   "source": [
    "# 50 days"
   ]
  },
  {
   "cell_type": "code",
   "execution_count": 79,
   "metadata": {},
   "outputs": [],
   "source": [
    "low50day = C.rolling(50).min()\n",
    "high50day = C.rolling(50).max()"
   ]
  },
  {
   "cell_type": "code",
   "execution_count": 80,
   "metadata": {},
   "outputs": [],
   "source": [
    "data['Closes low 50d'] = low50day == C\n",
    "data['Closes high 50d'] = high50day == C"
   ]
  },
  {
   "cell_type": "code",
   "execution_count": 81,
   "metadata": {},
   "outputs": [],
   "source": [
    "data['Closes low 50d S(1d)'] = data['Closes low 50d'].shift().fillna(False)\n",
    "data['Closes low 50d S(4d)'] = data['Closes low 50d'].shift(4).fillna(False)"
   ]
  },
  {
   "cell_type": "code",
   "execution_count": 82,
   "metadata": {},
   "outputs": [
    {
     "data": {
      "text/plain": [
       "False    4514\n",
       "True      233\n",
       "Name: Closes low 50d S(4d), dtype: int64"
      ]
     },
     "execution_count": 82,
     "metadata": {},
     "output_type": "execute_result"
    }
   ],
   "source": [
    "data['Closes low 50d S(4d)'].value_counts()"
   ]
  },
  {
   "cell_type": "code",
   "execution_count": 83,
   "metadata": {},
   "outputs": [],
   "source": [
    "data['Closes high 50d U(10d)'] = data['Closes high 50d'].rolling(10).apply(lambda x: (x.sum() == 1) and (x[-1] == 1)) == 1"
   ]
  },
  {
   "cell_type": "code",
   "execution_count": 84,
   "metadata": {},
   "outputs": [
    {
     "data": {
      "text/plain": [
       "Date\n",
       "1999-07-01     True\n",
       "1999-07-02    False\n",
       "1999-07-07    False\n",
       "1999-07-08    False\n",
       "1999-07-09    False\n",
       "1999-07-15    False\n",
       "1999-07-16    False\n",
       "1999-11-05     True\n",
       "1999-11-08    False\n",
       "1999-11-11    False\n",
       "1999-11-12    False\n",
       "1999-11-15    False\n",
       "1999-11-16    False\n",
       "1999-11-17    False\n",
       "1999-11-18    False\n",
       "1999-12-03     True\n",
       "1999-12-22     True\n",
       "1999-12-23    False\n",
       "1999-12-29    False\n",
       "1999-12-31    False\n",
       "2000-01-14     True\n",
       "2000-01-19    False\n",
       "2000-03-21     True\n",
       "2000-03-22    False\n",
       "2000-03-23    False\n",
       "2000-03-24    False\n",
       "2000-07-12     True\n",
       "2000-07-13    False\n",
       "2000-07-14    False\n",
       "2000-08-24     True\n",
       "              ...  \n",
       "2017-10-03    False\n",
       "2017-10-04    False\n",
       "2017-10-05    False\n",
       "2017-10-13    False\n",
       "2017-10-16    False\n",
       "2017-10-17    False\n",
       "2017-10-18    False\n",
       "2017-10-19    False\n",
       "2017-10-20    False\n",
       "2017-10-27    False\n",
       "2017-11-03    False\n",
       "2017-11-06    False\n",
       "2017-11-08    False\n",
       "2017-11-21    False\n",
       "2017-11-24    False\n",
       "2017-11-28    False\n",
       "2017-11-30    False\n",
       "2017-12-08    False\n",
       "2017-12-11    False\n",
       "2017-12-12    False\n",
       "2017-12-18    False\n",
       "2018-01-02    False\n",
       "2018-01-03    False\n",
       "2018-01-04    False\n",
       "2018-01-05    False\n",
       "2018-01-08    False\n",
       "2018-01-09    False\n",
       "2018-01-11    False\n",
       "2018-01-12    False\n",
       "2018-01-17    False\n",
       "Name: Closes high 50d U(10d), Length: 639, dtype: bool"
      ]
     },
     "execution_count": 84,
     "metadata": {},
     "output_type": "execute_result"
    }
   ],
   "source": [
    "data[data['Closes high 50d']]['Closes high 50d U(10d)']"
   ]
  },
  {
   "cell_type": "code",
   "execution_count": 85,
   "metadata": {},
   "outputs": [],
   "source": [
    "data['Closes high 50d S(1d)'] = data['Closes high 50d'].shift().fillna(False)\n",
    "data['Closes high 50d S(2d)'] = data['Closes high 50d'].shift(2).fillna(False)\n",
    "data['Closes high 50d S(3d)'] = data['Closes high 50d'].shift(3).fillna(False)\n",
    "data['Closes high 50d S(5d)'] = data['Closes high 50d'].shift(5).fillna(False)"
   ]
  },
  {
   "cell_type": "code",
   "execution_count": 86,
   "metadata": {},
   "outputs": [],
   "source": [
    "data['Intraday high 50d'] = H.rolling(50).max() == H"
   ]
  },
  {
   "cell_type": "markdown",
   "metadata": {},
   "source": [
    "# MA"
   ]
  },
  {
   "cell_type": "code",
   "execution_count": 87,
   "metadata": {},
   "outputs": [],
   "source": [
    "data['Closes up SMA 200'] = C > tl.SMA(C.values, timeperiod=200)"
   ]
  },
  {
   "cell_type": "code",
   "execution_count": 88,
   "metadata": {},
   "outputs": [],
   "source": [
    "data['Closes up SMA 10'] = C > tl.SMA(C.values, timeperiod=10)"
   ]
  },
  {
   "cell_type": "code",
   "execution_count": 89,
   "metadata": {},
   "outputs": [],
   "source": [
    "data['Closes up SMA 10 S(1d)'] = data['Closes up SMA 10'].shift().fillna(False)"
   ]
  },
  {
   "cell_type": "code",
   "execution_count": 90,
   "metadata": {},
   "outputs": [
    {
     "data": {
      "image/png": "[encoded data removed]",
      "text/plain": [
       "<matplotlib.figure.Figure at 0x151b00f5160>"
      ]
     },
     "metadata": {},
     "output_type": "display_data"
    }
   ],
   "source": [
    "sma50 = tl.SMA(data['Close'].values, timeperiod=50)\n",
    "data['SMA 50'] = sma50\n",
    "data['Crosses down SMA 50'] = (C < data['SMA 50']) & (C > data['SMA 50']).shift()\n",
    "data[['SMA 50', 'Close']]['2001'].plot(figsize=(10,5))\n",
    "data.drop('SMA 50', axis=1, inplace=True)"
   ]
  },
  {
   "cell_type": "code",
   "execution_count": 91,
   "metadata": {},
   "outputs": [
    {
     "data": {
      "text/html": [
       "<div>\n",
       "<style scoped>\n",
       "    .dataframe tbody tr th:only-of-type {\n",
       "        vertical-align: middle;\n",
       "    }\n",
       "\n",
       "    .dataframe tbody tr th {\n",
       "        vertical-align: top;\n",
       "    }\n",
       "\n",
       "    .dataframe thead th {\n",
       "        text-align: right;\n",
       "    }\n",
       "</style>\n",
       "<table border=\"1\" class=\"dataframe\">\n",
       "  <thead>\n",
       "    <tr style=\"text-align: right;\">\n",
       "      <th></th>\n",
       "      <th>Open</th>\n",
       "      <th>High</th>\n",
       "      <th>Low</th>\n",
       "      <th>Close</th>\n",
       "      <th>Volume</th>\n",
       "      <th>Weekday</th>\n",
       "      <th>Month</th>\n",
       "      <th>Last trading day of month</th>\n",
       "      <th>First trading day of month</th>\n",
       "      <th>End of Quarter</th>\n",
       "      <th>...</th>\n",
       "      <th>Closes high 50d U(10d)</th>\n",
       "      <th>Closes high 50d S(1d)</th>\n",
       "      <th>Closes high 50d S(2d)</th>\n",
       "      <th>Closes high 50d S(3d)</th>\n",
       "      <th>Closes high 50d S(5d)</th>\n",
       "      <th>Intraday high 50d</th>\n",
       "      <th>Closes up SMA 200</th>\n",
       "      <th>Closes up SMA 10</th>\n",
       "      <th>Closes up SMA 10 S(1d)</th>\n",
       "      <th>Crosses down SMA 50</th>\n",
       "    </tr>\n",
       "    <tr>\n",
       "      <th>Date</th>\n",
       "      <th></th>\n",
       "      <th></th>\n",
       "      <th></th>\n",
       "      <th></th>\n",
       "      <th></th>\n",
       "      <th></th>\n",
       "      <th></th>\n",
       "      <th></th>\n",
       "      <th></th>\n",
       "      <th></th>\n",
       "      <th></th>\n",
       "      <th></th>\n",
       "      <th></th>\n",
       "      <th></th>\n",
       "      <th></th>\n",
       "      <th></th>\n",
       "      <th></th>\n",
       "      <th></th>\n",
       "      <th></th>\n",
       "      <th></th>\n",
       "      <th></th>\n",
       "    </tr>\n",
       "  </thead>\n",
       "  <tbody>\n",
       "    <tr>\n",
       "      <th>2001-01-19</th>\n",
       "      <td>136.1875</td>\n",
       "      <td>136.1875</td>\n",
       "      <td>133.875</td>\n",
       "      <td>134.0156</td>\n",
       "      <td>7782500</td>\n",
       "      <td>Fri</td>\n",
       "      <td>1</td>\n",
       "      <td>False</td>\n",
       "      <td>False</td>\n",
       "      <td>False</td>\n",
       "      <td>...</td>\n",
       "      <td>False</td>\n",
       "      <td>False</td>\n",
       "      <td>False</td>\n",
       "      <td>False</td>\n",
       "      <td>False</td>\n",
       "      <td>False</td>\n",
       "      <td>False</td>\n",
       "      <td>True</td>\n",
       "      <td>True</td>\n",
       "      <td>True</td>\n",
       "    </tr>\n",
       "    <tr>\n",
       "      <th>2001-02-08</th>\n",
       "      <td>134.8000</td>\n",
       "      <td>135.4000</td>\n",
       "      <td>133.100</td>\n",
       "      <td>133.1200</td>\n",
       "      <td>5943300</td>\n",
       "      <td>Thu</td>\n",
       "      <td>2</td>\n",
       "      <td>False</td>\n",
       "      <td>False</td>\n",
       "      <td>False</td>\n",
       "      <td>...</td>\n",
       "      <td>False</td>\n",
       "      <td>False</td>\n",
       "      <td>False</td>\n",
       "      <td>False</td>\n",
       "      <td>False</td>\n",
       "      <td>False</td>\n",
       "      <td>False</td>\n",
       "      <td>False</td>\n",
       "      <td>False</td>\n",
       "      <td>True</td>\n",
       "    </tr>\n",
       "    <tr>\n",
       "      <th>2001-06-14</th>\n",
       "      <td>124.1800</td>\n",
       "      <td>124.3000</td>\n",
       "      <td>121.750</td>\n",
       "      <td>122.0000</td>\n",
       "      <td>12603000</td>\n",
       "      <td>Thu</td>\n",
       "      <td>6</td>\n",
       "      <td>False</td>\n",
       "      <td>False</td>\n",
       "      <td>False</td>\n",
       "      <td>...</td>\n",
       "      <td>False</td>\n",
       "      <td>False</td>\n",
       "      <td>False</td>\n",
       "      <td>False</td>\n",
       "      <td>False</td>\n",
       "      <td>False</td>\n",
       "      <td>False</td>\n",
       "      <td>False</td>\n",
       "      <td>False</td>\n",
       "      <td>True</td>\n",
       "    </tr>\n",
       "    <tr>\n",
       "      <th>2001-10-29</th>\n",
       "      <td>110.1600</td>\n",
       "      <td>110.5500</td>\n",
       "      <td>107.450</td>\n",
       "      <td>107.4500</td>\n",
       "      <td>18727500</td>\n",
       "      <td>Mon</td>\n",
       "      <td>10</td>\n",
       "      <td>False</td>\n",
       "      <td>False</td>\n",
       "      <td>False</td>\n",
       "      <td>...</td>\n",
       "      <td>False</td>\n",
       "      <td>False</td>\n",
       "      <td>False</td>\n",
       "      <td>False</td>\n",
       "      <td>False</td>\n",
       "      <td>False</td>\n",
       "      <td>False</td>\n",
       "      <td>False</td>\n",
       "      <td>True</td>\n",
       "      <td>True</td>\n",
       "    </tr>\n",
       "  </tbody>\n",
       "</table>\n",
       "<p>4 rows × 74 columns</p>\n",
       "</div>"
      ],
      "text/plain": [
       "                Open      High      Low     Close    Volume Weekday  Month  \\\n",
       "Date                                                                         \n",
       "2001-01-19  136.1875  136.1875  133.875  134.0156   7782500     Fri      1   \n",
       "2001-02-08  134.8000  135.4000  133.100  133.1200   5943300     Thu      2   \n",
       "2001-06-14  124.1800  124.3000  121.750  122.0000  12603000     Thu      6   \n",
       "2001-10-29  110.1600  110.5500  107.450  107.4500  18727500     Mon     10   \n",
       "\n",
       "            Last trading day of month  First trading day of month  \\\n",
       "Date                                                                \n",
       "2001-01-19                      False                       False   \n",
       "2001-02-08                      False                       False   \n",
       "2001-06-14                      False                       False   \n",
       "2001-10-29                      False                       False   \n",
       "\n",
       "            End of Quarter         ...           Closes high 50d U(10d)  \\\n",
       "Date                               ...                                    \n",
       "2001-01-19           False         ...                            False   \n",
       "2001-02-08           False         ...                            False   \n",
       "2001-06-14           False         ...                            False   \n",
       "2001-10-29           False         ...                            False   \n",
       "\n",
       "            Closes high 50d S(1d)  Closes high 50d S(2d)  \\\n",
       "Date                                                       \n",
       "2001-01-19                  False                  False   \n",
       "2001-02-08                  False                  False   \n",
       "2001-06-14                  False                  False   \n",
       "2001-10-29                  False                  False   \n",
       "\n",
       "            Closes high 50d S(3d)  Closes high 50d S(5d)  Intraday high 50d  \\\n",
       "Date                                                                          \n",
       "2001-01-19                  False                  False              False   \n",
       "2001-02-08                  False                  False              False   \n",
       "2001-06-14                  False                  False              False   \n",
       "2001-10-29                  False                  False              False   \n",
       "\n",
       "            Closes up SMA 200  Closes up SMA 10  Closes up SMA 10 S(1d)  \\\n",
       "Date                                                                      \n",
       "2001-01-19              False              True                    True   \n",
       "2001-02-08              False             False                   False   \n",
       "2001-06-14              False             False                   False   \n",
       "2001-10-29              False             False                    True   \n",
       "\n",
       "            Crosses down SMA 50  \n",
       "Date                             \n",
       "2001-01-19                 True  \n",
       "2001-02-08                 True  \n",
       "2001-06-14                 True  \n",
       "2001-10-29                 True  \n",
       "\n",
       "[4 rows x 74 columns]"
      ]
     },
     "execution_count": 91,
     "metadata": {},
     "output_type": "execute_result"
    }
   ],
   "source": [
    "data[data['Crosses down SMA 50']]['2001']"
   ]
  },
  {
   "cell_type": "markdown",
   "metadata": {},
   "source": [
    "# RSI"
   ]
  },
  {
   "cell_type": "code",
   "execution_count": 89,
   "metadata": {},
   "outputs": [],
   "source": [
    "rsi2 = tl.RSI(C.values, timeperiod=2)"
   ]
  },
  {
   "cell_type": "code",
   "execution_count": 90,
   "metadata": {},
   "outputs": [],
   "source": [
    "data['RSI2'] = rsi2\n",
    "data['RSI 2d closes down 2'] = data['RSI2'] < 2\n",
    "data['RSI 2d closes up 85'] = data['RSI2'] > 85\n",
    "data['RSI 2d closes up 90'] = data['RSI2'] > 90\n",
    "data['RSI 2d crosses over 99'] = (data['RSI2'] > 99) & (data['RSI2'] < 99).shift()\n",
    "data['RSI 2d crosses down 5 S(1d)'] = (data['RSI2'] < 5).shift().fillna(False)\n",
    "data.drop('RSI2', axis=1, inplace=True)"
   ]
  },
  {
   "cell_type": "code",
   "execution_count": 91,
   "metadata": {},
   "outputs": [
    {
     "data": {
      "text/plain": [
       "35"
      ]
     },
     "execution_count": 91,
     "metadata": {},
     "output_type": "execute_result"
    }
   ],
   "source": [
    "llen('RSI 2d crosses over 99')"
   ]
  },
  {
   "cell_type": "code",
   "execution_count": 92,
   "metadata": {},
   "outputs": [
    {
     "data": {
      "text/plain": [
       "235"
      ]
     },
     "execution_count": 92,
     "metadata": {},
     "output_type": "execute_result"
    }
   ],
   "source": [
    "llen('RSI 2d crosses down 5 S(1d)')"
   ]
  },
  {
   "cell_type": "markdown",
   "metadata": {},
   "source": [
    "# ADX"
   ]
  },
  {
   "cell_type": "code",
   "execution_count": 93,
   "metadata": {},
   "outputs": [],
   "source": [
    "data['ADX14'] = tl.ADX(H.values, L.values, C.values, timeperiod=14)\n",
    "data['ADX 14d closes up 20'] = data['ADX14'] > 20\n",
    "data.drop('ADX14', axis=1, inplace=True)"
   ]
  },
  {
   "cell_type": "code",
   "execution_count": 94,
   "metadata": {},
   "outputs": [
    {
     "data": {
      "text/plain": [
       "2538"
      ]
     },
     "execution_count": 94,
     "metadata": {},
     "output_type": "execute_result"
    }
   ],
   "source": [
    "llen('ADX 14d closes up 20')"
   ]
  },
  {
   "cell_type": "markdown",
   "metadata": {},
   "source": [
    "# Change from previous days"
   ]
  },
  {
   "cell_type": "code",
   "execution_count": 93,
   "metadata": {},
   "outputs": [],
   "source": [
    "data['Closes up 2pct 3d'] = C.pct_change(3) > 0.02"
   ]
  },
  {
   "cell_type": "code",
   "execution_count": 94,
   "metadata": {},
   "outputs": [],
   "source": [
    "data['Closes up 2pct 1d'] = C.pct_change() > 0.02"
   ]
  },
  {
   "cell_type": "code",
   "execution_count": 96,
   "metadata": {},
   "outputs": [],
   "source": [
    "data['Closes range down 1pct 1d'] = (C.pct_change() > -0.01) & data['Closes down 1d']"
   ]
  },
  {
   "cell_type": "code",
   "execution_count": 97,
   "metadata": {},
   "outputs": [
    {
     "data": {
      "text/html": [
       "<div>\n",
       "<style scoped>\n",
       "    .dataframe tbody tr th:only-of-type {\n",
       "        vertical-align: middle;\n",
       "    }\n",
       "\n",
       "    .dataframe tbody tr th {\n",
       "        vertical-align: top;\n",
       "    }\n",
       "\n",
       "    .dataframe thead th {\n",
       "        text-align: right;\n",
       "    }\n",
       "</style>\n",
       "<table border=\"1\" class=\"dataframe\">\n",
       "  <thead>\n",
       "    <tr style=\"text-align: right;\">\n",
       "      <th></th>\n",
       "      <th>Close</th>\n",
       "      <th>Closes up 2pct 3d</th>\n",
       "    </tr>\n",
       "    <tr>\n",
       "      <th>Date</th>\n",
       "      <th></th>\n",
       "      <th></th>\n",
       "    </tr>\n",
       "  </thead>\n",
       "  <tbody>\n",
       "    <tr>\n",
       "      <th>1999-03-24</th>\n",
       "      <td>126.9062</td>\n",
       "      <td>False</td>\n",
       "    </tr>\n",
       "    <tr>\n",
       "      <th>1999-03-25</th>\n",
       "      <td>129.5000</td>\n",
       "      <td>False</td>\n",
       "    </tr>\n",
       "    <tr>\n",
       "      <th>1999-03-26</th>\n",
       "      <td>128.5625</td>\n",
       "      <td>False</td>\n",
       "    </tr>\n",
       "    <tr>\n",
       "      <th>1999-03-29</th>\n",
       "      <td>131.1562</td>\n",
       "      <td>True</td>\n",
       "    </tr>\n",
       "  </tbody>\n",
       "</table>\n",
       "</div>"
      ],
      "text/plain": [
       "               Close  Closes up 2pct 3d\n",
       "Date                                   \n",
       "1999-03-24  126.9062              False\n",
       "1999-03-25  129.5000              False\n",
       "1999-03-26  128.5625              False\n",
       "1999-03-29  131.1562               True"
      ]
     },
     "execution_count": 97,
     "metadata": {},
     "output_type": "execute_result"
    }
   ],
   "source": [
    "data[['Close', 'Closes up 2pct 3d']]['1999-03-24':'1999-03-29']"
   ]
  },
  {
   "cell_type": "code",
   "execution_count": 99,
   "metadata": {},
   "outputs": [],
   "source": [
    "data['Closes down 1.75pct 1d S(1d)'] = (C.pct_change() < -0.0175).shift().fillna(False)"
   ]
  },
  {
   "cell_type": "code",
   "execution_count": 100,
   "metadata": {},
   "outputs": [
    {
     "data": {
      "text/html": [
       "<div>\n",
       "<style scoped>\n",
       "    .dataframe tbody tr th:only-of-type {\n",
       "        vertical-align: middle;\n",
       "    }\n",
       "\n",
       "    .dataframe tbody tr th {\n",
       "        vertical-align: top;\n",
       "    }\n",
       "\n",
       "    .dataframe thead th {\n",
       "        text-align: right;\n",
       "    }\n",
       "</style>\n",
       "<table border=\"1\" class=\"dataframe\">\n",
       "  <thead>\n",
       "    <tr style=\"text-align: right;\">\n",
       "      <th></th>\n",
       "      <th>Close</th>\n",
       "      <th>Closes down 1.75pct 1d S(1d)</th>\n",
       "    </tr>\n",
       "    <tr>\n",
       "      <th>Date</th>\n",
       "      <th></th>\n",
       "      <th></th>\n",
       "    </tr>\n",
       "  </thead>\n",
       "  <tbody>\n",
       "    <tr>\n",
       "      <th>1999-03-18</th>\n",
       "      <td>132.2500</td>\n",
       "      <td>False</td>\n",
       "    </tr>\n",
       "    <tr>\n",
       "      <th>1999-03-19</th>\n",
       "      <td>129.6875</td>\n",
       "      <td>False</td>\n",
       "    </tr>\n",
       "    <tr>\n",
       "      <th>1999-03-22</th>\n",
       "      <td>129.9375</td>\n",
       "      <td>True</td>\n",
       "    </tr>\n",
       "    <tr>\n",
       "      <th>1999-03-23</th>\n",
       "      <td>126.1875</td>\n",
       "      <td>False</td>\n",
       "    </tr>\n",
       "    <tr>\n",
       "      <th>1999-03-24</th>\n",
       "      <td>126.9062</td>\n",
       "      <td>True</td>\n",
       "    </tr>\n",
       "  </tbody>\n",
       "</table>\n",
       "</div>"
      ],
      "text/plain": [
       "               Close  Closes down 1.75pct 1d S(1d)\n",
       "Date                                              \n",
       "1999-03-18  132.2500                         False\n",
       "1999-03-19  129.6875                         False\n",
       "1999-03-22  129.9375                          True\n",
       "1999-03-23  126.1875                         False\n",
       "1999-03-24  126.9062                          True"
      ]
     },
     "execution_count": 100,
     "metadata": {},
     "output_type": "execute_result"
    }
   ],
   "source": [
    "data[['Close', 'Closes down 1.75pct 1d S(1d)']]['1999-03-18':'1999-03-24']"
   ]
  },
  {
   "cell_type": "code",
   "execution_count": 101,
   "metadata": {},
   "outputs": [],
   "source": [
    "data['Closes up 5d'] = C > C.shift(5)\n",
    "data['Closes up 20d'] = C > C.shift(20)"
   ]
  },
  {
   "cell_type": "markdown",
   "metadata": {},
   "source": [
    "# GAP"
   ]
  },
  {
   "cell_type": "code",
   "execution_count": 103,
   "metadata": {},
   "outputs": [],
   "source": [
    "data['Bullish'] = C > O"
   ]
  },
  {
   "cell_type": "code",
   "execution_count": 104,
   "metadata": {},
   "outputs": [],
   "source": [
    "data['Unfulfilled gap up'] = L > C.shift()\n",
    "data['Unfulfilled gap down'] = H < C.shift()"
   ]
  },
  {
   "cell_type": "code",
   "execution_count": 105,
   "metadata": {},
   "outputs": [],
   "source": [
    "data['Gap down 1d'] = O < C.shift()"
   ]
  },
  {
   "cell_type": "code",
   "execution_count": 106,
   "metadata": {},
   "outputs": [],
   "source": [
    "data['Gap up 1pct 1d'] = O > 1.01*C.shift()"
   ]
  },
  {
   "cell_type": "code",
   "execution_count": 107,
   "metadata": {},
   "outputs": [
    {
     "data": {
      "text/html": [
       "<div>\n",
       "<style scoped>\n",
       "    .dataframe tbody tr th:only-of-type {\n",
       "        vertical-align: middle;\n",
       "    }\n",
       "\n",
       "    .dataframe tbody tr th {\n",
       "        vertical-align: top;\n",
       "    }\n",
       "\n",
       "    .dataframe thead th {\n",
       "        text-align: right;\n",
       "    }\n",
       "</style>\n",
       "<table border=\"1\" class=\"dataframe\">\n",
       "  <thead>\n",
       "    <tr style=\"text-align: right;\">\n",
       "      <th></th>\n",
       "      <th>Gap up 1pct 1d</th>\n",
       "      <th>Close</th>\n",
       "      <th>Open</th>\n",
       "    </tr>\n",
       "    <tr>\n",
       "      <th>Date</th>\n",
       "      <th></th>\n",
       "      <th></th>\n",
       "      <th></th>\n",
       "    </tr>\n",
       "  </thead>\n",
       "  <tbody>\n",
       "    <tr>\n",
       "      <th>1999-03-30</th>\n",
       "      <td>False</td>\n",
       "      <td>130.4687</td>\n",
       "      <td>129.9375</td>\n",
       "    </tr>\n",
       "    <tr>\n",
       "      <th>1999-03-31</th>\n",
       "      <td>False</td>\n",
       "      <td>128.3750</td>\n",
       "      <td>131.1562</td>\n",
       "    </tr>\n",
       "    <tr>\n",
       "      <th>1999-04-01</th>\n",
       "      <td>True</td>\n",
       "      <td>129.3437</td>\n",
       "      <td>129.6875</td>\n",
       "    </tr>\n",
       "    <tr>\n",
       "      <th>1999-04-05</th>\n",
       "      <td>True</td>\n",
       "      <td>132.4062</td>\n",
       "      <td>130.9375</td>\n",
       "    </tr>\n",
       "    <tr>\n",
       "      <th>1999-04-06</th>\n",
       "      <td>False</td>\n",
       "      <td>132.0937</td>\n",
       "      <td>132.1875</td>\n",
       "    </tr>\n",
       "  </tbody>\n",
       "</table>\n",
       "</div>"
      ],
      "text/plain": [
       "            Gap up 1pct 1d     Close      Open\n",
       "Date                                          \n",
       "1999-03-30           False  130.4687  129.9375\n",
       "1999-03-31           False  128.3750  131.1562\n",
       "1999-04-01            True  129.3437  129.6875\n",
       "1999-04-05            True  132.4062  130.9375\n",
       "1999-04-06           False  132.0937  132.1875"
      ]
     },
     "execution_count": 107,
     "metadata": {},
     "output_type": "execute_result"
    }
   ],
   "source": [
    "data[['Gap up 1pct 1d', 'Close', 'Open']]['1999-03-30':'1999-04-06']"
   ]
  },
  {
   "cell_type": "code",
   "execution_count": 108,
   "metadata": {},
   "outputs": [],
   "source": [
    "DR = H - L\n",
    "data['Closes top 10pct'] = C > (H - DR*0.1)\n",
    "data['Closes top 15pct'] = C > (H - DR*0.15)\n",
    "data['Closes top 25pct'] = C > (H - DR*0.25)\n",
    "data['Closes bottom 10pct'] = C < (L + DR*0.1)\n",
    "data['Closes bottom 15pct'] = C < (L + DR*0.15)\n",
    "data['Closes bottom 25pct'] = C < (L + DR*0.25)"
   ]
  },
  {
   "cell_type": "code",
   "execution_count": 109,
   "metadata": {},
   "outputs": [
    {
     "data": {
      "text/plain": [
       "False    4019\n",
       "True      728\n",
       "Name: Closes bottom 15pct, dtype: int64"
      ]
     },
     "execution_count": 109,
     "metadata": {},
     "output_type": "execute_result"
    }
   ],
   "source": [
    "data['Closes bottom 15pct'].value_counts()"
   ]
  },
  {
   "cell_type": "code",
   "execution_count": 110,
   "metadata": {},
   "outputs": [],
   "source": [
    "data['Gap down in a row 5d'] = data['Gap down 1d'].rolling(5).mean() == 1"
   ]
  },
  {
   "cell_type": "code",
   "execution_count": 111,
   "metadata": {},
   "outputs": [
    {
     "data": {
      "text/plain": [
       "44"
      ]
     },
     "execution_count": 111,
     "metadata": {},
     "output_type": "execute_result"
    }
   ],
   "source": [
    "llen('Gap down in a row 5d')"
   ]
  },
  {
   "cell_type": "code",
   "execution_count": 112,
   "metadata": {},
   "outputs": [],
   "source": [
    "data['Higher high 1d'] = H > H.shift()\n",
    "data['Lower low 1d'] = L < L.shift()"
   ]
  },
  {
   "cell_type": "code",
   "execution_count": 113,
   "metadata": {},
   "outputs": [],
   "source": [
    "data['Higher high S(1d)'] = data['Higher high 1d'].shift().fillna(False)\n",
    "data['Lower low S(1d)'] = data['Lower low 1d'].shift().fillna(False)"
   ]
  },
  {
   "cell_type": "code",
   "execution_count": 114,
   "metadata": {},
   "outputs": [],
   "source": [
    "data['Unfulfilled gap up S(1d)'] = data['Unfulfilled gap up'].shift().fillna(False)\n",
    "data['Unfulfilled gap down S(1d)'] = data['Unfulfilled gap down'].shift().fillna(False)"
   ]
  },
  {
   "cell_type": "code",
   "execution_count": 115,
   "metadata": {},
   "outputs": [],
   "source": [
    "data['Unfulfilled gap up in a row 3d'] = data['Unfulfilled gap up'].rolling(3).mean() == 1"
   ]
  },
  {
   "cell_type": "code",
   "execution_count": 116,
   "metadata": {},
   "outputs": [
    {
     "data": {
      "text/plain": [
       "19"
      ]
     },
     "execution_count": 116,
     "metadata": {},
     "output_type": "execute_result"
    }
   ],
   "source": [
    "llen('Unfulfilled gap up in a row 3d')"
   ]
  },
  {
   "cell_type": "code",
   "execution_count": 117,
   "metadata": {},
   "outputs": [],
   "source": [
    "data['Unfulfilled gap down in a row 2d'] = data['Unfulfilled gap down'].rolling(2).mean() == 1"
   ]
  },
  {
   "cell_type": "code",
   "execution_count": 118,
   "metadata": {},
   "outputs": [
    {
     "data": {
      "text/plain": [
       "73"
      ]
     },
     "execution_count": 118,
     "metadata": {},
     "output_type": "execute_result"
    }
   ],
   "source": [
    "llen('Unfulfilled gap down in a row 2d')"
   ]
  },
  {
   "cell_type": "code",
   "execution_count": 118,
   "metadata": {},
   "outputs": [],
   "source": [
    "data['Gap down 0.5pct'] = O < 0.995*C.shift()"
   ]
  },
  {
   "cell_type": "code",
   "execution_count": 119,
   "metadata": {},
   "outputs": [],
   "source": [
    "data['Gap down 1d S(1d)'] = data['Gap down 1d'].shift().fillna(False)\n",
    "data['Closes down 1d S(1d)'] = data['Closes down 1d'].shift().fillna(False)"
   ]
  },
  {
   "cell_type": "markdown",
   "metadata": {},
   "source": [
    "# Inside"
   ]
  },
  {
   "cell_type": "code",
   "execution_count": 119,
   "metadata": {},
   "outputs": [],
   "source": [
    "data['Inside'] = (L > L.shift()) & (H < H.shift()) # smaller candle\n",
    "data['Outside'] = (L < L.shift()) & H > (H.shift()) # bigger candle"
   ]
  },
  {
   "cell_type": "code",
   "execution_count": 121,
   "metadata": {},
   "outputs": [],
   "source": [
    "data['Inside S(1d)'] = data['Inside'].shift().fillna(False)\n",
    "data['Outside S(1d)'] = data['Outside'].shift().fillna(False)"
   ]
  },
  {
   "cell_type": "code",
   "execution_count": 122,
   "metadata": {},
   "outputs": [],
   "source": [
    "data['Closes down 1pct 1d S(5d)'] = (C.pct_change() < -0.01).shift(5).fillna(False)"
   ]
  },
  {
   "cell_type": "code",
   "execution_count": 123,
   "metadata": {},
   "outputs": [],
   "source": [
    "data['Closes up open 1pct'] = C > O*1.01"
   ]
  },
  {
   "cell_type": "code",
   "execution_count": 124,
   "metadata": {},
   "outputs": [],
   "source": [
    "data['Closes down 3d'] = C < C.shift(3)\n",
    "data['Closes down 7d'] = C < C.shift(7)"
   ]
  },
  {
   "cell_type": "code",
   "execution_count": 125,
   "metadata": {},
   "outputs": [],
   "source": [
    "hh10 = H.rolling(10).max()\n",
    "ll10 = L.rolling(10).min()\n",
    "data['Closes in top 10pct 10d'] = C > (hh10 - (hh10 - ll10)*0.1)"
   ]
  },
  {
   "cell_type": "code",
   "execution_count": 126,
   "metadata": {},
   "outputs": [],
   "source": [
    "data['Closes up 0.25pct 1d'] = C < 1.0025*(C.shift())"
   ]
  },
  {
   "cell_type": "code",
   "execution_count": 127,
   "metadata": {},
   "outputs": [],
   "source": [
    "data['Lowest range 10d'] = DR.rolling(10).min().fillna(0)\n",
    "data['Lowest range 60d'] = DR.rolling(60).min().fillna(0)"
   ]
  },
  {
   "cell_type": "code",
   "execution_count": 128,
   "metadata": {},
   "outputs": [],
   "source": [
    "data['Highest range 10d S(1d)'] = DR.rolling(10).max().shift().fillna(False)"
   ]
  },
  {
   "cell_type": "code",
   "execution_count": 129,
   "metadata": {},
   "outputs": [],
   "source": [
    "data['Opens down low 1d'] = O < L.shift()\n",
    "data['Closes up high 1d'] = C > H.shift()"
   ]
  },
  {
   "cell_type": "code",
   "execution_count": 130,
   "metadata": {},
   "outputs": [],
   "source": [
    "data['Falls 1.5X ATR 20d S(1d)'] = (C.shift() - C) > 1.5*tl.ATR(H.values, L.values, C.values, timeperiod=20)"
   ]
  },
  {
   "cell_type": "code",
   "execution_count": 131,
   "metadata": {},
   "outputs": [
    {
     "data": {
      "text/plain": [
       "103"
      ]
     },
     "execution_count": 131,
     "metadata": {},
     "output_type": "execute_result"
    }
   ],
   "source": [
    "llen('Falls 1.5X ATR 20d S(1d)')"
   ]
  },
  {
   "cell_type": "code",
   "execution_count": 132,
   "metadata": {},
   "outputs": [],
   "source": [
    "change = C.pct_change()\n",
    "data['Worst 1d decline 10d'] = change == change.rolling(10).min()"
   ]
  },
  {
   "cell_type": "code",
   "execution_count": 133,
   "metadata": {},
   "outputs": [
    {
     "data": {
      "text/plain": [
       "21"
      ]
     },
     "execution_count": 133,
     "metadata": {},
     "output_type": "execute_result"
    }
   ],
   "source": [
    "data['Closes bottom 25pct in a row 4d'] = data['Closes bottom 25pct'].rolling(4).mean() == 1\n",
    "llen('Closes bottom 25pct in a row 4d')"
   ]
  },
  {
   "cell_type": "markdown",
   "metadata": {},
   "source": [
    "# Strikes up"
   ]
  },
  {
   "cell_type": "code",
   "execution_count": 134,
   "metadata": {},
   "outputs": [],
   "source": [
    "data['Closes up SMA5 in a row 10d'] = (C > tl.SMA(C.values, timeperiod=5)).rolling(10).mean() == 1"
   ]
  },
  {
   "cell_type": "code",
   "execution_count": 135,
   "metadata": {},
   "outputs": [
    {
     "data": {
      "text/plain": [
       "207"
      ]
     },
     "execution_count": 135,
     "metadata": {},
     "output_type": "execute_result"
    }
   ],
   "source": [
    "llen('Closes up SMA5 in a row 10d')"
   ]
  },
  {
   "cell_type": "code",
   "execution_count": 136,
   "metadata": {},
   "outputs": [],
   "source": [
    "data['Rally in 10d'] = ((C == C.rolling(50).min()).rolling(10).sum() > 0) & (C == C.rolling(50).max())"
   ]
  },
  {
   "cell_type": "code",
   "execution_count": 137,
   "metadata": {},
   "outputs": [
    {
     "data": {
      "text/html": [
       "<div>\n",
       "<style scoped>\n",
       "    .dataframe tbody tr th:only-of-type {\n",
       "        vertical-align: middle;\n",
       "    }\n",
       "\n",
       "    .dataframe tbody tr th {\n",
       "        vertical-align: top;\n",
       "    }\n",
       "\n",
       "    .dataframe thead th {\n",
       "        text-align: right;\n",
       "    }\n",
       "</style>\n",
       "<table border=\"1\" class=\"dataframe\">\n",
       "  <thead>\n",
       "    <tr style=\"text-align: right;\">\n",
       "      <th></th>\n",
       "      <th>Open</th>\n",
       "      <th>High</th>\n",
       "      <th>Low</th>\n",
       "      <th>Close</th>\n",
       "      <th>Volume</th>\n",
       "      <th>Weekday</th>\n",
       "      <th>Month</th>\n",
       "      <th>Last trading day of month</th>\n",
       "      <th>First trading day of month</th>\n",
       "      <th>End of Quarter</th>\n",
       "      <th>...</th>\n",
       "      <th>Lowest range 10d</th>\n",
       "      <th>Lowest range 60d</th>\n",
       "      <th>Highest range 10d S(1d)</th>\n",
       "      <th>Opens down low 1d</th>\n",
       "      <th>Closes up high 1d</th>\n",
       "      <th>Falls 1.5X ATR 20d S(1d)</th>\n",
       "      <th>Worst 1d decline 10d</th>\n",
       "      <th>Closes bottom 25pct in a row 4d</th>\n",
       "      <th>Closes up SMA5 in a row 10d</th>\n",
       "      <th>Rally in 10d</th>\n",
       "    </tr>\n",
       "    <tr>\n",
       "      <th>Date</th>\n",
       "      <th></th>\n",
       "      <th></th>\n",
       "      <th></th>\n",
       "      <th></th>\n",
       "      <th></th>\n",
       "      <th></th>\n",
       "      <th></th>\n",
       "      <th></th>\n",
       "      <th></th>\n",
       "      <th></th>\n",
       "      <th></th>\n",
       "      <th></th>\n",
       "      <th></th>\n",
       "      <th></th>\n",
       "      <th></th>\n",
       "      <th></th>\n",
       "      <th></th>\n",
       "      <th></th>\n",
       "      <th></th>\n",
       "      <th></th>\n",
       "      <th></th>\n",
       "    </tr>\n",
       "  </thead>\n",
       "  <tbody>\n",
       "    <tr>\n",
       "      <th>2011-10-14</th>\n",
       "      <td>121.86</td>\n",
       "      <td>122.60</td>\n",
       "      <td>121.23</td>\n",
       "      <td>122.56</td>\n",
       "      <td>43756388</td>\n",
       "      <td>Fri</td>\n",
       "      <td>10</td>\n",
       "      <td>False</td>\n",
       "      <td>False</td>\n",
       "      <td>False</td>\n",
       "      <td>...</td>\n",
       "      <td>1.28</td>\n",
       "      <td>0.93</td>\n",
       "      <td>5.15</td>\n",
       "      <td>False</td>\n",
       "      <td>True</td>\n",
       "      <td>False</td>\n",
       "      <td>False</td>\n",
       "      <td>False</td>\n",
       "      <td>False</td>\n",
       "      <td>True</td>\n",
       "    </tr>\n",
       "    <tr>\n",
       "      <th>2014-08-20</th>\n",
       "      <td>198.12</td>\n",
       "      <td>199.16</td>\n",
       "      <td>198.08</td>\n",
       "      <td>198.92</td>\n",
       "      <td>72762544</td>\n",
       "      <td>Wed</td>\n",
       "      <td>8</td>\n",
       "      <td>False</td>\n",
       "      <td>False</td>\n",
       "      <td>False</td>\n",
       "      <td>...</td>\n",
       "      <td>0.76</td>\n",
       "      <td>0.40</td>\n",
       "      <td>2.58</td>\n",
       "      <td>False</td>\n",
       "      <td>True</td>\n",
       "      <td>False</td>\n",
       "      <td>False</td>\n",
       "      <td>False</td>\n",
       "      <td>False</td>\n",
       "      <td>True</td>\n",
       "    </tr>\n",
       "    <tr>\n",
       "      <th>2016-07-08</th>\n",
       "      <td>211.05</td>\n",
       "      <td>212.94</td>\n",
       "      <td>210.78</td>\n",
       "      <td>212.65</td>\n",
       "      <td>133970976</td>\n",
       "      <td>Fri</td>\n",
       "      <td>7</td>\n",
       "      <td>False</td>\n",
       "      <td>False</td>\n",
       "      <td>False</td>\n",
       "      <td>...</td>\n",
       "      <td>1.20</td>\n",
       "      <td>0.74</td>\n",
       "      <td>8.13</td>\n",
       "      <td>False</td>\n",
       "      <td>True</td>\n",
       "      <td>False</td>\n",
       "      <td>False</td>\n",
       "      <td>False</td>\n",
       "      <td>False</td>\n",
       "      <td>True</td>\n",
       "    </tr>\n",
       "    <tr>\n",
       "      <th>2016-07-11</th>\n",
       "      <td>213.19</td>\n",
       "      <td>214.07</td>\n",
       "      <td>212.95</td>\n",
       "      <td>213.40</td>\n",
       "      <td>73633936</td>\n",
       "      <td>Mon</td>\n",
       "      <td>7</td>\n",
       "      <td>False</td>\n",
       "      <td>False</td>\n",
       "      <td>False</td>\n",
       "      <td>...</td>\n",
       "      <td>1.12</td>\n",
       "      <td>0.74</td>\n",
       "      <td>8.13</td>\n",
       "      <td>False</td>\n",
       "      <td>True</td>\n",
       "      <td>False</td>\n",
       "      <td>False</td>\n",
       "      <td>False</td>\n",
       "      <td>False</td>\n",
       "      <td>True</td>\n",
       "    </tr>\n",
       "    <tr>\n",
       "      <th>2016-11-17</th>\n",
       "      <td>218.05</td>\n",
       "      <td>219.06</td>\n",
       "      <td>217.92</td>\n",
       "      <td>218.99</td>\n",
       "      <td>69797192</td>\n",
       "      <td>Thu</td>\n",
       "      <td>11</td>\n",
       "      <td>False</td>\n",
       "      <td>False</td>\n",
       "      <td>False</td>\n",
       "      <td>...</td>\n",
       "      <td>0.72</td>\n",
       "      <td>0.72</td>\n",
       "      <td>4.76</td>\n",
       "      <td>False</td>\n",
       "      <td>True</td>\n",
       "      <td>False</td>\n",
       "      <td>False</td>\n",
       "      <td>False</td>\n",
       "      <td>False</td>\n",
       "      <td>True</td>\n",
       "    </tr>\n",
       "  </tbody>\n",
       "</table>\n",
       "<p>5 rows × 129 columns</p>\n",
       "</div>"
      ],
      "text/plain": [
       "              Open    High     Low   Close     Volume Weekday  Month  \\\n",
       "Date                                                                   \n",
       "2011-10-14  121.86  122.60  121.23  122.56   43756388     Fri     10   \n",
       "2014-08-20  198.12  199.16  198.08  198.92   72762544     Wed      8   \n",
       "2016-07-08  211.05  212.94  210.78  212.65  133970976     Fri      7   \n",
       "2016-07-11  213.19  214.07  212.95  213.40   73633936     Mon      7   \n",
       "2016-11-17  218.05  219.06  217.92  218.99   69797192     Thu     11   \n",
       "\n",
       "            Last trading day of month  First trading day of month  \\\n",
       "Date                                                                \n",
       "2011-10-14                      False                       False   \n",
       "2014-08-20                      False                       False   \n",
       "2016-07-08                      False                       False   \n",
       "2016-07-11                      False                       False   \n",
       "2016-11-17                      False                       False   \n",
       "\n",
       "            End of Quarter      ...       Lowest range 10d  Lowest range 60d  \\\n",
       "Date                            ...                                            \n",
       "2011-10-14           False      ...                   1.28              0.93   \n",
       "2014-08-20           False      ...                   0.76              0.40   \n",
       "2016-07-08           False      ...                   1.20              0.74   \n",
       "2016-07-11           False      ...                   1.12              0.74   \n",
       "2016-11-17           False      ...                   0.72              0.72   \n",
       "\n",
       "            Highest range 10d S(1d)  Opens down low 1d  Closes up high 1d  \\\n",
       "Date                                                                        \n",
       "2011-10-14                     5.15              False               True   \n",
       "2014-08-20                     2.58              False               True   \n",
       "2016-07-08                     8.13              False               True   \n",
       "2016-07-11                     8.13              False               True   \n",
       "2016-11-17                     4.76              False               True   \n",
       "\n",
       "            Falls 1.5X ATR 20d S(1d)  Worst 1d decline 10d  \\\n",
       "Date                                                         \n",
       "2011-10-14                     False                 False   \n",
       "2014-08-20                     False                 False   \n",
       "2016-07-08                     False                 False   \n",
       "2016-07-11                     False                 False   \n",
       "2016-11-17                     False                 False   \n",
       "\n",
       "            Closes bottom 25pct in a row 4d  Closes up SMA5 in a row 10d  \\\n",
       "Date                                                                       \n",
       "2011-10-14                            False                        False   \n",
       "2014-08-20                            False                        False   \n",
       "2016-07-08                            False                        False   \n",
       "2016-07-11                            False                        False   \n",
       "2016-11-17                            False                        False   \n",
       "\n",
       "            Rally in 10d  \n",
       "Date                      \n",
       "2011-10-14          True  \n",
       "2014-08-20          True  \n",
       "2016-07-08          True  \n",
       "2016-07-11          True  \n",
       "2016-11-17          True  \n",
       "\n",
       "[5 rows x 129 columns]"
      ]
     },
     "execution_count": 137,
     "metadata": {},
     "output_type": "execute_result"
    }
   ],
   "source": [
    "data[data['Rally in 10d']]"
   ]
  },
  {
   "cell_type": "code",
   "execution_count": 138,
   "metadata": {},
   "outputs": [
    {
     "data": {
      "text/plain": [
       "<matplotlib.axes._subplots.AxesSubplot at 0x204b314dc88>"
      ]
     },
     "execution_count": 138,
     "metadata": {},
     "output_type": "execute_result"
    },
    {
     "data": {
      "image/png": "[encoded data removed]",
      "text/plain": [
       "<matplotlib.figure.Figure at 0x204b41d9b38>"
      ]
     },
     "metadata": {},
     "output_type": "display_data"
    }
   ],
   "source": [
    "data['2014-07':'2014-08-21']['Close'].plot()"
   ]
  },
  {
   "cell_type": "code",
   "execution_count": 139,
   "metadata": {},
   "outputs": [],
   "source": [
    "data['Rate of decline slowed in a row 2d'] = change.rolling(2).apply(lambda x: (x[0] < 0) and (x[1] < 0) and (x[1] > x[0])).fillna(0) == 1"
   ]
  },
  {
   "cell_type": "code",
   "execution_count": 140,
   "metadata": {},
   "outputs": [],
   "source": [
    "data['Biggest decline 4d'] = (change.rolling(4).min() == change) & (change < 0)"
   ]
  },
  {
   "cell_type": "code",
   "execution_count": 141,
   "metadata": {},
   "outputs": [
    {
     "data": {
      "text/html": [
       "<div>\n",
       "<style scoped>\n",
       "    .dataframe tbody tr th:only-of-type {\n",
       "        vertical-align: middle;\n",
       "    }\n",
       "\n",
       "    .dataframe tbody tr th {\n",
       "        vertical-align: top;\n",
       "    }\n",
       "\n",
       "    .dataframe thead th {\n",
       "        text-align: right;\n",
       "    }\n",
       "</style>\n",
       "<table border=\"1\" class=\"dataframe\">\n",
       "  <thead>\n",
       "    <tr style=\"text-align: right;\">\n",
       "      <th></th>\n",
       "      <th>Biggest decline 4d</th>\n",
       "      <th>Daily return</th>\n",
       "    </tr>\n",
       "    <tr>\n",
       "      <th>Date</th>\n",
       "      <th></th>\n",
       "      <th></th>\n",
       "    </tr>\n",
       "  </thead>\n",
       "  <tbody>\n",
       "    <tr>\n",
       "      <th>1999-03-15</th>\n",
       "      <td>False</td>\n",
       "      <td>1.425082</td>\n",
       "    </tr>\n",
       "    <tr>\n",
       "      <th>1999-03-16</th>\n",
       "      <td>False</td>\n",
       "      <td>-0.381043</td>\n",
       "    </tr>\n",
       "    <tr>\n",
       "      <th>1999-03-17</th>\n",
       "      <td>False</td>\n",
       "      <td>-0.430313</td>\n",
       "    </tr>\n",
       "    <tr>\n",
       "      <th>1999-03-18</th>\n",
       "      <td>False</td>\n",
       "      <td>1.608682</td>\n",
       "    </tr>\n",
       "    <tr>\n",
       "      <th>1999-03-19</th>\n",
       "      <td>True</td>\n",
       "      <td>-1.937618</td>\n",
       "    </tr>\n",
       "    <tr>\n",
       "      <th>1999-03-22</th>\n",
       "      <td>False</td>\n",
       "      <td>0.192771</td>\n",
       "    </tr>\n",
       "    <tr>\n",
       "      <th>1999-03-23</th>\n",
       "      <td>True</td>\n",
       "      <td>-2.886003</td>\n",
       "    </tr>\n",
       "  </tbody>\n",
       "</table>\n",
       "</div>"
      ],
      "text/plain": [
       "            Biggest decline 4d  Daily return\n",
       "Date                                        \n",
       "1999-03-15               False      1.425082\n",
       "1999-03-16               False     -0.381043\n",
       "1999-03-17               False     -0.430313\n",
       "1999-03-18               False      1.608682\n",
       "1999-03-19                True     -1.937618\n",
       "1999-03-22               False      0.192771\n",
       "1999-03-23                True     -2.886003"
      ]
     },
     "execution_count": 141,
     "metadata": {},
     "output_type": "execute_result"
    }
   ],
   "source": [
    "data[['Biggest decline 4d', 'Daily return']]['1999-03-15':'1999-03-23']"
   ]
  },
  {
   "cell_type": "code",
   "execution_count": 142,
   "metadata": {},
   "outputs": [],
   "source": [
    "data['Lower HLC in a row 3d'] = ((H < H.shift()) & (L < L.shift()) & (C < C.shift())).rolling(3).mean() == 1"
   ]
  },
  {
   "cell_type": "code",
   "execution_count": 143,
   "metadata": {},
   "outputs": [
    {
     "data": {
      "text/html": [
       "<div>\n",
       "<style scoped>\n",
       "    .dataframe tbody tr th:only-of-type {\n",
       "        vertical-align: middle;\n",
       "    }\n",
       "\n",
       "    .dataframe tbody tr th {\n",
       "        vertical-align: top;\n",
       "    }\n",
       "\n",
       "    .dataframe thead th {\n",
       "        text-align: right;\n",
       "    }\n",
       "</style>\n",
       "<table border=\"1\" class=\"dataframe\">\n",
       "  <thead>\n",
       "    <tr style=\"text-align: right;\">\n",
       "      <th></th>\n",
       "      <th>High</th>\n",
       "      <th>Low</th>\n",
       "      <th>Close</th>\n",
       "      <th>Lower HLC in a row 3d</th>\n",
       "    </tr>\n",
       "    <tr>\n",
       "      <th>Date</th>\n",
       "      <th></th>\n",
       "      <th></th>\n",
       "      <th></th>\n",
       "      <th></th>\n",
       "    </tr>\n",
       "  </thead>\n",
       "  <tbody>\n",
       "    <tr>\n",
       "      <th>1999-07-19</th>\n",
       "      <td>142.2500</td>\n",
       "      <td>140.5625</td>\n",
       "      <td>140.8750</td>\n",
       "      <td>False</td>\n",
       "    </tr>\n",
       "    <tr>\n",
       "      <th>1999-07-20</th>\n",
       "      <td>140.4062</td>\n",
       "      <td>137.5312</td>\n",
       "      <td>137.9843</td>\n",
       "      <td>False</td>\n",
       "    </tr>\n",
       "    <tr>\n",
       "      <th>1999-07-21</th>\n",
       "      <td>138.9062</td>\n",
       "      <td>137.3125</td>\n",
       "      <td>137.8281</td>\n",
       "      <td>False</td>\n",
       "    </tr>\n",
       "    <tr>\n",
       "      <th>1999-07-22</th>\n",
       "      <td>138.0000</td>\n",
       "      <td>135.4687</td>\n",
       "      <td>136.0156</td>\n",
       "      <td>True</td>\n",
       "    </tr>\n",
       "    <tr>\n",
       "      <th>1999-07-23</th>\n",
       "      <td>137.0000</td>\n",
       "      <td>135.1250</td>\n",
       "      <td>135.7500</td>\n",
       "      <td>True</td>\n",
       "    </tr>\n",
       "  </tbody>\n",
       "</table>\n",
       "</div>"
      ],
      "text/plain": [
       "                High       Low     Close  Lower HLC in a row 3d\n",
       "Date                                                           \n",
       "1999-07-19  142.2500  140.5625  140.8750                  False\n",
       "1999-07-20  140.4062  137.5312  137.9843                  False\n",
       "1999-07-21  138.9062  137.3125  137.8281                  False\n",
       "1999-07-22  138.0000  135.4687  136.0156                   True\n",
       "1999-07-23  137.0000  135.1250  135.7500                   True"
      ]
     },
     "execution_count": 143,
     "metadata": {},
     "output_type": "execute_result"
    }
   ],
   "source": [
    "data['1999-07-19':'1999-07-25'][['High', 'Low', 'Close', 'Lower HLC in a row 3d']]"
   ]
  },
  {
   "cell_type": "code",
   "execution_count": 144,
   "metadata": {},
   "outputs": [],
   "source": [
    "data['Closes down 1pct in a row 3d'] = (change < -0.01).rolling(3).mean() == 1"
   ]
  },
  {
   "cell_type": "code",
   "execution_count": 145,
   "metadata": {},
   "outputs": [
    {
     "data": {
      "text/html": [
       "<div>\n",
       "<style scoped>\n",
       "    .dataframe tbody tr th:only-of-type {\n",
       "        vertical-align: middle;\n",
       "    }\n",
       "\n",
       "    .dataframe tbody tr th {\n",
       "        vertical-align: top;\n",
       "    }\n",
       "\n",
       "    .dataframe thead th {\n",
       "        text-align: right;\n",
       "    }\n",
       "</style>\n",
       "<table border=\"1\" class=\"dataframe\">\n",
       "  <thead>\n",
       "    <tr style=\"text-align: right;\">\n",
       "      <th></th>\n",
       "      <th>Daily return</th>\n",
       "      <th>Closes down 1pct in a row 3d</th>\n",
       "    </tr>\n",
       "    <tr>\n",
       "      <th>Date</th>\n",
       "      <th></th>\n",
       "      <th></th>\n",
       "    </tr>\n",
       "  </thead>\n",
       "  <tbody>\n",
       "    <tr>\n",
       "      <th>2001-02-14</th>\n",
       "      <td>-0.151217</td>\n",
       "      <td>False</td>\n",
       "    </tr>\n",
       "    <tr>\n",
       "      <th>2001-02-15</th>\n",
       "      <td>0.969256</td>\n",
       "      <td>False</td>\n",
       "    </tr>\n",
       "    <tr>\n",
       "      <th>2001-02-16</th>\n",
       "      <td>-2.204890</td>\n",
       "      <td>False</td>\n",
       "    </tr>\n",
       "    <tr>\n",
       "      <th>2001-02-20</th>\n",
       "      <td>-1.541411</td>\n",
       "      <td>False</td>\n",
       "    </tr>\n",
       "    <tr>\n",
       "      <th>2001-02-21</th>\n",
       "      <td>-2.157489</td>\n",
       "      <td>True</td>\n",
       "    </tr>\n",
       "  </tbody>\n",
       "</table>\n",
       "</div>"
      ],
      "text/plain": [
       "            Daily return  Closes down 1pct in a row 3d\n",
       "Date                                                  \n",
       "2001-02-14     -0.151217                         False\n",
       "2001-02-15      0.969256                         False\n",
       "2001-02-16     -2.204890                         False\n",
       "2001-02-20     -1.541411                         False\n",
       "2001-02-21     -2.157489                          True"
      ]
     },
     "execution_count": 145,
     "metadata": {},
     "output_type": "execute_result"
    }
   ],
   "source": [
    "data['2001-02-14':'2001-02-21'][['Daily return', 'Closes down 1pct in a row 3d']]"
   ]
  },
  {
   "cell_type": "code",
   "execution_count": 146,
   "metadata": {},
   "outputs": [],
   "source": [
    "data.drop(['Open', 'High', 'Close', 'Low', 'Volume'], axis=1, inplace=True)"
   ]
  },
  {
   "cell_type": "code",
   "execution_count": 147,
   "metadata": {},
   "outputs": [
    {
     "name": "stdout",
     "output_type": "stream",
     "text": [
      "Weekday ==> Wed\n",
      "Month ==> 3\n",
      "Last trading day of month ==> False\n",
      "First trading day of month ==> False\n",
      "End of Quarter ==> False\n",
      "Closes down 1d ==> False\n",
      "Closes up in a row 2d ==> False\n",
      "Closes up in a row 3d ==> False\n",
      "Closes up in a row 4d ==> False\n",
      "Closes up in a row 5d ==> False\n",
      "Closes up in a row 5d S(1d) ==> False\n",
      "Closes down in a row 2d ==> False\n",
      "Closes down in a row 3d ==> False\n",
      "Closes down in a row 4d ==> False\n",
      "Closes down in a row 5d ==> False\n",
      "Day ==> 10\n",
      "Daily return ==> 0.0\n",
      "Lowest volume 5d ==> False\n",
      "Daily return 5d ==> 0.0\n",
      "OPEX week ==> False\n",
      "Tomorrow is OPEX Friday ==> False\n",
      "Today is OPEX Friday ==> False\n",
      "Before OPEX week ==> True\n",
      "Highest closing price of the month ==> False\n",
      "Daily return S(1d) ==> 0.0\n",
      "First trading day of month S(1d) ==> False\n",
      "Thursday before Labor Day ==> False\n",
      "Friday before Labor Day ==> False\n",
      "Friday before Columbus Day ==> False\n",
      "Thursday before Pres Day ==> False\n",
      "Closes high 4d ==> False\n",
      "Closes low 5d ==> False\n",
      "Closes low 5d S(1d) ==> False\n",
      "Closes low 5d U(10d) ==> False\n",
      "Closes high 5d ==> False\n",
      "Closes high 7d S(1d) ==> False\n",
      "Closes low 7d ==> False\n",
      "Closes low 8d ==> False\n",
      "Intraday high 10d ==> False\n",
      "Closes high 10d ==> False\n",
      "Closes low 10d ==> False\n",
      "Closes high 10d S(1d) ==> False\n",
      "Closes low 10d U(5d) ==> False\n",
      "Intraday low 10d S(1d) ==> False\n",
      "Closes low 10d S(1d) ==> False\n",
      "Closes up low 10d ==> False\n",
      "Closes up low 20d ==> False\n",
      "Intraday low 20d ==> False\n",
      "Intraday high 20d ==> False\n",
      "Closes low 20d S(1d) ==> False\n",
      "Closes low 20d S(2d) ==> False\n",
      "Highest close 20d ==> False\n",
      "Highest close 20d S(1d) ==> False\n",
      "Intraday low 20d S(1d) ==> False\n",
      "Closes high 20d ==> False\n",
      "Closes low 50d ==> False\n",
      "Closes high 50d ==> False\n",
      "Closes low 50d S(1d) ==> False\n",
      "Closes low 50d S(4d) ==> False\n",
      "Closes high 50d U(10d) ==> False\n",
      "Closes high 50d S(1d) ==> False\n",
      "Closes high 50d S(2d) ==> False\n",
      "Closes high 50d S(3d) ==> False\n",
      "Closes high 50d S(5d) ==> False\n",
      "Intraday high 50d ==> False\n",
      "Closes up SMA 200 ==> False\n",
      "Closes up SMA 10 ==> False\n",
      "Closes up SMA 10 S(1d) ==> False\n",
      "Crosses down SMA 50 ==> False\n",
      "RSI 2d closes down 2 ==> False\n",
      "RSI 2d closes up 85 ==> False\n",
      "RSI 2d closes up 90 ==> False\n",
      "RSI 2d crosses over 99 ==> False\n",
      "RSI 2d crosses down 5 S(1d) ==> False\n",
      "ADX 14d closes up 20 ==> False\n",
      "Closes up 2pct 3d ==> False\n",
      "Closes up 2pct 1d ==> False\n",
      "Closes range down 1pct 1d ==> False\n",
      "Closes down 1.75pct 1d S(1d) ==> False\n",
      "Closes up 5d ==> False\n",
      "Closes up 20d ==> False\n",
      "Bullish ==> True\n",
      "Unfulfilled gap up ==> False\n",
      "Unfulfilled gap down ==> False\n",
      "Gap down 1d ==> False\n",
      "Gap up 1pct 1d ==> False\n",
      "Closes top 10pct ==> True\n",
      "Closes top 15pct ==> True\n",
      "Closes top 25pct ==> True\n",
      "Closes bottom 10pct ==> False\n",
      "Closes bottom 15pct ==> False\n",
      "Closes bottom 25pct ==> False\n",
      "Gap down in a row 5d ==> False\n",
      "Higher high 1d ==> False\n",
      "Lower low 1d ==> False\n",
      "Higher high S(1d) ==> False\n",
      "Lower low S(1d) ==> False\n",
      "Unfulfilled gap up S(1d) ==> False\n",
      "Unfulfilled gap down S(1d) ==> False\n",
      "Unfulfilled gap up in a row 3d ==> False\n",
      "Unfulfilled gap down in a row 2d ==> False\n",
      "Gap down 0.5pct ==> False\n",
      "Gap down 1d S(1d) ==> False\n",
      "Closes down 1d S(1d) ==> False\n",
      "Inside ==> False\n",
      "Outside ==> False\n",
      "Inside S(1d) ==> False\n",
      "Outside S(1d) ==> False\n",
      "Closes down 1pct 1d S(5d) ==> False\n",
      "Closes up open 1pct ==> False\n",
      "Closes down 3d ==> False\n",
      "Closes down 7d ==> False\n",
      "Closes in top 10pct 10d ==> False\n",
      "Closes up 0.25pct 1d ==> False\n",
      "Lowest range 10d ==> 0.0\n",
      "Lowest range 60d ==> 0.0\n",
      "Highest range 10d S(1d) ==> False\n",
      "Opens down low 1d ==> False\n",
      "Closes up high 1d ==> False\n",
      "Falls 1.5X ATR 20d S(1d) ==> False\n",
      "Worst 1d decline 10d ==> False\n",
      "Closes bottom 25pct in a row 4d ==> False\n",
      "Closes up SMA5 in a row 10d ==> False\n",
      "Rally in 10d ==> False\n",
      "Rate of decline slowed in a row 2d ==> False\n",
      "Biggest decline 4d ==> False\n",
      "Lower HLC in a row 3d ==> False\n",
      "Closes down 1pct in a row 3d ==> False\n"
     ]
    }
   ],
   "source": [
    "for c in data.columns:\n",
    "    print(c, '==>', data[c].iloc[0])"
   ]
  },
  {
   "cell_type": "code",
   "execution_count": 148,
   "metadata": {},
   "outputs": [
    {
     "data": {
      "text/html": [
       "<div>\n",
       "<style scoped>\n",
       "    .dataframe tbody tr th:only-of-type {\n",
       "        vertical-align: middle;\n",
       "    }\n",
       "\n",
       "    .dataframe tbody tr th {\n",
       "        vertical-align: top;\n",
       "    }\n",
       "\n",
       "    .dataframe thead th {\n",
       "        text-align: right;\n",
       "    }\n",
       "</style>\n",
       "<table border=\"1\" class=\"dataframe\">\n",
       "  <thead>\n",
       "    <tr style=\"text-align: right;\">\n",
       "      <th></th>\n",
       "      <th>Weekday</th>\n",
       "      <th>Month</th>\n",
       "      <th>Last trading day of month</th>\n",
       "      <th>First trading day of month</th>\n",
       "      <th>End of Quarter</th>\n",
       "      <th>Closes down 1d</th>\n",
       "      <th>Closes up in a row 2d</th>\n",
       "      <th>Closes up in a row 3d</th>\n",
       "      <th>Closes up in a row 4d</th>\n",
       "      <th>Closes up in a row 5d</th>\n",
       "      <th>...</th>\n",
       "      <th>Closes up high 1d</th>\n",
       "      <th>Falls 1.5X ATR 20d S(1d)</th>\n",
       "      <th>Worst 1d decline 10d</th>\n",
       "      <th>Closes bottom 25pct in a row 4d</th>\n",
       "      <th>Closes up SMA5 in a row 10d</th>\n",
       "      <th>Rally in 10d</th>\n",
       "      <th>Rate of decline slowed in a row 2d</th>\n",
       "      <th>Biggest decline 4d</th>\n",
       "      <th>Lower HLC in a row 3d</th>\n",
       "      <th>Closes down 1pct in a row 3d</th>\n",
       "    </tr>\n",
       "    <tr>\n",
       "      <th>Date</th>\n",
       "      <th></th>\n",
       "      <th></th>\n",
       "      <th></th>\n",
       "      <th></th>\n",
       "      <th></th>\n",
       "      <th></th>\n",
       "      <th></th>\n",
       "      <th></th>\n",
       "      <th></th>\n",
       "      <th></th>\n",
       "      <th></th>\n",
       "      <th></th>\n",
       "      <th></th>\n",
       "      <th></th>\n",
       "      <th></th>\n",
       "      <th></th>\n",
       "      <th></th>\n",
       "      <th></th>\n",
       "      <th></th>\n",
       "      <th></th>\n",
       "      <th></th>\n",
       "    </tr>\n",
       "  </thead>\n",
       "  <tbody>\n",
       "  </tbody>\n",
       "</table>\n",
       "<p>0 rows × 128 columns</p>\n",
       "</div>"
      ],
      "text/plain": [
       "Empty DataFrame\n",
       "Columns: [Weekday, Month, Last trading day of month, First trading day of month, End of Quarter, Closes down 1d, Closes up in a row 2d, Closes up in a row 3d, Closes up in a row 4d, Closes up in a row 5d, Closes up in a row 5d S(1d), Closes down in a row 2d, Closes down in a row 3d, Closes down in a row 4d, Closes down in a row 5d, Day, Daily return, Lowest volume 5d, Daily return 5d, OPEX week, Tomorrow is OPEX Friday, Today is OPEX Friday, Before OPEX week, Highest closing price of the month, Daily return S(1d), First trading day of month S(1d), Thursday before Labor Day, Friday before Labor Day, Friday before Columbus Day, Thursday before Pres Day, Closes high 4d, Closes low 5d, Closes low 5d S(1d), Closes low 5d U(10d), Closes high 5d, Closes high 7d S(1d), Closes low 7d, Closes low 8d, Intraday high 10d, Closes high 10d, Closes low 10d, Closes high 10d S(1d), Closes low 10d U(5d), Intraday low 10d S(1d), Closes low 10d S(1d), Closes up low 10d, Closes up low 20d, Intraday low 20d, Intraday high 20d, Closes low 20d S(1d), Closes low 20d S(2d), Highest close 20d, Highest close 20d S(1d), Intraday low 20d S(1d), Closes high 20d, Closes low 50d, Closes high 50d, Closes low 50d S(1d), Closes low 50d S(4d), Closes high 50d U(10d), Closes high 50d S(1d), Closes high 50d S(2d), Closes high 50d S(3d), Closes high 50d S(5d), Intraday high 50d, Closes up SMA 200, Closes up SMA 10, Closes up SMA 10 S(1d), Crosses down SMA 50, RSI 2d closes down 2, RSI 2d closes up 85, RSI 2d closes up 90, RSI 2d crosses over 99, RSI 2d crosses down 5 S(1d), ADX 14d closes up 20, Closes up 2pct 3d, Closes up 2pct 1d, Closes range down 1pct 1d, Closes down 1.75pct 1d S(1d), Closes up 5d, Closes up 20d, Bullish, Unfulfilled gap up, Unfulfilled gap down, Gap down 1d, Gap up 1pct 1d, Closes top 10pct, Closes top 15pct, Closes top 25pct, Closes bottom 10pct, Closes bottom 15pct, Closes bottom 25pct, Gap down in a row 5d, Higher high 1d, Lower low 1d, Higher high S(1d), Lower low S(1d), Unfulfilled gap up S(1d), Unfulfilled gap down S(1d), Unfulfilled gap up in a row 3d, ...]\n",
       "Index: []\n",
       "\n",
       "[0 rows x 128 columns]"
      ]
     },
     "execution_count": 148,
     "metadata": {},
     "output_type": "execute_result"
    }
   ],
   "source": [
    "data[data.isna().any(axis=1)]"
   ]
  },
  {
   "cell_type": "code",
   "execution_count": 149,
   "metadata": {},
   "outputs": [],
   "source": [
    "data.to_csv('SPY_all_features.csv')"
   ]
  },
  {
   "cell_type": "code",
   "execution_count": null,
   "metadata": {},
   "outputs": [],
   "source": []
  }
 ],
 "metadata": {
  "kernelspec": {
   "display_name": "Python 3",
   "language": "python",
   "name": "python3"
  },
  "language_info": {
   "codemirror_mode": {
    "name": "ipython",
    "version": 3
   },
   "file_extension": ".py",
   "mimetype": "text/x-python",
   "name": "python",
   "nbconvert_exporter": "python",
   "pygments_lexer": "ipython3",
   "version": "3.6.3"
  }
 },
 "nbformat": 4,
 "nbformat_minor": 2
}
