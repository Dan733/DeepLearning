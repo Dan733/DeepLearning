{
 "cells": [
  {
   "cell_type": "code",
   "execution_count": 11,
   "metadata": {},
   "outputs": [],
   "source": [
    "import numpy as np\n",
    "import pandas as pd\n",
    "from datetime import datetime\n",
    "import seaborn as sns\n",
    "import matplotlib.pyplot as plt\n",
    "import pandas_datareader as pdr\n",
    "%matplotlib inline"
   ]
  },
  {
   "cell_type": "code",
   "execution_count": 12,
   "metadata": {},
   "outputs": [],
   "source": [
    "tickers = pd.read_csv('NASDAQ100_short.csv', parse_dates=['from', 'to'])"
   ]
  },
  {
   "cell_type": "code",
   "execution_count": 13,
   "metadata": {},
   "outputs": [
    {
     "data": {
      "text/html": [
       "<div>\n",
       "<style scoped>\n",
       "    .dataframe tbody tr th:only-of-type {\n",
       "        vertical-align: middle;\n",
       "    }\n",
       "\n",
       "    .dataframe tbody tr th {\n",
       "        vertical-align: top;\n",
       "    }\n",
       "\n",
       "    .dataframe thead th {\n",
       "        text-align: right;\n",
       "    }\n",
       "</style>\n",
       "<table border=\"1\" class=\"dataframe\">\n",
       "  <thead>\n",
       "    <tr style=\"text-align: right;\">\n",
       "      <th></th>\n",
       "      <th>ticker</th>\n",
       "      <th>from</th>\n",
       "      <th>to</th>\n",
       "    </tr>\n",
       "  </thead>\n",
       "  <tbody>\n",
       "    <tr>\n",
       "      <th>0</th>\n",
       "      <td>AAL</td>\n",
       "      <td>2014-12-22</td>\n",
       "      <td>NaT</td>\n",
       "    </tr>\n",
       "    <tr>\n",
       "      <th>1</th>\n",
       "      <td>ADCT</td>\n",
       "      <td>NaT</td>\n",
       "      <td>2003-12-22</td>\n",
       "    </tr>\n",
       "    <tr>\n",
       "      <th>2</th>\n",
       "      <td>ADBE</td>\n",
       "      <td>NaT</td>\n",
       "      <td>NaT</td>\n",
       "    </tr>\n",
       "    <tr>\n",
       "      <th>3</th>\n",
       "      <td>VMED</td>\n",
       "      <td>1998-12-21</td>\n",
       "      <td>2000-10-27</td>\n",
       "    </tr>\n",
       "    <tr>\n",
       "      <th>4</th>\n",
       "      <td>VMED</td>\n",
       "      <td>2004-12-20</td>\n",
       "      <td>2008-12-22</td>\n",
       "    </tr>\n",
       "    <tr>\n",
       "      <th>5</th>\n",
       "      <td>VMED</td>\n",
       "      <td>2009-12-21</td>\n",
       "      <td>2013-06-05</td>\n",
       "    </tr>\n",
       "  </tbody>\n",
       "</table>\n",
       "</div>"
      ],
      "text/plain": [
       "  ticker       from         to\n",
       "0    AAL 2014-12-22        NaT\n",
       "1   ADCT        NaT 2003-12-22\n",
       "2   ADBE        NaT        NaT\n",
       "3   VMED 1998-12-21 2000-10-27\n",
       "4   VMED 2004-12-20 2008-12-22\n",
       "5   VMED 2009-12-21 2013-06-05"
      ]
     },
     "execution_count": 13,
     "metadata": {},
     "output_type": "execute_result"
    }
   ],
   "source": [
    "tickers"
   ]
  },
  {
   "cell_type": "code",
   "execution_count": 14,
   "metadata": {},
   "outputs": [],
   "source": [
    "start_date = datetime(1990,1,1)\n",
    "end_date = datetime(2017,12,1)\n",
    "\n",
    "collected_dfs = {}\n",
    "\n",
    "def is_nat(dt):\n",
    "    return type(dt) == pd._libs.tslib.NaTType\n",
    "\n",
    "def download(row):\n",
    "    from_date = start_date if is_nat(row['from']) else row['from'].to_pydatetime()\n",
    "    to_date = end_date if is_nat(row['to']) else row['to'].to_pydatetime()\n",
    "    ticker = row.ticker\n",
    "    tup = (ticker, from_date, to_date)\n",
    "    \n",
    "    print('Download', *tup)\n",
    "    try:\n",
    "        data = pdr.get_data_yahoo(ticker, from_date, to_date)\n",
    "        data.drop(['Volume', 'Adj Close'], axis=1, inplace=True)\n",
    "        collected_dfs[tup] = data\n",
    "    except Exception as e:\n",
    "        print(e)"
   ]
  },
  {
   "cell_type": "code",
   "execution_count": 15,
   "metadata": {},
   "outputs": [
    {
     "name": "stdout",
     "output_type": "stream",
     "text": [
      "Download AAL 2014-12-22 00:00:00 2017-12-01 00:00:00\n",
      "Unable to read URL: https://query1.finance.yahoo.com/v7/finance/download/AAL?period1=1419202800&period2=1512169199&interval=1d&events=history&crumb=HptM37%5Cu002FIX.f\n",
      "Download ADCT 1990-01-01 00:00:00 2003-12-22 00:00:00\n",
      "Unable to read URL: https://query1.finance.yahoo.com/v7/finance/download/ADCT?period1=631148400&period2=1072133999&interval=1d&events=history&crumb=cWjk6m7E8L8\n",
      "Download ADBE 1990-01-01 00:00:00 2017-12-01 00:00:00\n",
      "Download VMED 1998-12-21 00:00:00 2000-10-27 00:00:00\n",
      "Unable to read URL: https://query1.finance.yahoo.com/v7/finance/download/VMED?period1=914194800&period2=972683999&interval=1d&events=history&crumb=EVPCYX1pzmU\n",
      "Download VMED 2004-12-20 00:00:00 2008-12-22 00:00:00\n",
      "Download VMED 2009-12-21 00:00:00 2013-06-05 00:00:00\n"
     ]
    },
    {
     "data": {
      "text/plain": [
       "0    None\n",
       "1    None\n",
       "2    None\n",
       "3    None\n",
       "4    None\n",
       "5    None\n",
       "dtype: object"
      ]
     },
     "execution_count": 15,
     "metadata": {},
     "output_type": "execute_result"
    }
   ],
   "source": [
    "tickers.apply(download, axis=1)"
   ]
  },
  {
   "cell_type": "code",
   "execution_count": 16,
   "metadata": {},
   "outputs": [
    {
     "data": {
      "text/plain": [
       "dict_keys([('ADBE', datetime.datetime(1990, 1, 1, 0, 0), datetime.datetime(2017, 12, 1, 0, 0)), ('VMED', datetime.datetime(2004, 12, 20, 0, 0), datetime.datetime(2008, 12, 22, 0, 0)), ('VMED', datetime.datetime(2009, 12, 21, 0, 0), datetime.datetime(2013, 6, 5, 0, 0))])"
      ]
     },
     "execution_count": 16,
     "metadata": {},
     "output_type": "execute_result"
    }
   ],
   "source": [
    "collected_dfs.keys()"
   ]
  },
  {
   "cell_type": "code",
   "execution_count": 20,
   "metadata": {},
   "outputs": [
    {
     "data": {
      "text/plain": [
       "array(['AAL', 'ADCT', 'ADBE', 'VMED'], dtype=object)"
      ]
     },
     "execution_count": 20,
     "metadata": {},
     "output_type": "execute_result"
    }
   ],
   "source": [
    "tickers.ticker.unique()"
   ]
  },
  {
   "cell_type": "code",
   "execution_count": 19,
   "metadata": {},
   "outputs": [
    {
     "name": "stdout",
     "output_type": "stream",
     "text": [
      "0\n",
      "0\n",
      "1\n",
      "2\n"
     ]
    }
   ],
   "source": [
    "for tick in tickers.ticker.unique():\n",
    "    all_data = list(filter(lambda item: item[0][0] == tick, collected_dfs.items()))\n",
    "    print(len(all_data))"
   ]
  },
  {
   "cell_type": "code",
   "execution_count": null,
   "metadata": {},
   "outputs": [],
   "source": []
  }
 ],
 "metadata": {
  "kernelspec": {
   "display_name": "Python 3",
   "language": "python",
   "name": "python3"
  },
  "language_info": {
   "codemirror_mode": {
    "name": "ipython",
    "version": 3
   },
   "file_extension": ".py",
   "mimetype": "text/x-python",
   "name": "python",
   "nbconvert_exporter": "python",
   "pygments_lexer": "ipython3",
   "version": "3.6.3"
  }
 },
 "nbformat": 4,
 "nbformat_minor": 2
}
