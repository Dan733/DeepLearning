{
 "cells": [
  {
   "cell_type": "code",
   "execution_count": 1,
   "metadata": {},
   "outputs": [],
   "source": [
    "import numpy as np\n",
    "import pandas as pd\n",
    "from datetime import datetime\n",
    "import seaborn as sns\n",
    "import matplotlib.pyplot as plt\n",
    "import pandas_datareader as pdr\n",
    "import os\n",
    "import talib as tl\n",
    "from sklearn.preprocessing import LabelBinarizer, StandardScaler\n",
    "from sklearn_pandas import DataFrameMapper\n",
    "%matplotlib inline"
   ]
  },
  {
   "cell_type": "code",
   "execution_count": 2,
   "metadata": {},
   "outputs": [],
   "source": [
    "def fills(df):\n",
    "    df.fillna(method='ffill', inplace=True)\n",
    "    df.fillna(method='bfill', inplace=True)\n",
    "    return df"
   ]
  },
  {
   "cell_type": "code",
   "execution_count": 3,
   "metadata": {},
   "outputs": [],
   "source": [
    "aapl = fills(pdr.get_data_google('MSFT', '2000-01-01', '2018-01-01'))\n",
    "spy = fills(pdr.get_data_google('SPY', '2000-01-01', '2018-01-01'))"
   ]
  },
  {
   "cell_type": "code",
   "execution_count": 4,
   "metadata": {},
   "outputs": [],
   "source": [
    "oopen = aapl['Open'].values\n",
    "high = aapl['High'].values\n",
    "low = aapl['Low'].values\n",
    "close = aapl['Close'].values"
   ]
  },
  {
   "cell_type": "code",
   "execution_count": 5,
   "metadata": {},
   "outputs": [],
   "source": [
    "runup252 = aapl['Close'].pct_change(252)\n",
    "aapl['Run Up 252'] = runup252"
   ]
  },
  {
   "cell_type": "code",
   "execution_count": 6,
   "metadata": {},
   "outputs": [],
   "source": [
    "beta63 = tl.BETA(close, spy['Close'].values, timeperiod=63)\n",
    "aapl['Beta 63'] = beta63"
   ]
  },
  {
   "cell_type": "code",
   "execution_count": 7,
   "metadata": {},
   "outputs": [],
   "source": [
    "ema100 = tl.EMA(close, timeperiod=100)\n",
    "aapl['EMA 100'] = ema100\n",
    "aapl['EMA 100'] = aapl['EMA 100'].pct_change()"
   ]
  },
  {
   "cell_type": "code",
   "execution_count": 8,
   "metadata": {},
   "outputs": [],
   "source": [
    "sma100 = tl.SMA(close, timeperiod=100)\n",
    "aapl['SMA 100'] = sma100\n",
    "aapl['SMA 100'] = aapl['SMA 100'].pct_change()"
   ]
  },
  {
   "cell_type": "code",
   "execution_count": 9,
   "metadata": {},
   "outputs": [],
   "source": [
    "sma_mom100 = aapl['SMA 100'] - aapl['SMA 100'].shift(1)\n",
    "aapl['SMA MOM 100'] = sma_mom100"
   ]
  },
  {
   "cell_type": "code",
   "execution_count": 10,
   "metadata": {},
   "outputs": [],
   "source": [
    "sp500_sma100 = tl.SMA(spy['Close'].values, timeperiod=100)\n",
    "aapl['SP500 SMA 100'] = sp500_sma100\n",
    "aapl['SP500 SMA 100'] = aapl['SP500 SMA 100'].pct_change()"
   ]
  },
  {
   "cell_type": "code",
   "execution_count": 11,
   "metadata": {},
   "outputs": [],
   "source": [
    "sp500vola = tl.ATR(spy['High'].values, spy['Low'].values, spy['Close'].values, timeperiod=63)\n",
    "aapl['SP500 Vola 63'] = sp500vola"
   ]
  },
  {
   "cell_type": "code",
   "execution_count": 12,
   "metadata": {},
   "outputs": [],
   "source": [
    "sharpe_days = 63\n",
    "daily_ret = aapl['Close'].pct_change()\n",
    "sharpe63 = np.sqrt(sharpe_days)*(daily_ret.rolling(sharpe_days).mean()/daily_ret.rolling(sharpe_days).std())\n",
    "aapl['Sharpe 63'] = sharpe63"
   ]
  },
  {
   "cell_type": "code",
   "execution_count": 13,
   "metadata": {},
   "outputs": [],
   "source": [
    "vola63 = tl.ATR(high, low, close, timeperiod=63)\n",
    "aapl['Vola 63'] = vola63"
   ]
  },
  {
   "cell_type": "code",
   "execution_count": 14,
   "metadata": {},
   "outputs": [],
   "source": [
    "return_days = 2\n",
    "ret = 100*aapl['Close'].pct_change(return_days).shift(-return_days)\n",
    "aapl[str(return_days) + ' days future return'] = ret"
   ]
  },
  {
   "cell_type": "code",
   "execution_count": 15,
   "metadata": {},
   "outputs": [],
   "source": [
    "aapl['Weekday'] = aapl.index.dayofweek.map(lambda x: {0: 'Mon', 1: 'Tue', 2: 'Wed', 3: 'Thu', 4: 'Fri'}.get(x))"
   ]
  },
  {
   "cell_type": "code",
   "execution_count": 16,
   "metadata": {},
   "outputs": [
    {
     "data": {
      "text/plain": [
       "Date\n",
       "2002-02-11    Neutral\n",
       "2002-02-12        Pos\n",
       "2002-02-13        Neg\n",
       "2002-02-14        Neg\n",
       "2002-02-15    Neutral\n",
       "Name: Return class, dtype: object"
      ]
     },
     "execution_count": 16,
     "metadata": {},
     "output_type": "execute_result"
    }
   ],
   "source": [
    "def to_class(val, extreme):\n",
    "    if val < -extreme:\n",
    "        return 'Neg'\n",
    "    elif val > extreme:\n",
    "        return 'Pos'\n",
    "    else:\n",
    "        return 'Neutral'\n",
    "aapl['Return class'] = aapl[str(return_days) + ' days future return'].apply(lambda val: to_class(val, 2))\n",
    "aapl['Return class'].head()"
   ]
  },
  {
   "cell_type": "code",
   "execution_count": 17,
   "metadata": {},
   "outputs": [
    {
     "data": {
      "text/html": [
       "<div>\n",
       "<style scoped>\n",
       "    .dataframe tbody tr th:only-of-type {\n",
       "        vertical-align: middle;\n",
       "    }\n",
       "\n",
       "    .dataframe tbody tr th {\n",
       "        vertical-align: top;\n",
       "    }\n",
       "\n",
       "    .dataframe thead th {\n",
       "        text-align: right;\n",
       "    }\n",
       "</style>\n",
       "<table border=\"1\" class=\"dataframe\">\n",
       "  <thead>\n",
       "    <tr style=\"text-align: right;\">\n",
       "      <th></th>\n",
       "      <th>Open</th>\n",
       "      <th>High</th>\n",
       "      <th>Low</th>\n",
       "      <th>Close</th>\n",
       "      <th>Volume</th>\n",
       "      <th>Run Up 252</th>\n",
       "      <th>Beta 63</th>\n",
       "      <th>EMA 100</th>\n",
       "      <th>SMA 100</th>\n",
       "      <th>SMA MOM 100</th>\n",
       "      <th>SP500 SMA 100</th>\n",
       "      <th>SP500 Vola 63</th>\n",
       "      <th>Sharpe 63</th>\n",
       "      <th>Vola 63</th>\n",
       "      <th>2 days future return</th>\n",
       "      <th>Weekday</th>\n",
       "      <th>Return class</th>\n",
       "    </tr>\n",
       "    <tr>\n",
       "      <th>Date</th>\n",
       "      <th></th>\n",
       "      <th></th>\n",
       "      <th></th>\n",
       "      <th></th>\n",
       "      <th></th>\n",
       "      <th></th>\n",
       "      <th></th>\n",
       "      <th></th>\n",
       "      <th></th>\n",
       "      <th></th>\n",
       "      <th></th>\n",
       "      <th></th>\n",
       "      <th></th>\n",
       "      <th></th>\n",
       "      <th></th>\n",
       "      <th></th>\n",
       "      <th></th>\n",
       "    </tr>\n",
       "  </thead>\n",
       "  <tbody>\n",
       "    <tr>\n",
       "      <th>2017-12-21</th>\n",
       "      <td>86.05</td>\n",
       "      <td>86.10</td>\n",
       "      <td>85.40</td>\n",
       "      <td>85.50</td>\n",
       "      <td>17990745</td>\n",
       "      <td>0.345609</td>\n",
       "      <td>0.149057</td>\n",
       "      <td>0.001601</td>\n",
       "      <td>0.001653</td>\n",
       "      <td>0.000010</td>\n",
       "      <td>0.000797</td>\n",
       "      <td>1.454152</td>\n",
       "      <td>1.478645</td>\n",
       "      <td>1.111974</td>\n",
       "      <td>-0.116959</td>\n",
       "      <td>Thu</td>\n",
       "      <td>Neutral</td>\n",
       "    </tr>\n",
       "    <tr>\n",
       "      <th>2017-12-22</th>\n",
       "      <td>85.40</td>\n",
       "      <td>85.63</td>\n",
       "      <td>84.92</td>\n",
       "      <td>85.51</td>\n",
       "      <td>14145841</td>\n",
       "      <td>0.345555</td>\n",
       "      <td>0.148297</td>\n",
       "      <td>0.001570</td>\n",
       "      <td>0.001692</td>\n",
       "      <td>0.000039</td>\n",
       "      <td>0.000789</td>\n",
       "      <td>1.442816</td>\n",
       "      <td>1.667317</td>\n",
       "      <td>1.105593</td>\n",
       "      <td>0.233891</td>\n",
       "      <td>Fri</td>\n",
       "      <td>Neutral</td>\n",
       "    </tr>\n",
       "    <tr>\n",
       "      <th>2017-12-26</th>\n",
       "      <td>85.31</td>\n",
       "      <td>85.53</td>\n",
       "      <td>85.03</td>\n",
       "      <td>85.40</td>\n",
       "      <td>9891237</td>\n",
       "      <td>0.350411</td>\n",
       "      <td>0.149001</td>\n",
       "      <td>0.001509</td>\n",
       "      <td>0.001690</td>\n",
       "      <td>-0.000003</td>\n",
       "      <td>0.000795</td>\n",
       "      <td>1.429915</td>\n",
       "      <td>1.653098</td>\n",
       "      <td>1.095981</td>\n",
       "      <td>0.374707</td>\n",
       "      <td>Tue</td>\n",
       "      <td>Neutral</td>\n",
       "    </tr>\n",
       "    <tr>\n",
       "      <th>2017-12-27</th>\n",
       "      <td>85.65</td>\n",
       "      <td>85.98</td>\n",
       "      <td>85.22</td>\n",
       "      <td>85.71</td>\n",
       "      <td>14678025</td>\n",
       "      <td>0.354456</td>\n",
       "      <td>0.147672</td>\n",
       "      <td>0.001554</td>\n",
       "      <td>0.001659</td>\n",
       "      <td>-0.000031</td>\n",
       "      <td>0.000782</td>\n",
       "      <td>1.418646</td>\n",
       "      <td>1.609473</td>\n",
       "      <td>1.090648</td>\n",
       "      <td>-0.198343</td>\n",
       "      <td>Wed</td>\n",
       "      <td>Neutral</td>\n",
       "    </tr>\n",
       "    <tr>\n",
       "      <th>2017-12-28</th>\n",
       "      <td>85.90</td>\n",
       "      <td>85.93</td>\n",
       "      <td>85.55</td>\n",
       "      <td>85.72</td>\n",
       "      <td>10594344</td>\n",
       "      <td>0.360851</td>\n",
       "      <td>0.147436</td>\n",
       "      <td>0.001523</td>\n",
       "      <td>0.001693</td>\n",
       "      <td>0.000034</td>\n",
       "      <td>0.000785</td>\n",
       "      <td>1.405652</td>\n",
       "      <td>1.607795</td>\n",
       "      <td>1.079368</td>\n",
       "      <td>NaN</td>\n",
       "      <td>Thu</td>\n",
       "      <td>Neutral</td>\n",
       "    </tr>\n",
       "    <tr>\n",
       "      <th>2017-12-29</th>\n",
       "      <td>85.63</td>\n",
       "      <td>86.05</td>\n",
       "      <td>85.50</td>\n",
       "      <td>85.54</td>\n",
       "      <td>18717406</td>\n",
       "      <td>0.359936</td>\n",
       "      <td>0.148413</td>\n",
       "      <td>0.001446</td>\n",
       "      <td>0.001618</td>\n",
       "      <td>-0.000075</td>\n",
       "      <td>0.000768</td>\n",
       "      <td>1.413657</td>\n",
       "      <td>1.499192</td>\n",
       "      <td>1.070965</td>\n",
       "      <td>NaN</td>\n",
       "      <td>Fri</td>\n",
       "      <td>Neutral</td>\n",
       "    </tr>\n",
       "  </tbody>\n",
       "</table>\n",
       "</div>"
      ],
      "text/plain": [
       "             Open   High    Low  Close    Volume  Run Up 252   Beta 63  \\\n",
       "Date                                                                     \n",
       "2017-12-21  86.05  86.10  85.40  85.50  17990745    0.345609  0.149057   \n",
       "2017-12-22  85.40  85.63  84.92  85.51  14145841    0.345555  0.148297   \n",
       "2017-12-26  85.31  85.53  85.03  85.40   9891237    0.350411  0.149001   \n",
       "2017-12-27  85.65  85.98  85.22  85.71  14678025    0.354456  0.147672   \n",
       "2017-12-28  85.90  85.93  85.55  85.72  10594344    0.360851  0.147436   \n",
       "2017-12-29  85.63  86.05  85.50  85.54  18717406    0.359936  0.148413   \n",
       "\n",
       "             EMA 100   SMA 100  SMA MOM 100  SP500 SMA 100  SP500 Vola 63  \\\n",
       "Date                                                                        \n",
       "2017-12-21  0.001601  0.001653     0.000010       0.000797       1.454152   \n",
       "2017-12-22  0.001570  0.001692     0.000039       0.000789       1.442816   \n",
       "2017-12-26  0.001509  0.001690    -0.000003       0.000795       1.429915   \n",
       "2017-12-27  0.001554  0.001659    -0.000031       0.000782       1.418646   \n",
       "2017-12-28  0.001523  0.001693     0.000034       0.000785       1.405652   \n",
       "2017-12-29  0.001446  0.001618    -0.000075       0.000768       1.413657   \n",
       "\n",
       "            Sharpe 63   Vola 63  2 days future return Weekday Return class  \n",
       "Date                                                                        \n",
       "2017-12-21   1.478645  1.111974             -0.116959     Thu      Neutral  \n",
       "2017-12-22   1.667317  1.105593              0.233891     Fri      Neutral  \n",
       "2017-12-26   1.653098  1.095981              0.374707     Tue      Neutral  \n",
       "2017-12-27   1.609473  1.090648             -0.198343     Wed      Neutral  \n",
       "2017-12-28   1.607795  1.079368                   NaN     Thu      Neutral  \n",
       "2017-12-29   1.499192  1.070965                   NaN     Fri      Neutral  "
      ]
     },
     "execution_count": 17,
     "metadata": {},
     "output_type": "execute_result"
    }
   ],
   "source": [
    "aapl.tail(6)"
   ]
  },
  {
   "cell_type": "code",
   "execution_count": 18,
   "metadata": {},
   "outputs": [],
   "source": [
    "aapl.drop(['Open', 'High', 'Low', 'Close', 'Volume', str(return_days) + ' days future return'], axis=1, inplace=True)\n",
    "aapl.dropna(inplace=True)"
   ]
  },
  {
   "cell_type": "markdown",
   "metadata": {},
   "source": [
    "### Resample umbalanced data and Train-test split"
   ]
  },
  {
   "cell_type": "code",
   "execution_count": 19,
   "metadata": {},
   "outputs": [],
   "source": [
    "from sklearn.model_selection import train_test_split\n",
    "from sklearn.utils import resample"
   ]
  },
  {
   "cell_type": "code",
   "execution_count": 20,
   "metadata": {},
   "outputs": [],
   "source": [
    "train_index = int(len(aapl) * 0.75)\n",
    "aapl_train = aapl.iloc[:train_index]\n",
    "aapl_test = aapl.iloc[train_index:]"
   ]
  },
  {
   "cell_type": "code",
   "execution_count": 21,
   "metadata": {},
   "outputs": [
    {
     "data": {
      "text/plain": [
       "Pos        2166\n",
       "Neutral    2017\n",
       "Neg        1868\n",
       "Name: Return class, dtype: int64"
      ]
     },
     "execution_count": 21,
     "metadata": {},
     "output_type": "execute_result"
    }
   ],
   "source": [
    "df_majority = aapl_train[aapl_train['Return class']=='Neutral']\n",
    "df_minority = aapl_train[aapl_train['Return class']!='Neutral']\n",
    "\n",
    "df_minority_upsampled = resample(df_minority, \n",
    "                                 replace=True,\n",
    "                                 n_samples=len(df_majority)*2)\n",
    "\n",
    "aapl_train = pd.concat([df_majority, df_minority_upsampled])\n",
    " \n",
    "aapl_train['Return class'].value_counts()"
   ]
  },
  {
   "cell_type": "code",
   "execution_count": 22,
   "metadata": {},
   "outputs": [],
   "source": [
    "X_train = aapl_train.drop('Return class', axis=1)\n",
    "X_test = aapl_test.drop('Return class', axis=1)\n",
    "y_train = aapl_train['Return class']\n",
    "y_test = aapl_test['Return class']"
   ]
  },
  {
   "cell_type": "code",
   "execution_count": 23,
   "metadata": {},
   "outputs": [],
   "source": [
    "trafos = [([col], StandardScaler()) for col in aapl.columns[:-2].tolist()]\n",
    "trafos = [('Weekday', LabelBinarizer())] + trafos\n",
    "#trafos += [('Return class', LabelBinarizer())]"
   ]
  },
  {
   "cell_type": "code",
   "execution_count": 24,
   "metadata": {},
   "outputs": [
    {
     "data": {
      "text/plain": [
       "[('Weekday', LabelBinarizer(neg_label=0, pos_label=1, sparse_output=False)),\n",
       " (['Run Up 252'], StandardScaler(copy=True, with_mean=True, with_std=True)),\n",
       " (['Beta 63'], StandardScaler(copy=True, with_mean=True, with_std=True)),\n",
       " (['EMA 100'], StandardScaler(copy=True, with_mean=True, with_std=True)),\n",
       " (['SMA 100'], StandardScaler(copy=True, with_mean=True, with_std=True)),\n",
       " (['SMA MOM 100'], StandardScaler(copy=True, with_mean=True, with_std=True)),\n",
       " (['SP500 SMA 100'], StandardScaler(copy=True, with_mean=True, with_std=True)),\n",
       " (['SP500 Vola 63'], StandardScaler(copy=True, with_mean=True, with_std=True)),\n",
       " (['Sharpe 63'], StandardScaler(copy=True, with_mean=True, with_std=True)),\n",
       " (['Vola 63'], StandardScaler(copy=True, with_mean=True, with_std=True))]"
      ]
     },
     "execution_count": 24,
     "metadata": {},
     "output_type": "execute_result"
    }
   ],
   "source": [
    "trafos"
   ]
  },
  {
   "cell_type": "code",
   "execution_count": 25,
   "metadata": {},
   "outputs": [],
   "source": [
    "mapper = DataFrameMapper(trafos, df_out=True, default=None)"
   ]
  },
  {
   "cell_type": "code",
   "execution_count": 26,
   "metadata": {},
   "outputs": [
    {
     "data": {
      "text/html": [
       "<div>\n",
       "<style scoped>\n",
       "    .dataframe tbody tr th:only-of-type {\n",
       "        vertical-align: middle;\n",
       "    }\n",
       "\n",
       "    .dataframe tbody tr th {\n",
       "        vertical-align: top;\n",
       "    }\n",
       "\n",
       "    .dataframe thead th {\n",
       "        text-align: right;\n",
       "    }\n",
       "</style>\n",
       "<table border=\"1\" class=\"dataframe\">\n",
       "  <thead>\n",
       "    <tr style=\"text-align: right;\">\n",
       "      <th></th>\n",
       "      <th>Weekday_Fri</th>\n",
       "      <th>Weekday_Mon</th>\n",
       "      <th>Weekday_Thu</th>\n",
       "      <th>Weekday_Tue</th>\n",
       "      <th>Weekday_Wed</th>\n",
       "      <th>Run Up 252</th>\n",
       "      <th>Beta 63</th>\n",
       "      <th>EMA 100</th>\n",
       "      <th>SMA 100</th>\n",
       "      <th>SMA MOM 100</th>\n",
       "      <th>SP500 SMA 100</th>\n",
       "      <th>SP500 Vola 63</th>\n",
       "      <th>Sharpe 63</th>\n",
       "      <th>Vola 63</th>\n",
       "    </tr>\n",
       "    <tr>\n",
       "      <th>Date</th>\n",
       "      <th></th>\n",
       "      <th></th>\n",
       "      <th></th>\n",
       "      <th></th>\n",
       "      <th></th>\n",
       "      <th></th>\n",
       "      <th></th>\n",
       "      <th></th>\n",
       "      <th></th>\n",
       "      <th></th>\n",
       "      <th></th>\n",
       "      <th></th>\n",
       "      <th></th>\n",
       "      <th></th>\n",
       "    </tr>\n",
       "  </thead>\n",
       "  <tbody>\n",
       "    <tr>\n",
       "      <th>2003-02-11</th>\n",
       "      <td>0.0</td>\n",
       "      <td>0.0</td>\n",
       "      <td>0.0</td>\n",
       "      <td>1.0</td>\n",
       "      <td>0.0</td>\n",
       "      <td>-1.273883</td>\n",
       "      <td>0.018267</td>\n",
       "      <td>-1.418923</td>\n",
       "      <td>-0.154516</td>\n",
       "      <td>-1.007615</td>\n",
       "      <td>-0.366097</td>\n",
       "      <td>0.211442</td>\n",
       "      <td>-1.206863</td>\n",
       "      <td>1.421160</td>\n",
       "    </tr>\n",
       "    <tr>\n",
       "      <th>2003-02-14</th>\n",
       "      <td>1.0</td>\n",
       "      <td>0.0</td>\n",
       "      <td>0.0</td>\n",
       "      <td>0.0</td>\n",
       "      <td>0.0</td>\n",
       "      <td>-1.157065</td>\n",
       "      <td>-0.031931</td>\n",
       "      <td>-0.872746</td>\n",
       "      <td>0.403333</td>\n",
       "      <td>2.529142</td>\n",
       "      <td>-0.209891</td>\n",
       "      <td>0.190803</td>\n",
       "      <td>-0.971810</td>\n",
       "      <td>1.346634</td>\n",
       "    </tr>\n",
       "    <tr>\n",
       "      <th>2003-02-19</th>\n",
       "      <td>0.0</td>\n",
       "      <td>0.0</td>\n",
       "      <td>0.0</td>\n",
       "      <td>0.0</td>\n",
       "      <td>1.0</td>\n",
       "      <td>-0.917909</td>\n",
       "      <td>0.062387</td>\n",
       "      <td>-0.653704</td>\n",
       "      <td>0.336642</td>\n",
       "      <td>-1.209367</td>\n",
       "      <td>0.247836</td>\n",
       "      <td>0.186420</td>\n",
       "      <td>-1.015805</td>\n",
       "      <td>1.337405</td>\n",
       "    </tr>\n",
       "    <tr>\n",
       "      <th>2003-02-20</th>\n",
       "      <td>0.0</td>\n",
       "      <td>0.0</td>\n",
       "      <td>1.0</td>\n",
       "      <td>0.0</td>\n",
       "      <td>0.0</td>\n",
       "      <td>-1.049975</td>\n",
       "      <td>0.091262</td>\n",
       "      <td>-0.834976</td>\n",
       "      <td>0.280542</td>\n",
       "      <td>-0.306672</td>\n",
       "      <td>0.033558</td>\n",
       "      <td>0.170051</td>\n",
       "      <td>-1.019991</td>\n",
       "      <td>1.328931</td>\n",
       "    </tr>\n",
       "    <tr>\n",
       "      <th>2003-02-21</th>\n",
       "      <td>1.0</td>\n",
       "      <td>0.0</td>\n",
       "      <td>0.0</td>\n",
       "      <td>0.0</td>\n",
       "      <td>0.0</td>\n",
       "      <td>-0.849336</td>\n",
       "      <td>0.031963</td>\n",
       "      <td>-0.583883</td>\n",
       "      <td>0.519364</td>\n",
       "      <td>1.351166</td>\n",
       "      <td>-0.158237</td>\n",
       "      <td>0.159572</td>\n",
       "      <td>-0.772474</td>\n",
       "      <td>1.349826</td>\n",
       "    </tr>\n",
       "  </tbody>\n",
       "</table>\n",
       "</div>"
      ],
      "text/plain": [
       "            Weekday_Fri  Weekday_Mon  Weekday_Thu  Weekday_Tue  Weekday_Wed  \\\n",
       "Date                                                                          \n",
       "2003-02-11          0.0          0.0          0.0          1.0          0.0   \n",
       "2003-02-14          1.0          0.0          0.0          0.0          0.0   \n",
       "2003-02-19          0.0          0.0          0.0          0.0          1.0   \n",
       "2003-02-20          0.0          0.0          1.0          0.0          0.0   \n",
       "2003-02-21          1.0          0.0          0.0          0.0          0.0   \n",
       "\n",
       "            Run Up 252   Beta 63   EMA 100   SMA 100  SMA MOM 100  \\\n",
       "Date                                                                \n",
       "2003-02-11   -1.273883  0.018267 -1.418923 -0.154516    -1.007615   \n",
       "2003-02-14   -1.157065 -0.031931 -0.872746  0.403333     2.529142   \n",
       "2003-02-19   -0.917909  0.062387 -0.653704  0.336642    -1.209367   \n",
       "2003-02-20   -1.049975  0.091262 -0.834976  0.280542    -0.306672   \n",
       "2003-02-21   -0.849336  0.031963 -0.583883  0.519364     1.351166   \n",
       "\n",
       "            SP500 SMA 100  SP500 Vola 63  Sharpe 63   Vola 63  \n",
       "Date                                                           \n",
       "2003-02-11      -0.366097       0.211442  -1.206863  1.421160  \n",
       "2003-02-14      -0.209891       0.190803  -0.971810  1.346634  \n",
       "2003-02-19       0.247836       0.186420  -1.015805  1.337405  \n",
       "2003-02-20       0.033558       0.170051  -1.019991  1.328931  \n",
       "2003-02-21      -0.158237       0.159572  -0.772474  1.349826  "
      ]
     },
     "execution_count": 26,
     "metadata": {},
     "output_type": "execute_result"
    }
   ],
   "source": [
    "X_train = mapper.fit_transform(X_train)\n",
    "X_test = mapper.transform(X_test)\n",
    "X_train.head()"
   ]
  },
  {
   "cell_type": "markdown",
   "metadata": {},
   "source": [
    "# ML model"
   ]
  },
  {
   "cell_type": "code",
   "execution_count": 27,
   "metadata": {},
   "outputs": [
    {
     "name": "stderr",
     "output_type": "stream",
     "text": [
      "C:\\DEV\\Anaconda3\\envs\\trading\\lib\\site-packages\\sklearn\\cross_validation.py:41: DeprecationWarning: This module was deprecated in version 0.18 in favor of the model_selection module into which all the refactored classes and functions are moved. Also note that the interface of the new CV iterators are different from that of this module. This module will be removed in 0.20.\n",
      "  \"This module will be removed in 0.20.\", DeprecationWarning)\n",
      "C:\\DEV\\Anaconda3\\envs\\trading\\lib\\site-packages\\sklearn\\grid_search.py:42: DeprecationWarning: This module was deprecated in version 0.18 in favor of the model_selection module into which all the refactored classes and functions are moved. This module will be removed in 0.20.\n",
      "  DeprecationWarning)\n"
     ]
    }
   ],
   "source": [
    "from sklearn.neighbors import KNeighborsClassifier\n",
    "from sklearn.ensemble import RandomForestClassifier\n",
    "from sklearn.grid_search import GridSearchCV\n",
    "\n",
    "from sklearn.metrics import accuracy_score, classification_report, confusion_matrix"
   ]
  },
  {
   "cell_type": "code",
   "execution_count": 28,
   "metadata": {},
   "outputs": [],
   "source": [
    "def fit_and_print(grid):\n",
    "    grid.fit(X_train, y_train)\n",
    "    best_estimator = grid.best_estimator_\n",
    "    print('Best estimator:\\n', str(best_estimator))\n",
    "    \n",
    "    y_pred = best_estimator.predict(X_test)\n",
    "    print('Accuracy score:', str(accuracy_score(y_test, y_pred)))\n",
    "    print('Classification report\\n', classification_report(y_test, y_pred))\n",
    "    print('Confusion matrix\\n', str(confusion_matrix(y_test, y_pred)))"
   ]
  },
  {
   "cell_type": "markdown",
   "metadata": {},
   "source": [
    "### K nearest"
   ]
  },
  {
   "cell_type": "code",
   "execution_count": 29,
   "metadata": {},
   "outputs": [],
   "source": [
    "params = {'n_neighbors': np.arange(5,50,3),\n",
    "          'metric': ['euclidean', 'l2', 'manhattan', 'cityblock'],\n",
    "          'leaf_size': np.arange(5,40,5), \n",
    "          'algorithm' : ['auto']}\n",
    "grid = GridSearchCV(estimator=KNeighborsClassifier(n_jobs=4), param_grid=params, scoring='f1_weighted')"
   ]
  },
  {
   "cell_type": "code",
   "execution_count": 30,
   "metadata": {},
   "outputs": [],
   "source": [
    "# fit_and_print(grid)"
   ]
  },
  {
   "cell_type": "markdown",
   "metadata": {},
   "source": [
    "### Random Forest"
   ]
  },
  {
   "cell_type": "code",
   "execution_count": 31,
   "metadata": {},
   "outputs": [],
   "source": [
    "params = {'n_estimators': np.arange(40,60,5),\n",
    "          'max_features': np.arange(2,10),\n",
    "          'min_samples_split': [2],\n",
    "          'min_samples_leaf': [2]}\n",
    "grid = GridSearchCV(estimator=RandomForestClassifier(n_jobs=4), param_grid=params, scoring='f1_weighted')"
   ]
  },
  {
   "cell_type": "code",
   "execution_count": 32,
   "metadata": {},
   "outputs": [
    {
     "name": "stdout",
     "output_type": "stream",
     "text": [
      "Best estimator:\n",
      " RandomForestClassifier(bootstrap=True, class_weight=None, criterion='gini',\n",
      "            max_depth=None, max_features=2, max_leaf_nodes=None,\n",
      "            min_impurity_decrease=0.0, min_impurity_split=None,\n",
      "            min_samples_leaf=2, min_samples_split=2,\n",
      "            min_weight_fraction_leaf=0.0, n_estimators=55, n_jobs=4,\n",
      "            oob_score=False, random_state=None, verbose=0,\n",
      "            warm_start=False)\n",
      "Accuracy score: 0.553895410886\n",
      "Classification report\n",
      "              precision    recall  f1-score   support\n",
      "\n",
      "        Neg       0.09      0.45      0.14        65\n",
      "    Neutral       0.83      0.64      0.72       767\n",
      "        Pos       0.22      0.02      0.04       105\n",
      "\n",
      "avg / total       0.71      0.55      0.60       937\n",
      "\n",
      "Confusion matrix\n",
      " [[ 29  36   0]\n",
      " [272 488   7]\n",
      " [ 40  63   2]]\n"
     ]
    }
   ],
   "source": [
    "fit_and_print(grid)"
   ]
  },
  {
   "cell_type": "markdown",
   "metadata": {},
   "source": [
    "### Neural net"
   ]
  },
  {
   "cell_type": "code",
   "execution_count": 33,
   "metadata": {},
   "outputs": [],
   "source": [
    "from sklearn.neural_network import MLPClassifier"
   ]
  },
  {
   "cell_type": "code",
   "execution_count": 34,
   "metadata": {},
   "outputs": [],
   "source": [
    "params = {'alpha': [1e-5],\n",
    "          'hidden_layer_sizes': [(4,3), (5,3), (8,3), (10,8,3), (10, 5, 3)]}\n",
    "\n",
    "grid = GridSearchCV(estimator=MLPClassifier(max_iter=2000), param_grid=params, scoring='f1_weighted')"
   ]
  },
  {
   "cell_type": "code",
   "execution_count": 35,
   "metadata": {},
   "outputs": [
    {
     "name": "stdout",
     "output_type": "stream",
     "text": [
      "Best estimator:\n",
      " MLPClassifier(activation='relu', alpha=1e-05, batch_size='auto', beta_1=0.9,\n",
      "       beta_2=0.999, early_stopping=False, epsilon=1e-08,\n",
      "       hidden_layer_sizes=(10, 5, 3), learning_rate='constant',\n",
      "       learning_rate_init=0.001, max_iter=2000, momentum=0.9,\n",
      "       nesterovs_momentum=True, power_t=0.5, random_state=None,\n",
      "       shuffle=True, solver='adam', tol=0.0001, validation_fraction=0.1,\n",
      "       verbose=False, warm_start=False)\n",
      "Accuracy score: 0.172892209178\n",
      "Classification report\n",
      "              precision    recall  f1-score   support\n",
      "\n",
      "        Neg       0.08      0.80      0.15        65\n",
      "    Neutral       0.92      0.10      0.18       767\n",
      "        Pos       0.15      0.30      0.20       105\n",
      "\n",
      "avg / total       0.77      0.17      0.18       937\n",
      "\n",
      "Confusion matrix\n",
      " [[ 52   2  11]\n",
      " [515  78 174]\n",
      " [ 68   5  32]]\n"
     ]
    }
   ],
   "source": [
    "fit_and_print(grid)"
   ]
  }
 ],
 "metadata": {
  "kernelspec": {
   "display_name": "Python 3",
   "language": "python",
   "name": "python3"
  },
  "language_info": {
   "codemirror_mode": {
    "name": "ipython",
    "version": 3
   },
   "file_extension": ".py",
   "mimetype": "text/x-python",
   "name": "python",
   "nbconvert_exporter": "python",
   "pygments_lexer": "ipython3",
   "version": "3.6.3"
  }
 },
 "nbformat": 4,
 "nbformat_minor": 2
}
