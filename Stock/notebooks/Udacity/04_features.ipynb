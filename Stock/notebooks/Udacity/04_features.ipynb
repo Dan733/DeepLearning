{
 "cells": [
  {
   "cell_type": "code",
   "execution_count": 1,
   "metadata": {},
   "outputs": [],
   "source": [
    "import numpy as np\n",
    "import pandas as pd\n",
    "from datetime import datetime\n",
    "import seaborn as sns\n",
    "import matplotlib.pyplot as plt\n",
    "import pandas_datareader as pdr\n",
    "import os\n",
    "import talib as tl\n",
    "from sklearn.preprocessing import LabelBinarizer, StandardScaler\n",
    "from sklearn_pandas import DataFrameMapper\n",
    "%matplotlib inline"
   ]
  },
  {
   "cell_type": "code",
   "execution_count": 2,
   "metadata": {},
   "outputs": [],
   "source": [
    "def fills(df):\n",
    "    df.fillna(method='ffill', inplace=True)\n",
    "    df.fillna(method='bfill', inplace=True)\n",
    "    return df"
   ]
  },
  {
   "cell_type": "code",
   "execution_count": 3,
   "metadata": {},
   "outputs": [],
   "source": [
    "aapl = fills(pdr.get_data_google('AAPL', '2000-01-01', '2018-01-01'))\n",
    "spy = fills(pdr.get_data_google('SPY', '2000-01-01', '2018-01-01'))"
   ]
  },
  {
   "cell_type": "code",
   "execution_count": 4,
   "metadata": {},
   "outputs": [],
   "source": [
    "oopen = aapl['Open'].values\n",
    "high = aapl['High'].values\n",
    "low = aapl['Low'].values\n",
    "close = aapl['Close'].values"
   ]
  },
  {
   "cell_type": "code",
   "execution_count": 5,
   "metadata": {},
   "outputs": [],
   "source": [
    "runup252 = aapl['Close'].pct_change(252)\n",
    "aapl['Run Up 252'] = runup252"
   ]
  },
  {
   "cell_type": "code",
   "execution_count": 6,
   "metadata": {},
   "outputs": [],
   "source": [
    "beta63 = tl.BETA(close, spy['Close'].values, timeperiod=63)\n",
    "aapl['Beta 63'] = beta63"
   ]
  },
  {
   "cell_type": "code",
   "execution_count": 7,
   "metadata": {},
   "outputs": [],
   "source": [
    "ema100 = tl.EMA(close, timeperiod=100)\n",
    "aapl['EMA 100'] = ema100\n",
    "aapl['EMA 100'] = aapl['EMA 100'].pct_change()"
   ]
  },
  {
   "cell_type": "code",
   "execution_count": 8,
   "metadata": {},
   "outputs": [],
   "source": [
    "sma100 = tl.SMA(close, timeperiod=100)\n",
    "aapl['SMA 100'] = sma100\n",
    "aapl['SMA 100'] = aapl['SMA 100'].pct_change()"
   ]
  },
  {
   "cell_type": "code",
   "execution_count": 9,
   "metadata": {},
   "outputs": [],
   "source": [
    "sma_mom100 = aapl['SMA 100'] - aapl['SMA 100'].shift(-1)\n",
    "aapl['SMA MOM 100'] = sma_mom100"
   ]
  },
  {
   "cell_type": "code",
   "execution_count": 10,
   "metadata": {},
   "outputs": [],
   "source": [
    "sp500_sma100 = tl.SMA(spy['Close'].values, timeperiod=100)\n",
    "aapl['SP500 SMA 100'] = sp500_sma100\n",
    "aapl['SP500 SMA 100'] = aapl['SP500 SMA 100'].pct_change()"
   ]
  },
  {
   "cell_type": "code",
   "execution_count": 11,
   "metadata": {},
   "outputs": [],
   "source": [
    "sp500vola = tl.ATR(spy['High'].values, spy['Low'].values, spy['Close'].values, timeperiod=63)\n",
    "aapl['SP500 Vola 63'] = sp500vola"
   ]
  },
  {
   "cell_type": "code",
   "execution_count": 12,
   "metadata": {},
   "outputs": [],
   "source": [
    "sharpe_days = 63\n",
    "daily_ret = aapl['Close'].pct_change()\n",
    "sharpe63 = np.sqrt(sharpe_days)*(daily_ret.rolling(sharpe_days).mean()/daily_ret.rolling(sharpe_days).std())\n",
    "aapl['Sharpe 63'] = sharpe63"
   ]
  },
  {
   "cell_type": "code",
   "execution_count": 13,
   "metadata": {},
   "outputs": [],
   "source": [
    "vola63 = tl.ATR(high, low, close, timeperiod=63)\n",
    "aapl['Vola 63'] = vola63"
   ]
  },
  {
   "cell_type": "code",
   "execution_count": 14,
   "metadata": {},
   "outputs": [],
   "source": [
    "return_days = 3\n",
    "ret = 100*aapl['Close'].pct_change(return_days).shift(-return_days)\n",
    "aapl[str(return_days) + ' days future return'] = ret"
   ]
  },
  {
   "cell_type": "code",
   "execution_count": 15,
   "metadata": {},
   "outputs": [],
   "source": [
    "aapl['Weekday'] = aapl.index.dayofweek.map(lambda x: {0: 'Mon', 1: 'Tue', 2: 'Wed', 3: 'Thu', 4: 'Fri'}.get(x))"
   ]
  },
  {
   "cell_type": "code",
   "execution_count": 16,
   "metadata": {},
   "outputs": [
    {
     "data": {
      "text/plain": [
       "Date\n",
       "2002-02-11    Neutral\n",
       "2002-02-12    Neutral\n",
       "2002-02-13        Neg\n",
       "2002-02-14        Neg\n",
       "2002-02-15        Neg\n",
       "Name: Return class, dtype: object"
      ]
     },
     "execution_count": 16,
     "metadata": {},
     "output_type": "execute_result"
    }
   ],
   "source": [
    "def to_class(val, extreme):\n",
    "    if val < -extreme:\n",
    "        return 'Neg'\n",
    "    elif val > extreme:\n",
    "        return 'Pos'\n",
    "    else:\n",
    "        return 'Neutral'\n",
    "aapl['Return class'] = aapl['3 days future return'].apply(lambda val: to_class(val, 3))\n",
    "aapl['Return class'].head()"
   ]
  },
  {
   "cell_type": "code",
   "execution_count": 17,
   "metadata": {},
   "outputs": [
    {
     "data": {
      "text/html": [
       "<div>\n",
       "<style scoped>\n",
       "    .dataframe tbody tr th:only-of-type {\n",
       "        vertical-align: middle;\n",
       "    }\n",
       "\n",
       "    .dataframe tbody tr th {\n",
       "        vertical-align: top;\n",
       "    }\n",
       "\n",
       "    .dataframe thead th {\n",
       "        text-align: right;\n",
       "    }\n",
       "</style>\n",
       "<table border=\"1\" class=\"dataframe\">\n",
       "  <thead>\n",
       "    <tr style=\"text-align: right;\">\n",
       "      <th></th>\n",
       "      <th>Open</th>\n",
       "      <th>High</th>\n",
       "      <th>Low</th>\n",
       "      <th>Close</th>\n",
       "      <th>Volume</th>\n",
       "      <th>Run Up 252</th>\n",
       "      <th>Beta 63</th>\n",
       "      <th>EMA 100</th>\n",
       "      <th>SMA 100</th>\n",
       "      <th>SMA MOM 100</th>\n",
       "      <th>SP500 SMA 100</th>\n",
       "      <th>SP500 Vola 63</th>\n",
       "      <th>Sharpe 63</th>\n",
       "      <th>Vola 63</th>\n",
       "      <th>3 days future return</th>\n",
       "      <th>Weekday</th>\n",
       "      <th>Return class</th>\n",
       "    </tr>\n",
       "    <tr>\n",
       "      <th>Date</th>\n",
       "      <th></th>\n",
       "      <th></th>\n",
       "      <th></th>\n",
       "      <th></th>\n",
       "      <th></th>\n",
       "      <th></th>\n",
       "      <th></th>\n",
       "      <th></th>\n",
       "      <th></th>\n",
       "      <th></th>\n",
       "      <th></th>\n",
       "      <th></th>\n",
       "      <th></th>\n",
       "      <th></th>\n",
       "      <th></th>\n",
       "      <th></th>\n",
       "      <th></th>\n",
       "    </tr>\n",
       "  </thead>\n",
       "  <tbody>\n",
       "    <tr>\n",
       "      <th>2017-12-22</th>\n",
       "      <td>174.68</td>\n",
       "      <td>175.42</td>\n",
       "      <td>174.50</td>\n",
       "      <td>175.01</td>\n",
       "      <td>16349444</td>\n",
       "      <td>0.504945</td>\n",
       "      <td>0.139007</td>\n",
       "      <td>0.001379</td>\n",
       "      <td>0.001094</td>\n",
       "      <td>0.000177</td>\n",
       "      <td>0.000789</td>\n",
       "      <td>1.442816</td>\n",
       "      <td>1.808430</td>\n",
       "      <td>2.460835</td>\n",
       "      <td>-2.245586</td>\n",
       "      <td>Fri</td>\n",
       "      <td>Neutral</td>\n",
       "    </tr>\n",
       "    <tr>\n",
       "      <th>2017-12-26</th>\n",
       "      <td>170.80</td>\n",
       "      <td>171.47</td>\n",
       "      <td>169.68</td>\n",
       "      <td>170.57</td>\n",
       "      <td>33185536</td>\n",
       "      <td>0.463869</td>\n",
       "      <td>0.138846</td>\n",
       "      <td>0.000813</td>\n",
       "      <td>0.000917</td>\n",
       "      <td>0.000049</td>\n",
       "      <td>0.000795</td>\n",
       "      <td>1.429915</td>\n",
       "      <td>1.263734</td>\n",
       "      <td>2.506377</td>\n",
       "      <td>-0.785601</td>\n",
       "      <td>Tue</td>\n",
       "      <td>Neutral</td>\n",
       "    </tr>\n",
       "    <tr>\n",
       "      <th>2017-12-27</th>\n",
       "      <td>170.10</td>\n",
       "      <td>170.78</td>\n",
       "      <td>169.71</td>\n",
       "      <td>170.60</td>\n",
       "      <td>21498213</td>\n",
       "      <td>0.454887</td>\n",
       "      <td>0.137480</td>\n",
       "      <td>0.000800</td>\n",
       "      <td>0.000868</td>\n",
       "      <td>0.000119</td>\n",
       "      <td>0.000782</td>\n",
       "      <td>1.418646</td>\n",
       "      <td>1.187278</td>\n",
       "      <td>2.483577</td>\n",
       "      <td>NaN</td>\n",
       "      <td>Wed</td>\n",
       "      <td>Neutral</td>\n",
       "    </tr>\n",
       "    <tr>\n",
       "      <th>2017-12-28</th>\n",
       "      <td>171.00</td>\n",
       "      <td>171.85</td>\n",
       "      <td>170.48</td>\n",
       "      <td>171.08</td>\n",
       "      <td>16480187</td>\n",
       "      <td>0.465228</td>\n",
       "      <td>0.138857</td>\n",
       "      <td>0.000841</td>\n",
       "      <td>0.000749</td>\n",
       "      <td>0.000191</td>\n",
       "      <td>0.000785</td>\n",
       "      <td>1.405652</td>\n",
       "      <td>1.294132</td>\n",
       "      <td>2.465901</td>\n",
       "      <td>NaN</td>\n",
       "      <td>Thu</td>\n",
       "      <td>Neutral</td>\n",
       "    </tr>\n",
       "    <tr>\n",
       "      <th>2017-12-29</th>\n",
       "      <td>170.52</td>\n",
       "      <td>170.59</td>\n",
       "      <td>169.22</td>\n",
       "      <td>169.23</td>\n",
       "      <td>25999922</td>\n",
       "      <td>0.449756</td>\n",
       "      <td>0.142824</td>\n",
       "      <td>0.000601</td>\n",
       "      <td>0.000558</td>\n",
       "      <td>NaN</td>\n",
       "      <td>0.000768</td>\n",
       "      <td>1.413657</td>\n",
       "      <td>1.098579</td>\n",
       "      <td>2.456284</td>\n",
       "      <td>NaN</td>\n",
       "      <td>Fri</td>\n",
       "      <td>Neutral</td>\n",
       "    </tr>\n",
       "  </tbody>\n",
       "</table>\n",
       "</div>"
      ],
      "text/plain": [
       "              Open    High     Low   Close    Volume  Run Up 252   Beta 63  \\\n",
       "Date                                                                         \n",
       "2017-12-22  174.68  175.42  174.50  175.01  16349444    0.504945  0.139007   \n",
       "2017-12-26  170.80  171.47  169.68  170.57  33185536    0.463869  0.138846   \n",
       "2017-12-27  170.10  170.78  169.71  170.60  21498213    0.454887  0.137480   \n",
       "2017-12-28  171.00  171.85  170.48  171.08  16480187    0.465228  0.138857   \n",
       "2017-12-29  170.52  170.59  169.22  169.23  25999922    0.449756  0.142824   \n",
       "\n",
       "             EMA 100   SMA 100  SMA MOM 100  SP500 SMA 100  SP500 Vola 63  \\\n",
       "Date                                                                        \n",
       "2017-12-22  0.001379  0.001094     0.000177       0.000789       1.442816   \n",
       "2017-12-26  0.000813  0.000917     0.000049       0.000795       1.429915   \n",
       "2017-12-27  0.000800  0.000868     0.000119       0.000782       1.418646   \n",
       "2017-12-28  0.000841  0.000749     0.000191       0.000785       1.405652   \n",
       "2017-12-29  0.000601  0.000558          NaN       0.000768       1.413657   \n",
       "\n",
       "            Sharpe 63   Vola 63  3 days future return Weekday Return class  \n",
       "Date                                                                        \n",
       "2017-12-22   1.808430  2.460835             -2.245586     Fri      Neutral  \n",
       "2017-12-26   1.263734  2.506377             -0.785601     Tue      Neutral  \n",
       "2017-12-27   1.187278  2.483577                   NaN     Wed      Neutral  \n",
       "2017-12-28   1.294132  2.465901                   NaN     Thu      Neutral  \n",
       "2017-12-29   1.098579  2.456284                   NaN     Fri      Neutral  "
      ]
     },
     "execution_count": 17,
     "metadata": {},
     "output_type": "execute_result"
    }
   ],
   "source": [
    "aapl.tail()"
   ]
  },
  {
   "cell_type": "code",
   "execution_count": 18,
   "metadata": {},
   "outputs": [],
   "source": [
    "aapl.drop(['Open', 'High', 'Low', 'Close', 'Volume', '3 days future return'], axis=1, inplace=True)\n",
    "aapl.dropna(inplace=True)"
   ]
  },
  {
   "cell_type": "code",
   "execution_count": 19,
   "metadata": {},
   "outputs": [],
   "source": [
    "trafos = [([col], StandardScaler()) for col in aapl.columns[:-2].tolist()]\n",
    "trafos = [('Weekday', LabelBinarizer())] + trafos\n",
    "#trafos += [('Return class', LabelBinarizer())]"
   ]
  },
  {
   "cell_type": "code",
   "execution_count": 20,
   "metadata": {},
   "outputs": [
    {
     "data": {
      "text/plain": [
       "[('Weekday', LabelBinarizer(neg_label=0, pos_label=1, sparse_output=False)),\n",
       " (['Run Up 252'], StandardScaler(copy=True, with_mean=True, with_std=True)),\n",
       " (['Beta 63'], StandardScaler(copy=True, with_mean=True, with_std=True)),\n",
       " (['EMA 100'], StandardScaler(copy=True, with_mean=True, with_std=True)),\n",
       " (['SMA 100'], StandardScaler(copy=True, with_mean=True, with_std=True)),\n",
       " (['SMA MOM 100'], StandardScaler(copy=True, with_mean=True, with_std=True)),\n",
       " (['SP500 SMA 100'], StandardScaler(copy=True, with_mean=True, with_std=True)),\n",
       " (['SP500 Vola 63'], StandardScaler(copy=True, with_mean=True, with_std=True)),\n",
       " (['Sharpe 63'], StandardScaler(copy=True, with_mean=True, with_std=True)),\n",
       " (['Vola 63'], StandardScaler(copy=True, with_mean=True, with_std=True))]"
      ]
     },
     "execution_count": 20,
     "metadata": {},
     "output_type": "execute_result"
    }
   ],
   "source": [
    "trafos"
   ]
  },
  {
   "cell_type": "code",
   "execution_count": 21,
   "metadata": {},
   "outputs": [],
   "source": [
    "mapper = DataFrameMapper(trafos, df_out=True)"
   ]
  },
  {
   "cell_type": "code",
   "execution_count": 22,
   "metadata": {},
   "outputs": [
    {
     "data": {
      "text/html": [
       "<div>\n",
       "<style scoped>\n",
       "    .dataframe tbody tr th:only-of-type {\n",
       "        vertical-align: middle;\n",
       "    }\n",
       "\n",
       "    .dataframe tbody tr th {\n",
       "        vertical-align: top;\n",
       "    }\n",
       "\n",
       "    .dataframe thead th {\n",
       "        text-align: right;\n",
       "    }\n",
       "</style>\n",
       "<table border=\"1\" class=\"dataframe\">\n",
       "  <thead>\n",
       "    <tr style=\"text-align: right;\">\n",
       "      <th></th>\n",
       "      <th>Weekday_Fri</th>\n",
       "      <th>Weekday_Mon</th>\n",
       "      <th>Weekday_Thu</th>\n",
       "      <th>Weekday_Tue</th>\n",
       "      <th>Weekday_Wed</th>\n",
       "      <th>Run Up 252</th>\n",
       "      <th>Beta 63</th>\n",
       "      <th>EMA 100</th>\n",
       "      <th>SMA 100</th>\n",
       "      <th>SMA MOM 100</th>\n",
       "      <th>SP500 SMA 100</th>\n",
       "      <th>SP500 Vola 63</th>\n",
       "      <th>Sharpe 63</th>\n",
       "      <th>Vola 63</th>\n",
       "    </tr>\n",
       "    <tr>\n",
       "      <th>Date</th>\n",
       "      <th></th>\n",
       "      <th></th>\n",
       "      <th></th>\n",
       "      <th></th>\n",
       "      <th></th>\n",
       "      <th></th>\n",
       "      <th></th>\n",
       "      <th></th>\n",
       "      <th></th>\n",
       "      <th></th>\n",
       "      <th></th>\n",
       "      <th></th>\n",
       "      <th></th>\n",
       "      <th></th>\n",
       "    </tr>\n",
       "  </thead>\n",
       "  <tbody>\n",
       "    <tr>\n",
       "      <th>2003-02-11</th>\n",
       "      <td>0.0</td>\n",
       "      <td>0.0</td>\n",
       "      <td>0.0</td>\n",
       "      <td>1.0</td>\n",
       "      <td>0.0</td>\n",
       "      <td>-1.600159</td>\n",
       "      <td>-0.798062</td>\n",
       "      <td>-1.064306</td>\n",
       "      <td>-0.761709</td>\n",
       "      <td>-1.227681</td>\n",
       "      <td>-0.726039</td>\n",
       "      <td>0.437312</td>\n",
       "      <td>-1.151783</td>\n",
       "      <td>-1.292382</td>\n",
       "    </tr>\n",
       "    <tr>\n",
       "      <th>2003-02-12</th>\n",
       "      <td>0.0</td>\n",
       "      <td>0.0</td>\n",
       "      <td>0.0</td>\n",
       "      <td>0.0</td>\n",
       "      <td>1.0</td>\n",
       "      <td>-1.578725</td>\n",
       "      <td>-0.915786</td>\n",
       "      <td>-0.977752</td>\n",
       "      <td>-0.604132</td>\n",
       "      <td>0.308279</td>\n",
       "      <td>-0.691778</td>\n",
       "      <td>0.435341</td>\n",
       "      <td>-0.871988</td>\n",
       "      <td>-1.292872</td>\n",
       "    </tr>\n",
       "    <tr>\n",
       "      <th>2003-02-13</th>\n",
       "      <td>0.0</td>\n",
       "      <td>0.0</td>\n",
       "      <td>1.0</td>\n",
       "      <td>0.0</td>\n",
       "      <td>0.0</td>\n",
       "      <td>-1.586146</td>\n",
       "      <td>-0.843879</td>\n",
       "      <td>-0.892654</td>\n",
       "      <td>-0.643557</td>\n",
       "      <td>-0.306400</td>\n",
       "      <td>-0.586248</td>\n",
       "      <td>0.423053</td>\n",
       "      <td>-1.027235</td>\n",
       "      <td>-1.293154</td>\n",
       "    </tr>\n",
       "    <tr>\n",
       "      <th>2003-02-14</th>\n",
       "      <td>1.0</td>\n",
       "      <td>0.0</td>\n",
       "      <td>0.0</td>\n",
       "      <td>0.0</td>\n",
       "      <td>0.0</td>\n",
       "      <td>-1.558750</td>\n",
       "      <td>-0.818924</td>\n",
       "      <td>-0.809037</td>\n",
       "      <td>-0.604143</td>\n",
       "      <td>-1.536279</td>\n",
       "      <td>-0.517386</td>\n",
       "      <td>0.412020</td>\n",
       "      <td>-0.924379</td>\n",
       "      <td>-1.293432</td>\n",
       "    </tr>\n",
       "    <tr>\n",
       "      <th>2003-02-18</th>\n",
       "      <td>0.0</td>\n",
       "      <td>0.0</td>\n",
       "      <td>0.0</td>\n",
       "      <td>1.0</td>\n",
       "      <td>0.0</td>\n",
       "      <td>-1.486968</td>\n",
       "      <td>-0.649921</td>\n",
       "      <td>-0.494489</td>\n",
       "      <td>-0.406986</td>\n",
       "      <td>1.537985</td>\n",
       "      <td>-0.231234</td>\n",
       "      <td>0.418942</td>\n",
       "      <td>-0.965556</td>\n",
       "      <td>-1.293506</td>\n",
       "    </tr>\n",
       "  </tbody>\n",
       "</table>\n",
       "</div>"
      ],
      "text/plain": [
       "            Weekday_Fri  Weekday_Mon  Weekday_Thu  Weekday_Tue  Weekday_Wed  \\\n",
       "Date                                                                          \n",
       "2003-02-11          0.0          0.0          0.0          1.0          0.0   \n",
       "2003-02-12          0.0          0.0          0.0          0.0          1.0   \n",
       "2003-02-13          0.0          0.0          1.0          0.0          0.0   \n",
       "2003-02-14          1.0          0.0          0.0          0.0          0.0   \n",
       "2003-02-18          0.0          0.0          0.0          1.0          0.0   \n",
       "\n",
       "            Run Up 252   Beta 63   EMA 100   SMA 100  SMA MOM 100  \\\n",
       "Date                                                                \n",
       "2003-02-11   -1.600159 -0.798062 -1.064306 -0.761709    -1.227681   \n",
       "2003-02-12   -1.578725 -0.915786 -0.977752 -0.604132     0.308279   \n",
       "2003-02-13   -1.586146 -0.843879 -0.892654 -0.643557    -0.306400   \n",
       "2003-02-14   -1.558750 -0.818924 -0.809037 -0.604143    -1.536279   \n",
       "2003-02-18   -1.486968 -0.649921 -0.494489 -0.406986     1.537985   \n",
       "\n",
       "            SP500 SMA 100  SP500 Vola 63  Sharpe 63   Vola 63  \n",
       "Date                                                           \n",
       "2003-02-11      -0.726039       0.437312  -1.151783 -1.292382  \n",
       "2003-02-12      -0.691778       0.435341  -0.871988 -1.292872  \n",
       "2003-02-13      -0.586248       0.423053  -1.027235 -1.293154  \n",
       "2003-02-14      -0.517386       0.412020  -0.924379 -1.293432  \n",
       "2003-02-18      -0.231234       0.418942  -0.965556 -1.293506  "
      ]
     },
     "execution_count": 22,
     "metadata": {},
     "output_type": "execute_result"
    }
   ],
   "source": [
    "aapl_mapped = mapper.fit_transform(aapl)\n",
    "aapl_mapped.head()"
   ]
  },
  {
   "cell_type": "markdown",
   "metadata": {},
   "source": [
    "# ML model"
   ]
  },
  {
   "cell_type": "code",
   "execution_count": 23,
   "metadata": {},
   "outputs": [
    {
     "name": "stderr",
     "output_type": "stream",
     "text": [
      "C:\\DEV\\Anaconda3\\envs\\trading\\lib\\site-packages\\sklearn\\cross_validation.py:41: DeprecationWarning: This module was deprecated in version 0.18 in favor of the model_selection module into which all the refactored classes and functions are moved. Also note that the interface of the new CV iterators are different from that of this module. This module will be removed in 0.20.\n",
      "  \"This module will be removed in 0.20.\", DeprecationWarning)\n",
      "C:\\DEV\\Anaconda3\\envs\\trading\\lib\\site-packages\\sklearn\\grid_search.py:42: DeprecationWarning: This module was deprecated in version 0.18 in favor of the model_selection module into which all the refactored classes and functions are moved. This module will be removed in 0.20.\n",
      "  DeprecationWarning)\n"
     ]
    }
   ],
   "source": [
    "from sklearn.neighbors import KNeighborsClassifier\n",
    "from sklearn.ensemble import RandomForestClassifier\n",
    "from sklearn.grid_search import GridSearchCV\n",
    "from sklearn.cross_validation import train_test_split\n",
    "\n",
    "from sklearn.metrics import accuracy_score, classification_report"
   ]
  },
  {
   "cell_type": "code",
   "execution_count": 24,
   "metadata": {},
   "outputs": [],
   "source": [
    "X = aapl_mapped\n",
    "y = aapl['Return class']"
   ]
  },
  {
   "cell_type": "code",
   "execution_count": 25,
   "metadata": {},
   "outputs": [],
   "source": [
    "X_train, X_test, y_train, y_test = train_test_split(X, y, test_size=0.33)"
   ]
  },
  {
   "cell_type": "code",
   "execution_count": 26,
   "metadata": {},
   "outputs": [],
   "source": [
    "def fit_and_print(grid):\n",
    "    grid.fit(X_train, y_train)\n",
    "    best_estimator = grid.best_estimator_\n",
    "    print('Best estimator:\\n', str(best_estimator))\n",
    "    \n",
    "    y_pred = best_estimator.predict(X_test)\n",
    "    print('Accuracy score:', str(accuracy_score(y_test, y_pred)))\n",
    "    print('Classification report\\n', classification_report(y_test, y_pred))"
   ]
  },
  {
   "cell_type": "markdown",
   "metadata": {},
   "source": [
    "### K nearest"
   ]
  },
  {
   "cell_type": "code",
   "execution_count": 27,
   "metadata": {},
   "outputs": [],
   "source": [
    "params = {'n_neighbors': np.arange(20,100,10),\n",
    "          'metric': ['euclidean', 'l2', 'manhattan', 'cityblock'],\n",
    "          'algorithm' : ['auto', 'ball_tree', 'kd_tree']}\n",
    "grid = GridSearchCV(estimator=KNeighborsClassifier(n_jobs=4), param_grid=params)"
   ]
  },
  {
   "cell_type": "code",
   "execution_count": 28,
   "metadata": {},
   "outputs": [
    {
     "name": "stdout",
     "output_type": "stream",
     "text": [
      "Best estimator:\n",
      " KNeighborsClassifier(algorithm='auto', leaf_size=30, metric='euclidean',\n",
      "           metric_params=None, n_jobs=4, n_neighbors=20, p=2,\n",
      "           weights='uniform')\n",
      "Accuracy score: 0.683104284559\n",
      "Classification report\n",
      "              precision    recall  f1-score   support\n",
      "\n",
      "        Neg       0.44      0.13      0.20       154\n",
      "    Neutral       0.70      0.95      0.80       823\n",
      "        Pos       0.62      0.16      0.25       260\n",
      "\n",
      "avg / total       0.65      0.68      0.61      1237\n",
      "\n"
     ]
    }
   ],
   "source": [
    "fit_and_print(grid)"
   ]
  },
  {
   "cell_type": "markdown",
   "metadata": {},
   "source": [
    "### Random Forest"
   ]
  },
  {
   "cell_type": "code",
   "execution_count": null,
   "metadata": {},
   "outputs": [],
   "source": [
    "params = {'n_estimators': np.arange(1, 22, 4),\n",
    "          'max_features': np.arange(2, 5),\n",
    "          'min_samples_split': [2, 3, 4],\n",
    "          'min_samples_leaf': [1, 2, 3]}\n",
    "grid = GridSearchCV(estimator=RandomForestClassifier(n_jobs=4), param_grid=params)"
   ]
  },
  {
   "cell_type": "code",
   "execution_count": null,
   "metadata": {},
   "outputs": [],
   "source": [
    "fit_and_print(grid)"
   ]
  },
  {
   "cell_type": "code",
   "execution_count": null,
   "metadata": {},
   "outputs": [],
   "source": []
  }
 ],
 "metadata": {
  "kernelspec": {
   "display_name": "Python 3",
   "language": "python",
   "name": "python3"
  },
  "language_info": {
   "codemirror_mode": {
    "name": "ipython",
    "version": 3
   },
   "file_extension": ".py",
   "mimetype": "text/x-python",
   "name": "python",
   "nbconvert_exporter": "python",
   "pygments_lexer": "ipython3",
   "version": "3.6.3"
  }
 },
 "nbformat": 4,
 "nbformat_minor": 2
}
