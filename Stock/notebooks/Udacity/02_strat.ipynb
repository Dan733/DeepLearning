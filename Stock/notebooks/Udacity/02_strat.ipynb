{
 "cells": [
  {
   "cell_type": "code",
   "execution_count": 1,
   "metadata": {},
   "outputs": [],
   "source": [
    "import numpy as np\n",
    "import pandas as pd\n",
    "from datetime import datetime\n",
    "import seaborn as sns\n",
    "import matplotlib.pyplot as plt\n",
    "import pandas_datareader as pdr\n",
    "import os\n",
    "%matplotlib inline"
   ]
  },
  {
   "cell_type": "code",
   "execution_count": 2,
   "metadata": {},
   "outputs": [],
   "source": [
    "# aapl = pdr.get_data_google('AAPL', '2012-08-01', '2017-01-01')"
   ]
  },
  {
   "cell_type": "code",
   "execution_count": 6,
   "metadata": {},
   "outputs": [],
   "source": [
    "stocks = {}\n",
    "for file in os.listdir('stocks5year/'):\n",
    "    if file[-3:] != 'csv':\n",
    "        continue\n",
    "    stocks[file] = pd.read_csv('stocks5year/'+str(file))"
   ]
  },
  {
   "cell_type": "markdown",
   "metadata": {},
   "source": [
    "### Factors:\n",
    "* Average run-up(%) 252\n",
    "* Beta 63\n",
    "* EMA (%) 100\n",
    "* Financial Stress Index Q-to-Q change\n",
    "* PEG Ratio Value\n",
    "* SMA (%) 100\n",
    "* SMA Momentum 100\n",
    "* SP500 SMA (%) 100\n",
    "* SP500 Volatility 63\n",
    "* Sharpe Ratio 63\n",
    "* Volatility 63"
   ]
  }
 ],
 "metadata": {
  "kernelspec": {
   "display_name": "Python 3",
   "language": "python",
   "name": "python3"
  },
  "language_info": {
   "codemirror_mode": {
    "name": "ipython",
    "version": 3
   },
   "file_extension": ".py",
   "mimetype": "text/x-python",
   "name": "python",
   "nbconvert_exporter": "python",
   "pygments_lexer": "ipython3",
   "version": "3.6.3"
  }
 },
 "nbformat": 4,
 "nbformat_minor": 2
}
