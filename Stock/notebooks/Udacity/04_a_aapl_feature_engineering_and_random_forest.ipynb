{
 "cells": [
  {
   "cell_type": "code",
   "execution_count": 1,
   "metadata": {},
   "outputs": [],
   "source": [
    "import numpy as np\n",
    "import pandas as pd\n",
    "from datetime import datetime\n",
    "import seaborn as sns\n",
    "import matplotlib.pyplot as plt\n",
    "import pandas_datareader as pdr\n",
    "import os\n",
    "import talib as tl\n",
    "from sklearn.preprocessing import LabelBinarizer, StandardScaler\n",
    "from sklearn_pandas import DataFrameMapper\n",
    "%matplotlib inline"
   ]
  },
  {
   "cell_type": "code",
   "execution_count": 2,
   "metadata": {},
   "outputs": [],
   "source": [
    "def fills(df):\n",
    "    df.fillna(method='ffill', inplace=True)\n",
    "    df.fillna(method='bfill', inplace=True)\n",
    "    return df"
   ]
  },
  {
   "cell_type": "code",
   "execution_count": 3,
   "metadata": {},
   "outputs": [],
   "source": [
    "aapl = fills(pdr.get_data_google('AAPL', '2000-01-01', '2018-01-01'))\n",
    "spy = fills(pdr.get_data_google('SPY', '2000-01-01', '2018-01-01'))"
   ]
  },
  {
   "cell_type": "code",
   "execution_count": 4,
   "metadata": {},
   "outputs": [],
   "source": [
    "oopen = aapl['Open'].values\n",
    "high = aapl['High'].values\n",
    "low = aapl['Low'].values\n",
    "close = aapl['Close'].values"
   ]
  },
  {
   "cell_type": "code",
   "execution_count": 5,
   "metadata": {},
   "outputs": [],
   "source": [
    "runup252 = aapl['Close'].pct_change(252)\n",
    "aapl['Run Up 252'] = runup252"
   ]
  },
  {
   "cell_type": "code",
   "execution_count": 6,
   "metadata": {},
   "outputs": [],
   "source": [
    "beta63 = tl.BETA(close, spy['Close'].values, timeperiod=63)\n",
    "aapl['Beta 63'] = beta63"
   ]
  },
  {
   "cell_type": "code",
   "execution_count": 7,
   "metadata": {},
   "outputs": [],
   "source": [
    "ema100 = tl.EMA(close, timeperiod=100)\n",
    "aapl['EMA 100'] = ema100\n",
    "aapl['EMA 100'] = aapl['EMA 100'].pct_change()"
   ]
  },
  {
   "cell_type": "code",
   "execution_count": 8,
   "metadata": {},
   "outputs": [],
   "source": [
    "sma100 = tl.SMA(close, timeperiod=100)\n",
    "aapl['SMA 100'] = sma100\n",
    "aapl['SMA 100'] = aapl['SMA 100'].pct_change()"
   ]
  },
  {
   "cell_type": "code",
   "execution_count": 9,
   "metadata": {},
   "outputs": [],
   "source": [
    "sma_mom100 = aapl['SMA 100'] - aapl['SMA 100'].shift(1)\n",
    "aapl['SMA MOM 100'] = sma_mom100"
   ]
  },
  {
   "cell_type": "code",
   "execution_count": 10,
   "metadata": {},
   "outputs": [],
   "source": [
    "sp500_sma100 = tl.SMA(spy['Close'].values, timeperiod=100)\n",
    "aapl['SP500 SMA 100'] = sp500_sma100\n",
    "aapl['SP500 SMA 100'] = aapl['SP500 SMA 100'].pct_change()"
   ]
  },
  {
   "cell_type": "code",
   "execution_count": 11,
   "metadata": {},
   "outputs": [],
   "source": [
    "sp500vola = tl.ATR(spy['High'].values, spy['Low'].values, spy['Close'].values, timeperiod=63)\n",
    "aapl['SP500 Vola 63'] = sp500vola"
   ]
  },
  {
   "cell_type": "code",
   "execution_count": 12,
   "metadata": {},
   "outputs": [],
   "source": [
    "sharpe_days = 63\n",
    "daily_ret = aapl['Close'].pct_change()\n",
    "sharpe63 = np.sqrt(sharpe_days)*(daily_ret.rolling(sharpe_days).mean()/daily_ret.rolling(sharpe_days).std())\n",
    "aapl['Sharpe 63'] = sharpe63"
   ]
  },
  {
   "cell_type": "code",
   "execution_count": 13,
   "metadata": {},
   "outputs": [],
   "source": [
    "vola63 = tl.ATR(high, low, close, timeperiod=63)\n",
    "aapl['Vola 63'] = vola63"
   ]
  },
  {
   "cell_type": "code",
   "execution_count": 14,
   "metadata": {},
   "outputs": [],
   "source": [
    "return_days = 10\n",
    "extreme_return = 5\n",
    "ret = 100*aapl['Close'].pct_change(return_days).shift(-return_days)\n",
    "aapl[str(return_days) + ' days future return'] = ret"
   ]
  },
  {
   "cell_type": "code",
   "execution_count": 15,
   "metadata": {},
   "outputs": [],
   "source": [
    "aapl['Weekday'] = aapl.index.dayofweek.map(lambda x: {0: 'Mon', 1: 'Tue', 2: 'Wed', 3: 'Thu', 4: 'Fri'}.get(x))"
   ]
  },
  {
   "cell_type": "code",
   "execution_count": 16,
   "metadata": {},
   "outputs": [
    {
     "data": {
      "text/plain": [
       "Date\n",
       "2002-02-11        Neg\n",
       "2002-02-12        Neg\n",
       "2002-02-13        Neg\n",
       "2002-02-14    Neutral\n",
       "2002-02-15    Neutral\n",
       "Name: Return class, dtype: object"
      ]
     },
     "execution_count": 16,
     "metadata": {},
     "output_type": "execute_result"
    }
   ],
   "source": [
    "def to_class(val, extreme):\n",
    "    if val < -extreme:\n",
    "        return 'Neg'\n",
    "    elif val > extreme:\n",
    "        return 'Pos'\n",
    "    else:\n",
    "        return 'Neutral'\n",
    "aapl['Return class'] = aapl[str(return_days) + ' days future return'].apply(lambda val: to_class(val, extreme_return))\n",
    "aapl['Return class'].head()"
   ]
  },
  {
   "cell_type": "code",
   "execution_count": 17,
   "metadata": {},
   "outputs": [
    {
     "data": {
      "text/html": [
       "<div>\n",
       "<style scoped>\n",
       "    .dataframe tbody tr th:only-of-type {\n",
       "        vertical-align: middle;\n",
       "    }\n",
       "\n",
       "    .dataframe tbody tr th {\n",
       "        vertical-align: top;\n",
       "    }\n",
       "\n",
       "    .dataframe thead th {\n",
       "        text-align: right;\n",
       "    }\n",
       "</style>\n",
       "<table border=\"1\" class=\"dataframe\">\n",
       "  <thead>\n",
       "    <tr style=\"text-align: right;\">\n",
       "      <th></th>\n",
       "      <th>Open</th>\n",
       "      <th>High</th>\n",
       "      <th>Low</th>\n",
       "      <th>Close</th>\n",
       "      <th>Volume</th>\n",
       "      <th>Run Up 252</th>\n",
       "      <th>Beta 63</th>\n",
       "      <th>EMA 100</th>\n",
       "      <th>SMA 100</th>\n",
       "      <th>SMA MOM 100</th>\n",
       "      <th>SP500 SMA 100</th>\n",
       "      <th>SP500 Vola 63</th>\n",
       "      <th>Sharpe 63</th>\n",
       "      <th>Vola 63</th>\n",
       "      <th>10 days future return</th>\n",
       "      <th>Weekday</th>\n",
       "      <th>Return class</th>\n",
       "    </tr>\n",
       "    <tr>\n",
       "      <th>Date</th>\n",
       "      <th></th>\n",
       "      <th></th>\n",
       "      <th></th>\n",
       "      <th></th>\n",
       "      <th></th>\n",
       "      <th></th>\n",
       "      <th></th>\n",
       "      <th></th>\n",
       "      <th></th>\n",
       "      <th></th>\n",
       "      <th></th>\n",
       "      <th></th>\n",
       "      <th></th>\n",
       "      <th></th>\n",
       "      <th></th>\n",
       "      <th></th>\n",
       "      <th></th>\n",
       "    </tr>\n",
       "  </thead>\n",
       "  <tbody>\n",
       "    <tr>\n",
       "      <th>2017-12-21</th>\n",
       "      <td>174.17</td>\n",
       "      <td>176.02</td>\n",
       "      <td>174.10</td>\n",
       "      <td>175.01</td>\n",
       "      <td>20949896</td>\n",
       "      <td>0.495045</td>\n",
       "      <td>0.141154</td>\n",
       "      <td>0.001409</td>\n",
       "      <td>0.001530</td>\n",
       "      <td>-0.000043</td>\n",
       "      <td>0.000797</td>\n",
       "      <td>1.454152</td>\n",
       "      <td>1.690945</td>\n",
       "      <td>2.485687</td>\n",
       "      <td>NaN</td>\n",
       "      <td>Thu</td>\n",
       "      <td>Neutral</td>\n",
       "    </tr>\n",
       "    <tr>\n",
       "      <th>2017-12-22</th>\n",
       "      <td>174.68</td>\n",
       "      <td>175.42</td>\n",
       "      <td>174.50</td>\n",
       "      <td>175.01</td>\n",
       "      <td>16349444</td>\n",
       "      <td>0.504945</td>\n",
       "      <td>0.139007</td>\n",
       "      <td>0.001379</td>\n",
       "      <td>0.001094</td>\n",
       "      <td>-0.000436</td>\n",
       "      <td>0.000789</td>\n",
       "      <td>1.442816</td>\n",
       "      <td>1.808430</td>\n",
       "      <td>2.460835</td>\n",
       "      <td>NaN</td>\n",
       "      <td>Fri</td>\n",
       "      <td>Neutral</td>\n",
       "    </tr>\n",
       "    <tr>\n",
       "      <th>2017-12-26</th>\n",
       "      <td>170.80</td>\n",
       "      <td>171.47</td>\n",
       "      <td>169.68</td>\n",
       "      <td>170.57</td>\n",
       "      <td>33185536</td>\n",
       "      <td>0.463869</td>\n",
       "      <td>0.138846</td>\n",
       "      <td>0.000813</td>\n",
       "      <td>0.000917</td>\n",
       "      <td>-0.000177</td>\n",
       "      <td>0.000795</td>\n",
       "      <td>1.429915</td>\n",
       "      <td>1.263734</td>\n",
       "      <td>2.506377</td>\n",
       "      <td>NaN</td>\n",
       "      <td>Tue</td>\n",
       "      <td>Neutral</td>\n",
       "    </tr>\n",
       "    <tr>\n",
       "      <th>2017-12-27</th>\n",
       "      <td>170.10</td>\n",
       "      <td>170.78</td>\n",
       "      <td>169.71</td>\n",
       "      <td>170.60</td>\n",
       "      <td>21498213</td>\n",
       "      <td>0.454887</td>\n",
       "      <td>0.137480</td>\n",
       "      <td>0.000800</td>\n",
       "      <td>0.000868</td>\n",
       "      <td>-0.000049</td>\n",
       "      <td>0.000782</td>\n",
       "      <td>1.418646</td>\n",
       "      <td>1.187278</td>\n",
       "      <td>2.483577</td>\n",
       "      <td>NaN</td>\n",
       "      <td>Wed</td>\n",
       "      <td>Neutral</td>\n",
       "    </tr>\n",
       "    <tr>\n",
       "      <th>2017-12-28</th>\n",
       "      <td>171.00</td>\n",
       "      <td>171.85</td>\n",
       "      <td>170.48</td>\n",
       "      <td>171.08</td>\n",
       "      <td>16480187</td>\n",
       "      <td>0.465228</td>\n",
       "      <td>0.138857</td>\n",
       "      <td>0.000841</td>\n",
       "      <td>0.000749</td>\n",
       "      <td>-0.000119</td>\n",
       "      <td>0.000785</td>\n",
       "      <td>1.405652</td>\n",
       "      <td>1.294132</td>\n",
       "      <td>2.465901</td>\n",
       "      <td>NaN</td>\n",
       "      <td>Thu</td>\n",
       "      <td>Neutral</td>\n",
       "    </tr>\n",
       "    <tr>\n",
       "      <th>2017-12-29</th>\n",
       "      <td>170.52</td>\n",
       "      <td>170.59</td>\n",
       "      <td>169.22</td>\n",
       "      <td>169.23</td>\n",
       "      <td>25999922</td>\n",
       "      <td>0.449756</td>\n",
       "      <td>0.142824</td>\n",
       "      <td>0.000601</td>\n",
       "      <td>0.000558</td>\n",
       "      <td>-0.000191</td>\n",
       "      <td>0.000768</td>\n",
       "      <td>1.413657</td>\n",
       "      <td>1.098579</td>\n",
       "      <td>2.456284</td>\n",
       "      <td>NaN</td>\n",
       "      <td>Fri</td>\n",
       "      <td>Neutral</td>\n",
       "    </tr>\n",
       "  </tbody>\n",
       "</table>\n",
       "</div>"
      ],
      "text/plain": [
       "              Open    High     Low   Close    Volume  Run Up 252   Beta 63  \\\n",
       "Date                                                                         \n",
       "2017-12-21  174.17  176.02  174.10  175.01  20949896    0.495045  0.141154   \n",
       "2017-12-22  174.68  175.42  174.50  175.01  16349444    0.504945  0.139007   \n",
       "2017-12-26  170.80  171.47  169.68  170.57  33185536    0.463869  0.138846   \n",
       "2017-12-27  170.10  170.78  169.71  170.60  21498213    0.454887  0.137480   \n",
       "2017-12-28  171.00  171.85  170.48  171.08  16480187    0.465228  0.138857   \n",
       "2017-12-29  170.52  170.59  169.22  169.23  25999922    0.449756  0.142824   \n",
       "\n",
       "             EMA 100   SMA 100  SMA MOM 100  SP500 SMA 100  SP500 Vola 63  \\\n",
       "Date                                                                        \n",
       "2017-12-21  0.001409  0.001530    -0.000043       0.000797       1.454152   \n",
       "2017-12-22  0.001379  0.001094    -0.000436       0.000789       1.442816   \n",
       "2017-12-26  0.000813  0.000917    -0.000177       0.000795       1.429915   \n",
       "2017-12-27  0.000800  0.000868    -0.000049       0.000782       1.418646   \n",
       "2017-12-28  0.000841  0.000749    -0.000119       0.000785       1.405652   \n",
       "2017-12-29  0.000601  0.000558    -0.000191       0.000768       1.413657   \n",
       "\n",
       "            Sharpe 63   Vola 63  10 days future return Weekday Return class  \n",
       "Date                                                                         \n",
       "2017-12-21   1.690945  2.485687                    NaN     Thu      Neutral  \n",
       "2017-12-22   1.808430  2.460835                    NaN     Fri      Neutral  \n",
       "2017-12-26   1.263734  2.506377                    NaN     Tue      Neutral  \n",
       "2017-12-27   1.187278  2.483577                    NaN     Wed      Neutral  \n",
       "2017-12-28   1.294132  2.465901                    NaN     Thu      Neutral  \n",
       "2017-12-29   1.098579  2.456284                    NaN     Fri      Neutral  "
      ]
     },
     "execution_count": 17,
     "metadata": {},
     "output_type": "execute_result"
    }
   ],
   "source": [
    "aapl.tail(6)"
   ]
  },
  {
   "cell_type": "code",
   "execution_count": 18,
   "metadata": {},
   "outputs": [],
   "source": [
    "aapl.drop(['Open', 'High', 'Low', 'Close', 'Volume', str(return_days) + ' days future return'], axis=1, inplace=True)\n",
    "aapl.dropna(inplace=True)"
   ]
  },
  {
   "cell_type": "markdown",
   "metadata": {},
   "source": [
    "### Resample umbalanced data and Train-test split"
   ]
  },
  {
   "cell_type": "code",
   "execution_count": 19,
   "metadata": {},
   "outputs": [],
   "source": [
    "from sklearn.model_selection import train_test_split\n",
    "from sklearn.utils import resample"
   ]
  },
  {
   "cell_type": "code",
   "execution_count": 20,
   "metadata": {},
   "outputs": [],
   "source": [
    "train_index = int(len(aapl) * 0.75)\n",
    "aapl_train = aapl.iloc[:train_index]\n",
    "aapl_test = aapl.iloc[train_index:]"
   ]
  },
  {
   "cell_type": "code",
   "execution_count": 21,
   "metadata": {},
   "outputs": [
    {
     "data": {
      "text/plain": [
       "Neutral    1477\n",
       "Neg         900\n",
       "Pos         900\n",
       "Name: Return class, dtype: int64"
      ]
     },
     "execution_count": 21,
     "metadata": {},
     "output_type": "execute_result"
    }
   ],
   "source": [
    "df_majority = aapl_train[aapl_train['Return class']=='Pos']\n",
    "df_minority = aapl_train[aapl_train['Return class']=='Neg']\n",
    "df_other = aapl_train[aapl_train['Return class']=='Neutral']\n",
    "\n",
    "df_minority_upsampled = resample(df_minority, \n",
    "                                 replace=True,\n",
    "                                 n_samples=len(df_majority))\n",
    "\n",
    "aapl_train = pd.concat([df_majority, df_minority_upsampled, df_other])\n",
    " \n",
    "aapl_train['Return class'].value_counts()"
   ]
  },
  {
   "cell_type": "code",
   "execution_count": 22,
   "metadata": {},
   "outputs": [],
   "source": [
    "X_train = aapl_train.drop('Return class', axis=1)\n",
    "X_test = aapl_test.drop('Return class', axis=1)\n",
    "y_train = aapl_train['Return class']\n",
    "y_test = aapl_test['Return class']"
   ]
  },
  {
   "cell_type": "code",
   "execution_count": 23,
   "metadata": {},
   "outputs": [],
   "source": [
    "trafos = [([col], StandardScaler()) for col in aapl.columns[:-2].tolist()]\n",
    "trafos = [('Weekday', LabelBinarizer())] + trafos\n",
    "#trafos += [('Return class', LabelBinarizer())]"
   ]
  },
  {
   "cell_type": "code",
   "execution_count": 24,
   "metadata": {},
   "outputs": [
    {
     "data": {
      "text/plain": [
       "[('Weekday', LabelBinarizer(neg_label=0, pos_label=1, sparse_output=False)),\n",
       " (['Run Up 252'], StandardScaler(copy=True, with_mean=True, with_std=True)),\n",
       " (['Beta 63'], StandardScaler(copy=True, with_mean=True, with_std=True)),\n",
       " (['EMA 100'], StandardScaler(copy=True, with_mean=True, with_std=True)),\n",
       " (['SMA 100'], StandardScaler(copy=True, with_mean=True, with_std=True)),\n",
       " (['SMA MOM 100'], StandardScaler(copy=True, with_mean=True, with_std=True)),\n",
       " (['SP500 SMA 100'], StandardScaler(copy=True, with_mean=True, with_std=True)),\n",
       " (['SP500 Vola 63'], StandardScaler(copy=True, with_mean=True, with_std=True)),\n",
       " (['Sharpe 63'], StandardScaler(copy=True, with_mean=True, with_std=True)),\n",
       " (['Vola 63'], StandardScaler(copy=True, with_mean=True, with_std=True))]"
      ]
     },
     "execution_count": 24,
     "metadata": {},
     "output_type": "execute_result"
    }
   ],
   "source": [
    "trafos"
   ]
  },
  {
   "cell_type": "code",
   "execution_count": 25,
   "metadata": {},
   "outputs": [],
   "source": [
    "mapper = DataFrameMapper(trafos, df_out=True, default=None)"
   ]
  },
  {
   "cell_type": "code",
   "execution_count": 26,
   "metadata": {},
   "outputs": [
    {
     "data": {
      "text/html": [
       "<div>\n",
       "<style scoped>\n",
       "    .dataframe tbody tr th:only-of-type {\n",
       "        vertical-align: middle;\n",
       "    }\n",
       "\n",
       "    .dataframe tbody tr th {\n",
       "        vertical-align: top;\n",
       "    }\n",
       "\n",
       "    .dataframe thead th {\n",
       "        text-align: right;\n",
       "    }\n",
       "</style>\n",
       "<table border=\"1\" class=\"dataframe\">\n",
       "  <thead>\n",
       "    <tr style=\"text-align: right;\">\n",
       "      <th></th>\n",
       "      <th>Weekday_Fri</th>\n",
       "      <th>Weekday_Mon</th>\n",
       "      <th>Weekday_Thu</th>\n",
       "      <th>Weekday_Tue</th>\n",
       "      <th>Weekday_Wed</th>\n",
       "      <th>Run Up 252</th>\n",
       "      <th>Beta 63</th>\n",
       "      <th>EMA 100</th>\n",
       "      <th>SMA 100</th>\n",
       "      <th>SMA MOM 100</th>\n",
       "      <th>SP500 SMA 100</th>\n",
       "      <th>SP500 Vola 63</th>\n",
       "      <th>Sharpe 63</th>\n",
       "      <th>Vola 63</th>\n",
       "    </tr>\n",
       "    <tr>\n",
       "      <th>Date</th>\n",
       "      <th></th>\n",
       "      <th></th>\n",
       "      <th></th>\n",
       "      <th></th>\n",
       "      <th></th>\n",
       "      <th></th>\n",
       "      <th></th>\n",
       "      <th></th>\n",
       "      <th></th>\n",
       "      <th></th>\n",
       "      <th></th>\n",
       "      <th></th>\n",
       "      <th></th>\n",
       "      <th></th>\n",
       "    </tr>\n",
       "  </thead>\n",
       "  <tbody>\n",
       "    <tr>\n",
       "      <th>2003-04-11</th>\n",
       "      <td>1.0</td>\n",
       "      <td>0.0</td>\n",
       "      <td>0.0</td>\n",
       "      <td>0.0</td>\n",
       "      <td>0.0</td>\n",
       "      <td>-1.672967</td>\n",
       "      <td>-1.197562</td>\n",
       "      <td>-1.414049</td>\n",
       "      <td>-1.255014</td>\n",
       "      <td>-1.959955</td>\n",
       "      <td>-0.547869</td>\n",
       "      <td>0.304282</td>\n",
       "      <td>-1.227848</td>\n",
       "      <td>-1.220869</td>\n",
       "    </tr>\n",
       "    <tr>\n",
       "      <th>2003-04-15</th>\n",
       "      <td>0.0</td>\n",
       "      <td>0.0</td>\n",
       "      <td>0.0</td>\n",
       "      <td>1.0</td>\n",
       "      <td>0.0</td>\n",
       "      <td>-1.678483</td>\n",
       "      <td>-1.244461</td>\n",
       "      <td>-1.243625</td>\n",
       "      <td>-1.008104</td>\n",
       "      <td>0.545166</td>\n",
       "      <td>-0.373836</td>\n",
       "      <td>0.299802</td>\n",
       "      <td>-1.042360</td>\n",
       "      <td>-1.221293</td>\n",
       "    </tr>\n",
       "    <tr>\n",
       "      <th>2003-04-16</th>\n",
       "      <td>0.0</td>\n",
       "      <td>0.0</td>\n",
       "      <td>0.0</td>\n",
       "      <td>0.0</td>\n",
       "      <td>1.0</td>\n",
       "      <td>-1.696305</td>\n",
       "      <td>-1.261481</td>\n",
       "      <td>-1.303307</td>\n",
       "      <td>-1.115648</td>\n",
       "      <td>-0.850594</td>\n",
       "      <td>-0.275859</td>\n",
       "      <td>0.283765</td>\n",
       "      <td>-1.046736</td>\n",
       "      <td>-1.220696</td>\n",
       "    </tr>\n",
       "    <tr>\n",
       "      <th>2003-04-17</th>\n",
       "      <td>0.0</td>\n",
       "      <td>0.0</td>\n",
       "      <td>1.0</td>\n",
       "      <td>0.0</td>\n",
       "      <td>0.0</td>\n",
       "      <td>-1.687009</td>\n",
       "      <td>-1.188162</td>\n",
       "      <td>-1.362169</td>\n",
       "      <td>-1.366499</td>\n",
       "      <td>-1.974284</td>\n",
       "      <td>-0.641083</td>\n",
       "      <td>0.290914</td>\n",
       "      <td>-1.160033</td>\n",
       "      <td>-1.220643</td>\n",
       "    </tr>\n",
       "    <tr>\n",
       "      <th>2003-04-21</th>\n",
       "      <td>0.0</td>\n",
       "      <td>1.0</td>\n",
       "      <td>0.0</td>\n",
       "      <td>0.0</td>\n",
       "      <td>0.0</td>\n",
       "      <td>-1.668181</td>\n",
       "      <td>-1.236549</td>\n",
       "      <td>-1.347784</td>\n",
       "      <td>-1.260943</td>\n",
       "      <td>0.820359</td>\n",
       "      <td>-0.683601</td>\n",
       "      <td>0.279006</td>\n",
       "      <td>-1.003588</td>\n",
       "      <td>-1.221393</td>\n",
       "    </tr>\n",
       "  </tbody>\n",
       "</table>\n",
       "</div>"
      ],
      "text/plain": [
       "            Weekday_Fri  Weekday_Mon  Weekday_Thu  Weekday_Tue  Weekday_Wed  \\\n",
       "Date                                                                          \n",
       "2003-04-11          1.0          0.0          0.0          0.0          0.0   \n",
       "2003-04-15          0.0          0.0          0.0          1.0          0.0   \n",
       "2003-04-16          0.0          0.0          0.0          0.0          1.0   \n",
       "2003-04-17          0.0          0.0          1.0          0.0          0.0   \n",
       "2003-04-21          0.0          1.0          0.0          0.0          0.0   \n",
       "\n",
       "            Run Up 252   Beta 63   EMA 100   SMA 100  SMA MOM 100  \\\n",
       "Date                                                                \n",
       "2003-04-11   -1.672967 -1.197562 -1.414049 -1.255014    -1.959955   \n",
       "2003-04-15   -1.678483 -1.244461 -1.243625 -1.008104     0.545166   \n",
       "2003-04-16   -1.696305 -1.261481 -1.303307 -1.115648    -0.850594   \n",
       "2003-04-17   -1.687009 -1.188162 -1.362169 -1.366499    -1.974284   \n",
       "2003-04-21   -1.668181 -1.236549 -1.347784 -1.260943     0.820359   \n",
       "\n",
       "            SP500 SMA 100  SP500 Vola 63  Sharpe 63   Vola 63  \n",
       "Date                                                           \n",
       "2003-04-11      -0.547869       0.304282  -1.227848 -1.220869  \n",
       "2003-04-15      -0.373836       0.299802  -1.042360 -1.221293  \n",
       "2003-04-16      -0.275859       0.283765  -1.046736 -1.220696  \n",
       "2003-04-17      -0.641083       0.290914  -1.160033 -1.220643  \n",
       "2003-04-21      -0.683601       0.279006  -1.003588 -1.221393  "
      ]
     },
     "execution_count": 26,
     "metadata": {},
     "output_type": "execute_result"
    }
   ],
   "source": [
    "X_train = mapper.fit_transform(X_train)\n",
    "X_test = mapper.transform(X_test)\n",
    "X_train.head()"
   ]
  },
  {
   "cell_type": "code",
   "execution_count": 27,
   "metadata": {},
   "outputs": [
    {
     "data": {
      "text/html": [
       "<div>\n",
       "<style scoped>\n",
       "    .dataframe tbody tr th:only-of-type {\n",
       "        vertical-align: middle;\n",
       "    }\n",
       "\n",
       "    .dataframe tbody tr th {\n",
       "        vertical-align: top;\n",
       "    }\n",
       "\n",
       "    .dataframe thead th {\n",
       "        text-align: right;\n",
       "    }\n",
       "</style>\n",
       "<table border=\"1\" class=\"dataframe\">\n",
       "  <thead>\n",
       "    <tr style=\"text-align: right;\">\n",
       "      <th></th>\n",
       "      <th>Weekday_Fri</th>\n",
       "      <th>Weekday_Mon</th>\n",
       "      <th>Weekday_Thu</th>\n",
       "      <th>Weekday_Tue</th>\n",
       "      <th>Weekday_Wed</th>\n",
       "      <th>Run Up 252</th>\n",
       "      <th>Beta 63</th>\n",
       "      <th>EMA 100</th>\n",
       "      <th>SMA 100</th>\n",
       "      <th>SMA MOM 100</th>\n",
       "      <th>SP500 SMA 100</th>\n",
       "      <th>SP500 Vola 63</th>\n",
       "      <th>Sharpe 63</th>\n",
       "      <th>Vola 63</th>\n",
       "    </tr>\n",
       "    <tr>\n",
       "      <th>Date</th>\n",
       "      <th></th>\n",
       "      <th></th>\n",
       "      <th></th>\n",
       "      <th></th>\n",
       "      <th></th>\n",
       "      <th></th>\n",
       "      <th></th>\n",
       "      <th></th>\n",
       "      <th></th>\n",
       "      <th></th>\n",
       "      <th></th>\n",
       "      <th></th>\n",
       "      <th></th>\n",
       "      <th></th>\n",
       "    </tr>\n",
       "  </thead>\n",
       "  <tbody>\n",
       "    <tr>\n",
       "      <th>2014-04-14</th>\n",
       "      <td>0.0</td>\n",
       "      <td>1.0</td>\n",
       "      <td>0.0</td>\n",
       "      <td>0.0</td>\n",
       "      <td>0.0</td>\n",
       "      <td>-0.509175</td>\n",
       "      <td>0.947928</td>\n",
       "      <td>-0.644095</td>\n",
       "      <td>-0.523799</td>\n",
       "      <td>0.453058</td>\n",
       "      <td>-0.041434</td>\n",
       "      <td>-0.060189</td>\n",
       "      <td>-0.832390</td>\n",
       "      <td>0.823886</td>\n",
       "    </tr>\n",
       "    <tr>\n",
       "      <th>2014-04-15</th>\n",
       "      <td>0.0</td>\n",
       "      <td>0.0</td>\n",
       "      <td>0.0</td>\n",
       "      <td>1.0</td>\n",
       "      <td>0.0</td>\n",
       "      <td>-0.553684</td>\n",
       "      <td>0.820266</td>\n",
       "      <td>-0.696738</td>\n",
       "      <td>-0.556310</td>\n",
       "      <td>-0.262250</td>\n",
       "      <td>0.040356</td>\n",
       "      <td>-0.034369</td>\n",
       "      <td>-1.057906</td>\n",
       "      <td>0.829976</td>\n",
       "    </tr>\n",
       "    <tr>\n",
       "      <th>2014-04-16</th>\n",
       "      <td>0.0</td>\n",
       "      <td>0.0</td>\n",
       "      <td>0.0</td>\n",
       "      <td>0.0</td>\n",
       "      <td>1.0</td>\n",
       "      <td>-0.434695</td>\n",
       "      <td>0.810885</td>\n",
       "      <td>-0.678765</td>\n",
       "      <td>-0.517491</td>\n",
       "      <td>0.297071</td>\n",
       "      <td>0.163233</td>\n",
       "      <td>-0.030894</td>\n",
       "      <td>-1.214329</td>\n",
       "      <td>0.822872</td>\n",
       "    </tr>\n",
       "    <tr>\n",
       "      <th>2014-04-17</th>\n",
       "      <td>0.0</td>\n",
       "      <td>0.0</td>\n",
       "      <td>1.0</td>\n",
       "      <td>0.0</td>\n",
       "      <td>0.0</td>\n",
       "      <td>-0.352983</td>\n",
       "      <td>0.803767</td>\n",
       "      <td>-0.590473</td>\n",
       "      <td>-0.518949</td>\n",
       "      <td>-0.018749</td>\n",
       "      <td>0.105094</td>\n",
       "      <td>-0.042181</td>\n",
       "      <td>-1.070549</td>\n",
       "      <td>0.822830</td>\n",
       "    </tr>\n",
       "    <tr>\n",
       "      <th>2014-04-21</th>\n",
       "      <td>0.0</td>\n",
       "      <td>1.0</td>\n",
       "      <td>0.0</td>\n",
       "      <td>0.0</td>\n",
       "      <td>0.0</td>\n",
       "      <td>-0.318541</td>\n",
       "      <td>0.801193</td>\n",
       "      <td>-0.499845</td>\n",
       "      <td>-0.466551</td>\n",
       "      <td>0.403537</td>\n",
       "      <td>0.092596</td>\n",
       "      <td>-0.064755</td>\n",
       "      <td>-0.770756</td>\n",
       "      <td>0.820651</td>\n",
       "    </tr>\n",
       "  </tbody>\n",
       "</table>\n",
       "</div>"
      ],
      "text/plain": [
       "            Weekday_Fri  Weekday_Mon  Weekday_Thu  Weekday_Tue  Weekday_Wed  \\\n",
       "Date                                                                          \n",
       "2014-04-14          0.0          1.0          0.0          0.0          0.0   \n",
       "2014-04-15          0.0          0.0          0.0          1.0          0.0   \n",
       "2014-04-16          0.0          0.0          0.0          0.0          1.0   \n",
       "2014-04-17          0.0          0.0          1.0          0.0          0.0   \n",
       "2014-04-21          0.0          1.0          0.0          0.0          0.0   \n",
       "\n",
       "            Run Up 252   Beta 63   EMA 100   SMA 100  SMA MOM 100  \\\n",
       "Date                                                                \n",
       "2014-04-14   -0.509175  0.947928 -0.644095 -0.523799     0.453058   \n",
       "2014-04-15   -0.553684  0.820266 -0.696738 -0.556310    -0.262250   \n",
       "2014-04-16   -0.434695  0.810885 -0.678765 -0.517491     0.297071   \n",
       "2014-04-17   -0.352983  0.803767 -0.590473 -0.518949    -0.018749   \n",
       "2014-04-21   -0.318541  0.801193 -0.499845 -0.466551     0.403537   \n",
       "\n",
       "            SP500 SMA 100  SP500 Vola 63  Sharpe 63   Vola 63  \n",
       "Date                                                           \n",
       "2014-04-14      -0.041434      -0.060189  -0.832390  0.823886  \n",
       "2014-04-15       0.040356      -0.034369  -1.057906  0.829976  \n",
       "2014-04-16       0.163233      -0.030894  -1.214329  0.822872  \n",
       "2014-04-17       0.105094      -0.042181  -1.070549  0.822830  \n",
       "2014-04-21       0.092596      -0.064755  -0.770756  0.820651  "
      ]
     },
     "execution_count": 27,
     "metadata": {},
     "output_type": "execute_result"
    }
   ],
   "source": [
    "X_test.head()"
   ]
  },
  {
   "cell_type": "markdown",
   "metadata": {},
   "source": [
    "# ML model"
   ]
  },
  {
   "cell_type": "code",
   "execution_count": 28,
   "metadata": {},
   "outputs": [
    {
     "name": "stderr",
     "output_type": "stream",
     "text": [
      "C:\\DEV\\Anaconda3\\envs\\trading\\lib\\site-packages\\sklearn\\cross_validation.py:41: DeprecationWarning: This module was deprecated in version 0.18 in favor of the model_selection module into which all the refactored classes and functions are moved. Also note that the interface of the new CV iterators are different from that of this module. This module will be removed in 0.20.\n",
      "  \"This module will be removed in 0.20.\", DeprecationWarning)\n",
      "C:\\DEV\\Anaconda3\\envs\\trading\\lib\\site-packages\\sklearn\\grid_search.py:42: DeprecationWarning: This module was deprecated in version 0.18 in favor of the model_selection module into which all the refactored classes and functions are moved. This module will be removed in 0.20.\n",
      "  DeprecationWarning)\n"
     ]
    }
   ],
   "source": [
    "from sklearn.neighbors import KNeighborsClassifier\n",
    "from sklearn.ensemble import RandomForestClassifier, ExtraTreesClassifier\n",
    "from sklearn.grid_search import GridSearchCV\n",
    "\n",
    "from sklearn.metrics import accuracy_score, classification_report, confusion_matrix"
   ]
  },
  {
   "cell_type": "code",
   "execution_count": 29,
   "metadata": {},
   "outputs": [],
   "source": [
    "def fit_and_print(grid, X_test, y_test, proba_min=None):\n",
    "    grid.fit(X_train, y_train)\n",
    "    best_estimator = grid.best_estimator_\n",
    "    print('Best estimator:\\n', str(best_estimator))\n",
    "    \n",
    "    if proba_min:\n",
    "        proba = best_estimator.predict_proba(X_test)\n",
    "        relevant = (proba[:,0] > proba_min) | (proba[:,2] > proba_min)\n",
    "        X_test = X_test[relevant]\n",
    "        y_test = y_test[relevant]\n",
    "        \n",
    "    y_pred = best_estimator.predict(X_test)\n",
    "    \n",
    "    print('Accuracy score:', str(accuracy_score(y_test, y_pred)))\n",
    "    print('Classification report\\n', classification_report(y_test, y_pred))\n",
    "    print('Confusion matrix\\n', str(confusion_matrix(y_test, y_pred)))"
   ]
  },
  {
   "cell_type": "markdown",
   "metadata": {},
   "source": [
    "### K nearest"
   ]
  },
  {
   "cell_type": "code",
   "execution_count": 30,
   "metadata": {},
   "outputs": [],
   "source": [
    "params = {'n_neighbors': np.arange(5,20,5),\n",
    "          'metric': ['euclidean', 'manhattan', 'cityblock'],\n",
    "          'leaf_size': np.arange(5,20,5), \n",
    "          'algorithm' : ['auto']}\n",
    "grid = GridSearchCV(estimator=KNeighborsClassifier(n_jobs=4), param_grid=params, scoring='f1_weighted')"
   ]
  },
  {
   "cell_type": "code",
   "execution_count": 31,
   "metadata": {},
   "outputs": [
    {
     "name": "stdout",
     "output_type": "stream",
     "text": [
      "Best estimator:\n",
      " KNeighborsClassifier(algorithm='auto', leaf_size=5, metric='euclidean',\n",
      "           metric_params=None, n_jobs=4, n_neighbors=5, p=2,\n",
      "           weights='uniform')\n",
      "Accuracy score: 0.4386339381\n",
      "Classification report\n",
      "              precision    recall  f1-score   support\n",
      "\n",
      "        Neg       0.09      0.47      0.16        77\n",
      "    Neutral       0.77      0.51      0.62       707\n",
      "        Pos       0.13      0.07      0.09       153\n",
      "\n",
      "avg / total       0.61      0.44      0.49       937\n",
      "\n",
      "Confusion matrix\n",
      " [[ 36  27  14]\n",
      " [284 364  59]\n",
      " [ 62  80  11]]\n"
     ]
    }
   ],
   "source": [
    "fit_and_print(grid, X_test, y_test)"
   ]
  },
  {
   "cell_type": "markdown",
   "metadata": {},
   "source": [
    "### Random Forest"
   ]
  },
  {
   "cell_type": "code",
   "execution_count": 32,
   "metadata": {},
   "outputs": [],
   "source": [
    "params = {'n_estimators': np.arange(5,21,5),\n",
    "          'max_features': np.arange(2,7),\n",
    "          'min_samples_split': [2,3]}\n",
    "grid = GridSearchCV(estimator=RandomForestClassifier(n_jobs=6, class_weight='balanced_subsample'), param_grid=params, scoring='f1_micro')\n",
    "# grid = GridSearchCV(estimator=RandomForestClassifier(n_jobs=6, class_weight='balanced_subsample'), param_grid=params, scoring='f1_weighted')"
   ]
  },
  {
   "cell_type": "code",
   "execution_count": 33,
   "metadata": {},
   "outputs": [
    {
     "name": "stdout",
     "output_type": "stream",
     "text": [
      "Best estimator:\n",
      " RandomForestClassifier(bootstrap=True, class_weight='balanced_subsample',\n",
      "            criterion='gini', max_depth=None, max_features=3,\n",
      "            max_leaf_nodes=None, min_impurity_decrease=0.0,\n",
      "            min_impurity_split=None, min_samples_leaf=1,\n",
      "            min_samples_split=3, min_weight_fraction_leaf=0.0,\n",
      "            n_estimators=5, n_jobs=6, oob_score=False, random_state=None,\n",
      "            verbose=0, warm_start=False)\n",
      "Accuracy score: 0.679829242263\n",
      "Classification report\n",
      "              precision    recall  f1-score   support\n",
      "\n",
      "        Neg       0.07      0.08      0.07        77\n",
      "    Neutral       0.76      0.86      0.81       707\n",
      "        Pos       0.45      0.14      0.22       153\n",
      "\n",
      "avg / total       0.65      0.68      0.65       937\n",
      "\n",
      "Confusion matrix\n",
      " [[  6  70   1]\n",
      " [ 72 609  26]\n",
      " [  7 124  22]]\n"
     ]
    }
   ],
   "source": [
    "fit_and_print(grid, X_test, y_test)"
   ]
  },
  {
   "cell_type": "markdown",
   "metadata": {},
   "source": [
    "### Neural net"
   ]
  },
  {
   "cell_type": "code",
   "execution_count": 34,
   "metadata": {},
   "outputs": [],
   "source": [
    "from sklearn.neural_network import MLPClassifier"
   ]
  },
  {
   "cell_type": "code",
   "execution_count": 35,
   "metadata": {},
   "outputs": [],
   "source": [
    "params = {'alpha': [1e-5],\n",
    "          'hidden_layer_sizes': [(4,3), (5,3), (8,3), (10,8,3), (10, 5, 3), (5,4,4,3)]}\n",
    "\n",
    "grid = GridSearchCV(estimator=MLPClassifier(max_iter=2000, batch_size=128), param_grid=params, scoring='f1_weighted')"
   ]
  },
  {
   "cell_type": "code",
   "execution_count": 36,
   "metadata": {},
   "outputs": [
    {
     "name": "stderr",
     "output_type": "stream",
     "text": [
      "C:\\DEV\\Anaconda3\\envs\\trading\\lib\\site-packages\\sklearn\\metrics\\classification.py:1135: UndefinedMetricWarning: F-score is ill-defined and being set to 0.0 in labels with no predicted samples.\n",
      "  'precision', 'predicted', average, warn_for)\n",
      "C:\\DEV\\Anaconda3\\envs\\trading\\lib\\site-packages\\sklearn\\metrics\\classification.py:1135: UndefinedMetricWarning: F-score is ill-defined and being set to 0.0 in labels with no predicted samples.\n",
      "  'precision', 'predicted', average, warn_for)\n"
     ]
    },
    {
     "name": "stdout",
     "output_type": "stream",
     "text": [
      "Best estimator:\n",
      " MLPClassifier(activation='relu', alpha=1e-05, batch_size=128, beta_1=0.9,\n",
      "       beta_2=0.999, early_stopping=False, epsilon=1e-08,\n",
      "       hidden_layer_sizes=(5, 3), learning_rate='constant',\n",
      "       learning_rate_init=0.001, max_iter=2000, momentum=0.9,\n",
      "       nesterovs_momentum=True, power_t=0.5, random_state=None,\n",
      "       shuffle=True, solver='adam', tol=0.0001, validation_fraction=0.1,\n",
      "       verbose=False, warm_start=False)\n",
      "Accuracy score: 0.595517609392\n",
      "Classification report\n",
      "              precision    recall  f1-score   support\n",
      "\n",
      "        Neg       0.03      0.06      0.04        77\n",
      "    Neutral       0.73      0.78      0.76       707\n",
      "        Pos       0.22      0.01      0.02       153\n",
      "\n",
      "avg / total       0.59      0.60      0.58       937\n",
      "\n",
      "Confusion matrix\n",
      " [[  5  72   0]\n",
      " [149 551   7]\n",
      " [ 24 127   2]]\n"
     ]
    }
   ],
   "source": [
    "fit_and_print(grid, X_test, y_test)"
   ]
  },
  {
   "cell_type": "code",
   "execution_count": null,
   "metadata": {},
   "outputs": [],
   "source": []
  }
 ],
 "metadata": {
  "kernelspec": {
   "display_name": "Python 3",
   "language": "python",
   "name": "python3"
  },
  "language_info": {
   "codemirror_mode": {
    "name": "ipython",
    "version": 3
   },
   "file_extension": ".py",
   "mimetype": "text/x-python",
   "name": "python",
   "nbconvert_exporter": "python",
   "pygments_lexer": "ipython3",
   "version": "3.6.3"
  }
 },
 "nbformat": 4,
 "nbformat_minor": 2
}
