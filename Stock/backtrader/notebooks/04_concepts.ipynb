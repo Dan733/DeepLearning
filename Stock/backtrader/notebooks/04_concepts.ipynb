{
 "cells": [
  {
   "cell_type": "code",
   "execution_count": 1,
   "metadata": {},
   "outputs": [],
   "source": [
    "import backtrader as bt\n",
    "import backtrader.indicators as btind\n",
    "import backtrader.feeds as btfeeds"
   ]
  },
  {
   "cell_type": "code",
   "execution_count": 3,
   "metadata": {},
   "outputs": [],
   "source": [
    "class MyStrategy(bt.Strategy):\n",
    "    params = dict(period1=20, period2=25, period3=10)\n",
    "\n",
    "    def __init__(self):\n",
    "\n",
    "        sma1 = btind.SimpleMovingAverage(self.datas[0], period=self.p.period1)\n",
    "\n",
    "        # This 2nd Moving Average operates using sma1 as \"data\"\n",
    "        sma2 = btind.SimpleMovingAverage(sma1, period=self.p.period2)\n",
    "\n",
    "        # New data created via arithmetic operation\n",
    "        something = sma2 - sma1 + self.data.close\n",
    "\n",
    "        # This 3rd Moving Average operates using something  as \"data\"\n",
    "        sma3 = btind.SimpleMovingAverage(something, period=self.p.period3)\n",
    "\n",
    "        # Comparison operators work too ...\n",
    "        greater = sma3 > sma"
   ]
  },
  {
   "cell_type": "code",
   "execution_count": 7,
   "metadata": {},
   "outputs": [],
   "source": [
    "# myslice = self.my_sma[-3:-1]  # from last value backwards to the 3rd last value\n",
    "# myslice = self.my_sma.get(size=50) # The leftmost value is the oldest one and the rightmost value is the most current "
   ]
  },
  {
   "cell_type": "code",
   "execution_count": 9,
   "metadata": {},
   "outputs": [],
   "source": [
    "# the comparison self.data.close(-1) > self.sma generates another lines object,\n",
    "# which returns either 1 if the condition is True or 0 if False\n",
    "\n",
    "class MyStrategy(bt.Strategy):\n",
    "    params = dict(period=20)\n",
    "\n",
    "    def __init__(self):\n",
    "\n",
    "        self.movav = btind.SimpleMovingAverage(self.data, period=self.p.period)\n",
    "        self.cmpval = self.data.close(-1) > self.sma\n",
    "\n",
    "    def next(self):\n",
    "        if self.cmpval[0]:\n",
    "            print('Previous close is higher than the moving average')"
   ]
  },
  {
   "cell_type": "code",
   "execution_count": null,
   "metadata": {},
   "outputs": [],
   "source": []
  }
 ],
 "metadata": {
  "kernelspec": {
   "display_name": "Python 3",
   "language": "python",
   "name": "python3"
  },
  "language_info": {
   "codemirror_mode": {
    "name": "ipython",
    "version": 3
   },
   "file_extension": ".py",
   "mimetype": "text/x-python",
   "name": "python",
   "nbconvert_exporter": "python",
   "pygments_lexer": "ipython3",
   "version": "3.6.2"
  }
 },
 "nbformat": 4,
 "nbformat_minor": 2
}
