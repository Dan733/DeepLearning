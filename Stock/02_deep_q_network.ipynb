{
 "cells": [
  {
   "cell_type": "markdown",
   "metadata": {},
   "source": [
    "# Q Function\n",
    "* used to approximate the reward based on a state\n",
    "* Q(s,a) calculates the expected future value from state **s** and action **a**\n",
    "* in DQN, we use a **neural network to approximate the reward**"
   ]
  },
  {
   "cell_type": "markdown",
   "metadata": {},
   "source": [
    "# Classes\n",
    "* Environment\n",
    "* Agent\n",
    "* Runner"
   ]
  },
  {
   "cell_type": "markdown",
   "metadata": {},
   "source": [
    "## Environment"
   ]
  },
  {
   "cell_type": "code",
   "execution_count": 1,
   "metadata": {
    "collapsed": true
   },
   "outputs": [],
   "source": [
    "class Action:\n",
    "    def __init__(self, act, days, percentage):\n",
    "        self.act = act\n",
    "        self.days = days\n",
    "        self.percentage = percentage"
   ]
  },
  {
   "cell_type": "code",
   "execution_count": 2,
   "metadata": {
    "collapsed": true
   },
   "outputs": [],
   "source": [
    "import numpy as np\n",
    "import pandas as pd\n",
    "import pandas_datareader as pdr\n",
    "import datetime\n",
    "\n",
    "BUY = 'buy'\n",
    "SELL = 'sell'\n",
    "SKIP = 'skip'\n",
    "\n",
    "class Environment:\n",
    "    \n",
    "    min_days_to_hold = 2\n",
    "    max_days_to_hold = 15\n",
    "    max_drawdowns = 3\n",
    "    \n",
    "    def __init__(self, \n",
    "                 ticker, \n",
    "                 initial_deposit = 100000,\n",
    "                 from_date = datetime.datetime(2007, 1, 1), \n",
    "                 to_date = datetime.datetime(2017, 1, 1),\n",
    "                 window = 50):\n",
    "        self.initial_deposit = initial_deposit\n",
    "        self.window = window\n",
    "        self.data = pdr.get_data_google(ticker, from_date, to_date)\n",
    "        self.pct_data = self.data.pct_change().fillna(0)\n",
    "        self.data_length = len(self.data)\n",
    "        \n",
    "        actions = np.array([BUY, SELL, SKIP])\n",
    "        days_to_holds = np.arange(Environment.min_days_to_hold, \n",
    "                                  Environment.max_days_to_hold + 1,\n",
    "                                  2)\n",
    "        \n",
    "        self.action_space = [Action(act, days, 3) for act in actions for days in days_to_holds]\n",
    "        self.reset()\n",
    "        \n",
    "    def reset(self):\n",
    "        self.deposit = self.initial_deposit\n",
    "        self.current_index = self.window\n",
    "        self.actions = {}\n",
    "        self.drawdowns = 0\n",
    "        \n",
    "        return self.state()\n",
    "    \n",
    "    def score(self):\n",
    "        return self.deposit\n",
    "    \n",
    "    def enough_data_provided(self):\n",
    "        return self.current_index + Environment.max_days_to_hold <= self.data_length\n",
    "    \n",
    "    def state(self):\n",
    "        return self.pct_data.iloc[self.current_index - self.window:self.current_index]['Close']\n",
    "    \n",
    "    # def price_state(self):\n",
    "    #    return self.data.iloc[self.current_index - self.window:self.current_index]['Close']\n",
    "        \n",
    "    def state_size(self):\n",
    "        return self.window\n",
    "    \n",
    "    def action_size(self):\n",
    "        return len(self.action_space)\n",
    "        \n",
    "    def step(self, action_idx: int):\n",
    "        action = self.action_space[action_idx]\n",
    "        #print('\\t=> current action is: {} at {}'.format(action, self.data.index[self.current_index]))\n",
    "        \n",
    "        df = self.data.iloc[self.current_index: self.current_index + action.days]\n",
    "        on_date = df.index[0]\n",
    "        first_day_price = df.iloc[0]['Close']\n",
    "        last_day_price = df.iloc[-1]['Close']\n",
    "        \n",
    "        if action.act == BUY:\n",
    "            reward = last_day_price - first_day_price\n",
    "        elif action.act == SELL:\n",
    "            reward = first_day_price - last_day_price\n",
    "        elif action.act == SKIP:\n",
    "            reward = 0\n",
    "            \n",
    "        self.actions[on_date] = (action, reward)\n",
    "        \n",
    "        self.current_index += action.days\n",
    "        self.deposit += reward * (self.deposit*action.percentage/100)\n",
    "        \n",
    "        if reward < 0:\n",
    "            self.drawdowns += 1\n",
    "        else:\n",
    "            self.drawdowns = 0\n",
    "        \n",
    "        next_state = self.state()\n",
    "        done = self.drawdowns > Environment.max_drawdowns\n",
    "        _ = None\n",
    "        return next_state, reward, done, _ "
   ]
  },
  {
   "cell_type": "markdown",
   "metadata": {},
   "source": [
    "## Agent"
   ]
  },
  {
   "cell_type": "code",
   "execution_count": 3,
   "metadata": {},
   "outputs": [
    {
     "name": "stderr",
     "output_type": "stream",
     "text": [
      "Using TensorFlow backend.\n"
     ]
    }
   ],
   "source": [
    "import random\n",
    "from collections import deque\n",
    "from keras.models import Sequential\n",
    "from keras.layers import Dense\n",
    "from keras.optimizers import Adam\n",
    "from keras.losses import mean_squared_error\n",
    "\n",
    "class Agent:\n",
    "    def __init__(self, state_size, action_size):\n",
    "        self.state_size = state_size\n",
    "        self.action_size = action_size\n",
    "        self.memory = deque(maxlen=2000)\n",
    "        self.gamma = 0.95    # discount rate\n",
    "        self.epsilon = 1.0  # exploration rate\n",
    "        self.epsilon_min = 0.05\n",
    "        self.epsilon_decay = 0.999\n",
    "        self.learning_rate = 0.001\n",
    "        self.model = self._build_model()\n",
    "        self.target_model = self._build_model()\n",
    "        self.update_target_model()\n",
    "    \n",
    "    def _build_model(self):\n",
    "        # Neural Net for Deep-Q learning Model\n",
    "        model = Sequential()\n",
    "        model.add(Dense(48, input_dim=self.state_size, activation='relu'))\n",
    "        model.add(Dense(36, activation='relu'))\n",
    "        model.add(Dense(24, activation='relu'))\n",
    "        model.add(Dense(self.action_size, activation='linear'))\n",
    "        model.compile(loss=mean_squared_error,\n",
    "                      optimizer=Adam(lr=self.learning_rate))\n",
    "        return model\n",
    "    \n",
    "    def update_target_model(self):\n",
    "        self.target_model.set_weights(self.model.get_weights())\n",
    "\n",
    "    def remember(self, state, action, reward, next_state, done):\n",
    "        self.memory.append((state, action, reward, next_state, done))\n",
    "\n",
    "    def act(self, state):\n",
    "        if np.random.rand() <= self.epsilon:\n",
    "            return random.randrange(self.action_size)\n",
    "        act_values = self.model.predict(state)\n",
    "        return np.argmax(act_values[0])  # returns action\n",
    "\n",
    "    def replay(self, batch_size):\n",
    "        minibatch = random.sample(self.memory, batch_size)\n",
    "        for state, action, reward, next_state, done in minibatch:\n",
    "            target = self.model.predict(state)\n",
    "            if done:\n",
    "                target[0][action] = reward\n",
    "            else:\n",
    "                a = self.model.predict(next_state)[0]\n",
    "                t = self.target_model.predict(next_state)[0]\n",
    "                target[0][action] = reward + self.gamma * t[np.argmax(a)]\n",
    "            self.model.fit(state, target, epochs=1, verbose=0)\n",
    "        if self.epsilon > self.epsilon_min:\n",
    "            self.epsilon *= self.epsilon_decay\n",
    "\n",
    "    def load(self, name):\n",
    "        self.model.load_weights(name)\n",
    "\n",
    "    def save(self, name):\n",
    "        self.model.save_weights(name)"
   ]
  },
  {
   "cell_type": "markdown",
   "metadata": {},
   "source": [
    "## Runner"
   ]
  },
  {
   "cell_type": "code",
   "execution_count": 4,
   "metadata": {},
   "outputs": [
    {
     "name": "stdout",
     "output_type": "stream",
     "text": [
      "Action size: 21, state size: 50\n"
     ]
    }
   ],
   "source": [
    "env = Environment('AAPL')\n",
    "state_size = env.state_size()\n",
    "action_size = env.action_size()\n",
    "print('Action size: {}, state size: {}'.format(action_size, state_size))"
   ]
  },
  {
   "cell_type": "code",
   "execution_count": null,
   "metadata": {
    "collapsed": true
   },
   "outputs": [],
   "source": [
    "agent = Agent(state_size, action_size)\n",
    "EPISODES = 50\n",
    "batch_size = 32"
   ]
  },
  {
   "cell_type": "code",
   "execution_count": null,
   "metadata": {
    "scrolled": true
   },
   "outputs": [
    {
     "name": "stdout",
     "output_type": "stream",
     "text": [
      "==> EPISODE 0\n",
      "episode: 0/50, score: 114462.03443173149, e: 1.0\n",
      "episode: 0/50, score: 113225.8444598688, e: 1.0\n",
      "episode: 0/50, score: 105379.29343879988, e: 1.0\n",
      "episode: 0/50, score: 104462.49358588233, e: 1.0\n",
      "episode: 0/50, score: 104462.49358588233, e: 1.0\n",
      "episode: 0/50, score: 104462.49358588233, e: 0.99\n",
      "episode: 0/50, score: 104462.49358588233, e: 0.99\n",
      "episode: 0/50, score: 106060.76973774633, e: 0.99\n",
      "episode: 0/50, score: 106474.40673972355, e: 0.99\n",
      "episode: 0/50, score: 106474.40673972355, e: 0.99\n",
      "episode: 0/50, score: 105548.07940108796, e: 0.99\n",
      "episode: 0/50, score: 105548.07940108796, e: 0.99\n",
      "episode: 0/50, score: 104249.83802445458, e: 0.99\n",
      "episode: 0/50, score: 107002.03374830018, e: 0.99\n",
      "episode: 0/50, score: 103535.16785485524, e: 0.99\n",
      "episode: 0/50, score: 103535.16785485524, e: 0.98\n",
      "episode: 0/50, score: 104032.13666055855, e: 0.98\n",
      "episode: 0/50, score: 96573.0324619965, e: 0.98\n",
      "episode: 0/50, score: 96573.0324619965, e: 0.98\n",
      "episode: 0/50, score: 81246.89221027764, e: 0.98\n",
      "episode: 0/50, score: 78590.11883500156, e: 0.98\n",
      "episode: 0/50, score: 78590.11883500156, e: 0.98\n",
      "episode: 0/50, score: 78590.11883500156, e: 0.98\n",
      "episode: 0/50, score: 78590.11883500156, e: 0.98\n",
      "episode: 0/50, score: 78590.11883500156, e: 0.98\n",
      "episode: 0/50, score: 78590.11883500156, e: 0.97\n",
      "episode: 0/50, score: 78920.19733410857, e: 0.97\n",
      "episode: 0/50, score: 78209.9155581016, e: 0.97\n",
      "episode: 0/50, score: 79993.1016328263, e: 0.97\n",
      "episode: 0/50, score: 82512.88433426034, e: 0.97\n",
      "episode: 0/50, score: 85508.10203559398, e: 0.97\n",
      "episode: 0/50, score: 85508.10203559398, e: 0.97\n",
      "episode: 0/50, score: 85508.10203559398, e: 0.97\n",
      "episode: 0/50, score: 90561.63086589759, e: 0.97\n",
      "episode: 0/50, score: 90561.63086589759, e: 0.97\n",
      "episode: 0/50, score: 90561.63086589759, e: 0.96\n",
      "episode: 0/50, score: 89828.08165588383, e: 0.96\n",
      "episode: 0/50, score: 89639.44268440647, e: 0.96\n",
      "episode: 0/50, score: 91306.73631833644, e: 0.96\n",
      "episode: 0/50, score: 91306.73631833644, e: 0.96\n",
      "episode: 0/50, score: 86239.21245266875, e: 0.96\n",
      "episode: 0/50, score: 85928.75128783914, e: 0.96\n",
      "episode: 0/50, score: 88455.05657570162, e: 0.96\n",
      "episode: 0/50, score: 86889.4020743117, e: 0.96\n",
      "episode: 0/50, score: 92207.03348125957, e: 0.96\n",
      "episode: 0/50, score: 92207.03348125957, e: 0.96\n",
      "episode: 0/50, score: 92207.03348125957, e: 0.95\n",
      "episode: 0/50, score: 92511.31669174772, e: 0.95\n"
     ]
    }
   ],
   "source": [
    "max_reward = None\n",
    "for e in range(EPISODES):\n",
    "    print('==> EPISODE {}'.format(e))\n",
    "    state = env.reset()\n",
    "    state = state.values.reshape([1, state_size])\n",
    "    while env.enough_data_provided():\n",
    "        action_idx = agent.act(state)\n",
    "        next_state, reward, done, _ = env.step(action_idx) # build these parameters into the NN model\n",
    "        # reward = reward if not done else -10\n",
    "        next_state = next_state.values.reshape([1, state_size])\n",
    "        agent.remember(state, action_idx, reward, next_state, done)\n",
    "        state = next_state\n",
    "        \n",
    "        if done:\n",
    "            agent.update_target_model()\n",
    "            break\n",
    "        elif len(agent.memory) > batch_size:\n",
    "            agent.replay(batch_size)\n",
    "            print(\"episode: {}/{}, score: {}, e: {:.2}\".format(e, EPISODES, env.score(), agent.epsilon))\n",
    "    \n",
    "    if max_reward is None or max_reward[0] < env.score():\n",
    "        max_reward = (env.score(), env.actions)"
   ]
  },
  {
   "cell_type": "code",
   "execution_count": null,
   "metadata": {},
   "outputs": [],
   "source": [
    "signals = np.array([[], [], []]).T\n",
    "signals.shape"
   ]
  },
  {
   "cell_type": "code",
   "execution_count": null,
   "metadata": {},
   "outputs": [],
   "source": [
    "max_reward[0]"
   ]
  },
  {
   "cell_type": "code",
   "execution_count": null,
   "metadata": {},
   "outputs": [],
   "source": [
    "for key, value in max_reward[1].items():\n",
    "    print('Date: {} => Action: {} => Reward: {}'.format(key, value[0].act, value[1]))\n",
    "    signals = np.concatenate((signals, np.array([[key, value[0].act, env.data.loc[key]['Close']]])), axis = 0)"
   ]
  },
  {
   "cell_type": "code",
   "execution_count": null,
   "metadata": {},
   "outputs": [],
   "source": [
    "signals.shape"
   ]
  },
  {
   "cell_type": "code",
   "execution_count": null,
   "metadata": {
    "collapsed": true
   },
   "outputs": [],
   "source": [
    "signals_df = pd.DataFrame(signals)"
   ]
  },
  {
   "cell_type": "code",
   "execution_count": null,
   "metadata": {
    "collapsed": true
   },
   "outputs": [],
   "source": [
    "signals_df.set_index(keys = [0], inplace=True)"
   ]
  },
  {
   "cell_type": "code",
   "execution_count": null,
   "metadata": {
    "collapsed": true
   },
   "outputs": [],
   "source": [
    "import matplotlib.pyplot as plt\n",
    "import seaborn as sns\n",
    "%matplotlib inline"
   ]
  },
  {
   "cell_type": "code",
   "execution_count": null,
   "metadata": {
    "scrolled": false
   },
   "outputs": [],
   "source": [
    "fig = plt.figure(figsize=(20,20))\n",
    "\n",
    "ax1 = fig.add_subplot(211,  ylabel='Price in $')\n",
    "ax2 = fig.add_subplot(212,  ylabel='Signals')\n",
    "\n",
    "# Plot the closing price\n",
    "env.data['Close'].plot(ax=ax1, color='r', lw=2.)\n",
    "env.data['Close'].plot(ax=ax2, color='r', lw=2.)\n",
    "\n",
    "ax2.plot(signals_df.loc[signals_df[1] == 'skip'].index, \n",
    "         signals_df.loc[signals_df[1] == 'skip'][2],\n",
    "         'o', markersize=10, color='b')\n",
    "\n",
    "ax2.plot(signals_df.loc[signals_df[1] == 'sell'].index, \n",
    "         signals_df.loc[signals_df[1] == 'sell'][2],\n",
    "         'v', markersize=10, color='k')\n",
    "\n",
    "ax2.plot(signals_df.loc[signals_df[1] == 'buy'].index, \n",
    "         signals_df.loc[signals_df[1] == 'buy'][2],\n",
    "         '^', markersize=10, color='m')\n",
    "       \n",
    "# Show the plot\n",
    "plt.show()"
   ]
  },
  {
   "cell_type": "code",
   "execution_count": null,
   "metadata": {
    "collapsed": true
   },
   "outputs": [],
   "source": [
    "agent.save('best_model.h5')"
   ]
  }
 ],
 "metadata": {
  "kernelspec": {
   "display_name": "Python 3",
   "language": "python",
   "name": "python3"
  },
  "language_info": {
   "codemirror_mode": {
    "name": "ipython",
    "version": 3
   },
   "file_extension": ".py",
   "mimetype": "text/x-python",
   "name": "python",
   "nbconvert_exporter": "python",
   "pygments_lexer": "ipython3",
   "version": "3.6.1"
  }
 },
 "nbformat": 4,
 "nbformat_minor": 2
}
