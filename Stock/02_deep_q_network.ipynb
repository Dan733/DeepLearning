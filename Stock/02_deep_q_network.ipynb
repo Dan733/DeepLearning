{
 "cells": [
  {
   "cell_type": "markdown",
   "metadata": {},
   "source": [
    "# Q Function\n",
    "* used to approximate the reward based on a state\n",
    "* Q(s,a) calculates the expected future value from state **s** and action **a**\n",
    "* in DQN, we use a **neural network to approximate the reward**"
   ]
  },
  {
   "cell_type": "markdown",
   "metadata": {},
   "source": [
    "# Classes\n",
    "* Environment\n",
    "* Agent\n",
    "* Runner"
   ]
  },
  {
   "cell_type": "markdown",
   "metadata": {},
   "source": [
    "## Environment"
   ]
  },
  {
   "cell_type": "code",
   "execution_count": 1,
   "metadata": {},
   "outputs": [],
   "source": [
    "import numpy as np\n",
    "actions = np.array(['a', 'b', 'c'])\n",
    "days_to_holds = np.arange(1,6,1)"
   ]
  },
  {
   "cell_type": "code",
   "execution_count": 2,
   "metadata": {},
   "outputs": [],
   "source": [
    "options = [(act, days) for act in actions for days in days_to_holds]"
   ]
  },
  {
   "cell_type": "code",
   "execution_count": 3,
   "metadata": {},
   "outputs": [
    {
     "data": {
      "text/plain": [
       "[('a', 1),\n",
       " ('a', 2),\n",
       " ('a', 3),\n",
       " ('a', 4),\n",
       " ('a', 5),\n",
       " ('b', 1),\n",
       " ('b', 2),\n",
       " ('b', 3),\n",
       " ('b', 4),\n",
       " ('b', 5),\n",
       " ('c', 1),\n",
       " ('c', 2),\n",
       " ('c', 3),\n",
       " ('c', 4),\n",
       " ('c', 5)]"
      ]
     },
     "execution_count": 3,
     "metadata": {},
     "output_type": "execute_result"
    }
   ],
   "source": [
    "options"
   ]
  },
  {
   "cell_type": "code",
   "execution_count": 4,
   "metadata": {
    "collapsed": true
   },
   "outputs": [],
   "source": [
    "class Action:\n",
    "    def __init__(self, act, days, value):\n",
    "        self.act = act\n",
    "        self.days = days\n",
    "        self.value = value"
   ]
  },
  {
   "cell_type": "code",
   "execution_count": 5,
   "metadata": {},
   "outputs": [],
   "source": [
    "import numpy as np\n",
    "import pandas_datareader as pdr\n",
    "import datetime\n",
    "\n",
    "BUY = 'buy'\n",
    "SELL = 'sell'\n",
    "SKIP = 'skip'\n",
    "\n",
    "class Environment:\n",
    "    \n",
    "    max_days_to_hold = 5\n",
    "    min_days_to_hold = 1\n",
    "    default_stock_value = 100\n",
    "    \n",
    "    def __init__(self, \n",
    "                 ticker, \n",
    "                 initial_deposit = 100000,\n",
    "                 from_date = datetime.datetime(2007, 1, 1), \n",
    "                 to_date = datetime.datetime(2017, 1, 1),\n",
    "                 window = 20):\n",
    "        self.initial_deposit = initial_deposit\n",
    "        self.window = window\n",
    "        self.data = pdr.get_data_google(ticker, from_date, to_date)\n",
    "        self.data_length = len(self.data)\n",
    "        \n",
    "        self.min_date = self.data.index.min()\n",
    "        self.max_date = self.data.index.max()\n",
    "        \n",
    "        actions = np.array([BUY, SELL, SKIP])\n",
    "        days_to_holds = np.arange(Environment.min_days_to_hold, \n",
    "                                  Environment.max_days_to_hold + 1,\n",
    "                                  1)\n",
    "        \n",
    "        self.action_space = [Action(act, days, Environment.default_stock_value) for act in actions for days in days_to_holds]\n",
    "        self.reset()\n",
    "        \n",
    "    def reset(self):\n",
    "        self.deposit = self.initial_deposit\n",
    "        self.current_index = self.window\n",
    "        return self.state()\n",
    "    \n",
    "    def score(self):\n",
    "        return self.deposit\n",
    "    \n",
    "    def enough_data_provided(self):\n",
    "        return self.current_index + Environment.max_days_to_hold <= self.data_length\n",
    "    \n",
    "    def _current_price(self):\n",
    "        return self.data.iloc[self.current_index]['Close']\n",
    "    \n",
    "    def state(self):\n",
    "        return self.data.iloc[self.current_index - self.window:self.current_index]['Close']\n",
    "        \n",
    "    def state_size(self):\n",
    "        return self.window\n",
    "    \n",
    "    def action_size(self):\n",
    "        return len(self.action_space)\n",
    "        \n",
    "    def step(self, action_idx: int):\n",
    "        action = self.action_space[action_idx]\n",
    "        #print('\\t=> current action is: {} at {}'.format(action, self.data.index[self.current_index]))\n",
    "        \n",
    "        df = self.data.iloc[self.current_index: self.current_index + action.days]['Close']\n",
    "        first_day_price = df.iloc[0]\n",
    "        last_day_price = df.iloc[-1]\n",
    "        \n",
    "        if action.act == BUY:\n",
    "            reward = last_day_price - first_day_price\n",
    "        elif action.act == SELL:\n",
    "            reward = first_day_price - last_day_price\n",
    "        elif action.act == SKIP:\n",
    "            reward = 0\n",
    "        \n",
    "        self.current_index += action.days\n",
    "        self.deposit += reward * action.value\n",
    "        \n",
    "        next_state = self.state()\n",
    "        done = False\n",
    "        _ = None\n",
    "        return next_state, reward, done, _ "
   ]
  },
  {
   "cell_type": "markdown",
   "metadata": {},
   "source": [
    "## Agent"
   ]
  },
  {
   "cell_type": "code",
   "execution_count": 6,
   "metadata": {},
   "outputs": [
    {
     "name": "stderr",
     "output_type": "stream",
     "text": [
      "Using TensorFlow backend.\n"
     ]
    }
   ],
   "source": [
    "import random\n",
    "from collections import deque\n",
    "from keras.models import Sequential\n",
    "from keras.layers import Dense\n",
    "from keras.optimizers import Adam\n",
    "from keras.losses import mean_squared_error\n",
    "\n",
    "class Agent:\n",
    "    def __init__(self, state_size, action_size):\n",
    "        self.state_size = state_size\n",
    "        self.action_size = action_size\n",
    "        self.memory = deque(maxlen=2000)\n",
    "        self.gamma = 0.95    # discount rate\n",
    "        self.epsilon = 1.0  # exploration rate\n",
    "        self.epsilon_min = 0.1\n",
    "        self.epsilon_decay = 0.995\n",
    "        self.learning_rate = 0.001\n",
    "        self.model = self._build_model()\n",
    "        self.target_model = self._build_model()\n",
    "        self.update_target_model()\n",
    "    \n",
    "    def _build_model(self):\n",
    "        # Neural Net for Deep-Q learning Model\n",
    "        model = Sequential()\n",
    "        model.add(Dense(24, input_dim=self.state_size, activation='relu'))\n",
    "        model.add(Dense(24, activation='relu'))\n",
    "        model.add(Dense(self.action_size, activation='linear'))\n",
    "        model.compile(loss=mean_squared_error,\n",
    "                      optimizer=Adam(lr=self.learning_rate))\n",
    "        return model\n",
    "    \n",
    "    def update_target_model(self):\n",
    "        self.target_model.set_weights(self.model.get_weights())\n",
    "\n",
    "    def remember(self, state, action, reward, next_state, done):\n",
    "        self.memory.append((state, action, reward, next_state, done))\n",
    "\n",
    "    def act(self, state):\n",
    "        if np.random.rand() <= self.epsilon:\n",
    "            return random.randrange(self.action_size)\n",
    "        act_values = self.model.predict(state)\n",
    "        return np.argmax(act_values[0])  # returns action\n",
    "\n",
    "    def replay(self, batch_size):\n",
    "        minibatch = random.sample(self.memory, batch_size)\n",
    "        for state, action, reward, next_state, done in minibatch:\n",
    "            target = self.model.predict(state)\n",
    "            if done:\n",
    "                target[0][action] = reward\n",
    "            else:\n",
    "                a = self.model.predict(next_state)[0]\n",
    "                t = self.target_model.predict(next_state)[0]\n",
    "                target[0][action] = reward + self.gamma * t[np.argmax(a)]\n",
    "            self.model.fit(state, target, epochs=1, verbose=0)\n",
    "        if self.epsilon > self.epsilon_min:\n",
    "            self.epsilon *= self.epsilon_decay\n",
    "\n",
    "    def load(self, name):\n",
    "        self.model.load_weights(name)\n",
    "\n",
    "    def save(self, name):\n",
    "        self.model.save_weights(name)"
   ]
  },
  {
   "cell_type": "markdown",
   "metadata": {},
   "source": [
    "## Runner"
   ]
  },
  {
   "cell_type": "code",
   "execution_count": 12,
   "metadata": {},
   "outputs": [
    {
     "name": "stdout",
     "output_type": "stream",
     "text": [
      "Action size: 15, state size: 20\n"
     ]
    }
   ],
   "source": [
    "env = Environment('AAPL')\n",
    "state_size = env.state_size()\n",
    "action_size = env.action_size()\n",
    "print('Action size: {}, state size: {}'.format(action_size, state_size))"
   ]
  },
  {
   "cell_type": "code",
   "execution_count": 13,
   "metadata": {},
   "outputs": [],
   "source": [
    "agent = Agent(state_size, action_size)\n",
    "EPISODES = 1000\n",
    "batch_size = 32"
   ]
  },
  {
   "cell_type": "code",
   "execution_count": null,
   "metadata": {
    "scrolled": true
   },
   "outputs": [
    {
     "name": "stdout",
     "output_type": "stream",
     "text": [
      "episode: 0/1000, score: 101075.0, e: 1.0\n",
      "episode: 1/1000, score: 99849.0, e: 0.99\n",
      "episode: 2/1000, score: 101415.0, e: 0.99\n",
      "episode: 3/1000, score: 102948.0, e: 0.99\n",
      "episode: 4/1000, score: 97690.0, e: 0.98\n",
      "episode: 5/1000, score: 98715.0, e: 0.98\n",
      "episode: 6/1000, score: 99067.0, e: 0.97\n",
      "episode: 7/1000, score: 100385.0, e: 0.97\n",
      "episode: 8/1000, score: 96429.0, e: 0.96\n",
      "episode: 9/1000, score: 93648.0, e: 0.96\n",
      "episode: 10/1000, score: 97289.0, e: 0.95\n",
      "episode: 11/1000, score: 108147.0, e: 0.95\n",
      "episode: 12/1000, score: 92214.0, e: 0.94\n",
      "episode: 13/1000, score: 97949.0, e: 0.94\n",
      "episode: 14/1000, score: 95725.0, e: 0.93\n",
      "episode: 15/1000, score: 101349.0, e: 0.93\n",
      "episode: 16/1000, score: 97201.0, e: 0.92\n",
      "episode: 17/1000, score: 108441.0, e: 0.92\n",
      "episode: 18/1000, score: 93589.0, e: 0.91\n",
      "episode: 19/1000, score: 99275.0, e: 0.91\n",
      "episode: 20/1000, score: 103179.0, e: 0.9\n",
      "episode: 21/1000, score: 91162.0, e: 0.9\n",
      "episode: 22/1000, score: 99363.0, e: 0.9\n",
      "episode: 23/1000, score: 106407.0, e: 0.89\n",
      "episode: 24/1000, score: 93313.0, e: 0.89\n",
      "episode: 25/1000, score: 96626.0, e: 0.88\n",
      "episode: 26/1000, score: 99077.0, e: 0.88\n",
      "episode: 27/1000, score: 98395.0, e: 0.87\n",
      "episode: 28/1000, score: 99447.0, e: 0.87\n",
      "episode: 29/1000, score: 97221.0, e: 0.86\n",
      "episode: 30/1000, score: 98082.0, e: 0.86\n",
      "episode: 31/1000, score: 94354.0, e: 0.86\n",
      "episode: 32/1000, score: 94460.0, e: 0.85\n",
      "episode: 33/1000, score: 96798.0, e: 0.85\n",
      "episode: 34/1000, score: 101195.0, e: 0.84\n",
      "episode: 35/1000, score: 97180.0, e: 0.84\n",
      "episode: 36/1000, score: 99397.0, e: 0.83\n",
      "episode: 37/1000, score: 98071.0, e: 0.83\n",
      "episode: 38/1000, score: 104809.0, e: 0.83\n",
      "episode: 39/1000, score: 94659.0, e: 0.82\n",
      "episode: 40/1000, score: 94977.0, e: 0.82\n",
      "episode: 41/1000, score: 103037.0, e: 0.81\n",
      "episode: 42/1000, score: 92624.0, e: 0.81\n",
      "episode: 43/1000, score: 108656.0, e: 0.81\n",
      "episode: 44/1000, score: 103204.0, e: 0.8\n",
      "episode: 45/1000, score: 104219.0, e: 0.8\n",
      "episode: 46/1000, score: 113932.0, e: 0.79\n",
      "episode: 47/1000, score: 100455.0, e: 0.79\n",
      "episode: 48/1000, score: 105084.0, e: 0.79\n",
      "episode: 49/1000, score: 108631.0, e: 0.78\n",
      "episode: 50/1000, score: 107363.0, e: 0.78\n",
      "episode: 51/1000, score: 94737.0, e: 0.77\n",
      "episode: 52/1000, score: 95352.0, e: 0.77\n",
      "episode: 53/1000, score: 100987.0, e: 0.77\n",
      "episode: 54/1000, score: 102046.0, e: 0.76\n",
      "episode: 55/1000, score: 98505.0, e: 0.76\n",
      "episode: 56/1000, score: 93051.0, e: 0.76\n",
      "episode: 57/1000, score: 93547.0, e: 0.75\n",
      "episode: 58/1000, score: 100390.0, e: 0.75\n",
      "episode: 59/1000, score: 98942.0, e: 0.74\n",
      "episode: 60/1000, score: 103924.0, e: 0.74\n",
      "episode: 61/1000, score: 97741.0, e: 0.74\n",
      "episode: 62/1000, score: 102458.0, e: 0.73\n",
      "episode: 63/1000, score: 100837.0, e: 0.73\n",
      "episode: 64/1000, score: 97081.0, e: 0.73\n",
      "episode: 65/1000, score: 97838.0, e: 0.72\n",
      "episode: 66/1000, score: 103866.0, e: 0.72\n",
      "episode: 67/1000, score: 102185.0, e: 0.71\n",
      "episode: 68/1000, score: 98581.0, e: 0.71\n",
      "episode: 69/1000, score: 100935.0, e: 0.71\n",
      "episode: 70/1000, score: 99443.0, e: 0.7\n",
      "episode: 71/1000, score: 94228.0, e: 0.7\n",
      "episode: 72/1000, score: 101451.0, e: 0.7\n",
      "episode: 73/1000, score: 97885.0, e: 0.69\n",
      "episode: 74/1000, score: 101322.0, e: 0.69\n",
      "episode: 75/1000, score: 99141.0, e: 0.69\n",
      "episode: 76/1000, score: 93347.0, e: 0.68\n",
      "episode: 77/1000, score: 94336.0, e: 0.68\n",
      "episode: 78/1000, score: 95151.0, e: 0.68\n",
      "episode: 79/1000, score: 95159.0, e: 0.67\n",
      "episode: 80/1000, score: 108401.0, e: 0.67\n",
      "episode: 81/1000, score: 105059.0, e: 0.67\n",
      "episode: 82/1000, score: 102087.0, e: 0.66\n",
      "episode: 83/1000, score: 103597.0, e: 0.66\n",
      "episode: 84/1000, score: 93627.0, e: 0.66\n",
      "episode: 85/1000, score: 97269.0, e: 0.65\n",
      "episode: 86/1000, score: 93811.0, e: 0.65\n",
      "episode: 87/1000, score: 104775.0, e: 0.65\n",
      "episode: 88/1000, score: 105980.0, e: 0.64\n",
      "episode: 89/1000, score: 106646.0, e: 0.64\n",
      "episode: 90/1000, score: 102479.0, e: 0.64\n",
      "episode: 91/1000, score: 102407.0, e: 0.63\n",
      "episode: 92/1000, score: 107498.0, e: 0.63\n",
      "episode: 93/1000, score: 102615.0, e: 0.63\n",
      "episode: 94/1000, score: 107101.0, e: 0.62\n",
      "episode: 95/1000, score: 108769.0, e: 0.62\n",
      "episode: 96/1000, score: 103667.0, e: 0.62\n",
      "episode: 97/1000, score: 97628.0, e: 0.61\n",
      "episode: 98/1000, score: 99573.0, e: 0.61\n",
      "episode: 99/1000, score: 97663.0, e: 0.61\n",
      "episode: 100/1000, score: 101868.0, e: 0.61\n",
      "episode: 101/1000, score: 87942.0, e: 0.6\n",
      "episode: 102/1000, score: 97490.0, e: 0.6\n",
      "episode: 103/1000, score: 103357.0, e: 0.6\n",
      "episode: 104/1000, score: 100363.0, e: 0.59\n",
      "episode: 105/1000, score: 99681.0, e: 0.59\n",
      "episode: 106/1000, score: 98783.0, e: 0.59\n",
      "episode: 107/1000, score: 97494.0, e: 0.58\n",
      "episode: 108/1000, score: 109080.0, e: 0.58\n",
      "episode: 109/1000, score: 101491.0, e: 0.58\n",
      "episode: 110/1000, score: 105760.0, e: 0.58\n",
      "episode: 111/1000, score: 98545.0, e: 0.57\n",
      "episode: 112/1000, score: 102331.0, e: 0.57\n",
      "episode: 113/1000, score: 99679.0, e: 0.57\n",
      "episode: 114/1000, score: 102400.0, e: 0.56\n",
      "episode: 115/1000, score: 101583.0, e: 0.56\n",
      "episode: 116/1000, score: 98000.0, e: 0.56\n",
      "episode: 117/1000, score: 106002.0, e: 0.56\n",
      "episode: 118/1000, score: 108224.0, e: 0.55\n",
      "episode: 119/1000, score: 95920.0, e: 0.55\n",
      "episode: 120/1000, score: 100542.0, e: 0.55\n",
      "episode: 121/1000, score: 97772.0, e: 0.55\n",
      "episode: 122/1000, score: 108058.0, e: 0.54\n",
      "episode: 123/1000, score: 97333.0, e: 0.54\n",
      "episode: 124/1000, score: 103131.0, e: 0.54\n",
      "episode: 125/1000, score: 109837.0, e: 0.53\n",
      "episode: 126/1000, score: 100961.0, e: 0.53\n",
      "episode: 127/1000, score: 109915.0, e: 0.53\n",
      "episode: 128/1000, score: 106731.0, e: 0.53\n",
      "episode: 129/1000, score: 101604.0, e: 0.52\n",
      "episode: 130/1000, score: 98706.0, e: 0.52\n",
      "episode: 131/1000, score: 96801.0, e: 0.52\n",
      "episode: 132/1000, score: 101512.0, e: 0.52\n",
      "episode: 133/1000, score: 94332.0, e: 0.51\n",
      "episode: 134/1000, score: 94715.0, e: 0.51\n"
     ]
    }
   ],
   "source": [
    "for e in range(EPISODES):\n",
    "    state = env.reset()\n",
    "    state = state.values.reshape([1, state_size])\n",
    "    while env.enough_data_provided():\n",
    "        action_idx = agent.act(state)\n",
    "        next_state, reward, done, _ = env.step(action_idx) # build these parameters into the NN model\n",
    "        # reward = reward if not done else -10\n",
    "        next_state = next_state.values.reshape([1, state_size])\n",
    "        agent.remember(state, action_idx, reward, next_state, done)\n",
    "        state = next_state\n",
    "        \n",
    "    agent.update_target_model()\n",
    "    print(\"episode: {}/{}, score: {}, e: {:.2}\".format(e, EPISODES, env.score(), agent.epsilon))\n",
    "    agent.replay(batch_size)"
   ]
  }
 ],
 "metadata": {
  "kernelspec": {
   "display_name": "Python 3",
   "language": "python",
   "name": "python3"
  },
  "language_info": {
   "codemirror_mode": {
    "name": "ipython",
    "version": 3
   },
   "file_extension": ".py",
   "mimetype": "text/x-python",
   "name": "python",
   "nbconvert_exporter": "python",
   "pygments_lexer": "ipython3",
   "version": "3.6.1"
  }
 },
 "nbformat": 4,
 "nbformat_minor": 2
}
